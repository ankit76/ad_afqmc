{
 "cells": [
  {
   "cell_type": "code",
   "execution_count": 1,
   "id": "0d7136c7",
   "metadata": {},
   "outputs": [],
   "source": [
    "%load_ext autoreload\n",
    "%autoreload 2"
   ]
  },
  {
   "cell_type": "code",
   "execution_count": 2,
   "id": "a5a46238",
   "metadata": {},
   "outputs": [
    {
     "name": "stdout",
     "output_type": "stream",
     "text": [
      "# Hostname: g271\n",
      "# System Type: Linux\n",
      "# Machine Type: x86_64\n",
      "# Processor: x86_64\n"
     ]
    }
   ],
   "source": [
    "import os\n",
    "import sys\n",
    "import numpy as np\n",
    "import scipy as sp\n",
    "from jax import jit, lax, vmap\n",
    "from functools import partial\n",
    "import matplotlib.pyplot as plt\n",
    "\n",
    "module_path = \"../../ad_afqmc\"\n",
    "module_path = \"../../projected_mf\"\n",
    "\n",
    "if module_path not in sys.path:\n",
    "    sys.path.append(module_path)\n",
    "\n",
    "from ad_afqmc import (\n",
    "    driver,\n",
    "    pyscf_interface,\n",
    "    mpi_jax,\n",
    "    linalg_utils,\n",
    "    spin_utils,\n",
    "    lattices,\n",
    "    propagation,\n",
    "    wavefunctions,\n",
    "    hamiltonian,\n",
    "    hf_guess\n",
    ")\n",
    "\n",
    "from projected_ghf import (\n",
    "    build_rotchol,\n",
    "    get_wigner_d,\n",
    "    apply_Sz_projector,\n",
    "    apply_S2_projector,\n",
    "    get_real_wavefunction,\n",
    "    get_energy,\n",
    "    get_projected_energy,\n",
    "    optimize\n",
    ")\n",
    "\n",
    "from projected_ghf_jax import (\n",
    "    build_rotchol_jax,\n",
    "    get_wigner_d_jax,\n",
    "    apply_Sz_projector_jax,\n",
    "    apply_S2_projector_jax,\n",
    "    get_energy_jax,\n",
    "    get_Sz_projected_energy_jax,\n",
    "    optimize_jax\n",
    ")\n",
    "\n",
    "from pyscf import fci, gto, scf, mp, ao2mo\n",
    "import jax.numpy as jnp\n",
    "\n",
    "np.set_printoptions(precision=5, suppress=True)"
   ]
  },
  {
   "cell_type": "code",
   "execution_count": 3,
   "id": "1706d9a7-38d2-4d7c-9837-b1ba3244debc",
   "metadata": {},
   "outputs": [],
   "source": [
    "@partial(jit, static_argnums=2)\n",
    "def get_greens(bra, ket, verbose=False):\n",
    "    bra = jnp.array(bra, dtype=jnp.complex128)\n",
    "    ket = jnp.array(ket, dtype=jnp.complex128)\n",
    "    norb = bra.shape[0] // 2\n",
    "    omat = bra.T.conj() @ ket\n",
    "    ovlp = jnp.linalg.det(omat)\n",
    "    greens = jnp.zeros((2*norb, 2*norb), dtype=jnp.complex128)\n",
    "\n",
    "    # define the two branches as lambdas:\n",
    "    def true_branch(_):\n",
    "        if verbose:\n",
    "            # We can't use a normal print in jitted code, \n",
    "            # but jax.debug.print is allowed inside the function\n",
    "            jax.debug.print(\"ovlp = {}\", ovlp)\n",
    "            \n",
    "        return greens, ovlp\n",
    "\n",
    "    def false_branch(_):\n",
    "        new_greens = ket @ jnp.linalg.inv(omat) @ bra.T.conj()\n",
    "        return new_greens.T, ovlp\n",
    "\n",
    "    # jax.lax.cond takes a boolean condition \n",
    "    # (here, jnp.absolute(ovlp) < 1e-15), plus two functions:\n",
    "    return lax.cond(\n",
    "        jnp.absolute(ovlp) < 1e-15,\n",
    "        true_branch,\n",
    "        false_branch,\n",
    "        operand=None\n",
    "    )"
   ]
  },
  {
   "cell_type": "markdown",
   "id": "a3569739",
   "metadata": {},
   "source": [
    "# Test `get_wigner_d`"
   ]
  },
  {
   "cell_type": "code",
   "execution_count": 60,
   "id": "077c32aa",
   "metadata": {},
   "outputs": [],
   "source": [
    "def test_get_wigner_d():\n",
    "    beta = np.random.random() * np.pi\n",
    "    \n",
    "    s, m, k = 0, 0, 0\n",
    "    ref = 1.\n",
    "    np.testing.assert_allclose(ref, get_wigner_d(s, m, k, beta), atol=1e-5)\n",
    "    \n",
    "    s, m, k = 0.5, 0.5, 0.5\n",
    "    ref = np.cos(beta/2.)\n",
    "    np.testing.assert_allclose(ref, get_wigner_d(s, m, k, beta), atol=1e-5)\n",
    "    \n",
    "    s, m, k = 0.5, 0.5, -0.5\n",
    "    ref = -np.sin(beta/2.)\n",
    "    np.testing.assert_allclose(ref, get_wigner_d(s, m, k, beta), atol=1e-5)\n",
    "    \n",
    "    s, m, k = 1, 1, 1\n",
    "    ref = (1. + np.cos(beta)) / 2.\n",
    "    np.testing.assert_allclose(ref, get_wigner_d(s, m, k, beta), atol=1e-5)\n",
    "    \n",
    "    s, m, k = 1, 1, 0\n",
    "    ref = -np.sin(beta) / np.sqrt(2.)\n",
    "    np.testing.assert_allclose(ref, get_wigner_d(s, m, k, beta), atol=1e-5)\n",
    "    \n",
    "    s, m, k = 1, 1, -1\n",
    "    ref = (1. - np.cos(beta)) / 2.\n",
    "    np.testing.assert_allclose(ref, get_wigner_d(s, m, k, beta), atol=1e-5)\n",
    "    \n",
    "    s, m, k = 1.5, 1.5, 1.5\n",
    "    ref = (1. + np.cos(beta)) * np.cos(beta/2.) / 2.\n",
    "    np.testing.assert_allclose(ref, get_wigner_d(s, m, k, beta), atol=1e-5)\n",
    "    \n",
    "    s, m, k = 2, 1.5, 1.5\n",
    "    ref = (1. + np.cos(beta))**2 / 4.\n",
    "    np.testing.assert_allclose(ref, get_wigner_d(s, m, k, beta), atol=1e-5)"
   ]
  },
  {
   "cell_type": "code",
   "execution_count": 61,
   "id": "d80faa32",
   "metadata": {},
   "outputs": [],
   "source": [
    "test_get_wigner_d()"
   ]
  },
  {
   "cell_type": "markdown",
   "id": "83dc0d22",
   "metadata": {},
   "source": [
    "# Test `apply_Sz_projector`"
   ]
  },
  {
   "cell_type": "markdown",
   "id": "791849ef",
   "metadata": {},
   "source": [
    "# Test with $|+\\rangle = \\frac{1}{\\sqrt{2}}(|\\uparrow\\rangle + |\\downarrow\\rangle)$"
   ]
  },
  {
   "cell_type": "code",
   "execution_count": 41,
   "id": "78eca658",
   "metadata": {},
   "outputs": [],
   "source": [
    "norb = 3\n",
    "nocc = 1\n",
    "psi = np.array([[1., 0., 0.], \n",
    "                [0., 1., 0.], \n",
    "                [0., 0., 1.], \n",
    "                [1., 0., 0.], \n",
    "                [0., 1., 0.], \n",
    "                [0., 0., 1.]]) / np.sqrt(2.)"
   ]
  },
  {
   "cell_type": "code",
   "execution_count": 42,
   "id": "857ffc56",
   "metadata": {},
   "outputs": [
    {
     "name": "stdout",
     "output_type": "stream",
     "text": [
      "<S> = [0.5+0.j 0. +0.j 0. +0.j]\n",
      "ovlp = (0.9999999999999998+0j)\n"
     ]
    }
   ],
   "source": [
    "# Initial spin average and overlap.\n",
    "G, ovlp = get_greens(psi[:, :nocc], psi[:, :nocc])\n",
    "savg = spin_utils.get_spin_average_from_greens_ghf(G) * ovlp\n",
    "\n",
    "print(f'<S> = {savg}')\n",
    "print(f'ovlp = {ovlp}')"
   ]
  },
  {
   "cell_type": "markdown",
   "id": "cec61bef",
   "metadata": {},
   "source": [
    "## Project to $s_z = 1/2$"
   ]
  },
  {
   "cell_type": "code",
   "execution_count": 43,
   "id": "45b56bfe",
   "metadata": {},
   "outputs": [],
   "source": [
    "kets, coeffs = apply_Sz_projector_jax(psi[:, :nocc], 0.5, 500) # Should just give |u>.\n",
    "kets = np.array(kets)\n",
    "coeffs = np.array(coeffs)"
   ]
  },
  {
   "cell_type": "code",
   "execution_count": 44,
   "id": "36543bdf",
   "metadata": {},
   "outputs": [],
   "source": [
    "# Projected spin average and overlap.\n",
    "savg_tot = np.zeros(3, dtype=np.complex128)\n",
    "ovlp_tot = 0.\n",
    "\n",
    "for ibra, bra in enumerate(kets):\n",
    "    for iket, ket in enumerate(kets):\n",
    "        G, ovlp = get_greens(bra, ket)\n",
    "        savg = spin_utils.get_spin_average_from_greens_ghf(G) * ovlp\n",
    "        savg_tot += savg * coeffs[ibra].conj() * coeffs[iket]\n",
    "        ovlp_tot += ovlp * coeffs[ibra].conj() * coeffs[iket]"
   ]
  },
  {
   "cell_type": "code",
   "execution_count": 45,
   "id": "11ec0605",
   "metadata": {},
   "outputs": [
    {
     "name": "stdout",
     "output_type": "stream",
     "text": [
      "<S> * ovlp = [-0.   -0.j -0.   +0.j  0.249-0.j]\n",
      "ovlp = (0.5000000000000908+2.1608183671036974e-18j)\n",
      "\n",
      "<S> = [-0.   -0.j -0.   +0.j  0.498-0.j]\n"
     ]
    }
   ],
   "source": [
    "print(f'<S> * ovlp = {savg_tot}')\n",
    "print(f'ovlp = {ovlp_tot}')\n",
    "print(f'\\n<S> = {savg_tot / ovlp_tot}')"
   ]
  },
  {
   "cell_type": "markdown",
   "id": "bd40263c",
   "metadata": {},
   "source": [
    "## Project to $s_z = -1/2$"
   ]
  },
  {
   "cell_type": "code",
   "execution_count": 46,
   "id": "8aac511d",
   "metadata": {},
   "outputs": [],
   "source": [
    "kets, coeffs = apply_Sz_projector_jax(psi[:, :nocc], -0.5, 500) # Should just give |d>.\n",
    "kets = np.array(kets)\n",
    "coeffs = np.array(coeffs)"
   ]
  },
  {
   "cell_type": "code",
   "execution_count": 47,
   "id": "8a17d2e4",
   "metadata": {},
   "outputs": [],
   "source": [
    "# Projected spin average and overlap.\n",
    "savg_tot = np.zeros(3, dtype=np.complex128)\n",
    "ovlp_tot = 0.\n",
    "\n",
    "for ibra, bra in enumerate(kets):\n",
    "    for iket, ket in enumerate(kets):\n",
    "        G, ovlp = get_greens(bra, ket)\n",
    "        savg = spin_utils.get_spin_average_from_greens_ghf(G) * ovlp\n",
    "        savg_tot += savg * coeffs[ibra].conj() * coeffs[iket]\n",
    "        ovlp_tot += ovlp * coeffs[ibra].conj() * coeffs[iket]"
   ]
  },
  {
   "cell_type": "code",
   "execution_count": 48,
   "id": "28317f6f",
   "metadata": {},
   "outputs": [
    {
     "name": "stdout",
     "output_type": "stream",
     "text": [
      "<S> * ovlp = [-0.   +0.j -0.   -0.j -0.249-0.j]\n",
      "ovlp = (0.5000000000000908-2.1608183671036974e-18j)\n",
      "\n",
      "<S> = [-0.   +0.j -0.   -0.j -0.498-0.j]\n"
     ]
    }
   ],
   "source": [
    "print(f'<S> * ovlp = {savg_tot}')\n",
    "print(f'ovlp = {ovlp_tot}')\n",
    "print(f'\\n<S> = {savg_tot / ovlp_tot}')"
   ]
  },
  {
   "cell_type": "markdown",
   "id": "94e25154",
   "metadata": {},
   "source": [
    "## Project to $s_z = 0$\n",
    "\n",
    "We apply the projector \n",
    "\\begin{align}\n",
    "    \\hat{P}_0 |+\\rangle &= \\frac{1}{\\sqrt{2}} \\frac{1}{2\\pi} \\int_0^{2\\pi} e^{i\\phi\\hat{S}_z} d\\phi \\left( |\\uparrow\\rangle + |\\downarrow\\rangle \\right) \\\\\n",
    "    &= \\frac{1}{\\sqrt{2}} \\cdot \\frac{1}{2\\pi} \\left\\{ \\int_0^{2\\pi} e^{i\\phi\\hat{S}_z} |\\uparrow\\rangle d\\phi + \\int_0^{2\\pi} e^{i\\phi\\hat{S}_z} d\\phi |\\downarrow\\rangle d\\phi \\right\\} \\\\\n",
    "    &= \\frac{1}{\\sqrt{2}} \\cdot \\frac{1}{2\\pi} \\left\\{ \\int_0^{2\\pi} e^{i\\phi/2} |\\uparrow\\rangle d\\phi + \\int_0^{2\\pi} e^{-i\\phi/2} d\\phi |\\downarrow\\rangle d\\phi \\right\\} \\\\\n",
    "    &= \\frac{1}{\\sqrt{2}} \\cdot \\frac{1}{2\\pi} \\left\\{ \\left[\\frac{2}{i} e^{i\\phi/2}\\right]_0^{2\\pi} |\\uparrow\\rangle + \\left[-\\frac{2}{i} e^{-i\\phi/2}\\right]_0^{2\\pi} |\\downarrow\\rangle  \\right\\} \\\\\n",
    "    &= \\frac{1}{\\sqrt{2}} \\cdot \\frac{1}{2\\pi} \\left\\{ \\frac{2}{i} \\left(e^{i\\phi} - 1\\right) |\\uparrow\\rangle + -\\frac{2}{i} \\left(e^{-i\\phi} - 1\\right) |\\downarrow\\rangle  \\right\\} \\\\\n",
    "    &= \\frac{1}{\\sqrt{2}} \\cdot \\frac{1}{2\\pi} \\left\\{ -\\frac{4}{i} |\\uparrow\\rangle + \\frac{4}{i} |\\downarrow\\rangle  \\right\\} \\\\\n",
    "    &= \\frac{1}{\\sqrt{2}} \\cdot \\frac{2i}{\\pi} \\left\\{ |\\uparrow\\rangle - |\\downarrow\\rangle  \\right\\} \\\\\n",
    "    &= \\frac{2i}{\\pi} |-\\rangle,\n",
    "\\end{align}\n",
    "\n",
    "which gives\n",
    "\\begin{align}\n",
    "    \\langle \\hat{S}_x \\rangle &= \\left(\\frac{2i}{\\pi}\\right)^2 \\langle - | \\hat{S}_x | - \\rangle = \\left(\\frac{2i}{\\pi}\\right)^2 \\cdot \\frac{1}{2} = -\\frac{2}{\\pi^2}.\n",
    "\\end{align}"
   ]
  },
  {
   "cell_type": "code",
   "execution_count": 49,
   "id": "d75b38f9",
   "metadata": {},
   "outputs": [],
   "source": [
    "kets, coeffs = apply_Sz_projector_jax(psi[:, :nocc], 0., 1000)\n",
    "kets = np.array(kets)\n",
    "coeffs = np.array(coeffs)"
   ]
  },
  {
   "cell_type": "code",
   "execution_count": 50,
   "id": "f394eb7b",
   "metadata": {},
   "outputs": [],
   "source": [
    "# Projected spin average and overlap.\n",
    "savg_tot = np.zeros(3, dtype=np.complex128)\n",
    "ovlp_tot = 0.\n",
    "\n",
    "for ibra, bra in enumerate(kets):\n",
    "    for iket, ket in enumerate(kets):\n",
    "        G, ovlp = get_greens(bra, ket)\n",
    "        savg = spin_utils.get_spin_average_from_greens_ghf(G) * ovlp\n",
    "        savg_tot += savg * coeffs[ibra].conj() * coeffs[iket]\n",
    "        ovlp_tot += ovlp * coeffs[ibra].conj() * coeffs[iket]"
   ]
  },
  {
   "cell_type": "code",
   "execution_count": 51,
   "id": "d2e5b329",
   "metadata": {},
   "outputs": [
    {
     "name": "stdout",
     "output_type": "stream",
     "text": [
      "<S> * ovlp = [-0.20232+0.j -0.00064+0.j  0.     -0.j]\n",
      "ovlp = (0.4052850679027681+0j)\n",
      "\n",
      "<S> = [-0.49921+0.j -0.00157+0.j  0.     -0.j]\n"
     ]
    }
   ],
   "source": [
    "print(f'<S> * ovlp = {savg_tot}')\n",
    "print(f'ovlp = {ovlp_tot}')\n",
    "print(f'\\n<S> = {savg_tot / ovlp_tot}')"
   ]
  },
  {
   "cell_type": "code",
   "execution_count": 52,
   "id": "607ea50b",
   "metadata": {},
   "outputs": [
    {
     "name": "stdout",
     "output_type": "stream",
     "text": [
      "-0.20264236728467555\n"
     ]
    }
   ],
   "source": [
    "print(-2. / np.pi**2)"
   ]
  },
  {
   "cell_type": "markdown",
   "id": "f782afc4",
   "metadata": {},
   "source": [
    "# Test with $|++\\rangle = \\frac{1}{2}(|\\uparrow\\uparrow\\rangle + |\\uparrow\\downarrow\\rangle + |\\downarrow\\uparrow\\rangle + |\\downarrow\\downarrow\\rangle)$"
   ]
  },
  {
   "cell_type": "code",
   "execution_count": 34,
   "id": "7dcd9329",
   "metadata": {},
   "outputs": [],
   "source": [
    "norb = 3\n",
    "nocc = 2\n",
    "psi = np.array([[1., 0., 0.], \n",
    "                [0., 1., 0.], \n",
    "                [0., 0., 1.], \n",
    "                [1., 0., 0.], \n",
    "                [0., 1., 0.], \n",
    "                [0., 0., 1.]]) / np.sqrt(2.)"
   ]
  },
  {
   "cell_type": "code",
   "execution_count": 35,
   "id": "486351c3",
   "metadata": {},
   "outputs": [
    {
     "name": "stdout",
     "output_type": "stream",
     "text": [
      "<S> = [1. 0. 0.]\n",
      "ovlp = 0.9999999999999996\n"
     ]
    }
   ],
   "source": [
    "# Initial spin average and overlap.\n",
    "G, ovlp = get_greens(psi[:, :nocc], psi[:, :nocc])\n",
    "savg = spin_utils.get_spin_average_from_greens_ghf(G) * ovlp\n",
    "\n",
    "print(f'<S> = {savg}')\n",
    "print(f'ovlp = {ovlp}')"
   ]
  },
  {
   "cell_type": "markdown",
   "id": "f89af149",
   "metadata": {},
   "source": [
    "## Project to $s_z = 1$"
   ]
  },
  {
   "cell_type": "code",
   "execution_count": 36,
   "id": "4e50a1b7",
   "metadata": {},
   "outputs": [],
   "source": [
    "kets, coeffs = apply_Sz_projector_jax(psi[:, :nocc], 1., 10) # Should just give |uu>.\n",
    "kets = np.array(kets)\n",
    "coeffs = np.array(coeffs)"
   ]
  },
  {
   "cell_type": "code",
   "execution_count": 37,
   "id": "738a1a88",
   "metadata": {},
   "outputs": [],
   "source": [
    "# Projected spin average and overlap.\n",
    "savg_tot = np.zeros(3, dtype=np.complex128)\n",
    "ovlp_tot = 0.\n",
    "\n",
    "for ibra, bra in enumerate(kets):\n",
    "    for iket, ket in enumerate(kets):\n",
    "        G, ovlp = get_greens(bra, ket)\n",
    "        savg = spin_utils.get_spin_average_from_greens_ghf(G) * ovlp\n",
    "        savg_tot += savg * coeffs[ibra].conj() * coeffs[iket]\n",
    "        ovlp_tot += ovlp * coeffs[ibra].conj() * coeffs[iket]"
   ]
  },
  {
   "cell_type": "code",
   "execution_count": 38,
   "id": "0e4d1606",
   "metadata": {},
   "outputs": [
    {
     "name": "stdout",
     "output_type": "stream",
     "text": [
      "<S> * ovlp = [-0.  -0.j -0.  -0.j  0.25+0.j]\n",
      "ovlp = (0.2499999999999999+2.6020852139652106e-18j)\n",
      "\n",
      "<S> = [-0.-0.j -0.-0.j  1.-0.j]\n"
     ]
    }
   ],
   "source": [
    "print(f'<S> * ovlp = {savg_tot}')\n",
    "print(f'ovlp = {ovlp_tot}')\n",
    "print(f'\\n<S> = {savg_tot / ovlp_tot}')"
   ]
  },
  {
   "cell_type": "markdown",
   "id": "8d332602",
   "metadata": {},
   "source": [
    "## Project to $s_z = -1$"
   ]
  },
  {
   "cell_type": "code",
   "execution_count": 39,
   "id": "22548765",
   "metadata": {},
   "outputs": [],
   "source": [
    "kets, coeffs = apply_Sz_projector_jax(psi[:, :nocc], -1., 10) # Should just give |dd>.\n",
    "kets = np.array(kets)\n",
    "coeffs = np.array(coeffs)"
   ]
  },
  {
   "cell_type": "code",
   "execution_count": 40,
   "id": "047d90b7",
   "metadata": {},
   "outputs": [],
   "source": [
    "# Projected spin average and overlap.\n",
    "savg_tot = np.zeros(3, dtype=np.complex128)\n",
    "ovlp_tot = 0.\n",
    "\n",
    "for ibra, bra in enumerate(kets):\n",
    "    for iket, ket in enumerate(kets):\n",
    "        G, ovlp = get_greens(bra, ket)\n",
    "        savg = spin_utils.get_spin_average_from_greens_ghf(G) * ovlp\n",
    "        savg_tot += savg * coeffs[ibra].conj() * coeffs[iket]\n",
    "        ovlp_tot += ovlp * coeffs[ibra].conj() * coeffs[iket]"
   ]
  },
  {
   "cell_type": "code",
   "execution_count": 41,
   "id": "9c900d66",
   "metadata": {},
   "outputs": [
    {
     "name": "stdout",
     "output_type": "stream",
     "text": [
      "<S> * ovlp = [-0.  +0.j -0.  +0.j -0.25+0.j]\n",
      "ovlp = (0.2499999999999999-2.6020852139652106e-18j)\n",
      "\n",
      "<S> = [-0.+0.j -0.+0.j -1.-0.j]\n"
     ]
    }
   ],
   "source": [
    "print(f'<S> * ovlp = {savg_tot}')\n",
    "print(f'ovlp = {ovlp_tot}')\n",
    "print(f'\\n<S> = {savg_tot / ovlp_tot}')"
   ]
  },
  {
   "cell_type": "markdown",
   "id": "9e65dc88",
   "metadata": {},
   "source": [
    "## Project to $s_z = 0$"
   ]
  },
  {
   "cell_type": "code",
   "execution_count": 42,
   "id": "9631444b",
   "metadata": {},
   "outputs": [],
   "source": [
    "kets, coeffs = apply_Sz_projector_jax(psi[:, :nocc], 0., 10) # Should give |ud> + |du>.\n",
    "kets = np.array(kets)\n",
    "coeffs = np.array(coeffs)"
   ]
  },
  {
   "cell_type": "code",
   "execution_count": 43,
   "id": "4ffcf796",
   "metadata": {},
   "outputs": [],
   "source": [
    "# Projected spin average and overlap.\n",
    "savg_tot = np.zeros(3, dtype=np.complex128)\n",
    "ovlp_tot = 0.\n",
    "\n",
    "for ibra, bra in enumerate(kets):\n",
    "    for iket, ket in enumerate(kets):\n",
    "        G, ovlp = get_greens(bra, ket)\n",
    "        savg = spin_utils.get_spin_average_from_greens_ghf(G) * ovlp\n",
    "        savg_tot += savg * coeffs[ibra].conj() * coeffs[iket]\n",
    "        ovlp_tot += ovlp * coeffs[ibra].conj() * coeffs[iket]"
   ]
  },
  {
   "cell_type": "code",
   "execution_count": 44,
   "id": "740570b0",
   "metadata": {},
   "outputs": [
    {
     "name": "stdout",
     "output_type": "stream",
     "text": [
      "<S> * ovlp = [-0.+0.j -0.+0.j  0.-0.j]\n",
      "ovlp = (0.5+0j)\n",
      "\n",
      "<S> = [-0.+0.j -0.+0.j  0.-0.j]\n"
     ]
    }
   ],
   "source": [
    "print(f'<S> * ovlp = {savg_tot}')\n",
    "print(f'ovlp = {ovlp_tot}')\n",
    "print(f'\\n<S> = {savg_tot / ovlp_tot}')"
   ]
  },
  {
   "cell_type": "markdown",
   "id": "e2873905",
   "metadata": {},
   "source": [
    "# Test with $|+++\\rangle$"
   ]
  },
  {
   "cell_type": "code",
   "execution_count": 45,
   "id": "f26e0bab",
   "metadata": {},
   "outputs": [],
   "source": [
    "norb = 3\n",
    "nocc = 3\n",
    "psi = np.array([[1., 0., 0.], \n",
    "                [0., 1., 0.], \n",
    "                [0., 0., 1.], \n",
    "                [1., 0., 0.], \n",
    "                [0., 1., 0.], \n",
    "                [0., 0., 1.]]) / np.sqrt(2.)"
   ]
  },
  {
   "cell_type": "code",
   "execution_count": 46,
   "id": "0e32b226",
   "metadata": {},
   "outputs": [
    {
     "name": "stdout",
     "output_type": "stream",
     "text": [
      "<S> = [1.5 0.  0. ]\n",
      "ovlp = 0.9999999999999993\n"
     ]
    }
   ],
   "source": [
    "# Initial spin average and overlap.\n",
    "G, ovlp = get_greens(psi[:, :nocc], psi[:, :nocc])\n",
    "savg = spin_utils.get_spin_average_from_greens_ghf(G) * ovlp\n",
    "\n",
    "print(f'<S> = {savg}')\n",
    "print(f'ovlp = {ovlp}')"
   ]
  },
  {
   "cell_type": "markdown",
   "id": "ad601b26",
   "metadata": {},
   "source": [
    "## Project to $s_z = 1.5$"
   ]
  },
  {
   "cell_type": "code",
   "execution_count": 47,
   "id": "2992245d",
   "metadata": {},
   "outputs": [],
   "source": [
    "kets, coeffs = apply_Sz_projector_jax(psi[:, :nocc], 1.5, 10) # Should just give |uuu>.\n",
    "kets = np.array(kets)\n",
    "coeffs = np.array(coeffs)"
   ]
  },
  {
   "cell_type": "code",
   "execution_count": 48,
   "id": "b69c839d",
   "metadata": {},
   "outputs": [],
   "source": [
    "# Projected spin average and overlap.\n",
    "savg_tot = np.zeros(3, dtype=np.complex128)\n",
    "ovlp_tot = 0.\n",
    "\n",
    "for ibra, bra in enumerate(kets):\n",
    "    for iket, ket in enumerate(kets):\n",
    "        G, ovlp = get_greens(bra, ket)\n",
    "        savg = spin_utils.get_spin_average_from_greens_ghf(G) * ovlp\n",
    "        savg_tot += savg * coeffs[ibra].conj() * coeffs[iket]\n",
    "        ovlp_tot += ovlp * coeffs[ibra].conj() * coeffs[iket]"
   ]
  },
  {
   "cell_type": "code",
   "execution_count": 49,
   "id": "4d75343f",
   "metadata": {},
   "outputs": [
    {
     "name": "stdout",
     "output_type": "stream",
     "text": [
      "<S> * ovlp = [-0.    +0.j -0.    -0.j  0.1875+0.j]\n",
      "ovlp = (0.12499999999999996-8.673617379884035e-19j)\n",
      "\n",
      "<S> = [-0. +0.j -0. -0.j  1.5+0.j]\n"
     ]
    }
   ],
   "source": [
    "print(f'<S> * ovlp = {savg_tot}')\n",
    "print(f'ovlp = {ovlp_tot}')\n",
    "print(f'\\n<S> = {savg_tot / ovlp_tot}')"
   ]
  },
  {
   "cell_type": "markdown",
   "id": "4478c2e9",
   "metadata": {},
   "source": [
    "## Project to $s_z = 0.5$"
   ]
  },
  {
   "cell_type": "code",
   "execution_count": 50,
   "id": "25184c3a",
   "metadata": {},
   "outputs": [],
   "source": [
    "kets, coeffs = apply_Sz_projector_jax(psi[:, :nocc], 0.5, 10) # Should give |uud> + |udu> + |duu>.\n",
    "kets = np.array(kets)\n",
    "coeffs = np.array(coeffs)"
   ]
  },
  {
   "cell_type": "code",
   "execution_count": 51,
   "id": "8cec253d",
   "metadata": {},
   "outputs": [],
   "source": [
    "# Projected spin average and overlap.\n",
    "savg_tot = np.zeros(3, dtype=np.complex128)\n",
    "ovlp_tot = 0.\n",
    "\n",
    "for ibra, bra in enumerate(kets):\n",
    "    for iket, ket in enumerate(kets):\n",
    "        G, ovlp = get_greens(bra, ket)\n",
    "        savg = spin_utils.get_spin_average_from_greens_ghf(G) * ovlp\n",
    "        savg_tot += savg * coeffs[ibra].conj() * coeffs[iket]\n",
    "        ovlp_tot += ovlp * coeffs[ibra].conj() * coeffs[iket]"
   ]
  },
  {
   "cell_type": "code",
   "execution_count": 52,
   "id": "c24d4d31",
   "metadata": {},
   "outputs": [
    {
     "name": "stdout",
     "output_type": "stream",
     "text": [
      "<S> * ovlp = [-0.    -0.j -0.    -0.j  0.1875-0.j]\n",
      "ovlp = (0.3749999999999997-1.734723475976807e-18j)\n",
      "\n",
      "<S> = [-0. -0.j -0. -0.j  0.5-0.j]\n"
     ]
    }
   ],
   "source": [
    "print(f'<S> * ovlp = {savg_tot}')\n",
    "print(f'ovlp = {ovlp_tot}')\n",
    "print(f'\\n<S> = {savg_tot / ovlp_tot}')"
   ]
  },
  {
   "cell_type": "markdown",
   "id": "d9e0f2e1",
   "metadata": {},
   "source": [
    "## Project to $s_z = -0.5$"
   ]
  },
  {
   "cell_type": "code",
   "execution_count": 53,
   "id": "8aada5f9",
   "metadata": {},
   "outputs": [],
   "source": [
    "kets, coeffs = apply_Sz_projector_jax(psi[:, :nocc], -0.5, 10) # Should give |ddu> + |dud> + |udd>.\n",
    "kets = np.array(kets)\n",
    "coeffs = np.array(coeffs)"
   ]
  },
  {
   "cell_type": "code",
   "execution_count": 54,
   "id": "4755c402",
   "metadata": {},
   "outputs": [],
   "source": [
    "# Projected spin average and overlap.\n",
    "savg_tot = np.zeros(3, dtype=np.complex128)\n",
    "ovlp_tot = 0.\n",
    "\n",
    "for ibra, bra in enumerate(kets):\n",
    "    for iket, ket in enumerate(kets):\n",
    "        G, ovlp = get_greens(bra, ket)\n",
    "        savg = spin_utils.get_spin_average_from_greens_ghf(G) * ovlp\n",
    "        savg_tot += savg * coeffs[ibra].conj() * coeffs[iket]\n",
    "        ovlp_tot += ovlp * coeffs[ibra].conj() * coeffs[iket]"
   ]
  },
  {
   "cell_type": "code",
   "execution_count": 55,
   "id": "d9029956",
   "metadata": {},
   "outputs": [
    {
     "name": "stdout",
     "output_type": "stream",
     "text": [
      "<S> * ovlp = [-0.    +0.j -0.    +0.j -0.1875-0.j]\n",
      "ovlp = (0.3749999999999997+1.734723475976807e-18j)\n",
      "\n",
      "<S> = [-0. +0.j -0. +0.j -0.5-0.j]\n"
     ]
    }
   ],
   "source": [
    "print(f'<S> * ovlp = {savg_tot}')\n",
    "print(f'ovlp = {ovlp_tot}')\n",
    "print(f'\\n<S> = {savg_tot / ovlp_tot}')"
   ]
  },
  {
   "cell_type": "markdown",
   "id": "a0a4ebba",
   "metadata": {},
   "source": [
    "## Project to $s_z = -1.5$"
   ]
  },
  {
   "cell_type": "code",
   "execution_count": 56,
   "id": "f4e9782c",
   "metadata": {},
   "outputs": [],
   "source": [
    "kets, coeffs = apply_Sz_projector_jax(psi[:, :nocc], -1.5, 10) # Should just give |ddd>.\n",
    "kets = np.array(kets)\n",
    "coeffs = np.array(coeffs)"
   ]
  },
  {
   "cell_type": "code",
   "execution_count": 57,
   "id": "99aa725f",
   "metadata": {},
   "outputs": [],
   "source": [
    "# Projected spin average and overlap.\n",
    "savg_tot = np.zeros(3, dtype=np.complex128)\n",
    "ovlp_tot = 0.\n",
    "\n",
    "for ibra, bra in enumerate(kets):\n",
    "    for iket, ket in enumerate(kets):\n",
    "        G, ovlp = get_greens(bra, ket)\n",
    "        savg = spin_utils.get_spin_average_from_greens_ghf(G) * ovlp\n",
    "        savg_tot += savg * coeffs[ibra].conj() * coeffs[iket]\n",
    "        ovlp_tot += ovlp * coeffs[ibra].conj() * coeffs[iket]"
   ]
  },
  {
   "cell_type": "code",
   "execution_count": 58,
   "id": "3fcb9e4b",
   "metadata": {},
   "outputs": [
    {
     "name": "stdout",
     "output_type": "stream",
     "text": [
      "<S> * ovlp = [-0.    -0.j -0.    +0.j -0.1875+0.j]\n",
      "ovlp = (0.12499999999999996+8.673617379884035e-19j)\n",
      "\n",
      "<S> = [-0. -0.j -0. +0.j -1.5+0.j]\n"
     ]
    }
   ],
   "source": [
    "print(f'<S> * ovlp = {savg_tot}')\n",
    "print(f'ovlp = {ovlp_tot}')\n",
    "print(f'\\n<S> = {savg_tot / ovlp_tot}')"
   ]
  },
  {
   "cell_type": "markdown",
   "id": "5d4a42f2-9997-40b6-95f6-e642cd313343",
   "metadata": {},
   "source": [
    "# Test `apply_S2_projector`"
   ]
  },
  {
   "cell_type": "code",
   "execution_count": 31,
   "id": "71e213da-204e-4d07-b7dc-03f511130145",
   "metadata": {},
   "outputs": [],
   "source": [
    "def calc_s(s2):\n",
    "    return (-1. + jnp.sqrt(1+4*s2)) / 2.\n",
    "\n",
    "def calc_multiplicity(s):\n",
    "    return 2*s + 1"
   ]
  },
  {
   "cell_type": "code",
   "execution_count": 32,
   "id": "edf45c45-86ae-463d-b437-1503d9662078",
   "metadata": {},
   "outputs": [],
   "source": [
    "@jit\n",
    "def build_pairwise_greens(bra_array, ket_array):\n",
    "    # bra_array: [nbra, ...]\n",
    "    # ket_array: [nket, ...]\n",
    "    # we want G, ovlp for each pair (i, j)\n",
    "\n",
    "    # Example: vmap the function over bra, then over ket\n",
    "    # This will produce a result of shape [nbra, nket, ...]\n",
    "    # Pseudocode only - depends on how your \"get_greens\" is defined.\n",
    "\n",
    "    @jit\n",
    "    def greens_over_ket(bra, ket_array):\n",
    "        return vmap(lambda ket: get_greens(bra, ket))(ket_array)\n",
    "    \n",
    "    # Now we get G, ovlp for each (bra,ket)\n",
    "    Gs, ovlps = vmap(greens_over_ket, in_axes=(0, None))(bra_array, ket_array)\n",
    "    return Gs, ovlps\n",
    "\n",
    "@jit\n",
    "def get_projected_spin_square(kets, coeffs):\n",
    "    Gs, ovlps = build_pairwise_greens(kets, kets)\n",
    "    # Gs and ovlps each have shape [nkets, nkets, ...]\n",
    "    # For each (i, j), we have G_ij, ovlp_ij\n",
    "\n",
    "    # Next, compute spin squares for each pair. \n",
    "    # We can vectorize spin_utils.get_spin_square_from_greens_ghf if needed.\n",
    "    # s2_ij now shape [nkets, nkets]\n",
    "    s2_ij = vmap(\n",
    "                vmap(\n",
    "                    lambda G, ovlp: spin_utils.get_spin_square_from_greens_ghf(G) * ovlp,\n",
    "                    in_axes=(0, 0)\n",
    "                ), in_axes=(0, 0)\n",
    "            )(Gs, ovlps)\n",
    "    \n",
    "    # Build outer products of coeffs\n",
    "    coeff_matrix = jnp.outer(coeffs.conj(), coeffs)\n",
    "    ovlp_tot = jnp.sum(ovlps * coeff_matrix)\n",
    "    s2_tot = jnp.sum(s2_ij * coeff_matrix) / ovlp_tot\n",
    "    s_tot = calc_s(s2_tot)\n",
    "    return s2_tot, ovlp_tot, s_tot\n",
    "\n",
    "@jit\n",
    "def get_projected_spin_average(kets, coeffs):\n",
    "    Gs, ovlps = build_pairwise_greens(kets, kets)\n",
    "    # Gs and ovlps each have shape [nkets, nkets, ...]\n",
    "    # For each (i, j), we have G_ij, ovlp_ij\n",
    "\n",
    "    # Next, compute spin squares for each pair. \n",
    "    # We can vectorize spin_utils.get_spin_square_from_greens_ghf if needed.\n",
    "    # savg_ij now shape [nkets, nkets, 3]\n",
    "    savg_ij = vmap(\n",
    "                vmap(\n",
    "                    lambda G, ovlp: spin_utils.get_spin_average_from_greens_ghf(G) * ovlp,\n",
    "                    in_axes=(0, 0)\n",
    "                ), in_axes=(0, 0)\n",
    "            )(Gs, ovlps)\n",
    "    \n",
    "    # Build outer products of coeffs\n",
    "    coeff_matrix = jnp.outer(coeffs.conj(), coeffs)\n",
    "    ovlp_tot = jnp.sum(ovlps * coeff_matrix)\n",
    "    coeff_matrix = coeff_matrix.ravel()\n",
    "    savg_ij = savg_ij.transpose(2, 0, 1).reshape(3, -1)\n",
    "    savg_tot = jnp.sum(savg_ij * coeff_matrix, axis=-1) / ovlp_tot\n",
    "    return savg_tot, ovlp_tot"
   ]
  },
  {
   "cell_type": "markdown",
   "id": "f8b88a0f-beaa-4b48-8dae-6e3026993122",
   "metadata": {},
   "source": [
    "# Test with $|\\uparrow \\downarrow \\rangle = \\frac{1}{\\sqrt{2}}(|s=0, s_z=0 \\rangle + |s=1, s_z=0\\rangle)$\n",
    "\n",
    "**Note that $s_z$ is a good quantum number for this state, but not $s$.**"
   ]
  },
  {
   "cell_type": "code",
   "execution_count": 6,
   "id": "079fcd3e-6e16-4439-9bcf-297b9a96dfb1",
   "metadata": {},
   "outputs": [],
   "source": [
    "norb = 3\n",
    "nocc = 2\n",
    "psi = np.array([[1., 0.], \n",
    "                [0., 0.], \n",
    "                [0., 0.], \n",
    "                [0., 0.], \n",
    "                [0., 1.], \n",
    "                [0., 0.]])"
   ]
  },
  {
   "cell_type": "code",
   "execution_count": 7,
   "id": "ec448444-304b-4b91-9839-2310048e451c",
   "metadata": {},
   "outputs": [
    {
     "name": "stdout",
     "output_type": "stream",
     "text": [
      "<S> = [0.+0.j 0.+0.j 0.+0.j]\n",
      "<S^2> = (1+0j), S = (0.6180339887498949+0j), 2S+1 = (2.23606797749979+0j)\n",
      "ovlp = (1+0j)\n"
     ]
    }
   ],
   "source": [
    "# Initial spin average and overlap.\n",
    "G, ovlp = get_greens(psi[:, :nocc], psi[:, :nocc])\n",
    "savg = spin_utils.get_spin_average_from_greens_ghf(G) * ovlp\n",
    "s2 = spin_utils.get_spin_square_from_greens_ghf(G) * ovlp\n",
    "s = calc_s(s2)\n",
    "\n",
    "print(f'<S> = {savg}')\n",
    "print(f'<S^2> = {s2}, S = {s}, 2S+1 = {calc_multiplicity(s)}')\n",
    "print(f'ovlp = {ovlp}')"
   ]
  },
  {
   "cell_type": "markdown",
   "id": "2587e1d0-77af-4d55-bb06-8cf8ffea653f",
   "metadata": {},
   "source": [
    "## Project to $s = 0$"
   ]
  },
  {
   "cell_type": "code",
   "execution_count": 8,
   "id": "53e03860-e0cb-4d55-87f1-d4a51c874cf8",
   "metadata": {},
   "outputs": [],
   "source": [
    "ngrid_z = 6\n",
    "ngrid_y = 6\n",
    "s = sz = 0\n",
    "kets, coeffs = apply_S2_projector(psi[:, :nocc], s, sz, ngrid_z, ngrid_y)\n",
    "kets = jnp.array(kets).reshape(-1, *kets.shape[4:])\n",
    "coeffs = jnp.array(coeffs).reshape(-1)"
   ]
  },
  {
   "cell_type": "code",
   "execution_count": 9,
   "id": "634cd14b-45ba-47b8-b22a-c6d3b8fcbe10",
   "metadata": {},
   "outputs": [],
   "source": [
    "s2_tot, ovlp_tot, s_tot = get_projected_spin_square(kets, coeffs)\n",
    "savg_tot, _ = get_projected_spin_average(kets, coeffs)"
   ]
  },
  {
   "cell_type": "code",
   "execution_count": 10,
   "id": "c2660a67-d21a-4dbb-b0ec-334ecacb296b",
   "metadata": {},
   "outputs": [
    {
     "name": "stdout",
     "output_type": "stream",
     "text": [
      "<S^2> * ovlp = (0.03153703703703694+3.5495585291148316e-20j)\n",
      "ovlp = (0.5-3.3101920919155616e-35j)\n",
      "<S^2> = (0.06307407407407388+7.099117058229663e-20j), S = (0.05953022623811299+6.343819087271769e-20j), 2S+1 = (1.119060452476226+1.2687638174543537e-19j)\n",
      "\n",
      "<S> = [ 0.+0.j  0.+0.j -0.-0.j]\n"
     ]
    }
   ],
   "source": [
    "print(f'<S^2> * ovlp = {s2_tot * ovlp_tot}')\n",
    "print(f'ovlp = {ovlp_tot}')\n",
    "print(f'<S^2> = {s2_tot}, S = {s_tot}, 2S+1 = {calc_multiplicity(s_tot)}')\n",
    "print(f'\\n<S> = {savg_tot}')"
   ]
  },
  {
   "cell_type": "code",
   "execution_count": 11,
   "id": "ad4b070e-3960-4532-a05b-8125097ad2db",
   "metadata": {},
   "outputs": [],
   "source": [
    "ngrid_z = 10\n",
    "ngrid_y = 10\n",
    "s = sz = 0\n",
    "kets, coeffs = apply_S2_projector(psi[:, :nocc], s, sz, ngrid_z, ngrid_y)\n",
    "kets = jnp.array(kets).reshape(-1, *kets.shape[4:])\n",
    "coeffs = jnp.array(coeffs).reshape(-1)"
   ]
  },
  {
   "cell_type": "code",
   "execution_count": 12,
   "id": "f94ed214-d6e6-4beb-ae26-0990222b8b8a",
   "metadata": {},
   "outputs": [],
   "source": [
    "s2_tot, ovlp_tot, s_tot = get_projected_spin_square(kets, coeffs)\n",
    "savg_tot, _ = get_projected_spin_average(kets, coeffs)"
   ]
  },
  {
   "cell_type": "code",
   "execution_count": 13,
   "id": "89b676a2-3e59-4a29-a4be-7391071e24ee",
   "metadata": {},
   "outputs": [
    {
     "name": "stdout",
     "output_type": "stream",
     "text": [
      "<S^2> * ovlp = (0.011730937083828217-1.1737598687488631e-20j)\n",
      "ovlp = (0.49999999999999994+6.817867234769268e-36j)\n",
      "<S^2> = (0.023461874167656438-2.3475197374977265e-20j), S = (0.022935822226452962-2.2445581634691995e-20j), 2S+1 = (1.045871644452906-4.489116326938399e-20j)\n",
      "\n",
      "<S> = [0.+0.j 0.+0.j 0.+0.j]\n"
     ]
    }
   ],
   "source": [
    "print(f'<S^2> * ovlp = {s2_tot * ovlp_tot}')\n",
    "print(f'ovlp = {ovlp_tot}')\n",
    "print(f'<S^2> = {s2_tot}, S = {s_tot}, 2S+1 = {calc_multiplicity(s_tot)}')\n",
    "print(f'\\n<S> = {savg_tot}')"
   ]
  },
  {
   "cell_type": "code",
   "execution_count": 14,
   "id": "4fa34715-0ba0-45d7-9a36-15cc97ca2317",
   "metadata": {},
   "outputs": [],
   "source": [
    "ngrid_z = 15\n",
    "ngrid_y = 15\n",
    "s = sz = 0\n",
    "kets, coeffs = apply_S2_projector(psi[:, :nocc], s, sz, ngrid_z, ngrid_y)\n",
    "kets = jnp.array(kets).reshape(-1, *kets.shape[4:])\n",
    "coeffs = jnp.array(coeffs).reshape(-1)"
   ]
  },
  {
   "cell_type": "code",
   "execution_count": 15,
   "id": "e7718e1a-0ca2-41b5-9dfa-3a5d62d39c06",
   "metadata": {},
   "outputs": [],
   "source": [
    "s2_tot, ovlp_tot, s_tot = get_projected_spin_square(kets, coeffs)\n",
    "savg_tot, _ = get_projected_spin_average(kets, coeffs)"
   ]
  },
  {
   "cell_type": "code",
   "execution_count": 16,
   "id": "ad813da3-64ce-488a-91ef-7de877264b1d",
   "metadata": {},
   "outputs": [
    {
     "name": "stdout",
     "output_type": "stream",
     "text": [
      "<S^2> * ovlp = (-5.724587470723463e-17-2.058612882858352e-21j)\n",
      "ovlp = (0.4999999999999996+2.82118644197349e-37j)\n",
      "<S^2> = (-1.1449174941446937e-16-4.117225765716707e-21j), S = (-1.1102230246251565e-16-4.117225765716708e-21j), 2S+1 = (0.9999999999999998-8.234451531433415e-21j)\n",
      "\n",
      "<S> = [ 0.+0.j  0.+0.j -0.-0.j]\n"
     ]
    }
   ],
   "source": [
    "print(f'<S^2> * ovlp = {s2_tot * ovlp_tot}')\n",
    "print(f'ovlp = {ovlp_tot}')\n",
    "print(f'<S^2> = {s2_tot}, S = {s_tot}, 2S+1 = {calc_multiplicity(s_tot)}')\n",
    "print(f'\\n<S> = {savg_tot}')"
   ]
  },
  {
   "cell_type": "markdown",
   "id": "49f61556-7b7f-4214-9532-c266d7b11619",
   "metadata": {},
   "source": [
    "## Project to $s = 1$"
   ]
  },
  {
   "cell_type": "code",
   "execution_count": 75,
   "id": "8d6ec781-13e4-454a-800c-3ae99fb560b8",
   "metadata": {
    "scrolled": true
   },
   "outputs": [],
   "source": [
    "ngrid_z = 6\n",
    "ngrid_y = 6\n",
    "s = 1\n",
    "sz = 0\n",
    "kets, coeffs = apply_S2_projector(psi[:, :nocc], s, sz, ngrid_z, ngrid_y)\n",
    "kets = jnp.array(kets).reshape(-1, *kets.shape[4:])\n",
    "coeffs = jnp.array(coeffs).reshape(-1)"
   ]
  },
  {
   "cell_type": "code",
   "execution_count": 76,
   "id": "a4665f3a-2479-4a84-a2c1-3d223e2e540c",
   "metadata": {},
   "outputs": [],
   "source": [
    "s2_tot, ovlp_tot, s_tot = get_projected_spin_square(kets, coeffs)\n",
    "savg_tot, _ = get_projected_spin_average(kets, coeffs)"
   ]
  },
  {
   "cell_type": "code",
   "execution_count": 77,
   "id": "8c71e90c-3d6e-4ba2-9c5b-150b6acdb4a3",
   "metadata": {},
   "outputs": [
    {
     "name": "stdout",
     "output_type": "stream",
     "text": [
      "<S^2> * ovlp = (0.9288333333333321+2.8801799708123068e-18j)\n",
      "ovlp = (0.49999999999999917+2.5176498693874662e-18j)\n",
      "<S^2> = (1.8576666666666672-3.593548539772962e-18j), S = (0.9517805160101396-1.2376349248882824e-18j), 2S+1 = (2.903561032020279-2.4752698497765648e-18j)\n",
      "\n",
      "<S> = [ 0.+0.j  0.+0.j -0.-0.j]\n"
     ]
    }
   ],
   "source": [
    "print(f'<S^2> * ovlp = {s2_tot * ovlp_tot}')\n",
    "print(f'ovlp = {ovlp_tot}')\n",
    "print(f'<S^2> = {s2_tot}, S = {s_tot}, 2S+1 = {calc_multiplicity(s_tot)}')\n",
    "print(f'\\n<S> = {savg_tot}')"
   ]
  },
  {
   "cell_type": "code",
   "execution_count": 78,
   "id": "0e311fa1-e771-4837-8600-90fc1b8fa5ff",
   "metadata": {},
   "outputs": [],
   "source": [
    "ngrid_z = 10\n",
    "ngrid_y = 10\n",
    "s = 1\n",
    "sz = 0\n",
    "kets, coeffs = apply_S2_projector(psi[:, :nocc], s, sz, ngrid_z, ngrid_y)\n",
    "kets = jnp.array(kets).reshape(-1, *kets.shape[4:])\n",
    "coeffs = jnp.array(coeffs).reshape(-1)"
   ]
  },
  {
   "cell_type": "code",
   "execution_count": 79,
   "id": "0ed37f5d-a70c-469e-9537-a458e165540c",
   "metadata": {},
   "outputs": [],
   "source": [
    "s2_tot, ovlp_tot, s_tot = get_projected_spin_square(kets, coeffs)\n",
    "savg_tot, _ = get_projected_spin_average(kets, coeffs)"
   ]
  },
  {
   "cell_type": "code",
   "execution_count": 80,
   "id": "dfff98fd-7df1-45b6-a13c-8149852bfdd6",
   "metadata": {},
   "outputs": [
    {
     "name": "stdout",
     "output_type": "stream",
     "text": [
      "<S^2> * ovlp = (0.9736114917395521+3.485709984540897e-17j)\n",
      "ovlp = (0.4999999999999992+5.6107462426124854e-18j)\n",
      "<S^2> = (1.9472229834791073+4.786345161464986e-17j), S = (0.9823032697390595+1.614495919687056e-17j), 2S+1 = (2.964606539478119+3.228991839374112e-17j)\n",
      "\n",
      "<S> = [ 0.+0.j  0.+0.j -0.-0.j]\n"
     ]
    }
   ],
   "source": [
    "print(f'<S^2> * ovlp = {s2_tot * ovlp_tot}')\n",
    "print(f'ovlp = {ovlp_tot}')\n",
    "print(f'<S^2> = {s2_tot}, S = {s_tot}, 2S+1 = {calc_multiplicity(s_tot)}')\n",
    "print(f'\\n<S> = {savg_tot}')"
   ]
  },
  {
   "cell_type": "code",
   "execution_count": 81,
   "id": "deafd2c2-983f-4136-90ba-d5748f218bcd",
   "metadata": {},
   "outputs": [],
   "source": [
    "ngrid_z = 15\n",
    "ngrid_y = 15\n",
    "s = 1\n",
    "sz = 0\n",
    "kets, coeffs = apply_S2_projector(psi[:, :nocc], s, sz, ngrid_z, ngrid_y)\n",
    "kets = jnp.array(kets).reshape(-1, *kets.shape[4:])\n",
    "coeffs = jnp.array(coeffs).reshape(-1)"
   ]
  },
  {
   "cell_type": "code",
   "execution_count": 82,
   "id": "a6eb1582-d4d2-4593-a2e2-6a0391b8c479",
   "metadata": {},
   "outputs": [],
   "source": [
    "s2_tot, ovlp_tot, s_tot = get_projected_spin_square(kets, coeffs)\n",
    "savg_tot, _ = get_projected_spin_average(kets, coeffs)"
   ]
  },
  {
   "cell_type": "code",
   "execution_count": 83,
   "id": "32a6a638-5ea9-4f5e-a8a7-963668ba5279",
   "metadata": {},
   "outputs": [
    {
     "name": "stdout",
     "output_type": "stream",
     "text": [
      "<S^2> * ovlp = (1.0000000000000053+4.553649124439119e-18j)\n",
      "ovlp = (0.5000000000000027+5.963111948670274e-19j)\n",
      "<S^2> = (2+6.722053469410092e-18j), S = (1+2.240684489803364e-18j), 2S+1 = (3+4.481368979606728e-18j)\n",
      "\n",
      "<S> = [0.+0.j 0.+0.j 0.+0.j]\n"
     ]
    }
   ],
   "source": [
    "print(f'<S^2> * ovlp = {s2_tot * ovlp_tot}')\n",
    "print(f'ovlp = {ovlp_tot}')\n",
    "print(f'<S^2> = {s2_tot}, S = {s_tot}, 2S+1 = {calc_multiplicity(s_tot)}')\n",
    "print(f'\\n<S> = {savg_tot}')"
   ]
  },
  {
   "cell_type": "markdown",
   "id": "dde3b352-1aa9-4579-a1a7-7b3b37a90186",
   "metadata": {},
   "source": [
    "# Test with $|+ + \\rangle = \\frac{1}{2}|s=1, s_z=1 \\rangle + \\frac{1}{\\sqrt{2}}|s=1, s_z=0\\rangle + \\frac{1}{2}|s=1, s_z=-1 \\rangle$\n",
    "\n",
    "**Note that $s$ is a good quantum number for this state, but not $s_z$.**"
   ]
  },
  {
   "cell_type": "code",
   "execution_count": 49,
   "id": "6b2ef892-4e9e-4346-9944-76c4078aa999",
   "metadata": {},
   "outputs": [],
   "source": [
    "norb = 3\n",
    "nocc = 2\n",
    "psi = np.array([[1., 0.], \n",
    "                [0., 1.], \n",
    "                [0., 0.], \n",
    "                [1., 0.], \n",
    "                [0., 1.], \n",
    "                [0., 0.]]) / np.sqrt(2.)"
   ]
  },
  {
   "cell_type": "code",
   "execution_count": 50,
   "id": "fd880e79-5aa2-4e4b-a4e2-5199992e9323",
   "metadata": {},
   "outputs": [
    {
     "name": "stdout",
     "output_type": "stream",
     "text": [
      "<S> = [1.+0.j 0.+0.j 0.+0.j]\n",
      "<S^2> = (1.9999999999999991+0j), S = (0.9999999999999998+0j), 2S+1 = (2.9999999999999996+0j)\n",
      "ovlp = (0.9999999999999996+0j)\n"
     ]
    }
   ],
   "source": [
    "# Initial spin average and overlap.\n",
    "G, ovlp = get_greens(psi[:, :nocc], psi[:, :nocc])\n",
    "savg = spin_utils.get_spin_average_from_greens_ghf(G) * ovlp\n",
    "s2 = spin_utils.get_spin_square_from_greens_ghf(G) * ovlp\n",
    "s = calc_s(s2)\n",
    "\n",
    "print(f'<S> = {savg}')\n",
    "print(f'<S^2> = {s2}, S = {s}, 2S+1 = {calc_multiplicity(s)}')\n",
    "print(f'ovlp = {ovlp}')"
   ]
  },
  {
   "cell_type": "markdown",
   "id": "6613b411-2957-4172-86f7-8a87c80178bc",
   "metadata": {},
   "source": [
    "## Project to $s = 1, s_z = -1$"
   ]
  },
  {
   "cell_type": "code",
   "execution_count": 28,
   "id": "32994c9d-cbca-4f53-b770-a26ff0caea46",
   "metadata": {},
   "outputs": [],
   "source": [
    "ngrid_z = 5\n",
    "ngrid_y = 5\n",
    "s = 1\n",
    "sz = -1\n",
    "kets, coeffs = apply_S2_projector(psi[:, :nocc], s, sz, ngrid_z, ngrid_y)\n",
    "kets = jnp.array(kets).reshape(-1, *kets.shape[4:])\n",
    "coeffs = jnp.array(coeffs).reshape(-1)"
   ]
  },
  {
   "cell_type": "code",
   "execution_count": 29,
   "id": "3f2ebbf0-f45d-4dc1-a5fc-0bff114b2c70",
   "metadata": {},
   "outputs": [],
   "source": [
    "s2_tot, ovlp_tot, s_tot = get_projected_spin_square(kets, coeffs)\n",
    "savg_tot, _ = get_projected_spin_average(kets, coeffs)"
   ]
  },
  {
   "cell_type": "code",
   "execution_count": 30,
   "id": "2a1e9ff2-af32-4fb2-af25-e4d7fedaff68",
   "metadata": {},
   "outputs": [
    {
     "name": "stdout",
     "output_type": "stream",
     "text": [
      "<S^2> * ovlp = (0.17157287525381051-8.890457814381135e-17j)\n",
      "ovlp = (0.08578643762690524-1.713039432527097e-17j)\n",
      "<S^2> = (2.0000000000000004-6.369746897629824e-16j), S = (1.0000000000000002-2.123248965876608e-16j), 2S+1 = (3.0000000000000004-4.246497931753216e-16j)\n",
      "\n",
      "<S> = [ 0.-0.j -0.-0.j -1.-0.j]\n"
     ]
    }
   ],
   "source": [
    "print(f'<S^2> * ovlp = {s2_tot * ovlp_tot}')\n",
    "print(f'ovlp = {ovlp_tot}')\n",
    "print(f'<S^2> = {s2_tot}, S = {s_tot}, 2S+1 = {calc_multiplicity(s_tot)}')\n",
    "print(f'\\n<S> = {savg_tot}')"
   ]
  },
  {
   "cell_type": "code",
   "execution_count": 31,
   "id": "ea99d317-8dbd-4b68-adab-a4638ec584eb",
   "metadata": {},
   "outputs": [],
   "source": [
    "ngrid_z = 10\n",
    "ngrid_y = 10\n",
    "s = 1\n",
    "sz = -1\n",
    "kets, coeffs = apply_S2_projector(psi[:, :nocc], s, sz, ngrid_z, ngrid_y)\n",
    "kets = jnp.array(kets).reshape(-1, *kets.shape[4:])\n",
    "coeffs = jnp.array(coeffs).reshape(-1)"
   ]
  },
  {
   "cell_type": "code",
   "execution_count": 32,
   "id": "347b1d4b-ef92-4900-a38f-8265c7d04498",
   "metadata": {},
   "outputs": [],
   "source": [
    "s2_tot, ovlp_tot, s_tot = get_projected_spin_square(kets, coeffs)\n",
    "savg_tot, _ = get_projected_spin_average(kets, coeffs)"
   ]
  },
  {
   "cell_type": "code",
   "execution_count": 33,
   "id": "193d1c35-d3f0-47b9-aa9b-e4e4ce4a1edb",
   "metadata": {},
   "outputs": [
    {
     "name": "stdout",
     "output_type": "stream",
     "text": [
      "<S^2> * ovlp = (0.17157287525380804+7.323785675139582e-17j)\n",
      "ovlp = (0.08578643762690408+3.1712913545201005e-17j)\n",
      "<S^2> = (1.9999999999999987+1.143773996499027e-16j), S = (0.9999999999999996+3.8125799883300904e-17j), 2S+1 = (2.999999999999999+7.625159976660181e-17j)\n",
      "\n",
      "<S> = [-0.+0.j  0.-0.j -1.+0.j]\n"
     ]
    }
   ],
   "source": [
    "print(f'<S^2> * ovlp = {s2_tot * ovlp_tot}')\n",
    "print(f'ovlp = {ovlp_tot}')\n",
    "print(f'<S^2> = {s2_tot}, S = {s_tot}, 2S+1 = {calc_multiplicity(s_tot)}')\n",
    "print(f'\\n<S> = {savg_tot}')"
   ]
  },
  {
   "cell_type": "markdown",
   "id": "2605d7de-2afc-46ac-9100-8adb07a4ca5b",
   "metadata": {},
   "source": [
    "## Project to $s = 1, s_z = 1$"
   ]
  },
  {
   "cell_type": "code",
   "execution_count": 34,
   "id": "5fb29bc1-0584-4bee-b972-834695d519a0",
   "metadata": {},
   "outputs": [],
   "source": [
    "ngrid_z = 5\n",
    "ngrid_y = 5\n",
    "s = 1\n",
    "sz = 1\n",
    "kets, coeffs = apply_S2_projector(psi[:, :nocc], s, sz, ngrid_z, ngrid_y)\n",
    "kets = jnp.array(kets).reshape(-1, *kets.shape[4:])\n",
    "coeffs = jnp.array(coeffs).reshape(-1)"
   ]
  },
  {
   "cell_type": "code",
   "execution_count": 35,
   "id": "1db2e553-69ec-4f24-9ef6-92e565fce525",
   "metadata": {},
   "outputs": [],
   "source": [
    "s2_tot, ovlp_tot, s_tot = get_projected_spin_square(kets, coeffs)\n",
    "savg_tot, _ = get_projected_spin_average(kets, coeffs)"
   ]
  },
  {
   "cell_type": "code",
   "execution_count": 36,
   "id": "2c773d9e-f7f1-41c2-838d-14854c3c354a",
   "metadata": {},
   "outputs": [
    {
     "name": "stdout",
     "output_type": "stream",
     "text": [
      "<S^2> * ovlp = (0.17157287525380943+1.52655665885959e-16j)\n",
      "ovlp = (0.0857864376269047+8.673617379884035e-17j)\n",
      "<S^2> = (2.0000000000000004-2.426570246716147e-16j), S = (1.0000000000000002-8.088567489053822e-17j), 2S+1 = (3.0000000000000004-1.6177134978107645e-16j)\n",
      "\n",
      "<S> = [0.+0.j 0.-0.j 1.-0.j]\n"
     ]
    }
   ],
   "source": [
    "print(f'<S^2> * ovlp = {s2_tot * ovlp_tot}')\n",
    "print(f'ovlp = {ovlp_tot}')\n",
    "print(f'<S^2> = {s2_tot}, S = {s_tot}, 2S+1 = {calc_multiplicity(s_tot)}')\n",
    "print(f'\\n<S> = {savg_tot}')"
   ]
  },
  {
   "cell_type": "code",
   "execution_count": 37,
   "id": "f8bbe97c-de28-4e44-b753-e8d0b55541e0",
   "metadata": {},
   "outputs": [],
   "source": [
    "ngrid_z = 10\n",
    "ngrid_y = 10\n",
    "s = 1\n",
    "sz = 1\n",
    "kets, coeffs = apply_S2_projector(psi[:, :nocc], s, sz, ngrid_z, ngrid_y)\n",
    "kets = jnp.array(kets).reshape(-1, *kets.shape[4:])\n",
    "coeffs = jnp.array(coeffs).reshape(-1)"
   ]
  },
  {
   "cell_type": "code",
   "execution_count": 38,
   "id": "d04ce49f-4c68-49b0-9c37-e03ab4edf555",
   "metadata": {},
   "outputs": [],
   "source": [
    "s2_tot, ovlp_tot, s_tot = get_projected_spin_square(kets, coeffs)\n",
    "savg_tot, _ = get_projected_spin_average(kets, coeffs)"
   ]
  },
  {
   "cell_type": "code",
   "execution_count": 39,
   "id": "e84ed9a6-71da-434c-ae7b-d12ac047babd",
   "metadata": {},
   "outputs": [
    {
     "name": "stdout",
     "output_type": "stream",
     "text": [
      "<S^2> * ovlp = (0.1715728752538096-1.984089975648473e-17j)\n",
      "ovlp = (0.0857864376269048-2.1575623232461538e-17j)\n",
      "<S^2> = (2+2.717253140854007e-16j), S = (1+9.057510469513358e-17j), 2S+1 = (3+1.8115020939026715e-16j)\n",
      "\n",
      "<S> = [-0.-0.j  0.+0.j  1.+0.j]\n"
     ]
    }
   ],
   "source": [
    "print(f'<S^2> * ovlp = {s2_tot * ovlp_tot}')\n",
    "print(f'ovlp = {ovlp_tot}')\n",
    "print(f'<S^2> = {s2_tot}, S = {s_tot}, 2S+1 = {calc_multiplicity(s_tot)}')\n",
    "print(f'\\n<S> = {savg_tot}')"
   ]
  },
  {
   "cell_type": "markdown",
   "id": "cad649e8-7fbd-4240-a9f8-6c793bd3acec",
   "metadata": {},
   "source": [
    "## Project to $s = 1, s_z = 0$"
   ]
  },
  {
   "cell_type": "code",
   "execution_count": 40,
   "id": "af5bbfd0-54ce-4cf7-b1f1-587e3a8c09d9",
   "metadata": {},
   "outputs": [],
   "source": [
    "ngrid_z = 5\n",
    "ngrid_y = 5\n",
    "s = 1\n",
    "sz = 0\n",
    "kets, coeffs = apply_S2_projector(psi[:, :nocc], s, sz, ngrid_z, ngrid_y)\n",
    "kets = jnp.array(kets).reshape(-1, *kets.shape[4:])\n",
    "coeffs = jnp.array(coeffs).reshape(-1)"
   ]
  },
  {
   "cell_type": "code",
   "execution_count": 41,
   "id": "1b2f5968-483f-4857-bc0b-30b0ead98de8",
   "metadata": {},
   "outputs": [],
   "source": [
    "s2_tot, ovlp_tot, s_tot = get_projected_spin_square(kets, coeffs)\n",
    "savg_tot, _ = get_projected_spin_average(kets, coeffs)"
   ]
  },
  {
   "cell_type": "code",
   "execution_count": 42,
   "id": "10ce1a8b-335a-481d-921a-a22ee94b55e6",
   "metadata": {},
   "outputs": [
    {
     "name": "stdout",
     "output_type": "stream",
     "text": [
      "<S^2> * ovlp = (0.17157287525380932-1.214306433183765e-16j)\n",
      "ovlp = (0.08578643762690455-2.7755575615628914e-17j)\n",
      "<S^2> = (2.0000000000000027-7.684139114601113e-16j), S = (1.0000000000000009-2.5613797048670364e-16j), 2S+1 = (3.0000000000000018-5.122759409734073e-16j)\n",
      "\n",
      "<S> = [ 0.-0.j -0.+0.j -0.+0.j]\n"
     ]
    }
   ],
   "source": [
    "print(f'<S^2> * ovlp = {s2_tot * ovlp_tot}')\n",
    "print(f'ovlp = {ovlp_tot}')\n",
    "print(f'<S^2> = {s2_tot}, S = {s_tot}, 2S+1 = {calc_multiplicity(s_tot)}')\n",
    "print(f'\\n<S> = {savg_tot}')"
   ]
  },
  {
   "cell_type": "markdown",
   "id": "2f0d0f67-9e0a-428e-94a3-63051474a7e6",
   "metadata": {},
   "source": [
    "## Project to $s = 0, s_z = 0$"
   ]
  },
  {
   "cell_type": "code",
   "execution_count": 51,
   "id": "0ff27bab-aea0-460c-8e9a-8482e60b9ba2",
   "metadata": {},
   "outputs": [
    {
     "name": "stdout",
     "output_type": "stream",
     "text": [
      "[ 25.01734  57.4205   90.      122.5795  154.98266]\n"
     ]
    }
   ],
   "source": [
    "ngrid_z = 5\n",
    "ngrid_y = 5\n",
    "s = 0\n",
    "sz = 0\n",
    "kets, coeffs = apply_S2_projector(psi[:, :nocc], s, sz, ngrid_z, ngrid_y)\n",
    "kets = jnp.array(kets).reshape(-1, *kets.shape[4:])\n",
    "coeffs = jnp.array(coeffs).reshape(-1)"
   ]
  },
  {
   "cell_type": "code",
   "execution_count": 52,
   "id": "b574017e-518e-4f0b-be0b-0c24ac611183",
   "metadata": {},
   "outputs": [],
   "source": [
    "s2_tot, ovlp_tot, s_tot = get_projected_spin_square(kets, coeffs)\n",
    "savg_tot, _ = get_projected_spin_average(kets, coeffs)"
   ]
  },
  {
   "cell_type": "code",
   "execution_count": 53,
   "id": "8262806b-7443-4c54-999f-f29a6a48bdfc",
   "metadata": {},
   "outputs": [
    {
     "name": "stdout",
     "output_type": "stream",
     "text": [
      "<S^2> * ovlp = (-8.977193988179978e-17+6.5052130349130266e-18j)\n",
      "ovlp = (-5.572799166575493e-17+1.1926223897340549e-18j)\n",
      "<S^2> = (1.6126545019805765-0.08221945618329506j), S = (0.86512320798114-0.03011429873237894j), 2S+1 = (2.73024641596228-0.06022859746475788j)\n",
      "\n",
      "<S> = [-0.00004+0.00194j -0.01175+0.00364j  0.00025-0.01167j]\n"
     ]
    }
   ],
   "source": [
    "print(f'<S^2> * ovlp = {s2_tot * ovlp_tot}')\n",
    "print(f'ovlp = {ovlp_tot}')\n",
    "print(f'<S^2> = {s2_tot}, S = {s_tot}, 2S+1 = {calc_multiplicity(s_tot)}')\n",
    "print(f'\\n<S> = {savg_tot}')"
   ]
  },
  {
   "cell_type": "markdown",
   "id": "f1ad6beb-68c7-40cb-a33a-bb3bea2bfed7",
   "metadata": {},
   "source": [
    "### Overlap is 0!"
   ]
  },
  {
   "cell_type": "markdown",
   "id": "db69fbeb-5aba-4239-8418-415f71f6a5cd",
   "metadata": {},
   "source": [
    "# Test with $|+ - \\rangle = \\frac{1}{2}|s=1, s_z=1 \\rangle - \\frac{1}{\\sqrt{2}}|s=0, s_z=0\\rangle + \\frac{1}{2}|s=1, s_z=-1 \\rangle$\n",
    "\n",
    "**Note that neither $s_z$ or $s$ are a good quantum numbers for this state.**"
   ]
  },
  {
   "cell_type": "code",
   "execution_count": 23,
   "id": "050f2dd0-9cc3-46f4-872b-6812d31b0ab2",
   "metadata": {},
   "outputs": [],
   "source": [
    "norb = 3\n",
    "nocc = 2\n",
    "psi = np.array([[1., 0.], \n",
    "                [0., 1.], \n",
    "                [0., 0.], \n",
    "                [1., 0.], \n",
    "                [0., -1.], \n",
    "                [0., 0.]]) / np.sqrt(2.)"
   ]
  },
  {
   "cell_type": "code",
   "execution_count": 24,
   "id": "9a8c386b-38bd-4101-b469-c13ffd6a4fe7",
   "metadata": {},
   "outputs": [
    {
     "name": "stdout",
     "output_type": "stream",
     "text": [
      "<S> = [0.+0.j 0.+0.j 0.+0.j]\n",
      "<S^2> = (0.9999999999999996+0j), S = (0.6180339887498947+0j), 2S+1 = (2.2360679774997894+0j)\n",
      "ovlp = (0.9999999999999996+0j)\n"
     ]
    }
   ],
   "source": [
    "# Initial spin average and overlap.\n",
    "G, ovlp = get_greens(psi[:, :nocc], psi[:, :nocc])\n",
    "savg = spin_utils.get_spin_average_from_greens_ghf(G) * ovlp\n",
    "s2 = spin_utils.get_spin_square_from_greens_ghf(G) * ovlp\n",
    "s = calc_s(s2)\n",
    "\n",
    "print(f'<S> = {savg}')\n",
    "print(f'<S^2> = {s2}, S = {s}, 2S+1 = {calc_multiplicity(s)}')\n",
    "print(f'ovlp = {ovlp}')"
   ]
  },
  {
   "cell_type": "markdown",
   "id": "b8bc43ab-0ce2-4e84-83bf-395be55e1637",
   "metadata": {},
   "source": [
    "## Project to $s = 1, s_z = 1$"
   ]
  },
  {
   "cell_type": "code",
   "execution_count": 88,
   "id": "1f6c9961-9a93-4fc8-a244-5a5767f26e97",
   "metadata": {},
   "outputs": [],
   "source": [
    "ngrid_z = 6\n",
    "ngrid_y = 6\n",
    "s = 1\n",
    "sz = 1\n",
    "kets, coeffs = apply_S2_projector(psi[:, :nocc], s, sz, ngrid_z, ngrid_y)\n",
    "kets = jnp.array(kets).reshape(-1, *kets.shape[4:])\n",
    "coeffs = jnp.array(coeffs).reshape(-1)"
   ]
  },
  {
   "cell_type": "code",
   "execution_count": 89,
   "id": "51563c1d-7d59-4ee2-b2aa-412553103190",
   "metadata": {},
   "outputs": [],
   "source": [
    "s2_tot, ovlp_tot, s_tot = get_projected_spin_square(kets, coeffs)\n",
    "savg_tot, _ = get_projected_spin_average(kets, coeffs)"
   ]
  },
  {
   "cell_type": "code",
   "execution_count": 90,
   "id": "dce6219a-4a23-4aea-a012-8e1395172df8",
   "metadata": {},
   "outputs": [
    {
     "name": "stdout",
     "output_type": "stream",
     "text": [
      "<S^2> * ovlp = (1.1188966420050403e-16-2.4858299419545583e-18j)\n",
      "ovlp = (-5.594483210025203e-17-2.8214667473040744e-18j)\n",
      "<S^2> = (-1.9926906922027958+0.14493100011699844j), S = (-0.4451537881454159+1.321248954269253j), 2S+1 = (0.10969242370916821+2.642497908538506j)\n",
      "\n",
      "<S> = [ 0.00851+0.00843j -0.01451-0.00222j  0.01891-0.08622j]\n"
     ]
    }
   ],
   "source": [
    "print(f'<S^2> * ovlp = {s2_tot * ovlp_tot}')\n",
    "print(f'ovlp = {ovlp_tot}')\n",
    "print(f'<S^2> = {s2_tot}, S = {s_tot}, 2S+1 = {calc_multiplicity(s_tot)}')\n",
    "print(f'\\n<S> = {savg_tot}')"
   ]
  },
  {
   "cell_type": "markdown",
   "id": "a957c31f-829e-49bb-b440-b92c110773f9",
   "metadata": {},
   "source": [
    "## Project to $s = 1, s_z = -1$"
   ]
  },
  {
   "cell_type": "code",
   "execution_count": 91,
   "id": "0d6e595f-6254-46f0-a7fc-acb8186b6364",
   "metadata": {},
   "outputs": [],
   "source": [
    "ngrid_z = 5\n",
    "ngrid_y = 5\n",
    "s = 1\n",
    "sz = -1\n",
    "kets, coeffs = apply_S2_projector(psi[:, :nocc], s, sz, ngrid_z, ngrid_y)\n",
    "kets = jnp.array(kets).reshape(-1, *kets.shape[4:])\n",
    "coeffs = jnp.array(coeffs).reshape(-1)"
   ]
  },
  {
   "cell_type": "code",
   "execution_count": 92,
   "id": "f51ec4f0-dbd8-4a7d-8d8d-e3577d7d755d",
   "metadata": {},
   "outputs": [],
   "source": [
    "s2_tot, ovlp_tot, s_tot = get_projected_spin_square(kets, coeffs)\n",
    "savg_tot, _ = get_projected_spin_average(kets, coeffs)"
   ]
  },
  {
   "cell_type": "code",
   "execution_count": 93,
   "id": "195f86b2-2bd2-4947-9c74-69137b0ef6e8",
   "metadata": {},
   "outputs": [
    {
     "name": "stdout",
     "output_type": "stream",
     "text": [
      "<S^2> * ovlp = (2.1163626406917044e-16-2.775557561562891e-17j)\n",
      "ovlp = (4.666406150377611e-16+1.6566609195578508e-16j)\n",
      "<S^2> = (0.3840147273145662-0.19581191992022703j), S = (0.30547457342498696-0.1215506524852847j), 2S+1 = (1.610949146849974-0.2431013049705694j)\n",
      "\n",
      "<S> = [0.00252-0.00007j 0.00706-0.00531j 0.0086 +0.00066j]\n"
     ]
    }
   ],
   "source": [
    "print(f'<S^2> * ovlp = {s2_tot * ovlp_tot}')\n",
    "print(f'ovlp = {ovlp_tot}')\n",
    "print(f'<S^2> = {s2_tot}, S = {s_tot}, 2S+1 = {calc_multiplicity(s_tot)}')\n",
    "print(f'\\n<S> = {savg_tot}')"
   ]
  },
  {
   "cell_type": "markdown",
   "id": "256a2630-61bf-449f-8ef1-630239c0482b",
   "metadata": {},
   "source": [
    "## Project to $s = 1, s_z = 0$"
   ]
  },
  {
   "cell_type": "code",
   "execution_count": 94,
   "id": "c8626919-4977-4e9d-b9fb-730dd67dd7ae",
   "metadata": {},
   "outputs": [],
   "source": [
    "ngrid_z = 5\n",
    "ngrid_y = 5\n",
    "s = 1\n",
    "sz = 0\n",
    "kets, coeffs = apply_S2_projector(psi[:, :nocc], s, sz, ngrid_z, ngrid_y)\n",
    "kets = jnp.array(kets).reshape(-1, *kets.shape[4:])\n",
    "coeffs = jnp.array(coeffs).reshape(-1)"
   ]
  },
  {
   "cell_type": "code",
   "execution_count": 95,
   "id": "9dc3d1e2-06aa-4be9-918b-80761344b0ed",
   "metadata": {},
   "outputs": [],
   "source": [
    "s2_tot, ovlp_tot, s_tot = get_projected_spin_square(kets, coeffs)\n",
    "savg_tot, _ = get_projected_spin_average(kets, coeffs)"
   ]
  },
  {
   "cell_type": "code",
   "execution_count": 96,
   "id": "5bf1a2c2-2ca0-4699-ae2e-aba224ba732d",
   "metadata": {},
   "outputs": [
    {
     "name": "stdout",
     "output_type": "stream",
     "text": [
      "<S^2> * ovlp = (3.5388358909926865e-16-1.4745149545802857e-17j)\n",
      "ovlp = (2.8275992658421956e-16+4.9873299934333204e-18j)\n",
      "<S^2> = (1.2502250219730797-0.07419875422191781j), S = (0.725210961361064-0.030279991185963535j), 2S+1 = (2.450421922722128-0.06055998237192707j)\n",
      "\n",
      "<S> = [ 0.00729-0.0003j   0.00297-0.00022j -0.03158+0.01407j]\n"
     ]
    }
   ],
   "source": [
    "print(f'<S^2> * ovlp = {s2_tot * ovlp_tot}')\n",
    "print(f'ovlp = {ovlp_tot}')\n",
    "print(f'<S^2> = {s2_tot}, S = {s_tot}, 2S+1 = {calc_multiplicity(s_tot)}')\n",
    "print(f'\\n<S> = {savg_tot}')"
   ]
  },
  {
   "cell_type": "markdown",
   "id": "ea49f981-a4dd-4eba-a688-6e6700a1921c",
   "metadata": {},
   "source": [
    "## Project to $s = 0, s_z = 0$"
   ]
  },
  {
   "cell_type": "code",
   "execution_count": 25,
   "id": "9e20f235-c931-4d7a-8c65-ceaedf2e2653",
   "metadata": {},
   "outputs": [],
   "source": [
    "ngrid_z = 5\n",
    "ngrid_y = 5\n",
    "s = 0\n",
    "sz = 0\n",
    "kets, coeffs = apply_S2_projector(psi[:, :nocc], s, sz, ngrid_z, ngrid_y)\n",
    "kets = jnp.array(kets).reshape(-1, *kets.shape[4:])\n",
    "coeffs = jnp.array(coeffs).reshape(-1)"
   ]
  },
  {
   "cell_type": "code",
   "execution_count": 26,
   "id": "1abff5c7-7d9c-4e3c-b514-827ba39d330a",
   "metadata": {},
   "outputs": [],
   "source": [
    "s2_tot, ovlp_tot, s_tot = get_projected_spin_square(kets, coeffs)\n",
    "savg_tot, _ = get_projected_spin_average(kets, coeffs)"
   ]
  },
  {
   "cell_type": "code",
   "execution_count": 27,
   "id": "8a35e40a-c7d2-4f14-9a86-a3cd13ac9c09",
   "metadata": {},
   "outputs": [
    {
     "name": "stdout",
     "output_type": "stream",
     "text": [
      "<S^2> * ovlp = (-1.0031411194332679e-17-4.570138218538032e-19j)\n",
      "ovlp = (0.5000000000000001-4.333342374871281e-34j)\n",
      "<S^2> = (-2.0062822388665355e-17-9.140276437076061e-19j), S = (-5.551115123125783e-17-9.140276437076061e-19j), 2S+1 = (0.9999999999999999-1.8280552874152123e-18j)\n",
      "\n",
      "<S> = [ 0.-0.j -0.-0.j -0.+0.j]\n"
     ]
    }
   ],
   "source": [
    "print(f'<S^2> * ovlp = {s2_tot * ovlp_tot}')\n",
    "print(f'ovlp = {ovlp_tot}')\n",
    "print(f'<S^2> = {s2_tot}, S = {s_tot}, 2S+1 = {calc_multiplicity(s_tot)}')\n",
    "print(f'\\n<S> = {savg_tot}')"
   ]
  },
  {
   "cell_type": "code",
   "execution_count": 63,
   "id": "ca08a5ea-0d47-4a0a-9b04-83a1d13636ef",
   "metadata": {},
   "outputs": [],
   "source": [
    "ngrid_z = 15\n",
    "ngrid_y = 15\n",
    "s = 0\n",
    "sz = 0\n",
    "kets, coeffs = apply_S2_projector_jax(psi[:, :nocc], s, sz, ngrid_z, ngrid_y)"
   ]
  },
  {
   "cell_type": "markdown",
   "id": "a534ad88-2db2-41ce-9c17-c0e575da4092",
   "metadata": {},
   "source": [
    "# Test `apply_S2_projector_jax`"
   ]
  },
  {
   "cell_type": "markdown",
   "id": "3d463533-06a3-4a2a-a871-4b6d11b23d02",
   "metadata": {},
   "source": [
    "# Test with $|\\uparrow \\downarrow \\rangle = \\frac{1}{\\sqrt{2}}(|s=0, s_z=0 \\rangle + |s=1, s_z=0\\rangle)$\n",
    "\n",
    "**Note that $s_z$ is a good quantum number for this state, but not $s$.**"
   ]
  },
  {
   "cell_type": "code",
   "execution_count": 6,
   "id": "016a121a-1d8f-45e6-a35c-7a3daf6019f5",
   "metadata": {},
   "outputs": [],
   "source": [
    "norb = 3\n",
    "nocc = 2\n",
    "psi = np.array([[1., 0.], \n",
    "                [0., 0.], \n",
    "                [0., 0.], \n",
    "                [0., 0.], \n",
    "                [0., 1.], \n",
    "                [0., 0.]])"
   ]
  },
  {
   "cell_type": "code",
   "execution_count": 7,
   "id": "3f246ac8-d652-41ed-805e-5f9a5c716c74",
   "metadata": {},
   "outputs": [
    {
     "name": "stdout",
     "output_type": "stream",
     "text": [
      "<S> = [0.+0.j 0.+0.j 0.+0.j]\n",
      "<S^2> = (1+0j), S = (0.6180339887498949+0j), 2S+1 = (2.23606797749979+0j)\n",
      "ovlp = (1+0j)\n"
     ]
    }
   ],
   "source": [
    "# Initial spin average and overlap.\n",
    "G, ovlp = get_greens(psi[:, :nocc], psi[:, :nocc])\n",
    "savg = spin_utils.get_spin_average_from_greens_ghf(G) * ovlp\n",
    "s2 = spin_utils.get_spin_square_from_greens_ghf(G) * ovlp\n",
    "s = calc_s(s2)\n",
    "\n",
    "print(f'<S> = {savg}')\n",
    "print(f'<S^2> = {s2}, S = {s}, 2S+1 = {calc_multiplicity(s)}')\n",
    "print(f'ovlp = {ovlp}')"
   ]
  },
  {
   "cell_type": "markdown",
   "id": "b652062c-350e-434f-a368-8846eab912da",
   "metadata": {},
   "source": [
    "## Project to $s = 0$"
   ]
  },
  {
   "cell_type": "code",
   "execution_count": 8,
   "id": "d1f499f1-e83d-4d38-b887-cd7cf3c00c4c",
   "metadata": {},
   "outputs": [
    {
     "name": "stdout",
     "output_type": "stream",
     "text": [
      "CPU times: user 461 ms, sys: 12.5 ms, total: 474 ms\n",
      "Wall time: 466 ms\n"
     ]
    }
   ],
   "source": [
    "%%time\n",
    "\n",
    "ngrid_z = 6\n",
    "ngrid_y = 6\n",
    "s = sz = 0\n",
    "kets, coeffs = apply_S2_projector_jax(psi[:, :nocc], s, sz, ngrid_z, ngrid_y)\n",
    "kets = jnp.array(kets).reshape(-1, *kets.shape[4:])\n",
    "coeffs = jnp.array(coeffs).reshape(-1)"
   ]
  },
  {
   "cell_type": "code",
   "execution_count": 9,
   "id": "65f5a54b-1250-47f5-8fe0-a883a5de5df8",
   "metadata": {},
   "outputs": [],
   "source": [
    "s2_tot, ovlp_tot, s_tot = get_projected_spin_square(kets, coeffs)\n",
    "savg_tot, _ = get_projected_spin_average(kets, coeffs)"
   ]
  },
  {
   "cell_type": "code",
   "execution_count": 10,
   "id": "d0d986ce-b704-4ccc-beb5-d3f463e68ba7",
   "metadata": {},
   "outputs": [
    {
     "name": "stdout",
     "output_type": "stream",
     "text": [
      "<S^2> * ovlp = (0.03153697688498419-8.191988107231445e-20j)\n",
      "ovlp = (0.4999990463268197-1.8055593228630336e-35j)\n",
      "<S^2> = (0.06307407407407402-1.63840074644399e-19j), S = (0.059530226238113104-1.4640860043070794e-19j), 2S+1 = (1.1190604524762262-2.9281720086141587e-19j)\n",
      "\n",
      "<S> = [0.+0.j 0.+0.j 0.-0.j]\n"
     ]
    }
   ],
   "source": [
    "print(f'<S^2> * ovlp = {s2_tot * ovlp_tot}')\n",
    "print(f'ovlp = {ovlp_tot}')\n",
    "print(f'<S^2> = {s2_tot}, S = {s_tot}, 2S+1 = {calc_multiplicity(s_tot)}')\n",
    "print(f'\\n<S> = {savg_tot}')"
   ]
  },
  {
   "cell_type": "code",
   "execution_count": 12,
   "id": "c0c5338e-7140-40fd-b1db-9eb8f06077a4",
   "metadata": {},
   "outputs": [
    {
     "name": "stdout",
     "output_type": "stream",
     "text": [
      "CPU times: user 233 ms, sys: 5 ms, total: 238 ms\n",
      "Wall time: 229 ms\n"
     ]
    }
   ],
   "source": [
    "%%time\n",
    "\n",
    "ngrid_z = 10\n",
    "ngrid_y = 10\n",
    "s = sz = 0\n",
    "kets, coeffs = apply_S2_projector_jax(psi[:, :nocc], s, sz, ngrid_z, ngrid_y)\n",
    "kets = jnp.array(kets).reshape(-1, *kets.shape[4:])\n",
    "coeffs = jnp.array(coeffs).reshape(-1)"
   ]
  },
  {
   "cell_type": "code",
   "execution_count": 13,
   "id": "a3a6def0-307a-4906-ac4b-4a7323e0780c",
   "metadata": {},
   "outputs": [],
   "source": [
    "s2_tot, ovlp_tot, s_tot = get_projected_spin_square(kets, coeffs)\n",
    "savg_tot, _ = get_projected_spin_average(kets, coeffs)"
   ]
  },
  {
   "cell_type": "code",
   "execution_count": 14,
   "id": "882066b7-e170-477b-be63-5a6d2e83d1fe",
   "metadata": {},
   "outputs": [
    {
     "name": "stdout",
     "output_type": "stream",
     "text": [
      "<S^2> * ovlp = (0.01173091470886807-2.062750040755832e-20j)\n",
      "ovlp = (0.4999990463268196+0j)\n",
      "<S^2> = (0.023461874167656452-4.1255079502842395e-20j), S = (0.022935822226452962-3.944564299228408e-20j), 2S+1 = (1.045871644452906-7.889128598456816e-20j)\n",
      "\n",
      "<S> = [0.+0.j 0.+0.j 0.-0.j]\n"
     ]
    }
   ],
   "source": [
    "print(f'<S^2> * ovlp = {s2_tot * ovlp_tot}')\n",
    "print(f'ovlp = {ovlp_tot}')\n",
    "print(f'<S^2> = {s2_tot}, S = {s_tot}, 2S+1 = {calc_multiplicity(s_tot)}')\n",
    "print(f'\\n<S> = {savg_tot}')"
   ]
  },
  {
   "cell_type": "code",
   "execution_count": 15,
   "id": "377512b1-99f4-41f5-80ea-feb81b082b68",
   "metadata": {},
   "outputs": [
    {
     "name": "stdout",
     "output_type": "stream",
     "text": [
      "CPU times: user 455 ms, sys: 17.2 ms, total: 472 ms\n",
      "Wall time: 472 ms\n"
     ]
    }
   ],
   "source": [
    "%%time\n",
    "\n",
    "ngrid_z = 15\n",
    "ngrid_y = 15\n",
    "s = sz = 0\n",
    "kets, coeffs = apply_S2_projector_jax(psi[:, :nocc], s, sz, ngrid_z, ngrid_y)\n",
    "kets = jnp.array(kets).reshape(-1, *kets.shape[4:])\n",
    "coeffs = jnp.array(coeffs).reshape(-1)"
   ]
  },
  {
   "cell_type": "code",
   "execution_count": 16,
   "id": "099f52a1-1a73-47a1-b3b3-96f35e4d8469",
   "metadata": {},
   "outputs": [],
   "source": [
    "s2_tot, ovlp_tot, s_tot = get_projected_spin_square(kets, coeffs)\n",
    "savg_tot, _ = get_projected_spin_average(kets, coeffs)"
   ]
  },
  {
   "cell_type": "code",
   "execution_count": 17,
   "id": "a10a6030-309b-4f39-8023-b081a65f0421",
   "metadata": {},
   "outputs": [
    {
     "name": "stdout",
     "output_type": "stream",
     "text": [
      "<S^2> * ovlp = (3.469446951953614e-18+1.3515619647481362e-20j)\n",
      "ovlp = (0.49999904632681924-4.043700566828669e-36j)\n",
      "<S^2> = (6.938907138806513e-18+2.703129085299698e-20j), S = 2.703129085299698e-20j, 2S+1 = (1+5.406258170599396e-20j)\n",
      "\n",
      "<S> = [0.+0.j 0.+0.j 0.-0.j]\n"
     ]
    }
   ],
   "source": [
    "print(f'<S^2> * ovlp = {s2_tot * ovlp_tot}')\n",
    "print(f'ovlp = {ovlp_tot}')\n",
    "print(f'<S^2> = {s2_tot}, S = {s_tot}, 2S+1 = {calc_multiplicity(s_tot)}')\n",
    "print(f'\\n<S> = {savg_tot}')"
   ]
  },
  {
   "cell_type": "markdown",
   "id": "5b0467eb-1120-4e86-aaca-19f406507d55",
   "metadata": {},
   "source": [
    "# Test with $|+ - \\rangle = \\frac{1}{2}|s=1, s_z=1 \\rangle - \\frac{1}{\\sqrt{2}}|s=0, s_z=0\\rangle + \\frac{1}{2}|s=1, s_z=-1 \\rangle$\n",
    "\n",
    "**Note that neither $s_z$ or $s$ are a good quantum numbers for this state.**"
   ]
  },
  {
   "cell_type": "code",
   "execution_count": 18,
   "id": "99f660de-e677-492c-b915-37a0591da557",
   "metadata": {},
   "outputs": [],
   "source": [
    "norb = 3\n",
    "nocc = 2\n",
    "psi = np.array([[1., 0.], \n",
    "                [0., 1.], \n",
    "                [0., 0.], \n",
    "                [1., 0.], \n",
    "                [0., -1.], \n",
    "                [0., 0.]]) / np.sqrt(2.)"
   ]
  },
  {
   "cell_type": "code",
   "execution_count": 19,
   "id": "cded7473-1d6d-4dd2-902c-4fe1b5af2623",
   "metadata": {},
   "outputs": [
    {
     "name": "stdout",
     "output_type": "stream",
     "text": [
      "<S> = [0.+0.j 0.+0.j 0.+0.j]\n",
      "<S^2> = (0.9999999999999996+0j), S = (0.6180339887498947+0j), 2S+1 = (2.2360679774997894+0j)\n",
      "ovlp = (0.9999999999999996+0j)\n"
     ]
    }
   ],
   "source": [
    "# Initial spin average and overlap.\n",
    "G, ovlp = get_greens(psi[:, :nocc], psi[:, :nocc])\n",
    "savg = spin_utils.get_spin_average_from_greens_ghf(G) * ovlp\n",
    "s2 = spin_utils.get_spin_square_from_greens_ghf(G) * ovlp\n",
    "s = calc_s(s2)\n",
    "\n",
    "print(f'<S> = {savg}')\n",
    "print(f'<S^2> = {s2}, S = {s}, 2S+1 = {calc_multiplicity(s)}')\n",
    "print(f'ovlp = {ovlp}')"
   ]
  },
  {
   "cell_type": "markdown",
   "id": "56eaf07e-45a3-406a-8db4-81ca0b01c846",
   "metadata": {},
   "source": [
    "## Project to $s = 0, s_z = 0$"
   ]
  },
  {
   "cell_type": "markdown",
   "id": "d0761428-bd17-4923-96c4-88bcb736d95b",
   "metadata": {},
   "source": [
    "### `numpy`"
   ]
  },
  {
   "cell_type": "code",
   "execution_count": 20,
   "id": "c0eb49d6-ac76-45c8-8f92-6f84825873d7",
   "metadata": {},
   "outputs": [
    {
     "name": "stdout",
     "output_type": "stream",
     "text": [
      "CPU times: user 239 ms, sys: 22 ms, total: 261 ms\n",
      "Wall time: 246 ms\n"
     ]
    }
   ],
   "source": [
    "%%time\n",
    "\n",
    "ngrid_z = 15\n",
    "ngrid_y = 15\n",
    "s = 0\n",
    "sz = 0\n",
    "kets, coeffs = apply_S2_projector(psi[:, :nocc], s, sz, ngrid_z, ngrid_y)\n",
    "kets = jnp.array(kets).reshape(-1, *kets.shape[4:])\n",
    "coeffs = jnp.array(coeffs).reshape(-1)"
   ]
  },
  {
   "cell_type": "markdown",
   "id": "2eafbee7-de8d-4190-8cff-32389f6e2d29",
   "metadata": {},
   "source": [
    "### `jax`"
   ]
  },
  {
   "cell_type": "code",
   "execution_count": 21,
   "id": "21b6cba2-663b-41a6-bf20-299fe1839003",
   "metadata": {},
   "outputs": [
    {
     "name": "stdout",
     "output_type": "stream",
     "text": [
      "CPU times: user 251 ms, sys: 16.7 ms, total: 267 ms\n",
      "Wall time: 254 ms\n"
     ]
    }
   ],
   "source": [
    "%%time\n",
    "\n",
    "ngrid_z = 15\n",
    "ngrid_y = 15\n",
    "s = 0\n",
    "sz = 0\n",
    "kets_jax, coeffs_jax = apply_S2_projector_jax(psi[:, :nocc], s, sz, ngrid_z, ngrid_y)\n",
    "kets_jax = jnp.array(kets_jax).reshape(-1, *kets_jax.shape[4:])\n",
    "coeffs_jax = jnp.array(coeffs_jax).reshape(-1)"
   ]
  },
  {
   "cell_type": "code",
   "execution_count": 22,
   "id": "c96033d5-7470-4c1d-9fc0-18e7b0f188eb",
   "metadata": {},
   "outputs": [
    {
     "ename": "AssertionError",
     "evalue": "\nNot equal to tolerance rtol=1e-07, atol=1e-15\n\nMismatched elements: 3375 / 3375 (100%)\nMax absolute difference: 0.\nMax relative difference: 0.\n x: array([0.000068+0.j, 0.000068+0.j, 0.000068+0.j, ..., 0.000068+0.j,\n       0.000068+0.j, 0.000068+0.j])\n y: array([0.000068+0.j, 0.000068+0.j, 0.000068+0.j, ..., 0.000068+0.j,\n       0.000068+0.j, 0.000068+0.j])",
     "output_type": "error",
     "traceback": [
      "\u001b[0;31m---------------------------------------------------------------------------\u001b[0m",
      "\u001b[0;31mAssertionError\u001b[0m                            Traceback (most recent call last)",
      "Cell \u001b[0;32mIn[22], line 2\u001b[0m\n\u001b[1;32m      1\u001b[0m np\u001b[38;5;241m.\u001b[39mtesting\u001b[38;5;241m.\u001b[39massert_allclose(kets_jax, kets, atol\u001b[38;5;241m=\u001b[39m\u001b[38;5;241m1e-15\u001b[39m) \n\u001b[0;32m----> 2\u001b[0m \u001b[43mnp\u001b[49m\u001b[38;5;241;43m.\u001b[39;49m\u001b[43mtesting\u001b[49m\u001b[38;5;241;43m.\u001b[39;49m\u001b[43massert_allclose\u001b[49m\u001b[43m(\u001b[49m\u001b[43mcoeffs_jax\u001b[49m\u001b[43m,\u001b[49m\u001b[43m \u001b[49m\u001b[43mcoeffs\u001b[49m\u001b[43m,\u001b[49m\u001b[43m \u001b[49m\u001b[43matol\u001b[49m\u001b[38;5;241;43m=\u001b[39;49m\u001b[38;5;241;43m1e-15\u001b[39;49m\u001b[43m)\u001b[49m\n",
      "    \u001b[0;31m[... skipping hidden 1 frame]\u001b[0m\n",
      "File \u001b[0;32m/burg/ccce/users/su2254/envs/ad_afqmc/lib/python3.9/contextlib.py:79\u001b[0m, in \u001b[0;36mContextDecorator.__call__.<locals>.inner\u001b[0;34m(*args, **kwds)\u001b[0m\n\u001b[1;32m     76\u001b[0m \u001b[38;5;129m@wraps\u001b[39m(func)\n\u001b[1;32m     77\u001b[0m \u001b[38;5;28;01mdef\u001b[39;00m \u001b[38;5;21minner\u001b[39m(\u001b[38;5;241m*\u001b[39margs, \u001b[38;5;241m*\u001b[39m\u001b[38;5;241m*\u001b[39mkwds):\n\u001b[1;32m     78\u001b[0m     \u001b[38;5;28;01mwith\u001b[39;00m \u001b[38;5;28mself\u001b[39m\u001b[38;5;241m.\u001b[39m_recreate_cm():\n\u001b[0;32m---> 79\u001b[0m         \u001b[38;5;28;01mreturn\u001b[39;00m \u001b[43mfunc\u001b[49m\u001b[43m(\u001b[49m\u001b[38;5;241;43m*\u001b[39;49m\u001b[43margs\u001b[49m\u001b[43m,\u001b[49m\u001b[43m \u001b[49m\u001b[38;5;241;43m*\u001b[39;49m\u001b[38;5;241;43m*\u001b[39;49m\u001b[43mkwds\u001b[49m\u001b[43m)\u001b[49m\n",
      "File \u001b[0;32m/burg/ccce/users/su2254/envs/ad_afqmc/lib/python3.9/site-packages/numpy/testing/_private/utils.py:862\u001b[0m, in \u001b[0;36massert_array_compare\u001b[0;34m(comparison, x, y, err_msg, verbose, header, precision, equal_nan, equal_inf, strict)\u001b[0m\n\u001b[1;32m    858\u001b[0m         err_msg \u001b[38;5;241m+\u001b[39m\u001b[38;5;241m=\u001b[39m \u001b[38;5;124m'\u001b[39m\u001b[38;5;130;01m\\n\u001b[39;00m\u001b[38;5;124m'\u001b[39m \u001b[38;5;241m+\u001b[39m \u001b[38;5;124m'\u001b[39m\u001b[38;5;130;01m\\n\u001b[39;00m\u001b[38;5;124m'\u001b[39m\u001b[38;5;241m.\u001b[39mjoin(remarks)\n\u001b[1;32m    859\u001b[0m         msg \u001b[38;5;241m=\u001b[39m build_err_msg([ox, oy], err_msg,\n\u001b[1;32m    860\u001b[0m                             verbose\u001b[38;5;241m=\u001b[39mverbose, header\u001b[38;5;241m=\u001b[39mheader,\n\u001b[1;32m    861\u001b[0m                             names\u001b[38;5;241m=\u001b[39m(\u001b[38;5;124m'\u001b[39m\u001b[38;5;124mx\u001b[39m\u001b[38;5;124m'\u001b[39m, \u001b[38;5;124m'\u001b[39m\u001b[38;5;124my\u001b[39m\u001b[38;5;124m'\u001b[39m), precision\u001b[38;5;241m=\u001b[39mprecision)\n\u001b[0;32m--> 862\u001b[0m         \u001b[38;5;28;01mraise\u001b[39;00m \u001b[38;5;167;01mAssertionError\u001b[39;00m(msg)\n\u001b[1;32m    863\u001b[0m \u001b[38;5;28;01mexcept\u001b[39;00m \u001b[38;5;167;01mValueError\u001b[39;00m:\n\u001b[1;32m    864\u001b[0m     \u001b[38;5;28;01mimport\u001b[39;00m \u001b[38;5;21;01mtraceback\u001b[39;00m\n",
      "\u001b[0;31mAssertionError\u001b[0m: \nNot equal to tolerance rtol=1e-07, atol=1e-15\n\nMismatched elements: 3375 / 3375 (100%)\nMax absolute difference: 0.\nMax relative difference: 0.\n x: array([0.000068+0.j, 0.000068+0.j, 0.000068+0.j, ..., 0.000068+0.j,\n       0.000068+0.j, 0.000068+0.j])\n y: array([0.000068+0.j, 0.000068+0.j, 0.000068+0.j, ..., 0.000068+0.j,\n       0.000068+0.j, 0.000068+0.j])"
     ]
    }
   ],
   "source": [
    "np.testing.assert_allclose(kets_jax, kets, atol=1e-15) \n",
    "np.testing.assert_allclose(coeffs_jax, coeffs, atol=1e-15)"
   ]
  },
  {
   "cell_type": "code",
   "execution_count": 23,
   "id": "dc6bfdde-27f1-4c4e-887b-b204f2d0b0fa",
   "metadata": {},
   "outputs": [],
   "source": [
    "s2_tot, ovlp_tot, s_tot = get_projected_spin_square(kets_jax, coeffs_jax)\n",
    "savg_tot, _ = get_projected_spin_average(kets_jax, coeffs_jax)"
   ]
  },
  {
   "cell_type": "code",
   "execution_count": 24,
   "id": "37dba9d4-f8cf-49ae-88cb-46fb4e88bf4c",
   "metadata": {},
   "outputs": [
    {
     "name": "stdout",
     "output_type": "stream",
     "text": [
      "<S^2> * ovlp = (-8.606119441899708e-18+1.3620304163690817e-21j)\n",
      "ovlp = (0.4999990463268191+1.128474576789396e-36j)\n",
      "<S^2> = (-1.721227171356325e-17+2.7240660284755922e-21j), S = (-5.551115123125783e-17+2.7240660284755922e-21j), 2S+1 = (0.9999999999999999+5.4481320569511844e-21j)\n",
      "\n",
      "<S> = [0.+0.j 0.+0.j 0.-0.j]\n"
     ]
    }
   ],
   "source": [
    "print(f'<S^2> * ovlp = {s2_tot * ovlp_tot}')\n",
    "print(f'ovlp = {ovlp_tot}')\n",
    "print(f'<S^2> = {s2_tot}, S = {s_tot}, 2S+1 = {calc_multiplicity(s_tot)}')\n",
    "print(f'\\n<S> = {savg_tot}')"
   ]
  },
  {
   "cell_type": "markdown",
   "id": "ada99afb",
   "metadata": {},
   "source": [
    "# Test `get_real_wavefunction`"
   ]
  },
  {
   "cell_type": "code",
   "execution_count": 32,
   "id": "5f56109a",
   "metadata": {},
   "outputs": [],
   "source": [
    "ngrid = 5\n",
    "norb = 3\n",
    "nocc = 3\n",
    "kets = np.random.random((ngrid, 2*norb, nocc)) + 1.j * np.random.random((ngrid, 2*norb, nocc))\n",
    "coeffs = np.random.random(ngrid) + 1.j * np.random.random(ngrid)\n",
    "\n",
    "for ig in range(ngrid):\n",
    "    for icol in range(nocc):\n",
    "        kets[ig, :, icol] /= sp.linalg.norm(kets[ig, :, icol])"
   ]
  },
  {
   "cell_type": "code",
   "execution_count": 33,
   "id": "e12b56a3",
   "metadata": {},
   "outputs": [
    {
     "name": "stdout",
     "output_type": "stream",
     "text": [
      "\n",
      "sum_kets = \n",
      "[[-0.11522+1.1677j   0.47885+1.10725j -0.05314+1.36802j]\n",
      " [ 0.05264+1.26083j  0.22826+0.98494j  0.30906+1.4398j ]\n",
      " [ 0.04951+1.2718j  -0.15291+1.55389j -0.14791+1.10968j]\n",
      " [-0.1311 +1.26815j -0.04548+1.08604j  0.41152+1.2339j ]\n",
      " [ 0.16708+1.28471j -0.26885+1.432j   -0.3988 +1.29482j]\n",
      " [ 0.07421+1.12675j  0.54184+1.09631j  0.1007 +0.87478j]]\n",
      "\n",
      "sum_real_kets = \n",
      "[[-0.16294-0.j  0.6772 +0.j -0.07515+0.j]\n",
      " [ 0.07445+0.j  0.32281+0.j  0.43707-0.j]\n",
      " [ 0.07002-0.j -0.21625-0.j -0.20918+0.j]\n",
      " [-0.18541+0.j -0.06432-0.j  0.58198-0.j]\n",
      " [ 0.23628+0.j -0.38021+0.j -0.56399-0.j]\n",
      " [ 0.10495+0.j  0.76627-0.j  0.14241-0.j]]\n"
     ]
    }
   ],
   "source": [
    "real_kets, real_coeffs = get_real_wavefunction(kets, coeffs)\n",
    "sum_kets = np.sum(kets * coeffs[:, None, None], axis=0)\n",
    "sum_real_kets = np.sum(real_kets * real_coeffs[:, None, None], axis=0)\n",
    "\n",
    "print(f'\\nsum_kets = \\n{sum_kets}')\n",
    "print(f'\\nsum_real_kets = \\n{sum_real_kets}')\n",
    "\n",
    "np.testing.assert_allclose(np.amax(np.absolute(sum_real_kets.imag)), 0., atol=1e-15)"
   ]
  },
  {
   "cell_type": "markdown",
   "id": "73fc3b2c",
   "metadata": {},
   "source": [
    "# Test `get_energy`"
   ]
  },
  {
   "cell_type": "code",
   "execution_count": 35,
   "id": "7488ccdc",
   "metadata": {},
   "outputs": [
    {
     "name": "stdout",
     "output_type": "stream",
     "text": [
      "\n",
      "# Filling factor = 0.5\n"
     ]
    }
   ],
   "source": [
    "U = 4\n",
    "nx = 2\n",
    "ny = 2\n",
    "nup = 2\n",
    "ndown = 2\n",
    "open_x = False\n",
    "verbose = 3\n",
    "\n",
    "# -----------------------------------------------------------------------------\n",
    "# Settings.\n",
    "lattice = lattices.triangular_grid(nx, ny, open_x=open_x)\n",
    "n_sites = lattice.n_sites\n",
    "n_elec = (nup, ndown)\n",
    "nocc = sum(n_elec)\n",
    "filling = nocc / (2*n_sites)\n",
    "if verbose: print(f'\\n# Filling factor = {filling}')"
   ]
  },
  {
   "cell_type": "code",
   "execution_count": 36,
   "id": "a8c17698",
   "metadata": {},
   "outputs": [],
   "source": [
    "integrals = {}\n",
    "integrals[\"h0\"] = 0.0\n",
    "\n",
    "h1 = -1.0 * lattice.create_adjacency_matrix()\n",
    "integrals[\"h1\"] = h1\n",
    "\n",
    "h2 = np.zeros((n_sites, n_sites, n_sites, n_sites))\n",
    "for i in range(n_sites):\n",
    "    h2[i, i, i, i] = U\n",
    "integrals[\"h2\"] = ao2mo.restore(8, h2, n_sites)"
   ]
  },
  {
   "cell_type": "code",
   "execution_count": 37,
   "id": "390b49d9",
   "metadata": {},
   "outputs": [
    {
     "name": "stdout",
     "output_type": "stream",
     "text": [
      "max_absdiff = 5.000000413701855e-11\n"
     ]
    }
   ],
   "source": [
    "# Get Choleskies.\n",
    "chol_cut = 1e-10\n",
    "eri = ao2mo.restore(4, integrals[\"h2\"], n_sites)\n",
    "chol0 = pyscf_interface.modified_cholesky(eri, max_error=chol_cut)\n",
    "nchol = chol0.shape[0]\n",
    "chol = np.zeros((nchol, n_sites, n_sites))\n",
    "\n",
    "for i in range(nchol):\n",
    "    for m in range(n_sites):\n",
    "        for n in range(m + 1):\n",
    "            triind = m * (m + 1) // 2 + n\n",
    "            chol[i, m, n] = chol0[i, triind]\n",
    "            chol[i, n, m] = chol0[i, triind]\n",
    "\n",
    "chol = chol.reshape(nchol, n_sites**2)\n",
    "_eri = (chol.T @ chol).reshape((n_sites,) * 4)\n",
    "max_absdiff = np.amax(np.absolute(h2 - _eri))\n",
    "print(f'max_absdiff = {max_absdiff}')"
   ]
  },
  {
   "cell_type": "code",
   "execution_count": 38,
   "id": "0bb94540",
   "metadata": {},
   "outputs": [
    {
     "name": "stdout",
     "output_type": "stream",
     "text": [
      "converged SCF energy = -1.58788806326219  <S^2> = 2.3595938  2S+1 = 3.2308474\n",
      "<class 'pyscf.scf.ghf.GHF'> wavefunction has an internal instability\n",
      "converged SCF energy = -1.76329782852721  <S^2> = 1.5301269  2S+1 = 2.6684279\n",
      "<class 'pyscf.soscf.newton_ah.SecondOrderGHF'> wavefunction is stable in the internal stability analysis\n",
      "converged SCF energy = -1.76329782855061  <S^2> = 1.530127  2S+1 = 2.668428\n",
      "<class 'pyscf.soscf.newton_ah.SecondOrderGHF'> wavefunction is stable in the internal stability analysis\n",
      "converged SCF energy = -1.76329782855372  <S^2> = 1.530127  2S+1 = 2.668428\n",
      "<class 'pyscf.soscf.newton_ah.SecondOrderGHF'> wavefunction is stable in the internal stability analysis\n",
      "\n",
      "# ----------------------\n",
      "# Spin collinearity test\n",
      "# ----------------------\n",
      "# epsilon0 = 5.600759033189529e-07\n",
      "# non integer value indicates non-collinearity\n",
      "\n",
      "# minimum mu = 0.2882556229567591\n",
      "# Value is 0 iff wavefunction is collinear\n",
      "\n",
      "# If mu = 0, the collinear spin axis is: \n",
      "[-0.31794-0.j -0.     +0.j -0.94811+0.j]\n"
     ]
    }
   ],
   "source": [
    "# make dummy molecule\n",
    "mol = gto.Mole()\n",
    "mol.nelectron = nocc\n",
    "mol.incore_anyway = True\n",
    "mol.spin = abs(n_elec[0] - n_elec[1])\n",
    "mol.verbose = 3\n",
    "mol.build()\n",
    "\n",
    "# GHF.\n",
    "gmf = scf.GHF(mol)\n",
    "gmf.get_hcore = lambda *args: sp.linalg.block_diag(integrals[\"h1\"], integrals[\"h1\"])\n",
    "gmf.get_ovlp = lambda *args: np.eye(2 * n_sites)\n",
    "gmf._eri = ao2mo.restore(8, integrals[\"h2\"], n_sites)\n",
    "\n",
    "seed = 262\n",
    "np.random.seed(seed)\n",
    "dm_init = np.random.random((2*n_sites, 2*n_sites))\n",
    "dm_init += dm_init.T.conj()\n",
    "\n",
    "gmf.kernel(dm_init)\n",
    "mo1 = gmf.stability(external=True)\n",
    "gmf = gmf.newton().run(mo1, gmf.mo_occ)\n",
    "mo1 = gmf.stability(external=True)\n",
    "gmf = gmf.newton().run(mo1, gmf.mo_occ)\n",
    "mo1 = gmf.stability(external=True)\n",
    "gmf = gmf.newton().run(mo1, gmf.mo_occ)\n",
    "mo1 = gmf.stability(external=True)\n",
    "\n",
    "ghf_coeff = gmf.mo_coeff\n",
    "ghf_rdm1 = gmf.make_rdm1()\n",
    "ao_ovlp = np.eye(n_sites)\n",
    "epsilon0, mu, spin_axis = spin_utils.spin_collinearity_test(ghf_coeff[:, :nocc], ao_ovlp, verbose=verbose)"
   ]
  },
  {
   "cell_type": "code",
   "execution_count": 39,
   "id": "bb281cac",
   "metadata": {},
   "outputs": [],
   "source": [
    "psi = ghf_coeff[:, :nocc]\n",
    "psiTconj = psi.T.conj()\n",
    "rotchol = np.zeros((2, nchol, nocc, n_sites), dtype=np.complex128)\n",
    "\n",
    "for i in range(nchol):\n",
    "    rotchol[0, i] = psiTconj[:, :n_sites] @ chol[i].reshape((n_sites, n_sites))\n",
    "    rotchol[1, i] = psiTconj[:, n_sites:] @ chol[i].reshape((n_sites, n_sites))\n",
    "\n",
    "energy = get_energy(psi, psi, [h1, h1], rotchol, 0.)\n",
    "energy = get_energy_jax(psi, psi, [h1, h1], rotchol, 0.)\n",
    "np.testing.assert_allclose(energy, gmf.e_tot)"
   ]
  },
  {
   "cell_type": "code",
   "execution_count": 40,
   "id": "5b446427",
   "metadata": {},
   "outputs": [],
   "source": [
    "def get_energy_with_eri(bra, ket, h1, eri, enuc):\n",
    "    norb = h1.shape[0]\n",
    "    nocc = bra.shape[1]\n",
    "    G, ovlp = get_greens(bra, ket)\n",
    "    Gaa = G[:norb, :norb]\n",
    "    Gab = G[:norb, norb:]\n",
    "    Gba = G[norb:, :norb]\n",
    "    Gbb = G[norb:, norb:]\n",
    "    Gcharge = Gaa + Gbb\n",
    "    energy = enuc\n",
    "    energy += np.trace(h1 @ Gcharge)\n",
    "    energy += 0.5 * np.einsum('ijkl,lk,ji->', eri, Gcharge, Gcharge) # Ej\n",
    "    energy -= 0.5 * np.einsum('ijkl,jk,li->', eri, Gaa, Gaa) # Ek\n",
    "    energy -= 0.5 * np.einsum('ijkl,jk,li->', eri, Gbb, Gbb)\n",
    "    energy -= 0.5 * np.einsum('ijkl,jk,li->', eri, Gab, Gba)\n",
    "    energy -= 0.5 * np.einsum('ijkl,jk,li->', eri, Gba, Gab)\n",
    "    return energy"
   ]
  },
  {
   "cell_type": "code",
   "execution_count": 41,
   "id": "fb984b95",
   "metadata": {},
   "outputs": [
    {
     "data": {
      "text/plain": [
       "(10, 8, 4)"
      ]
     },
     "execution_count": 41,
     "metadata": {},
     "output_type": "execute_result"
    }
   ],
   "source": [
    "m = 0.5 * (nup - ndown)\n",
    "kets, coeffs = apply_Sz_projector_jax(psi, m, 10)\n",
    "kets = np.array(kets)\n",
    "coeffs = np.array(coeffs)\n",
    "kets.shape"
   ]
  },
  {
   "cell_type": "code",
   "execution_count": 47,
   "id": "9458f4f1",
   "metadata": {},
   "outputs": [],
   "source": [
    "for bra in kets:\n",
    "    for ket in kets:\n",
    "        energy_test = get_energy(bra, ket, [h1, h1], rotchol, 0.)\n",
    "        energy_ref = get_energy_with_eri(bra, ket, h1, h2, 0.)\n",
    "        np.testing.assert_allclose(energy_test, energy_ref, atol=1e-15)"
   ]
  },
  {
   "cell_type": "markdown",
   "id": "5f4cb623",
   "metadata": {},
   "source": [
    "# Test `get_projected_energy`"
   ]
  },
  {
   "cell_type": "markdown",
   "id": "31e6bd6c",
   "metadata": {},
   "source": [
    "## Test 1: UHF state with $s_z = 0$"
   ]
  },
  {
   "cell_type": "code",
   "execution_count": 48,
   "id": "be5f3c02",
   "metadata": {},
   "outputs": [
    {
     "name": "stdout",
     "output_type": "stream",
     "text": [
      "\n",
      "# Filling factor = 0.5\n"
     ]
    }
   ],
   "source": [
    "U = 4\n",
    "nx = 2\n",
    "ny = 2\n",
    "nup = 2\n",
    "ndown = 2\n",
    "open_x = False\n",
    "verbose = 3\n",
    "\n",
    "# -----------------------------------------------------------------------------\n",
    "# Settings.\n",
    "lattice = lattices.triangular_grid(nx, ny, open_x=open_x)\n",
    "n_sites = lattice.n_sites\n",
    "n_elec = (nup, ndown)\n",
    "nocc = sum(n_elec)\n",
    "filling = nocc / (2*n_sites)\n",
    "if verbose: print(f'\\n# Filling factor = {filling}')"
   ]
  },
  {
   "cell_type": "code",
   "execution_count": 49,
   "id": "e08df6bf",
   "metadata": {},
   "outputs": [],
   "source": [
    "integrals = {}\n",
    "integrals[\"h0\"] = 0.0\n",
    "\n",
    "h1 = -1.0 * lattice.create_adjacency_matrix()\n",
    "integrals[\"h1\"] = h1\n",
    "\n",
    "h2 = np.zeros((n_sites, n_sites, n_sites, n_sites))\n",
    "for i in range(n_sites):\n",
    "    h2[i, i, i, i] = U\n",
    "integrals[\"h2\"] = ao2mo.restore(8, h2, n_sites)"
   ]
  },
  {
   "cell_type": "code",
   "execution_count": 50,
   "id": "cb2584b4",
   "metadata": {},
   "outputs": [
    {
     "name": "stdout",
     "output_type": "stream",
     "text": [
      "max_absdiff = 5.000000413701855e-11\n"
     ]
    }
   ],
   "source": [
    "# Get Choleskies.\n",
    "chol_cut = 1e-10\n",
    "eri = ao2mo.restore(4, integrals[\"h2\"], n_sites)\n",
    "chol0 = pyscf_interface.modified_cholesky(eri, max_error=chol_cut)\n",
    "nchol = chol0.shape[0]\n",
    "chol = np.zeros((nchol, n_sites, n_sites))\n",
    "\n",
    "for i in range(nchol):\n",
    "    for m in range(n_sites):\n",
    "        for n in range(m + 1):\n",
    "            triind = m * (m + 1) // 2 + n\n",
    "            chol[i, m, n] = chol0[i, triind]\n",
    "            chol[i, n, m] = chol0[i, triind]\n",
    "\n",
    "chol = chol.reshape(nchol, n_sites**2)\n",
    "_eri = (chol.T @ chol).reshape((n_sites,) * 4)\n",
    "max_absdiff = np.amax(np.absolute(h2 - _eri))\n",
    "print(f'max_absdiff = {max_absdiff}')"
   ]
  },
  {
   "cell_type": "code",
   "execution_count": 51,
   "id": "33eadd36",
   "metadata": {},
   "outputs": [
    {
     "name": "stdout",
     "output_type": "stream",
     "text": [
      "converged SCF energy = -1.76329782855449  <S^2> = 1.399794  2S+1 = 2.5688861\n",
      "<class 'pyscf.scf.uhf.UHF'> wavefunction is stable in the internal stability analysis\n",
      "<class 'pyscf.scf.uhf.UHF'> wavefunction is stable in the real -> complex stability analysis\n",
      "<class 'pyscf.scf.uhf.UHF'> wavefunction is stable in the UHF/UKS -> GHF/GKS stability analysis\n",
      "converged SCF energy = -1.76329782855458  <S^2> = 1.3997941  2S+1 = 2.5688862\n",
      "<class 'pyscf.soscf.newton_ah.SecondOrderUHF'> wavefunction is stable in the internal stability analysis\n",
      "\n",
      "WARN: Not enough eigenvectors (len(x0)=1, nroots=3)\n",
      "\n",
      "<class 'pyscf.soscf.newton_ah.SecondOrderUHF'> wavefunction is stable in the real -> complex stability analysis\n",
      "<class 'pyscf.soscf.newton_ah.SecondOrderUHF'> wavefunction is stable in the UHF/UKS -> GHF/GKS stability analysis\n",
      "converged SCF energy = -1.76329782855459  <S^2> = 1.3997941  2S+1 = 2.5688862\n",
      "<class 'pyscf.soscf.newton_ah.SecondOrderUHF'> wavefunction is stable in the internal stability analysis\n",
      "\n",
      "WARN: Not enough eigenvectors (len(x0)=1, nroots=3)\n",
      "\n",
      "<class 'pyscf.soscf.newton_ah.SecondOrderUHF'> wavefunction is stable in the real -> complex stability analysis\n",
      "<class 'pyscf.soscf.newton_ah.SecondOrderUHF'> wavefunction is stable in the UHF/UKS -> GHF/GKS stability analysis\n",
      "converged SCF energy = -1.76329782855459  <S^2> = 1.3997941  2S+1 = 2.5688862\n",
      "<class 'pyscf.soscf.newton_ah.SecondOrderUHF'> wavefunction is stable in the internal stability analysis\n",
      "\n",
      "WARN: Not enough eigenvectors (len(x0)=1, nroots=3)\n",
      "\n",
      "<class 'pyscf.soscf.newton_ah.SecondOrderUHF'> wavefunction is stable in the real -> complex stability analysis\n",
      "<class 'pyscf.soscf.newton_ah.SecondOrderUHF'> wavefunction is stable in the UHF/UKS -> GHF/GKS stability analysis\n",
      "\n",
      "# ----------------------\n",
      "# Spin collinearity test\n",
      "# ----------------------\n",
      "# epsilon0 = 5.551115123125783e-17\n",
      "# non integer value indicates non-collinearity\n",
      "\n",
      "# minimum mu = 0.0\n",
      "# Value is 0 iff wavefunction is collinear\n",
      "\n",
      "# If mu = 0, the collinear spin axis is: \n",
      "[0.+0.j 0.+0.j 1.+0.j]\n"
     ]
    }
   ],
   "source": [
    "# make dummy molecule\n",
    "mol = gto.Mole()\n",
    "mol.nelectron = nocc\n",
    "mol.incore_anyway = True\n",
    "mol.spin = abs(n_elec[0] - n_elec[1])\n",
    "mol.verbose = 3\n",
    "mol.build()\n",
    "\n",
    "# UHF.\n",
    "umf = scf.UHF(mol)\n",
    "umf.get_hcore = lambda *args: integrals[\"h1\"]\n",
    "umf.get_ovlp = lambda *args: np.eye(n_sites)\n",
    "umf._eri = ao2mo.restore(8, integrals[\"h2\"], n_sites)\n",
    "\n",
    "seed = 262\n",
    "np.random.seed(seed)\n",
    "dm_init = np.random.random((2, n_sites, n_sites))\n",
    "dm_init += dm_init.transpose(0, 2, 1).conj()\n",
    "\n",
    "umf.kernel(dm_init)\n",
    "mo1 = umf.stability(external=True)\n",
    "umf = umf.newton().run(mo1[0], umf.mo_occ)\n",
    "mo1 = umf.stability(external=True)\n",
    "umf = umf.newton().run(mo1[0], umf.mo_occ)\n",
    "mo1 = umf.stability(external=True)\n",
    "umf = umf.newton().run(mo1[0], umf.mo_occ)\n",
    "mo1 = umf.stability(external=True)\n",
    "\n",
    "uhf_coeff = umf.mo_coeff\n",
    "uhf_rdm1 = umf.make_rdm1()\n",
    "\n",
    "psi = np.zeros((2*n_sites, nocc))\n",
    "psi[:n_sites, :nup] = uhf_coeff[0, :, umf.mo_occ[0] > 0].T\n",
    "psi[n_sites:, nup:] = uhf_coeff[1, :, umf.mo_occ[1] > 0].T\n",
    "\n",
    "ao_ovlp = np.eye(n_sites)\n",
    "epsilon0, mu, spin_axis = spin_utils.spin_collinearity_test(psi, ao_ovlp, verbose=verbose)"
   ]
  },
  {
   "cell_type": "code",
   "execution_count": 52,
   "id": "44847398",
   "metadata": {},
   "outputs": [],
   "source": [
    "m = 0.5 * (nup - ndown)\n",
    "kets, coeffs = apply_Sz_projector_jax(psi, m, 10)\n",
    "kets = np.array(kets)\n",
    "coeffs = np.array(coeffs)"
   ]
  },
  {
   "cell_type": "code",
   "execution_count": 53,
   "id": "6691e9d0",
   "metadata": {},
   "outputs": [],
   "source": [
    "# Projected spin average and overlap.\n",
    "savg_tot = np.zeros(3, dtype=np.complex128)\n",
    "ovlp_tot = 0.\n",
    "\n",
    "for ibra, bra in enumerate(kets):\n",
    "    for iket, ket in enumerate(kets):\n",
    "        G, ovlp = get_greens(bra, ket)\n",
    "        savg = spin_utils.get_spin_average_from_greens_ghf(G) * ovlp\n",
    "        savg_tot += savg * coeffs[ibra].conj() * coeffs[iket]\n",
    "        ovlp_tot += ovlp * coeffs[ibra].conj() * coeffs[iket]"
   ]
  },
  {
   "cell_type": "code",
   "execution_count": 54,
   "id": "ea979ab6",
   "metadata": {},
   "outputs": [
    {
     "name": "stdout",
     "output_type": "stream",
     "text": [
      "<S> * ovlp = [0.+0.j 0.+0.j 0.-0.j]\n",
      "ovlp = (1.0000000000000007+3.851859888774472e-34j)\n",
      "\n",
      "<S> = [0.+0.j 0.+0.j 0.-0.j]\n"
     ]
    }
   ],
   "source": [
    "print(f'<S> * ovlp = {savg_tot}')\n",
    "print(f'ovlp = {ovlp_tot}')\n",
    "print(f'\\n<S> = {savg_tot / ovlp_tot}')"
   ]
  },
  {
   "cell_type": "code",
   "execution_count": 55,
   "id": "6e6c3909",
   "metadata": {},
   "outputs": [],
   "source": [
    "e_proj = get_projected_energy(psi, m, [h1, h1], chol, 0., 10)\n",
    "e_proj = get_projected_energy_jax(psi, m, [h1, h1], chol, 0., 10)\n",
    "np.testing.assert_allclose(e_proj, umf.e_tot)"
   ]
  },
  {
   "cell_type": "markdown",
   "id": "4c002c7e",
   "metadata": {},
   "source": [
    "## Test 1: UHF state with $s_z = 1.5$"
   ]
  },
  {
   "cell_type": "code",
   "execution_count": 56,
   "id": "a62a98a8",
   "metadata": {},
   "outputs": [
    {
     "name": "stdout",
     "output_type": "stream",
     "text": [
      "\n",
      "# Filling factor = 0.625\n"
     ]
    }
   ],
   "source": [
    "U = 4\n",
    "nx = 2\n",
    "ny = 2\n",
    "nup = 4\n",
    "ndown = 1\n",
    "open_x = False\n",
    "verbose = 3\n",
    "\n",
    "# -----------------------------------------------------------------------------\n",
    "# Settings.\n",
    "lattice = lattices.triangular_grid(nx, ny, open_x=open_x)\n",
    "n_sites = lattice.n_sites\n",
    "n_elec = (nup, ndown)\n",
    "nocc = sum(n_elec)\n",
    "filling = nocc / (2*n_sites)\n",
    "if verbose: print(f'\\n# Filling factor = {filling}')"
   ]
  },
  {
   "cell_type": "code",
   "execution_count": 57,
   "id": "6767c2ba",
   "metadata": {},
   "outputs": [],
   "source": [
    "integrals = {}\n",
    "integrals[\"h0\"] = 0.0\n",
    "\n",
    "h1 = -1.0 * lattice.create_adjacency_matrix()\n",
    "integrals[\"h1\"] = h1\n",
    "\n",
    "h2 = np.zeros((n_sites, n_sites, n_sites, n_sites))\n",
    "for i in range(n_sites):\n",
    "    h2[i, i, i, i] = U\n",
    "integrals[\"h2\"] = ao2mo.restore(8, h2, n_sites)"
   ]
  },
  {
   "cell_type": "code",
   "execution_count": 58,
   "id": "e900c9d2",
   "metadata": {},
   "outputs": [
    {
     "name": "stdout",
     "output_type": "stream",
     "text": [
      "max_absdiff = 5.000000413701855e-11\n"
     ]
    }
   ],
   "source": [
    "# Get Choleskies.\n",
    "chol_cut = 1e-10\n",
    "eri = ao2mo.restore(4, integrals[\"h2\"], n_sites)\n",
    "chol0 = pyscf_interface.modified_cholesky(eri, max_error=chol_cut)\n",
    "nchol = chol0.shape[0]\n",
    "chol = np.zeros((nchol, n_sites, n_sites))\n",
    "\n",
    "for i in range(nchol):\n",
    "    for m in range(n_sites):\n",
    "        for n in range(m + 1):\n",
    "            triind = m * (m + 1) // 2 + n\n",
    "            chol[i, m, n] = chol0[i, triind]\n",
    "            chol[i, n, m] = chol0[i, triind]\n",
    "\n",
    "chol = chol.reshape(nchol, n_sites**2)\n",
    "_eri = (chol.T @ chol).reshape((n_sites,) * 4)\n",
    "max_absdiff = np.amax(np.absolute(h2 - _eri))\n",
    "print(f'max_absdiff = {max_absdiff}')"
   ]
  },
  {
   "cell_type": "code",
   "execution_count": 59,
   "id": "a913c6a7",
   "metadata": {},
   "outputs": [
    {
     "name": "stdout",
     "output_type": "stream",
     "text": [
      "converged SCF energy = 0.999999999999997  <S^2> = 3.75  2S+1 = 4\n",
      "\n",
      "WARN: Not enough eigenvectors (len(x0)=1, nroots=3)\n",
      "\n",
      "<class 'pyscf.scf.uhf.UHF'> wavefunction is stable in the internal stability analysis\n",
      "\n",
      "WARN: Not enough eigenvectors (len(x0)=1, nroots=3)\n",
      "\n",
      "<class 'pyscf.scf.uhf.UHF'> wavefunction is stable in the real -> complex stability analysis\n",
      "<class 'pyscf.scf.uhf.UHF'> wavefunction is stable in the UHF/UKS -> GHF/GKS stability analysis\n",
      "converged SCF energy = 0.999999999999997  <S^2> = 3.75  2S+1 = 4\n",
      "\n",
      "WARN: Not enough eigenvectors (len(x0)=1, nroots=3)\n",
      "\n",
      "<class 'pyscf.soscf.newton_ah.SecondOrderUHF'> wavefunction is stable in the internal stability analysis\n",
      "\n",
      "WARN: Not enough eigenvectors (len(x0)=1, nroots=3)\n",
      "\n",
      "<class 'pyscf.soscf.newton_ah.SecondOrderUHF'> wavefunction is stable in the real -> complex stability analysis\n",
      "<class 'pyscf.soscf.newton_ah.SecondOrderUHF'> wavefunction is stable in the UHF/UKS -> GHF/GKS stability analysis\n",
      "converged SCF energy = 0.999999999999996  <S^2> = 3.75  2S+1 = 4\n",
      "\n",
      "WARN: Not enough eigenvectors (len(x0)=1, nroots=3)\n",
      "\n",
      "<class 'pyscf.soscf.newton_ah.SecondOrderUHF'> wavefunction is stable in the internal stability analysis\n",
      "\n",
      "WARN: Not enough eigenvectors (len(x0)=1, nroots=3)\n",
      "\n",
      "<class 'pyscf.soscf.newton_ah.SecondOrderUHF'> wavefunction is stable in the real -> complex stability analysis\n",
      "<class 'pyscf.soscf.newton_ah.SecondOrderUHF'> wavefunction is stable in the UHF/UKS -> GHF/GKS stability analysis\n",
      "converged SCF energy = 0.999999999999995  <S^2> = 3.75  2S+1 = 4\n",
      "\n",
      "WARN: Not enough eigenvectors (len(x0)=1, nroots=3)\n",
      "\n",
      "<class 'pyscf.soscf.newton_ah.SecondOrderUHF'> wavefunction is stable in the internal stability analysis\n",
      "\n",
      "WARN: Not enough eigenvectors (len(x0)=1, nroots=3)\n",
      "\n",
      "<class 'pyscf.soscf.newton_ah.SecondOrderUHF'> wavefunction is stable in the real -> complex stability analysis\n",
      "<class 'pyscf.soscf.newton_ah.SecondOrderUHF'> wavefunction is stable in the UHF/UKS -> GHF/GKS stability analysis\n",
      "\n",
      "# ----------------------\n",
      "# Spin collinearity test\n",
      "# ----------------------\n",
      "# epsilon0 = 1.4999999999999984\n",
      "# non half-integer value indicates non-collinearity\n",
      "\n",
      "# minimum mu = 1.9984014443252818e-15\n",
      "# Value is 0 iff wavefunction is collinear\n",
      "\n",
      "# If mu = 0, the collinear spin axis is: \n",
      "[0.+0.j 0.+0.j 1.+0.j]\n"
     ]
    }
   ],
   "source": [
    "# make dummy molecule\n",
    "mol = gto.Mole()\n",
    "mol.nelectron = nocc\n",
    "mol.incore_anyway = True\n",
    "mol.spin = abs(n_elec[0] - n_elec[1])\n",
    "mol.verbose = 3\n",
    "mol.build()\n",
    "\n",
    "# UHF.\n",
    "umf = scf.UHF(mol)\n",
    "umf.get_hcore = lambda *args: integrals[\"h1\"]\n",
    "umf.get_ovlp = lambda *args: np.eye(n_sites)\n",
    "umf._eri = ao2mo.restore(8, integrals[\"h2\"], n_sites)\n",
    "\n",
    "seed = 262\n",
    "np.random.seed(seed)\n",
    "dm_init = np.random.random((2, n_sites, n_sites))\n",
    "dm_init += dm_init.transpose(0, 2, 1).conj()\n",
    "\n",
    "umf.kernel(dm_init)\n",
    "mo1 = umf.stability(external=True)\n",
    "umf = umf.newton().run(mo1[0], umf.mo_occ)\n",
    "mo1 = umf.stability(external=True)\n",
    "umf = umf.newton().run(mo1[0], umf.mo_occ)\n",
    "mo1 = umf.stability(external=True)\n",
    "umf = umf.newton().run(mo1[0], umf.mo_occ)\n",
    "mo1 = umf.stability(external=True)\n",
    "\n",
    "uhf_coeff = umf.mo_coeff\n",
    "uhf_rdm1 = umf.make_rdm1()\n",
    "\n",
    "psi = np.zeros((2*n_sites, nocc))\n",
    "psi[:n_sites, :nup] = uhf_coeff[0, :, umf.mo_occ[0] > 0].T\n",
    "psi[n_sites:, nup:] = uhf_coeff[1, :, umf.mo_occ[1] > 0].T\n",
    "\n",
    "ao_ovlp = np.eye(n_sites)\n",
    "epsilon0, mu, spin_axis = spin_utils.spin_collinearity_test(psi, ao_ovlp, verbose=verbose)"
   ]
  },
  {
   "cell_type": "code",
   "execution_count": 60,
   "id": "1339cbd8",
   "metadata": {},
   "outputs": [],
   "source": [
    "m = 0.5 * (nup - ndown)\n",
    "kets, coeffs = apply_Sz_projector_jax(psi, m, 10)\n",
    "kets = np.array(kets)\n",
    "coeffs = np.array(coeffs)"
   ]
  },
  {
   "cell_type": "code",
   "execution_count": 61,
   "id": "d7d069f5",
   "metadata": {},
   "outputs": [],
   "source": [
    "# Projected spin average and overlap.\n",
    "savg_tot = np.zeros(3, dtype=np.complex128)\n",
    "ovlp_tot = 0.\n",
    "\n",
    "for ibra, bra in enumerate(kets):\n",
    "    for iket, ket in enumerate(kets):\n",
    "        G, ovlp = get_greens(bra, ket)\n",
    "        savg = spin_utils.get_spin_average_from_greens_ghf(G) * ovlp\n",
    "        savg_tot += savg * coeffs[ibra].conj() * coeffs[iket]\n",
    "        ovlp_tot += ovlp * coeffs[ibra].conj() * coeffs[iket]"
   ]
  },
  {
   "cell_type": "code",
   "execution_count": 62,
   "id": "05c504a3",
   "metadata": {},
   "outputs": [
    {
     "name": "stdout",
     "output_type": "stream",
     "text": [
      "<S> * ovlp = [0. +0.j 0. +0.j 1.5+0.j]\n",
      "ovlp = (0.9999999999999982-3.25862638659177e-18j)\n",
      "\n",
      "<S> = [0. +0.j 0. +0.j 1.5+0.j]\n"
     ]
    }
   ],
   "source": [
    "print(f'<S> * ovlp = {savg_tot}')\n",
    "print(f'ovlp = {ovlp_tot}')\n",
    "print(f'\\n<S> = {savg_tot / ovlp_tot}')"
   ]
  },
  {
   "cell_type": "code",
   "execution_count": 63,
   "id": "77b37ec1",
   "metadata": {},
   "outputs": [],
   "source": [
    "e_proj = get_projected_energy(psi, m, [h1, h1], chol, 0., 10)\n",
    "e_proj = get_projected_energy_jax(psi, m, [h1, h1], chol, 0., 10)\n",
    "np.testing.assert_allclose(e_proj, umf.e_tot)"
   ]
  },
  {
   "cell_type": "markdown",
   "id": "e6852d1a",
   "metadata": {},
   "source": [
    "## Using a 2-site Ising model as example"
   ]
  },
  {
   "cell_type": "code",
   "execution_count": 267,
   "id": "d7abb2bb",
   "metadata": {},
   "outputs": [],
   "source": [
    "norb = 2\n",
    "nocc = 2\n",
    "psi = 1./np.sqrt(2.) * np.array([[1., 0.],  # (site 1, up)\n",
    "                                 [0., 1.],  # (site 2, up) \n",
    "                                 [1., 0.],  # (site 1, down)\n",
    "                                 [0., 1.]]) # (site 2, down)"
   ]
  },
  {
   "cell_type": "code",
   "execution_count": 269,
   "id": "a77f92fb",
   "metadata": {},
   "outputs": [],
   "source": [
    "h1 = np.zeros((2*norb, 2*norb))\n",
    "eri = np.zeros((2*norb, 2*norb, 2*norb, 2*norb))\n",
    "\n",
    "for i in range(2*norb):\n",
    "    spin_i = i // 2\n",
    "    site_i = i % 2\n",
    "    \n",
    "    for j in range(2*norb):\n",
    "        spin_j = j // 2\n",
    "        site_j = j % 2\n",
    "        \n",
    "        if spin_i == spin_j: eri[i, i, j, j] = 1.\n",
    "        if spin_i != spin_j: eri[i, i, j, j] = -1.\n",
    "\n",
    "H = np.array([[0., 1., 0., -1.],\n",
    "              [1., 0., -1., 0.],\n",
    "              [0., -1., 0., 1.],\n",
    "              [-1., 0., 1., 0.]])"
   ]
  },
  {
   "cell_type": "code",
   "execution_count": 264,
   "id": "b29ab3d8",
   "metadata": {},
   "outputs": [
    {
     "data": {
      "text/plain": [
       "(-22.25000000001807-1.848290669299883e-15j)"
      ]
     },
     "execution_count": 264,
     "metadata": {},
     "output_type": "execute_result"
    }
   ],
   "source": [
    "get_projected_energy(psi, 0., [h1, h1], chol, 0., 10)"
   ]
  },
  {
   "cell_type": "markdown",
   "id": "5145d039",
   "metadata": {},
   "source": [
    "# Test `optimize`"
   ]
  },
  {
   "cell_type": "code",
   "execution_count": 11,
   "id": "99d9a126",
   "metadata": {},
   "outputs": [
    {
     "name": "stdout",
     "output_type": "stream",
     "text": [
      "\n",
      "# Filling factor = 0.5\n"
     ]
    }
   ],
   "source": [
    "U = 4\n",
    "nx = 4\n",
    "ny = 4\n",
    "nup = 8\n",
    "ndown = 8\n",
    "bc = 'open_x'\n",
    "verbose = 3\n",
    "\n",
    "# -----------------------------------------------------------------------------\n",
    "# Settings.\n",
    "# lattice = lattices.triangular_grid(nx, ny, boundary_condition=bc)\n",
    "lattice = lattices.two_dimensional_grid(nx, ny)\n",
    "n_sites = lattice.n_sites\n",
    "n_elec = (nup, ndown)\n",
    "nocc = sum(n_elec)\n",
    "filling = nocc / (2*n_sites)\n",
    "if verbose: print(f'\\n# Filling factor = {filling}')"
   ]
  },
  {
   "cell_type": "code",
   "execution_count": 12,
   "id": "c6476163",
   "metadata": {},
   "outputs": [],
   "source": [
    "integrals = {}\n",
    "integrals[\"h0\"] = 0.0\n",
    "\n",
    "h1 = -1.0 * lattice.create_adjacency_matrix()\n",
    "integrals[\"h1\"] = h1\n",
    "\n",
    "h2 = np.zeros((n_sites, n_sites, n_sites, n_sites))\n",
    "for i in range(n_sites):\n",
    "    h2[i, i, i, i] = U\n",
    "integrals[\"h2\"] = ao2mo.restore(8, h2, n_sites)"
   ]
  },
  {
   "cell_type": "code",
   "execution_count": 13,
   "id": "92f1e500",
   "metadata": {},
   "outputs": [
    {
     "name": "stdout",
     "output_type": "stream",
     "text": [
      "max_absdiff = 5.000000413701855e-11\n"
     ]
    }
   ],
   "source": [
    "# Get Choleskies.\n",
    "chol_cut = 1e-10\n",
    "eri = ao2mo.restore(4, integrals[\"h2\"], n_sites)\n",
    "chol0 = pyscf_interface.modified_cholesky(eri, max_error=chol_cut)\n",
    "nchol = chol0.shape[0]\n",
    "chol = np.zeros((nchol, n_sites, n_sites))\n",
    "\n",
    "for i in range(nchol):\n",
    "    for m in range(n_sites):\n",
    "        for n in range(m + 1):\n",
    "            triind = m * (m + 1) // 2 + n\n",
    "            chol[i, m, n] = chol0[i, triind]\n",
    "            chol[i, n, m] = chol0[i, triind]\n",
    "\n",
    "chol = chol.reshape(nchol, n_sites**2)\n",
    "_eri = (chol.T @ chol).reshape((n_sites,) * 4)\n",
    "max_absdiff = np.amax(np.absolute(h2 - _eri))\n",
    "print(f'max_absdiff = {max_absdiff}')"
   ]
  },
  {
   "cell_type": "code",
   "execution_count": 14,
   "id": "5501698a",
   "metadata": {
    "scrolled": true
   },
   "outputs": [
    {
     "name": "stdout",
     "output_type": "stream",
     "text": [
      "System: uname_result(system='Linux', node='g158', release='4.18.0-193.el8.x86_64', version='#1 SMP Fri Mar 27 14:35:58 UTC 2020', machine='x86_64')  Threads 32\n",
      "Python 3.9.20 (main, Oct  3 2024, 07:27:41) \n",
      "[GCC 11.2.0]\n",
      "numpy 1.26.4  scipy 1.10.1  h5py 3.13.0\n",
      "Date: Thu Mar 13 23:57:37 2025\n",
      "PySCF version 2.7.0\n",
      "PySCF path  /burg/home/su2254/libs/shufay_pyscf\n",
      "GIT ORIG_HEAD 135db139c2689071600947863b093ecf5f711353\n",
      "GIT HEAD (branch master) 410d9608a73ad3a507b3008a6f68549288ebfc33\n",
      "\n",
      "[CONFIG] conf_file None\n",
      "[INPUT] verbose = 4\n",
      "[INPUT] num. atoms = 0\n",
      "[INPUT] num. electrons = 16\n",
      "[INPUT] charge = 0\n",
      "[INPUT] spin (= nelec alpha-beta = 2S) = 0\n",
      "[INPUT] symmetry False subgroup None\n",
      "[INPUT] Mole.unit = angstrom\n",
      "[INPUT] Symbol           X                Y                Z      unit          X                Y                Z       unit  Magmom\n",
      "\n",
      "nuclear repulsion = 0\n",
      "number of shells = 0\n",
      "number of NR pGTOs = 0\n",
      "number of NR cGTOs = 0\n",
      "basis = sto-3g\n",
      "ecp = {}\n",
      "CPU time:       146.86\n",
      "\n",
      "\n",
      "******** <class 'pyscf.scf.ghf.GHF'> ********\n",
      "method = GHF\n",
      "initial guess = minao\n",
      "damping factor = 0\n",
      "level_shift factor = 0\n",
      "DIIS = <class 'pyscf.scf.diis.CDIIS'>\n",
      "diis_start_cycle = 1\n",
      "diis_space = 8\n",
      "diis_damp = 0\n",
      "SCF conv_tol = 1e-09\n",
      "SCF conv_tol_grad = None\n",
      "SCF max_cycles = 1000\n",
      "direct_scf = True\n",
      "direct_scf_tol = 1e-13\n",
      "chkfile to save SCF result = /local/tmpa8vv6_9r\n",
      "max_memory 4000 MB (current use 586 MB)\n",
      "Set gradient conv threshold to 3.16228e-05\n",
      "init E= -83.3247259452134\n",
      "  HOMO = 4.52180816239479  LUMO = 4.97361272880135\n",
      "cycle= 1 E= -2.39864007309107  delta_E= 80.9  |g|= 2.93  |ddm|=   34\n",
      "  HOMO = 1.86419689907367  LUMO = 2.16154712111022\n",
      "cycle= 2 E= -8.18556737388779  delta_E= -5.79  |g|= 2.45  |ddm|= 2.57\n",
      "  HOMO = 1.54576092502565  LUMO = 2.47441420342221\n",
      "cycle= 3 E= -10.0780532440559  delta_E= -1.89  |g|= 0.68  |ddm|=    1\n",
      "  HOMO = 1.48802502884513  LUMO = 2.47406280206804\n",
      "cycle= 4 E= -10.3230122407277  delta_E= -0.245  |g|= 0.452  |ddm|= 0.397\n",
      "  HOMO = 1.48820556732668  LUMO = 2.51783106813231\n",
      "cycle= 5 E= -10.4540805140765  delta_E= -0.131  |g|= 0.485  |ddm|= 0.242\n",
      "  HOMO = 1.476235562571  LUMO = 2.52691549246207\n",
      "cycle= 6 E= -10.4990541917869  delta_E= -0.045  |g|= 0.523  |ddm|= 0.0742\n",
      "  HOMO = 1.45287171537847  LUMO = 2.54077229049854\n",
      "cycle= 7 E= -10.368317279191  delta_E= 0.131  |g|= 0.31  |ddm|= 0.339\n",
      "  HOMO = 1.4285075292651  LUMO = 2.57696541091352\n",
      "cycle= 8 E= -10.4027339163809  delta_E= -0.0344  |g|= 0.199  |ddm|= 0.291\n",
      "  HOMO = 1.46274186971617  LUMO = 2.53457269737394\n",
      "cycle= 9 E= -10.4322720802414  delta_E= -0.0295  |g|= 0.166  |ddm|= 0.14\n",
      "  HOMO = 1.51583836096879  LUMO = 2.48381909833844\n",
      "cycle= 10 E= -10.4565058506662  delta_E= -0.0242  |g|= 0.138  |ddm|= 0.143\n",
      "  HOMO = 1.56481470823823  LUMO = 2.44065721583001\n",
      "cycle= 11 E= -10.4823102501899  delta_E= -0.0258  |g|= 0.0901  |ddm|= 0.217\n",
      "  HOMO = 1.53881785727979  LUMO = 2.45718861868123\n",
      "cycle= 12 E= -10.4893666439221  delta_E= -0.00706  |g|= 0.0733  |ddm|= 0.0775\n",
      "  HOMO = 1.57265003049356  LUMO = 2.4287970870072\n",
      "cycle= 13 E= -10.5027294103028  delta_E= -0.0134  |g|= 0.0586  |ddm|= 0.237\n",
      "  HOMO = 1.57359589661612  LUMO = 2.42773968730827\n",
      "cycle= 14 E= -10.5031570267134  delta_E= -0.000428  |g|= 0.055  |ddm|= 0.00874\n",
      "  HOMO = 1.5764670773329  LUMO = 2.42449138882498\n",
      "cycle= 15 E= -10.5032685664373  delta_E= -0.000112  |g|= 0.0543  |ddm|= 0.00999\n",
      "  HOMO = 1.57904065724383  LUMO = 2.42226940118972\n",
      "cycle= 16 E= -10.50357754959  delta_E= -0.000309  |g|= 0.0541  |ddm|= 0.00947\n",
      "  HOMO = 1.58204198114882  LUMO = 2.41939923163674\n",
      "cycle= 17 E= -10.5034524329909  delta_E= 0.000125  |g|= 0.0609  |ddm|= 0.019\n",
      "  HOMO = 1.5789825631828  LUMO = 2.42217210929396\n",
      "cycle= 18 E= -10.5032987227543  delta_E= 0.000154  |g|= 0.0558  |ddm|= 0.0127\n",
      "  HOMO = 1.56864497414436  LUMO = 2.43247805773484\n",
      "cycle= 19 E= -10.5032205526659  delta_E= 7.82e-05  |g|= 0.0475  |ddm|= 0.0439\n",
      "  HOMO = 1.56749413836729  LUMO = 2.43198250066911\n",
      "cycle= 20 E= -10.5033539042803  delta_E= -0.000133  |g|= 0.0477  |ddm|= 0.0345\n",
      "  HOMO = 1.56745894039144  LUMO = 2.43212798493198\n",
      "cycle= 21 E= -10.5030706741125  delta_E= 0.000283  |g|= 0.0477  |ddm|= 0.0114\n",
      "  HOMO = 1.57045137893869  LUMO = 2.42884792186697\n",
      "cycle= 22 E= -10.5050955914626  delta_E= -0.00202  |g|= 0.0521  |ddm|= 0.0444\n",
      "  HOMO = 1.56355518117365  LUMO = 2.43487431064636\n",
      "cycle= 23 E= -10.5025063916869  delta_E= 0.00259  |g|= 0.0439  |ddm|= 0.0821\n",
      "  HOMO = 1.56319190408515  LUMO = 2.43655520770235\n",
      "cycle= 24 E= -10.5019436722179  delta_E= 0.000563  |g|= 0.0426  |ddm|= 0.0216\n",
      "  HOMO = 1.56573004029428  LUMO = 2.43399387813418\n",
      "cycle= 25 E= -10.5021548649516  delta_E= -0.000211  |g|= 0.0445  |ddm|= 0.0267\n",
      "  HOMO = 1.56303963318398  LUMO = 2.4362386302234\n",
      "cycle= 26 E= -10.5011914033639  delta_E= 0.000963  |g|= 0.0373  |ddm|= 0.0486\n",
      "  HOMO = 1.56036342936156  LUMO = 2.43821975418445\n",
      "cycle= 27 E= -10.500399541044  delta_E= 0.000792  |g|= 0.0272  |ddm|= 0.0725\n",
      "  HOMO = 1.56371425045633  LUMO = 2.43667710065095\n",
      "cycle= 28 E= -10.5001264424221  delta_E= 0.000273  |g|= 0.0202  |ddm|= 0.065\n",
      "  HOMO = 1.56340121188116  LUMO = 2.43582150126546\n",
      "cycle= 29 E= -10.5002612677509  delta_E= -0.000135  |g|= 0.0187  |ddm|= 0.0352\n",
      "  HOMO = 1.5654243806288  LUMO = 2.43492742411613\n",
      "cycle= 30 E= -10.5004240458107  delta_E= -0.000163  |g|= 0.0174  |ddm|= 0.0327\n",
      "  HOMO = 1.56511956948807  LUMO = 2.43465987074496\n",
      "cycle= 31 E= -10.5007850906513  delta_E= -0.000361  |g|= 0.0172  |ddm|= 0.0323\n",
      "  HOMO = 1.56586438540702  LUMO = 2.43389224590291\n",
      "cycle= 32 E= -10.5008921732555  delta_E= -0.000107  |g|= 0.0173  |ddm|= 0.009\n",
      "  HOMO = 1.56614746058347  LUMO = 2.43328415381895\n",
      "cycle= 33 E= -10.5009264925273  delta_E= -3.43e-05  |g|= 0.0177  |ddm|= 0.00397\n",
      "  HOMO = 1.56566586011046  LUMO = 2.43369808538813\n",
      "cycle= 34 E= -10.5008897704608  delta_E= 3.67e-05  |g|= 0.0176  |ddm|= 0.00432\n",
      "  HOMO = 1.56219998781481  LUMO = 2.43731528781017\n",
      "cycle= 35 E= -10.5005357128622  delta_E= 0.000354  |g|= 0.0172  |ddm|= 0.0426\n",
      "  HOMO = 1.55870692531273  LUMO = 2.44077640073892\n",
      "cycle= 36 E= -10.5001753957014  delta_E= 0.00036  |g|= 0.017  |ddm|= 0.0415\n",
      "  HOMO = 1.55886972014166  LUMO = 2.44069743866901\n",
      "cycle= 37 E= -10.5001866335354  delta_E= -1.12e-05  |g|= 0.017  |ddm|= 0.00387\n",
      "  HOMO = 1.55968115081543  LUMO = 2.44025509278586\n",
      "cycle= 38 E= -10.5001524169269  delta_E= 3.42e-05  |g|= 0.0176  |ddm|= 0.0204\n",
      "  HOMO = 1.56078154298273  LUMO = 2.44007731387121\n",
      "cycle= 39 E= -10.5005189483872  delta_E= -0.000367  |g|= 0.0174  |ddm|= 0.0533\n",
      "  HOMO = 1.56260260353697  LUMO = 2.43759701405426\n",
      "cycle= 40 E= -10.5007962832127  delta_E= -0.000277  |g|= 0.0178  |ddm|= 0.0196\n",
      "  HOMO = 1.55928982365413  LUMO = 2.44096960344944\n",
      "cycle= 41 E= -10.5003406313162  delta_E= 0.000456  |g|= 0.0169  |ddm|= 0.0311\n",
      "  HOMO = 1.55788782994145  LUMO = 2.44237269619338\n",
      "cycle= 42 E= -10.5001633575957  delta_E= 0.000177  |g|= 0.0159  |ddm|= 0.0194\n",
      "  HOMO = 1.56402594474773  LUMO = 2.43560327209343\n",
      "cycle= 43 E= -10.5005406501539  delta_E= -0.000377  |g|= 0.0154  |ddm|= 0.0552\n",
      "  HOMO = 1.56764985134345  LUMO = 2.43212660775489\n",
      "cycle= 44 E= -10.5007001955642  delta_E= -0.00016  |g|= 0.0161  |ddm|= 0.0182\n",
      "  HOMO = 1.56650014009865  LUMO = 2.43335439172985\n",
      "cycle= 45 E= -10.5006055325434  delta_E= 9.47e-05  |g|= 0.0158  |ddm|= 0.0125\n",
      "  HOMO = 1.56844532552224  LUMO = 2.43155140154071\n",
      "cycle= 46 E= -10.5008038145658  delta_E= -0.000198  |g|= 0.0171  |ddm|= 0.014\n",
      "  HOMO = 1.56970599170111  LUMO = 2.43029964169219\n",
      "cycle= 47 E= -10.500690231264  delta_E= 0.000114  |g|= 0.0154  |ddm|= 0.0185\n",
      "  HOMO = 1.56166214034783  LUMO = 2.43797601326675\n",
      "cycle= 48 E= -10.4997915550726  delta_E= 0.000899  |g|= 0.0107  |ddm|= 0.0831\n",
      "  HOMO = 1.56052579475976  LUMO = 2.43950650707986\n",
      "cycle= 49 E= -10.4995968987478  delta_E= 0.000195  |g|= 0.00978  |ddm|= 0.0279\n",
      "  HOMO = 1.55818995063617  LUMO = 2.44208950835785\n",
      "cycle= 50 E= -10.4993253599477  delta_E= 0.000272  |g|= 0.00898  |ddm|= 0.0379\n",
      "  HOMO = 1.5550151425734  LUMO = 2.44463103549857\n",
      "cycle= 51 E= -10.4992029498254  delta_E= 0.000122  |g|= 0.00859  |ddm|= 0.0268\n",
      "  HOMO = 1.55349862563059  LUMO = 2.44646330299913\n",
      "cycle= 52 E= -10.4991017373449  delta_E= 0.000101  |g|= 0.00805  |ddm|= 0.0273\n",
      "  HOMO = 1.55363541441142  LUMO = 2.44636260910326\n",
      "cycle= 53 E= -10.4991024427349  delta_E= -7.05e-07  |g|= 0.00796  |ddm|= 0.011\n",
      "  HOMO = 1.55412252318111  LUMO = 2.44596441105376\n",
      "cycle= 54 E= -10.4991338711431  delta_E= -3.14e-05  |g|= 0.008  |ddm|= 0.0205\n",
      "  HOMO = 1.55399081563039  LUMO = 2.44610302143819\n",
      "cycle= 55 E= -10.4991226079184  delta_E= 1.13e-05  |g|= 0.00798  |ddm|= 0.00308\n",
      "  HOMO = 1.55283455705831  LUMO = 2.44727939382359\n",
      "cycle= 56 E= -10.4990326082736  delta_E= 9e-05  |g|= 0.00789  |ddm|= 0.0166\n",
      "  HOMO = 1.55142748835217  LUMO = 2.44860753771077\n",
      "cycle= 57 E= -10.4989079051999  delta_E= 0.000125  |g|= 0.00786  |ddm|= 0.0301\n",
      "  HOMO = 1.55269098338203  LUMO = 2.44747692239375\n",
      "cycle= 58 E= -10.4989660869431  delta_E= -5.82e-05  |g|= 0.00766  |ddm|= 0.0111\n",
      "  HOMO = 1.55134481210613  LUMO = 2.44864021949325\n",
      "cycle= 59 E= -10.4987675297467  delta_E= 0.000199  |g|= 0.00753  |ddm|= 0.0422\n",
      "  HOMO = 1.5503342874578  LUMO = 2.44957151391736\n",
      "cycle= 60 E= -10.4986800214897  delta_E= 8.75e-05  |g|= 0.00802  |ddm|= 0.0214\n",
      "  HOMO = 1.54816942950782  LUMO = 2.45142610801695\n",
      "cycle= 61 E= -10.4986411786892  delta_E= 3.88e-05  |g|= 0.00817  |ddm|= 0.0447\n",
      "  HOMO = 1.54902297576687  LUMO = 2.4507017050325\n",
      "cycle= 62 E= -10.4987139331482  delta_E= -7.28e-05  |g|= 0.00835  |ddm|= 0.0255\n",
      "  HOMO = 1.55067248365419  LUMO = 2.44921173882038\n",
      "cycle= 63 E= -10.4987688183891  delta_E= -5.49e-05  |g|= 0.00769  |ddm|= 0.0338\n",
      "  HOMO = 1.54934904400183  LUMO = 2.45046659362117\n",
      "cycle= 64 E= -10.4986806888241  delta_E= 8.81e-05  |g|= 0.00778  |ddm|= 0.0271\n",
      "  HOMO = 1.55121485708726  LUMO = 2.44877922375315\n",
      "cycle= 65 E= -10.498682836796  delta_E= -2.15e-06  |g|= 0.00705  |ddm|= 0.0423\n",
      "  HOMO = 1.54832128000935  LUMO = 2.45171511895334\n",
      "cycle= 66 E= -10.498478150529  delta_E= 0.000205  |g|= 0.00685  |ddm|= 0.0451\n",
      "  HOMO = 1.54739701879362  LUMO = 2.45225862683311\n",
      "cycle= 67 E= -10.4983019752737  delta_E= 0.000176  |g|= 0.006  |ddm|= 0.0409\n",
      "  HOMO = 1.54724607553069  LUMO = 2.45288639690496\n",
      "cycle= 68 E= -10.4982349437106  delta_E= 6.7e-05  |g|= 0.00592  |ddm|= 0.0248\n",
      "  HOMO = 1.54703561300814  LUMO = 2.45301801613775\n",
      "cycle= 69 E= -10.4982268569954  delta_E= 8.09e-06  |g|= 0.00603  |ddm|= 0.00953\n",
      "  HOMO = 1.54696321937589  LUMO = 2.45311131785983\n",
      "cycle= 70 E= -10.4982106536035  delta_E= 1.62e-05  |g|= 0.00584  |ddm|= 0.0147\n",
      "  HOMO = 1.54619258205455  LUMO = 2.45368336703464\n",
      "cycle= 71 E= -10.4981790848805  delta_E= 3.16e-05  |g|= 0.00554  |ddm|= 0.0457\n",
      "  HOMO = 1.54583922505774  LUMO = 2.45410920725124\n",
      "cycle= 72 E= -10.4981695391442  delta_E= 9.55e-06  |g|= 0.00567  |ddm|= 0.0157\n",
      "  HOMO = 1.54579234332478  LUMO = 2.45420063661186\n",
      "cycle= 73 E= -10.4981671670547  delta_E= 2.37e-06  |g|= 0.00564  |ddm|= 0.00448\n",
      "  HOMO = 1.54446271390714  LUMO = 2.45555138307562\n",
      "cycle= 74 E= -10.4981494352664  delta_E= 1.77e-05  |g|= 0.00594  |ddm|= 0.0213\n",
      "  HOMO = 1.54475780867363  LUMO = 2.45527882679343\n",
      "cycle= 75 E= -10.4981699026061  delta_E= -2.05e-05  |g|= 0.00586  |ddm|= 0.0119\n",
      "  HOMO = 1.5466687922882  LUMO = 2.45363024939011\n",
      "cycle= 76 E= -10.498248326709  delta_E= -7.84e-05  |g|= 0.00561  |ddm|= 0.0363\n",
      "  HOMO = 1.54674974173259  LUMO = 2.45343957511736\n",
      "cycle= 77 E= -10.4982450908709  delta_E= 3.24e-06  |g|= 0.00555  |ddm|= 0.00199\n",
      "  HOMO = 1.54705231725465  LUMO = 2.45316401771242\n",
      "cycle= 78 E= -10.4982519519194  delta_E= -6.86e-06  |g|= 0.00549  |ddm|= 0.00234\n",
      "  HOMO = 1.54750022020467  LUMO = 2.45262526660154\n",
      "cycle= 79 E= -10.4982548075862  delta_E= -2.86e-06  |g|= 0.00566  |ddm|= 0.00848\n",
      "  HOMO = 1.54748313645736  LUMO = 2.45251225297933\n",
      "cycle= 80 E= -10.4982744721905  delta_E= -1.97e-05  |g|= 0.00576  |ddm|= 0.0157\n",
      "  HOMO = 1.54696725730561  LUMO = 2.45293774798434\n",
      "cycle= 81 E= -10.4982306195371  delta_E= 4.39e-05  |g|= 0.00578  |ddm|= 0.0171\n",
      "  HOMO = 1.54552165819256  LUMO = 2.45460571097923\n",
      "cycle= 82 E= -10.4981119629738  delta_E= 0.000119  |g|= 0.00552  |ddm|= 0.0485\n",
      "  HOMO = 1.54433497598579  LUMO = 2.45566382286616\n",
      "cycle= 83 E= -10.4980533866923  delta_E= 5.86e-05  |g|= 0.00556  |ddm|= 0.0368\n",
      "  HOMO = 1.5457530583698  LUMO = 2.45421160841873\n",
      "cycle= 84 E= -10.4981206791455  delta_E= -6.73e-05  |g|= 0.00551  |ddm|= 0.0315\n",
      "  HOMO = 1.54464357020748  LUMO = 2.45516218258338\n",
      "cycle= 85 E= -10.4980854507516  delta_E= 3.52e-05  |g|= 0.00516  |ddm|= 0.0116\n",
      "  HOMO = 1.54530411867312  LUMO = 2.45480783530356\n",
      "cycle= 86 E= -10.4981331787982  delta_E= -4.77e-05  |g|= 0.00542  |ddm|= 0.017\n",
      "  HOMO = 1.54468073017538  LUMO = 2.45536039356569\n",
      "cycle= 87 E= -10.4981430548123  delta_E= -9.88e-06  |g|= 0.00552  |ddm|= 0.00839\n",
      "  HOMO = 1.54319336759362  LUMO = 2.45679483523474\n",
      "cycle= 88 E= -10.4980162254708  delta_E= 0.000127  |g|= 0.00533  |ddm|= 0.059\n",
      "  HOMO = 1.54422769101065  LUMO = 2.45561657420362\n",
      "cycle= 89 E= -10.4980322624397  delta_E= -1.6e-05  |g|= 0.0047  |ddm|= 0.0146\n",
      "  HOMO = 1.54505413628146  LUMO = 2.4550142651542\n",
      "cycle= 90 E= -10.4980667091237  delta_E= -3.44e-05  |g|= 0.00461  |ddm|= 0.0184\n",
      "  HOMO = 1.5449854501531  LUMO = 2.45507627502722\n",
      "cycle= 91 E= -10.4980596938734  delta_E= 7.02e-06  |g|= 0.00466  |ddm|= 0.00854\n",
      "  HOMO = 1.54498408495006  LUMO = 2.45507409925586\n",
      "cycle= 92 E= -10.4980712635477  delta_E= -1.16e-05  |g|= 0.00469  |ddm|= 0.00712\n",
      "  HOMO = 1.54492132553284  LUMO = 2.45507514016475\n",
      "cycle= 93 E= -10.4980381739177  delta_E= 3.31e-05  |g|= 0.00447  |ddm|= 0.0363\n",
      "  HOMO = 1.5445481243704  LUMO = 2.45549192173267\n",
      "cycle= 94 E= -10.4980225763688  delta_E= 1.56e-05  |g|= 0.00448  |ddm|= 0.012\n",
      "  HOMO = 1.54529494299311  LUMO = 2.4547713992654\n",
      "cycle= 95 E= -10.4980627571785  delta_E= -4.02e-05  |g|= 0.00447  |ddm|= 0.027\n",
      "  HOMO = 1.54529794698153  LUMO = 2.4547413480853\n",
      "cycle= 96 E= -10.4980829247953  delta_E= -2.02e-05  |g|= 0.00453  |ddm|= 0.0108\n",
      "  HOMO = 1.54529591605503  LUMO = 2.45472337152535\n",
      "cycle= 97 E= -10.4980922854574  delta_E= -9.36e-06  |g|= 0.00455  |ddm|= 0.00388\n",
      "  HOMO = 1.5452769394921  LUMO = 2.4546375632304\n",
      "cycle= 98 E= -10.4980760876462  delta_E= 1.62e-05  |g|= 0.00473  |ddm|= 0.0169\n",
      "  HOMO = 1.54516195567201  LUMO = 2.45471999644146\n",
      "cycle= 99 E= -10.4980649307475  delta_E= 1.12e-05  |g|= 0.00469  |ddm|= 0.0119\n",
      "  HOMO = 1.54510202109367  LUMO = 2.45477327774919\n",
      "cycle= 100 E= -10.4980665433639  delta_E= -1.61e-06  |g|= 0.00495  |ddm|= 0.0167\n",
      "  HOMO = 1.54509951794656  LUMO = 2.45479007934848\n",
      "cycle= 101 E= -10.4981002657899  delta_E= -3.37e-05  |g|= 0.00399  |ddm|= 0.0323\n",
      "  HOMO = 1.54516738159724  LUMO = 2.45496121415289\n",
      "cycle= 102 E= -10.4980991352311  delta_E= 1.13e-06  |g|= 0.00366  |ddm|= 0.02\n",
      "  HOMO = 1.5454064854858  LUMO = 2.45461320906253\n",
      "cycle= 103 E= -10.4981191765681  delta_E= -2e-05  |g|= 0.00363  |ddm|= 0.0171\n",
      "  HOMO = 1.54531735575958  LUMO = 2.45469347881895\n",
      "cycle= 104 E= -10.4981130806194  delta_E= 6.1e-06  |g|= 0.00366  |ddm|= 0.00312\n",
      "  HOMO = 1.54542404687883  LUMO = 2.45461416414941\n",
      "cycle= 105 E= -10.4981283449509  delta_E= -1.53e-05  |g|= 0.00369  |ddm|= 0.00705\n",
      "  HOMO = 1.54545324805228  LUMO = 2.45459150662973\n",
      "cycle= 106 E= -10.4981331988592  delta_E= -4.85e-06  |g|= 0.00369  |ddm|= 0.00189\n",
      "  HOMO = 1.54547124446218  LUMO = 2.45461908990438\n",
      "cycle= 107 E= -10.4981063431334  delta_E= 2.69e-05  |g|= 0.00364  |ddm|= 0.0101\n",
      "  HOMO = 1.54545972149102  LUMO = 2.45458418474964\n",
      "cycle= 108 E= -10.4981098839602  delta_E= -3.54e-06  |g|= 0.00354  |ddm|= 0.0116\n",
      "  HOMO = 1.54542643447956  LUMO = 2.45465736151802\n",
      "cycle= 109 E= -10.4981035723008  delta_E= 6.31e-06  |g|= 0.00359  |ddm|= 0.0126\n",
      "  HOMO = 1.54534606684721  LUMO = 2.45467548260141\n",
      "cycle= 110 E= -10.4980998590256  delta_E= 3.71e-06  |g|= 0.00359  |ddm|= 0.00248\n",
      "  HOMO = 1.54537451843362  LUMO = 2.45459694405877\n",
      "cycle= 111 E= -10.4981039816632  delta_E= -4.12e-06  |g|= 0.00355  |ddm|= 0.00317\n",
      "  HOMO = 1.54549017837589  LUMO = 2.4545045424525\n",
      "cycle= 112 E= -10.498107898239  delta_E= -3.92e-06  |g|= 0.00356  |ddm|= 0.00454\n",
      "  HOMO = 1.54546383864624  LUMO = 2.4544860405001\n",
      "cycle= 113 E= -10.4981090307695  delta_E= -1.13e-06  |g|= 0.00354  |ddm|= 0.00129\n",
      "  HOMO = 1.5454089439681  LUMO = 2.45456418286904\n",
      "cycle= 114 E= -10.4981147688951  delta_E= -5.74e-06  |g|= 0.00338  |ddm|= 0.0111\n",
      "  HOMO = 1.54554216738603  LUMO = 2.45447053831457\n",
      "cycle= 115 E= -10.4981309986158  delta_E= -1.62e-05  |g|= 0.00334  |ddm|= 0.00683\n",
      "  HOMO = 1.54594287565409  LUMO = 2.45408001682328\n",
      "cycle= 116 E= -10.4981472256811  delta_E= -1.62e-05  |g|= 0.00335  |ddm|= 0.015\n",
      "  HOMO = 1.54593813549897  LUMO = 2.45412007327433\n",
      "cycle= 117 E= -10.4981303023537  delta_E= 1.69e-05  |g|= 0.00303  |ddm|= 0.0153\n",
      "  HOMO = 1.54575368186329  LUMO = 2.45421487792525\n",
      "cycle= 118 E= -10.4981382679502  delta_E= -7.97e-06  |g|= 0.00281  |ddm|= 0.0132\n",
      "  HOMO = 1.54595269460743  LUMO = 2.45406932211295\n",
      "cycle= 119 E= -10.4981382567114  delta_E= 1.12e-08  |g|= 0.00273  |ddm|= 0.0101\n",
      "  HOMO = 1.54600948943097  LUMO = 2.454020902965\n",
      "cycle= 120 E= -10.498141007923  delta_E= -2.75e-06  |g|= 0.00276  |ddm|= 0.00107\n",
      "  HOMO = 1.54592170288689  LUMO = 2.4540774206879\n",
      "cycle= 121 E= -10.4981371547601  delta_E= 3.85e-06  |g|= 0.00268  |ddm|= 0.00269\n",
      "  HOMO = 1.54591246271449  LUMO = 2.45408943140138\n",
      "cycle= 122 E= -10.498133954464  delta_E= 3.2e-06  |g|= 0.00264  |ddm|= 0.00224\n",
      "  HOMO = 1.54591927421987  LUMO = 2.45408663122164\n",
      "cycle= 123 E= -10.4981362575531  delta_E= -2.3e-06  |g|= 0.00263  |ddm|= 0.00252\n",
      "  HOMO = 1.54584334507867  LUMO = 2.45415560704067\n",
      "cycle= 124 E= -10.4981329004226  delta_E= 3.36e-06  |g|= 0.0027  |ddm|= 0.00319\n",
      "  HOMO = 1.5459954627911  LUMO = 2.45399540031017\n",
      "cycle= 125 E= -10.4981395286856  delta_E= -6.63e-06  |g|= 0.00265  |ddm|= 0.00612\n",
      "  HOMO = 1.5460184727568  LUMO = 2.45399738940424\n",
      "cycle= 126 E= -10.4981394751955  delta_E= 5.35e-08  |g|= 0.00262  |ddm|= 0.00681\n",
      "  HOMO = 1.54601693303827  LUMO = 2.45398340970583\n",
      "cycle= 127 E= -10.4981408902955  delta_E= -1.42e-06  |g|= 0.00263  |ddm|= 0.00384\n",
      "  HOMO = 1.54604363680741  LUMO = 2.45394150991266\n",
      "cycle= 128 E= -10.4981426188799  delta_E= -1.73e-06  |g|= 0.00263  |ddm|= 0.00127\n",
      "  HOMO = 1.54598579136004  LUMO = 2.45397080644627\n",
      "cycle= 129 E= -10.4981400089135  delta_E= 2.61e-06  |g|= 0.00262  |ddm|= 0.00336\n",
      "  HOMO = 1.54602684135117  LUMO = 2.45394219189705\n",
      "cycle= 130 E= -10.4981433170111  delta_E= -3.31e-06  |g|= 0.00264  |ddm|= 0.00158\n",
      "  HOMO = 1.54600113279791  LUMO = 2.45396970402323\n",
      "cycle= 131 E= -10.4981408434491  delta_E= 2.47e-06  |g|= 0.00263  |ddm|= 0.00153\n",
      "  HOMO = 1.54598681944451  LUMO = 2.45406385445238\n",
      "cycle= 132 E= -10.4981368288651  delta_E= 4.01e-06  |g|= 0.00265  |ddm|= 0.00222\n",
      "  HOMO = 1.5460508139628  LUMO = 2.45400918750848\n",
      "cycle= 133 E= -10.4981415435057  delta_E= -4.71e-06  |g|= 0.00265  |ddm|= 0.00228\n",
      "  HOMO = 1.54604662457675  LUMO = 2.45398557004277\n",
      "cycle= 134 E= -10.4981438720793  delta_E= -2.33e-06  |g|= 0.00266  |ddm|= 0.0056\n",
      "  HOMO = 1.54609809423536  LUMO = 2.45397862218674\n",
      "cycle= 135 E= -10.4981431493249  delta_E= 7.23e-07  |g|= 0.00265  |ddm|= 0.012\n",
      "  HOMO = 1.54608431512225  LUMO = 2.4539648247378\n",
      "cycle= 136 E= -10.4981434481693  delta_E= -2.99e-07  |g|= 0.00266  |ddm|= 0.00231\n",
      "  HOMO = 1.54609928929642  LUMO = 2.45391681553557\n",
      "cycle= 137 E= -10.4981470980529  delta_E= -3.65e-06  |g|= 0.00266  |ddm|= 0.00272\n",
      "  HOMO = 1.54611318556625  LUMO = 2.45387097441401\n",
      "cycle= 138 E= -10.4981495413987  delta_E= -2.44e-06  |g|= 0.00268  |ddm|= 0.00244\n",
      "  HOMO = 1.54606301200646  LUMO = 2.45390988332558\n",
      "cycle= 139 E= -10.4981449540194  delta_E= 4.59e-06  |g|= 0.00267  |ddm|= 0.00185\n",
      "  HOMO = 1.54596055858433  LUMO = 2.45402654531832\n",
      "cycle= 140 E= -10.4981343263005  delta_E= 1.06e-05  |g|= 0.0027  |ddm|= 0.00691\n",
      "  HOMO = 1.54594742345797  LUMO = 2.45393566124304\n",
      "cycle= 141 E= -10.4981413553591  delta_E= -7.03e-06  |g|= 0.00269  |ddm|= 0.00506\n",
      "  HOMO = 1.54609881280284  LUMO = 2.45391129123501\n",
      "cycle= 142 E= -10.4981492174951  delta_E= -7.86e-06  |g|= 0.00275  |ddm|= 0.00411\n",
      "  HOMO = 1.54590860824315  LUMO = 2.45418677546166\n",
      "cycle= 143 E= -10.4981283529688  delta_E= 2.09e-05  |g|= 0.00259  |ddm|= 0.0182\n",
      "  HOMO = 1.54567811990517  LUMO = 2.45438004335815\n",
      "cycle= 144 E= -10.4981216571756  delta_E= 6.7e-06  |g|= 0.00247  |ddm|= 0.018\n",
      "  HOMO = 1.54579279297001  LUMO = 2.45424340028011\n",
      "cycle= 145 E= -10.4981228441441  delta_E= -1.19e-06  |g|= 0.00244  |ddm|= 0.00146\n",
      "  HOMO = 1.54589669105473  LUMO = 2.45417518442021\n",
      "cycle= 146 E= -10.4981280230484  delta_E= -5.18e-06  |g|= 0.00245  |ddm|= 0.00949\n",
      "  HOMO = 1.54596827644623  LUMO = 2.45406376249927\n",
      "cycle= 147 E= -10.4981342945522  delta_E= -6.27e-06  |g|= 0.00246  |ddm|= 0.00229\n",
      "  HOMO = 1.54587442186355  LUMO = 2.45414378546036\n",
      "cycle= 148 E= -10.498126715709  delta_E= 7.58e-06  |g|= 0.00246  |ddm|= 0.00274\n",
      "  HOMO = 1.54579095624093  LUMO = 2.45422249058856\n",
      "cycle= 149 E= -10.4981175138071  delta_E= 9.2e-06  |g|= 0.00246  |ddm|= 0.00433\n",
      "  HOMO = 1.54585497095247  LUMO = 2.45411647306374\n",
      "cycle= 150 E= -10.4981244508815  delta_E= -6.94e-06  |g|= 0.00253  |ddm|= 0.0032\n",
      "  HOMO = 1.54587480224773  LUMO = 2.45408009415749\n",
      "cycle= 151 E= -10.4981219288641  delta_E= 2.52e-06  |g|= 0.00248  |ddm|= 0.00394\n",
      "  HOMO = 1.54586469667946  LUMO = 2.45410054665948\n",
      "cycle= 152 E= -10.4981224215177  delta_E= -4.93e-07  |g|= 0.00239  |ddm|= 0.0163\n",
      "  HOMO = 1.54572701290535  LUMO = 2.45422029146457\n",
      "cycle= 153 E= -10.4981186395561  delta_E= 3.78e-06  |g|= 0.00237  |ddm|= 0.00221\n",
      "  HOMO = 1.54567966539643  LUMO = 2.45432946451663\n",
      "cycle= 154 E= -10.4981113070379  delta_E= 7.33e-06  |g|= 0.00232  |ddm|= 0.00585\n",
      "  HOMO = 1.54566966440852  LUMO = 2.45431197007432\n",
      "cycle= 155 E= -10.498105255075  delta_E= 6.05e-06  |g|= 0.00227  |ddm|= 0.00907\n",
      "  HOMO = 1.54572901641455  LUMO = 2.45430333665193\n",
      "cycle= 156 E= -10.4981052125649  delta_E= 4.25e-08  |g|= 0.00226  |ddm|= 0.00751\n",
      "  HOMO = 1.54586853965214  LUMO = 2.45418129028161\n",
      "cycle= 157 E= -10.498112027207  delta_E= -6.81e-06  |g|= 0.00225  |ddm|= 0.00427\n",
      "  HOMO = 1.54592502059367  LUMO = 2.45410690440367\n",
      "cycle= 158 E= -10.4981156370396  delta_E= -3.61e-06  |g|= 0.00226  |ddm|= 0.0019\n",
      "  HOMO = 1.54591570899671  LUMO = 2.45410556564626\n",
      "cycle= 159 E= -10.49811269236  delta_E= 2.94e-06  |g|= 0.00224  |ddm|= 0.00227\n",
      "  HOMO = 1.5458404273894  LUMO = 2.45415520555868\n",
      "cycle= 160 E= -10.4981057088543  delta_E= 6.98e-06  |g|= 0.00216  |ddm|= 0.00603\n",
      "  HOMO = 1.54573931074685  LUMO = 2.45428082288962\n",
      "cycle= 161 E= -10.4981018527687  delta_E= 3.86e-06  |g|= 0.00214  |ddm|= 0.00406\n",
      "  HOMO = 1.54570624666534  LUMO = 2.45429055614366\n",
      "cycle= 162 E= -10.498101608553  delta_E= 2.44e-07  |g|= 0.00212  |ddm|= 0.003\n",
      "  HOMO = 1.54572377988903  LUMO = 2.45429956516773\n",
      "cycle= 163 E= -10.4981015745434  delta_E= 3.4e-08  |g|= 0.00213  |ddm|= 0.00372\n",
      "  HOMO = 1.54572907544067  LUMO = 2.4542941371686\n",
      "cycle= 164 E= -10.4981016362237  delta_E= -6.17e-08  |g|= 0.00213  |ddm|= 0.000369\n",
      "  HOMO = 1.54575114230308  LUMO = 2.45426731824068\n",
      "cycle= 165 E= -10.4981049431063  delta_E= -3.31e-06  |g|= 0.00213  |ddm|= 0.00297\n",
      "  HOMO = 1.54572544593099  LUMO = 2.45430597301411\n",
      "cycle= 166 E= -10.498102693656  delta_E= 2.25e-06  |g|= 0.00212  |ddm|= 0.00107\n",
      "  HOMO = 1.54552835294254  LUMO = 2.45444954983655\n",
      "cycle= 167 E= -10.4980882755723  delta_E= 1.44e-05  |g|= 0.00208  |ddm|= 0.00584\n",
      "  HOMO = 1.54534927269349  LUMO = 2.45469365984932\n",
      "cycle= 168 E= -10.498075178777  delta_E= 1.31e-05  |g|= 0.00202  |ddm|= 0.00841\n",
      "  HOMO = 1.54540047640408  LUMO = 2.45461246974866\n",
      "cycle= 169 E= -10.4980759011307  delta_E= -7.22e-07  |g|= 0.00203  |ddm|= 0.00166\n",
      "  HOMO = 1.54540594119727  LUMO = 2.45460219577285\n",
      "cycle= 170 E= -10.498074535882  delta_E= 1.37e-06  |g|= 0.00202  |ddm|= 0.00116\n",
      "  HOMO = 1.54541095361933  LUMO = 2.45458200920993\n",
      "cycle= 171 E= -10.4980764474778  delta_E= -1.91e-06  |g|= 0.00204  |ddm|= 0.00188\n",
      "  HOMO = 1.54539017810258  LUMO = 2.45459293514618\n",
      "cycle= 172 E= -10.4980748941523  delta_E= 1.55e-06  |g|= 0.00202  |ddm|= 0.00197\n",
      "  HOMO = 1.54535867266634  LUMO = 2.45463908422956\n",
      "cycle= 173 E= -10.4980706380484  delta_E= 4.26e-06  |g|= 0.00201  |ddm|= 0.00457\n",
      "  HOMO = 1.5453433677901  LUMO = 2.45465672332304\n",
      "cycle= 174 E= -10.4980693891221  delta_E= 1.25e-06  |g|= 0.002  |ddm|= 0.000671\n",
      "  HOMO = 1.5453351496259  LUMO = 2.45467181540769\n",
      "cycle= 175 E= -10.4980659816407  delta_E= 3.41e-06  |g|= 0.00199  |ddm|= 0.00169\n",
      "  HOMO = 1.54518594637713  LUMO = 2.45475062982981\n",
      "cycle= 176 E= -10.4980550830882  delta_E= 1.09e-05  |g|= 0.00196  |ddm|= 0.00535\n",
      "  HOMO = 1.54515465648136  LUMO = 2.4548740242742\n",
      "cycle= 177 E= -10.4980475715039  delta_E= 7.51e-06  |g|= 0.002  |ddm|= 0.00482\n",
      "  HOMO = 1.54517967937219  LUMO = 2.45486731199662\n",
      "cycle= 178 E= -10.4980487148079  delta_E= -1.14e-06  |g|= 0.00198  |ddm|= 0.00102\n",
      "  HOMO = 1.54498521621335  LUMO = 2.45504857948079\n",
      "cycle= 179 E= -10.498033666922  delta_E= 1.5e-05  |g|= 0.00183  |ddm|= 0.00974\n",
      "  HOMO = 1.54491031963449  LUMO = 2.45507283254102\n",
      "cycle= 180 E= -10.4980302582989  delta_E= 3.41e-06  |g|= 0.00183  |ddm|= 0.00335\n",
      "  HOMO = 1.54491140262339  LUMO = 2.45507243194836\n",
      "cycle= 181 E= -10.4980301795545  delta_E= 7.87e-08  |g|= 0.00183  |ddm|= 0.000667\n",
      "  HOMO = 1.5449102779471  LUMO = 2.45507164966857\n",
      "cycle= 182 E= -10.4980303004239  delta_E= -1.21e-07  |g|= 0.00183  |ddm|= 0.00183\n",
      "  HOMO = 1.54490489237496  LUMO = 2.4550746570148\n",
      "cycle= 183 E= -10.498030291905  delta_E= 8.52e-09  |g|= 0.00183  |ddm|= 0.00113\n",
      "  HOMO = 1.54497085901412  LUMO = 2.45500219504532\n",
      "cycle= 184 E= -10.4980347732366  delta_E= -4.48e-06  |g|= 0.00184  |ddm|= 0.00267\n",
      "  HOMO = 1.54489193624118  LUMO = 2.45507728110569\n",
      "cycle= 185 E= -10.498028646791  delta_E= 6.13e-06  |g|= 0.00181  |ddm|= 0.00364\n",
      "  HOMO = 1.54481259642405  LUMO = 2.45521254547874\n",
      "cycle= 186 E= -10.4980194106963  delta_E= 9.24e-06  |g|= 0.00176  |ddm|= 0.00618\n",
      "  HOMO = 1.5446704641068  LUMO = 2.45533049696186\n",
      "cycle= 187 E= -10.4980032196947  delta_E= 1.62e-05  |g|= 0.00176  |ddm|= 0.0166\n",
      "  HOMO = 1.54466398322455  LUMO = 2.45530543966958\n",
      "cycle= 188 E= -10.4980000464326  delta_E= 3.17e-06  |g|= 0.00159  |ddm|= 0.00479\n",
      "  HOMO = 1.54476731095754  LUMO = 2.45526067597152\n",
      "cycle= 189 E= -10.498001510037  delta_E= -1.46e-06  |g|= 0.00147  |ddm|= 0.00393\n",
      "  HOMO = 1.54461655435099  LUMO = 2.45541468051677\n",
      "cycle= 190 E= -10.4979931772922  delta_E= 8.33e-06  |g|= 0.0011  |ddm|= 0.0195\n",
      "  HOMO = 1.54459248251215  LUMO = 2.4553982913177\n",
      "cycle= 191 E= -10.4979940638236  delta_E= -8.87e-07  |g|= 0.0011  |ddm|= 0.00319\n",
      "  HOMO = 1.54459132874117  LUMO = 2.45541952520209\n",
      "cycle= 192 E= -10.4979945227812  delta_E= -4.59e-07  |g|= 0.00112  |ddm|= 0.00139\n",
      "  HOMO = 1.54463699060803  LUMO = 2.45538382865292\n",
      "cycle= 193 E= -10.4979938778757  delta_E= 6.45e-07  |g|= 0.00107  |ddm|= 0.00286\n",
      "  HOMO = 1.54467526925611  LUMO = 2.45534014795885\n",
      "cycle= 194 E= -10.4979936993078  delta_E= 1.79e-07  |g|= 0.00102  |ddm|= 0.00531\n",
      "  HOMO = 1.54464693727818  LUMO = 2.45534860667636\n",
      "cycle= 195 E= -10.4979938111781  delta_E= -1.12e-07  |g|= 0.00102  |ddm|= 0.00274\n",
      "  HOMO = 1.5446363433608  LUMO = 2.45536709036972\n",
      "cycle= 196 E= -10.4979942220064  delta_E= -4.11e-07  |g|= 0.00105  |ddm|= 0.00249\n",
      "  HOMO = 1.54458581101482  LUMO = 2.4554178305607\n",
      "cycle= 197 E= -10.4979932354528  delta_E= 9.87e-07  |g|= 0.00099  |ddm|= 0.00149\n",
      "  HOMO = 1.54459377696814  LUMO = 2.45542300723491\n",
      "cycle= 198 E= -10.4979934274854  delta_E= -1.92e-07  |g|= 0.000998  |ddm|= 0.000762\n",
      "  HOMO = 1.54457960686939  LUMO = 2.45542675673805\n",
      "cycle= 199 E= -10.4979938495255  delta_E= -4.22e-07  |g|= 0.000998  |ddm|= 0.00257\n",
      "  HOMO = 1.5445350710079  LUMO = 2.45544704190944\n",
      "cycle= 200 E= -10.4979927309029  delta_E= 1.12e-06  |g|= 0.000992  |ddm|= 0.00326\n",
      "  HOMO = 1.544534825069  LUMO = 2.45545042144639\n",
      "cycle= 201 E= -10.4979927712726  delta_E= -4.04e-08  |g|= 0.000994  |ddm|= 0.00024\n",
      "  HOMO = 1.54455364667631  LUMO = 2.45544749238851\n",
      "cycle= 202 E= -10.4979923870042  delta_E= 3.84e-07  |g|= 0.000959  |ddm|= 0.00241\n",
      "  HOMO = 1.54456115881497  LUMO = 2.45542978282214\n",
      "cycle= 203 E= -10.4979913889169  delta_E= 9.98e-07  |g|= 0.000896  |ddm|= 0.00445\n",
      "  HOMO = 1.54457240226956  LUMO = 2.45541651862636\n",
      "cycle= 204 E= -10.4979917078895  delta_E= -3.19e-07  |g|= 0.000882  |ddm|= 0.00404\n",
      "  HOMO = 1.54458660259359  LUMO = 2.45539030354608\n",
      "cycle= 205 E= -10.497992648594  delta_E= -9.41e-07  |g|= 0.000893  |ddm|= 0.00232\n",
      "  HOMO = 1.54457324948876  LUMO = 2.45539238045868\n",
      "cycle= 206 E= -10.497992079949  delta_E= 5.69e-07  |g|= 0.000868  |ddm|= 0.000804\n",
      "  HOMO = 1.54456942280234  LUMO = 2.45542768909564\n",
      "cycle= 207 E= -10.4979918762259  delta_E= 2.04e-07  |g|= 0.000861  |ddm|= 0.00123\n",
      "  HOMO = 1.54456800110397  LUMO = 2.45543584671447\n",
      "cycle= 208 E= -10.497991418349  delta_E= 4.58e-07  |g|= 0.000863  |ddm|= 0.000968\n",
      "  HOMO = 1.54457637641256  LUMO = 2.45543477001138\n",
      "cycle= 209 E= -10.4979917817191  delta_E= -3.63e-07  |g|= 0.000865  |ddm|= 0.000671\n",
      "  HOMO = 1.54458502880278  LUMO = 2.45544452757808\n",
      "cycle= 210 E= -10.4979915153763  delta_E= 2.66e-07  |g|= 0.000866  |ddm|= 0.000821\n",
      "  HOMO = 1.54457426509741  LUMO = 2.45544212060415\n",
      "cycle= 211 E= -10.497991307077  delta_E= 2.08e-07  |g|= 0.000882  |ddm|= 0.00143\n",
      "  HOMO = 1.54457139027894  LUMO = 2.4554400360456\n",
      "cycle= 212 E= -10.4979914831665  delta_E= -1.76e-07  |g|= 0.000864  |ddm|= 0.00226\n",
      "  HOMO = 1.54457540883016  LUMO = 2.45540773394773\n",
      "cycle= 213 E= -10.497992117526  delta_E= -6.34e-07  |g|= 0.000849  |ddm|= 0.00339\n",
      "  HOMO = 1.54458386992759  LUMO = 2.4554031352733\n",
      "cycle= 214 E= -10.4979927138194  delta_E= -5.96e-07  |g|= 0.000858  |ddm|= 0.00105\n",
      "  HOMO = 1.5445977627023  LUMO = 2.45541740520594\n",
      "cycle= 215 E= -10.4979909409396  delta_E= 1.77e-06  |g|= 0.000816  |ddm|= 0.00255\n",
      "  HOMO = 1.54457963021704  LUMO = 2.4554309878734\n",
      "cycle= 216 E= -10.4979902183488  delta_E= 7.23e-07  |g|= 0.000813  |ddm|= 0.00146\n",
      "  HOMO = 1.54457219978591  LUMO = 2.45543807052823\n",
      "cycle= 217 E= -10.4979899989275  delta_E= 2.19e-07  |g|= 0.000815  |ddm|= 0.000516\n",
      "  HOMO = 1.54455757881091  LUMO = 2.45544231869173\n",
      "cycle= 218 E= -10.4979906856588  delta_E= -6.87e-07  |g|= 0.000827  |ddm|= 0.00105\n",
      "  HOMO = 1.54456261584864  LUMO = 2.45541938067417\n",
      "cycle= 219 E= -10.497989949901  delta_E= 7.36e-07  |g|= 0.000817  |ddm|= 0.00132\n",
      "  HOMO = 1.54457319750146  LUMO = 2.45542157137843\n",
      "cycle= 220 E= -10.4979895350036  delta_E= 4.15e-07  |g|= 0.000814  |ddm|= 0.000937\n",
      "  HOMO = 1.54457053269383  LUMO = 2.45542344177109\n",
      "cycle= 221 E= -10.497989478856  delta_E= 5.61e-08  |g|= 0.000816  |ddm|= 0.000257\n",
      "  HOMO = 1.54457714827668  LUMO = 2.45541525063683\n",
      "cycle= 222 E= -10.4979896670705  delta_E= -1.88e-07  |g|= 0.000815  |ddm|= 0.00105\n",
      "  HOMO = 1.54458690974597  LUMO = 2.45541410607939\n",
      "cycle= 223 E= -10.4979906584816  delta_E= -9.91e-07  |g|= 0.000833  |ddm|= 0.00182\n",
      "  HOMO = 1.54459285153014  LUMO = 2.45541840905826\n",
      "cycle= 224 E= -10.497989529058  delta_E= 1.13e-06  |g|= 0.000799  |ddm|= 0.00172\n",
      "  HOMO = 1.54456884293273  LUMO = 2.45542779742508\n",
      "cycle= 225 E= -10.4979882288894  delta_E= 1.3e-06  |g|= 0.000765  |ddm|= 0.00287\n",
      "  HOMO = 1.54451489832351  LUMO = 2.4554680699673\n",
      "cycle= 226 E= -10.4979876210414  delta_E= 6.08e-07  |g|= 0.000731  |ddm|= 0.0047\n",
      "  HOMO = 1.54451176316195  LUMO = 2.45548465335755\n",
      "cycle= 227 E= -10.4979878289388  delta_E= -2.08e-07  |g|= 0.000743  |ddm|= 0.0016\n",
      "  HOMO = 1.54450961217075  LUMO = 2.45547990281399\n",
      "cycle= 228 E= -10.4979874095698  delta_E= 4.19e-07  |g|= 0.000729  |ddm|= 0.000994\n",
      "  HOMO = 1.54452166807014  LUMO = 2.4554732861589\n",
      "cycle= 229 E= -10.4979874172243  delta_E= -7.65e-09  |g|= 0.000726  |ddm|= 0.000754\n",
      "  HOMO = 1.54452148634252  LUMO = 2.45547045129467\n",
      "cycle= 230 E= -10.4979873813661  delta_E= 3.59e-08  |g|= 0.000731  |ddm|= 0.000362\n",
      "  HOMO = 1.54451409956185  LUMO = 2.45547751245683\n",
      "cycle= 231 E= -10.4979872441683  delta_E= 1.37e-07  |g|= 0.000726  |ddm|= 0.000341\n",
      "  HOMO = 1.54451631442173  LUMO = 2.45547743722577\n",
      "cycle= 232 E= -10.4979879479053  delta_E= -7.04e-07  |g|= 0.000751  |ddm|= 0.00154\n",
      "  HOMO = 1.54451421085544  LUMO = 2.45548838438651\n",
      "cycle= 233 E= -10.4979873072471  delta_E= 6.41e-07  |g|= 0.000736  |ddm|= 0.0013\n",
      "  HOMO = 1.54450050274624  LUMO = 2.45549426811921\n",
      "cycle= 234 E= -10.4979865857175  delta_E= 7.22e-07  |g|= 0.000713  |ddm|= 0.00193\n",
      "  HOMO = 1.54449552936656  LUMO = 2.45550249653507\n",
      "cycle= 235 E= -10.4979859835267  delta_E= 6.02e-07  |g|= 0.000713  |ddm|= 0.00319\n",
      "  HOMO = 1.54449628265753  LUMO = 2.45550633675135\n",
      "cycle= 236 E= -10.4979859267496  delta_E= 5.68e-08  |g|= 0.000705  |ddm|= 0.000894\n",
      "  HOMO = 1.54449042357535  LUMO = 2.45549752900074\n",
      "cycle= 237 E= -10.497985718826  delta_E= 2.08e-07  |g|= 0.000696  |ddm|= 0.000814\n",
      "  HOMO = 1.54450940335841  LUMO = 2.45550389171239\n",
      "cycle= 238 E= -10.4979855576374  delta_E= 1.61e-07  |g|= 0.000679  |ddm|= 0.0018\n",
      "  HOMO = 1.54450022381642  LUMO = 2.45549771296495\n",
      "cycle= 239 E= -10.4979858455221  delta_E= -2.88e-07  |g|= 0.000672  |ddm|= 0.00441\n",
      "  HOMO = 1.54450694327873  LUMO = 2.45549692037531\n",
      "cycle= 240 E= -10.4979864442554  delta_E= -5.99e-07  |g|= 0.000641  |ddm|= 0.00274\n",
      "  HOMO = 1.54451342936444  LUMO = 2.4554916428717\n",
      "cycle= 241 E= -10.4979864774886  delta_E= -3.32e-08  |g|= 0.000678  |ddm|= 0.00141\n",
      "  HOMO = 1.54452057093599  LUMO = 2.45548590686763\n",
      "cycle= 242 E= -10.4979861705413  delta_E= 3.07e-07  |g|= 0.000654  |ddm|= 0.00097\n",
      "  HOMO = 1.54450252252079  LUMO = 2.45549163047811\n",
      "cycle= 243 E= -10.497985580017  delta_E= 5.91e-07  |g|= 0.000616  |ddm|= 0.00582\n",
      "  HOMO = 1.54450772043459  LUMO = 2.4554846134315\n",
      "cycle= 244 E= -10.4979855654966  delta_E= 1.45e-08  |g|= 0.000619  |ddm|= 0.00164\n",
      "  HOMO = 1.54450583555268  LUMO = 2.45548614170836\n",
      "cycle= 245 E= -10.4979855793603  delta_E= -1.39e-08  |g|= 0.000613  |ddm|= 0.00128\n",
      "  HOMO = 1.54450912776751  LUMO = 2.45549239943663\n",
      "cycle= 246 E= -10.4979857642157  delta_E= -1.85e-07  |g|= 0.000588  |ddm|= 0.00334\n",
      "  HOMO = 1.54451573927268  LUMO = 2.45547344697607\n",
      "cycle= 247 E= -10.4979863042147  delta_E= -5.4e-07  |g|= 0.000588  |ddm|= 0.00251\n",
      "  HOMO = 1.54451880792489  LUMO = 2.45547815085941\n",
      "cycle= 248 E= -10.4979862313057  delta_E= 7.29e-08  |g|= 0.000591  |ddm|= 0.000407\n",
      "  HOMO = 1.54452145212869  LUMO = 2.45548079097796\n",
      "cycle= 249 E= -10.4979863131027  delta_E= -8.18e-08  |g|= 0.000589  |ddm|= 0.000631\n",
      "  HOMO = 1.54451802043035  LUMO = 2.45548347495605\n",
      "cycle= 250 E= -10.4979864435345  delta_E= -1.3e-07  |g|= 0.000672  |ddm|= 0.00105\n",
      "  HOMO = 1.54451888149835  LUMO = 2.45548339901795\n",
      "cycle= 251 E= -10.497986480583  delta_E= -3.7e-08  |g|= 0.000605  |ddm|= 0.00227\n",
      "  HOMO = 1.54451605527417  LUMO = 2.4554824902915\n",
      "cycle= 252 E= -10.4979867759639  delta_E= -2.95e-07  |g|= 0.000577  |ddm|= 0.00176\n",
      "  HOMO = 1.54452061207275  LUMO = 2.45548396111337\n",
      "cycle= 253 E= -10.4979862281136  delta_E= 5.48e-07  |g|= 0.000566  |ddm|= 0.00271\n",
      "  HOMO = 1.54452030772401  LUMO = 2.45548272535049\n",
      "cycle= 254 E= -10.4979858325413  delta_E= 3.96e-07  |g|= 0.000532  |ddm|= 0.00574\n",
      "  HOMO = 1.54451993788608  LUMO = 2.45548195510053\n",
      "cycle= 255 E= -10.4979859346933  delta_E= -1.02e-07  |g|= 0.000536  |ddm|= 0.000662\n",
      "  HOMO = 1.54451579545611  LUMO = 2.45547899515027\n",
      "cycle= 256 E= -10.4979859675677  delta_E= -3.29e-08  |g|= 0.000544  |ddm|= 0.000176\n",
      "  HOMO = 1.54451465060663  LUMO = 2.45547341710269\n",
      "cycle= 257 E= -10.4979860206781  delta_E= -5.31e-08  |g|= 0.000531  |ddm|= 0.000451\n",
      "  HOMO = 1.54452051312781  LUMO = 2.45547692104343\n",
      "cycle= 258 E= -10.4979862463703  delta_E= -2.26e-07  |g|= 0.000529  |ddm|= 0.000777\n",
      "  HOMO = 1.54452969318638  LUMO = 2.45547887621066\n",
      "cycle= 259 E= -10.497985944605  delta_E= 3.02e-07  |g|= 0.0005  |ddm|= 0.00112\n",
      "  HOMO = 1.54452703315299  LUMO = 2.45547660659269\n",
      "cycle= 260 E= -10.4979862967832  delta_E= -3.52e-07  |g|= 0.000468  |ddm|= 0.00222\n",
      "  HOMO = 1.54451881140401  LUMO = 2.45547643258588\n",
      "cycle= 261 E= -10.4979868105465  delta_E= -5.14e-07  |g|= 0.000456  |ddm|= 0.00185\n",
      "  HOMO = 1.54451790370333  LUMO = 2.45548216866245\n",
      "cycle= 262 E= -10.4979874276806  delta_E= -6.17e-07  |g|= 0.000451  |ddm|= 0.00199\n",
      "  HOMO = 1.54452123295192  LUMO = 2.45548044472108\n",
      "cycle= 263 E= -10.4979874192293  delta_E= 8.45e-09  |g|= 0.000454  |ddm|= 0.000448\n",
      "  HOMO = 1.54452259752232  LUMO = 2.45548024167379\n",
      "cycle= 264 E= -10.4979874034942  delta_E= 1.57e-08  |g|= 0.000451  |ddm|= 0.001\n",
      "  HOMO = 1.54452037042798  LUMO = 2.45547692615041\n",
      "cycle= 265 E= -10.4979874021412  delta_E= 1.35e-09  |g|= 0.000459  |ddm|= 0.000335\n",
      "  HOMO = 1.54452074031362  LUMO = 2.45547440667052\n",
      "cycle= 266 E= -10.497987377275  delta_E= 2.49e-08  |g|= 0.000455  |ddm|= 0.000143\n",
      "  HOMO = 1.54452412908351  LUMO = 2.45547861303781\n",
      "cycle= 267 E= -10.4979873132859  delta_E= 6.4e-08  |g|= 0.000436  |ddm|= 0.000296\n",
      "  HOMO = 1.54452413260145  LUMO = 2.45547491926194\n",
      "cycle= 268 E= -10.497987328075  delta_E= -1.48e-08  |g|= 0.00043  |ddm|= 0.00218\n",
      "  HOMO = 1.54452419297748  LUMO = 2.45547372821676\n",
      "cycle= 269 E= -10.4979875567243  delta_E= -2.29e-07  |g|= 0.000433  |ddm|= 0.000505\n",
      "  HOMO = 1.54452123633407  LUMO = 2.45547693550007\n",
      "cycle= 270 E= -10.4979872257581  delta_E= 3.31e-07  |g|= 0.000428  |ddm|= 0.000918\n",
      "  HOMO = 1.54451255457895  LUMO = 2.45548631971201\n",
      "cycle= 271 E= -10.497986665392  delta_E= 5.6e-07  |g|= 0.00042  |ddm|= 0.00226\n",
      "  HOMO = 1.54451414347448  LUMO = 2.45548683990141\n",
      "cycle= 272 E= -10.497986560895  delta_E= 1.04e-07  |g|= 0.000424  |ddm|= 0.000533\n",
      "  HOMO = 1.5445126954068  LUMO = 2.45548672214766\n",
      "cycle= 273 E= -10.4979866167408  delta_E= -5.58e-08  |g|= 0.000413  |ddm|= 0.000548\n",
      "  HOMO = 1.54451246928493  LUMO = 2.45548866065877\n",
      "cycle= 274 E= -10.4979865920667  delta_E= 2.47e-08  |g|= 0.00041  |ddm|= 0.000828\n",
      "  HOMO = 1.54451375237785  LUMO = 2.45547903288476\n",
      "cycle= 275 E= -10.4979862258106  delta_E= 3.66e-07  |g|= 0.000402  |ddm|= 0.00136\n",
      "  HOMO = 1.544513095681  LUMO = 2.45548477775944\n",
      "cycle= 276 E= -10.4979862432255  delta_E= -1.74e-08  |g|= 0.000409  |ddm|= 0.000731\n",
      "  HOMO = 1.54451114044168  LUMO = 2.45548456324877\n",
      "cycle= 277 E= -10.4979861843854  delta_E= 5.88e-08  |g|= 0.00041  |ddm|= 0.000514\n",
      "  HOMO = 1.54451117163854  LUMO = 2.45548303245625\n",
      "cycle= 278 E= -10.497986167115  delta_E= 1.73e-08  |g|= 0.00041  |ddm|= 0.00087\n",
      "  HOMO = 1.54451006245502  LUMO = 2.45548510441734\n",
      "cycle= 279 E= -10.4979860253921  delta_E= 1.42e-07  |g|= 0.000408  |ddm|= 0.000709\n",
      "  HOMO = 1.54451466871936  LUMO = 2.45548850732879\n",
      "cycle= 280 E= -10.4979861631589  delta_E= -1.38e-07  |g|= 0.000412  |ddm|= 0.00117\n",
      "  HOMO = 1.54451539930599  LUMO = 2.45549097239228\n",
      "cycle= 281 E= -10.4979861110377  delta_E= 5.21e-08  |g|= 0.000408  |ddm|= 0.000164\n",
      "  HOMO = 1.54450928199863  LUMO = 2.45548911348973\n",
      "cycle= 282 E= -10.4979859683195  delta_E= 1.43e-07  |g|= 0.000405  |ddm|= 0.000501\n",
      "  HOMO = 1.544509304933  LUMO = 2.45548931257523\n",
      "cycle= 283 E= -10.4979859460001  delta_E= 2.23e-08  |g|= 0.000406  |ddm|= 8.95e-05\n",
      "  HOMO = 1.54450878534695  LUMO = 2.4554883368894\n",
      "cycle= 284 E= -10.4979861269974  delta_E= -1.81e-07  |g|= 0.000404  |ddm|= 0.000618\n",
      "  HOMO = 1.54450699822459  LUMO = 2.45548895915248\n",
      "cycle= 285 E= -10.4979860974232  delta_E= 2.96e-08  |g|= 0.000404  |ddm|= 0.000292\n",
      "  HOMO = 1.54450784383716  LUMO = 2.45549150223817\n",
      "cycle= 286 E= -10.497986083761  delta_E= 1.37e-08  |g|= 0.000404  |ddm|= 0.000311\n",
      "  HOMO = 1.5445113064355  LUMO = 2.45548527954913\n",
      "cycle= 287 E= -10.4979862795761  delta_E= -1.96e-07  |g|= 0.000413  |ddm|= 0.00226\n",
      "  HOMO = 1.54450916541727  LUMO = 2.45548696376845\n",
      "cycle= 288 E= -10.4979861336829  delta_E= 1.46e-07  |g|= 0.000415  |ddm|= 0.00126\n",
      "  HOMO = 1.54451305350701  LUMO = 2.45549208263859\n",
      "cycle= 289 E= -10.4979862460413  delta_E= -1.12e-07  |g|= 0.00042  |ddm|= 0.00101\n",
      "  HOMO = 1.54451634487373  LUMO = 2.45549105346108\n",
      "cycle= 290 E= -10.4979858007593  delta_E= 4.45e-07  |g|= 0.000394  |ddm|= 0.0013\n",
      "  HOMO = 1.54450342341458  LUMO = 2.45549172883883\n",
      "cycle= 291 E= -10.4979853668153  delta_E= 4.34e-07  |g|= 0.000376  |ddm|= 0.00133\n",
      "  HOMO = 1.54450487672545  LUMO = 2.45549682537679\n",
      "cycle= 292 E= -10.497985267155  delta_E= 9.97e-08  |g|= 0.000382  |ddm|= 0.00191\n",
      "  HOMO = 1.54450364645261  LUMO = 2.45549956631354\n",
      "cycle= 293 E= -10.4979852737408  delta_E= -6.59e-09  |g|= 0.000384  |ddm|= 0.000179\n",
      "  HOMO = 1.54450619495153  LUMO = 2.45549767708913\n",
      "cycle= 294 E= -10.4979852902934  delta_E= -1.66e-08  |g|= 0.000381  |ddm|= 0.000328\n",
      "  HOMO = 1.54450532245561  LUMO = 2.45548953074214\n",
      "cycle= 295 E= -10.4979852969473  delta_E= -6.65e-09  |g|= 0.000384  |ddm|= 0.000589\n",
      "  HOMO = 1.54450167337363  LUMO = 2.45549124340005\n",
      "cycle= 296 E= -10.4979852647446  delta_E= 3.22e-08  |g|= 0.000384  |ddm|= 0.00033\n",
      "  HOMO = 1.54450216366708  LUMO = 2.45549026815216\n",
      "cycle= 297 E= -10.4979853256271  delta_E= -6.09e-08  |g|= 0.000384  |ddm|= 0.00108\n",
      "  HOMO = 1.54451034909385  LUMO = 2.45549151936255\n",
      "cycle= 298 E= -10.4979854516626  delta_E= -1.26e-07  |g|= 0.0004  |ddm|= 0.000629\n",
      "  HOMO = 1.54450990405909  LUMO = 2.45549124870613\n",
      "cycle= 299 E= -10.4979854776224  delta_E= -2.6e-08  |g|= 0.000401  |ddm|= 0.000112\n",
      "  HOMO = 1.54450456198941  LUMO = 2.4554886310518\n",
      "cycle= 300 E= -10.497985242407  delta_E= 2.35e-07  |g|= 0.000408  |ddm|= 0.00171\n",
      "  HOMO = 1.54449992001878  LUMO = 2.45548925234184\n",
      "cycle= 301 E= -10.4979852563245  delta_E= -1.39e-08  |g|= 0.000382  |ddm|= 0.00218\n",
      "  HOMO = 1.54450372698602  LUMO = 2.45549039603447\n",
      "cycle= 302 E= -10.4979852441623  delta_E= 1.22e-08  |g|= 0.000357  |ddm|= 0.00275\n",
      "  HOMO = 1.54450574732958  LUMO = 2.45549708988204\n",
      "cycle= 303 E= -10.4979854180432  delta_E= -1.74e-07  |g|= 0.000375  |ddm|= 0.00162\n",
      "  HOMO = 1.54450335947089  LUMO = 2.45550145075057\n",
      "cycle= 304 E= -10.4979851624821  delta_E= 2.56e-07  |g|= 0.000378  |ddm|= 0.00191\n",
      "  HOMO = 1.54450545019951  LUMO = 2.45549781454965\n",
      "cycle= 305 E= -10.4979853138265  delta_E= -1.51e-07  |g|= 0.000384  |ddm|= 0.000856\n",
      "  HOMO = 1.5445075521293  LUMO = 2.4554976040752\n",
      "cycle= 306 E= -10.4979851382624  delta_E= 1.76e-07  |g|= 0.000393  |ddm|= 0.00113\n",
      "  HOMO = 1.54450935358655  LUMO = 2.45549698698825\n",
      "cycle= 307 E= -10.4979851106347  delta_E= 2.76e-08  |g|= 0.000401  |ddm|= 0.000592\n",
      "  HOMO = 1.54450960881598  LUMO = 2.45549695675689\n",
      "cycle= 308 E= -10.4979851470423  delta_E= -3.64e-08  |g|= 0.000404  |ddm|= 0.00019\n",
      "  HOMO = 1.54450303658202  LUMO = 2.45550406411714\n",
      "cycle= 309 E= -10.497984874894  delta_E= 2.72e-07  |g|= 0.000409  |ddm|= 0.00198\n",
      "  HOMO = 1.5445023243153  LUMO = 2.45550456000479\n",
      "cycle= 310 E= -10.4979849157426  delta_E= -4.08e-08  |g|= 0.000406  |ddm|= 0.000619\n",
      "  HOMO = 1.54450957060475  LUMO = 2.45549781705131\n",
      "cycle= 311 E= -10.4979850423742  delta_E= -1.27e-07  |g|= 0.000421  |ddm|= 0.00153\n",
      "  HOMO = 1.54450306812042  LUMO = 2.45550024344931\n",
      "cycle= 312 E= -10.4979849497826  delta_E= 9.26e-08  |g|= 0.00039  |ddm|= 0.0014\n",
      "  HOMO = 1.54449847768388  LUMO = 2.45549916745586\n",
      "cycle= 313 E= -10.4979850609823  delta_E= -1.11e-07  |g|= 0.000426  |ddm|= 0.000729\n",
      "  HOMO = 1.54450310813607  LUMO = 2.45548889131224\n",
      "cycle= 314 E= -10.4979848629371  delta_E= 1.98e-07  |g|= 0.000374  |ddm|= 0.00285\n",
      "  HOMO = 1.54449410157845  LUMO = 2.45549855368407\n",
      "cycle= 315 E= -10.4979848594366  delta_E= 3.5e-09  |g|= 0.000369  |ddm|= 0.0015\n",
      "  HOMO = 1.54449621627488  LUMO = 2.45549714387542\n",
      "cycle= 316 E= -10.4979848916065  delta_E= -3.22e-08  |g|= 0.000362  |ddm|= 0.00043\n",
      "  HOMO = 1.54450500819952  LUMO = 2.45549047614583\n",
      "cycle= 317 E= -10.4979849462829  delta_E= -5.47e-08  |g|= 0.000338  |ddm|= 0.0014\n",
      "  HOMO = 1.54451410792276  LUMO = 2.45548930880448\n",
      "cycle= 318 E= -10.4979852466165  delta_E= -3e-07  |g|= 0.000312  |ddm|= 0.00111\n",
      "  HOMO = 1.54450844135284  LUMO = 2.45548608384734\n",
      "cycle= 319 E= -10.4979854366352  delta_E= -1.9e-07  |g|= 0.000345  |ddm|= 0.000588\n",
      "  HOMO = 1.54450612724838  LUMO = 2.45548540456992\n",
      "cycle= 320 E= -10.4979853362009  delta_E= 1e-07  |g|= 0.000316  |ddm|= 0.00152\n",
      "  HOMO = 1.54450501238087  LUMO = 2.4554862995166\n",
      "cycle= 321 E= -10.4979852256834  delta_E= 1.11e-07  |g|= 0.000279  |ddm|= 0.000856\n",
      "  HOMO = 1.54450967446561  LUMO = 2.4554922624103\n",
      "cycle= 322 E= -10.4979853028454  delta_E= -7.72e-08  |g|= 0.000277  |ddm|= 0.000438\n",
      "  HOMO = 1.54450765789181  LUMO = 2.45549265153047\n",
      "cycle= 323 E= -10.4979853527654  delta_E= -4.99e-08  |g|= 0.000278  |ddm|= 0.000332\n",
      "  HOMO = 1.54450724681665  LUMO = 2.45549215021897\n",
      "cycle= 324 E= -10.4979852992027  delta_E= 5.36e-08  |g|= 0.000276  |ddm|= 0.000536\n",
      "  HOMO = 1.54450592725416  LUMO = 2.45549577022606\n",
      "cycle= 325 E= -10.4979852529735  delta_E= 4.62e-08  |g|= 0.000274  |ddm|= 0.000726\n",
      "  HOMO = 1.54450527365652  LUMO = 2.45549577484314\n",
      "cycle= 326 E= -10.4979852341103  delta_E= 1.89e-08  |g|= 0.000274  |ddm|= 0.000246\n",
      "  HOMO = 1.54450557067014  LUMO = 2.45549514289599\n",
      "cycle= 327 E= -10.4979852382729  delta_E= -4.16e-09  |g|= 0.000274  |ddm|= 0.000177\n",
      "  HOMO = 1.5445058651286  LUMO = 2.45549531977779\n",
      "cycle= 328 E= -10.4979852360674  delta_E= 2.21e-09  |g|= 0.000274  |ddm|= 0.000102\n",
      "  HOMO = 1.54450542867953  LUMO = 2.4554948499367\n",
      "cycle= 329 E= -10.4979852384129  delta_E= -2.35e-09  |g|= 0.000277  |ddm|= 0.000299\n",
      "  HOMO = 1.54450510755691  LUMO = 2.45549388731551\n",
      "cycle= 330 E= -10.4979852804121  delta_E= -4.2e-08  |g|= 0.000275  |ddm|= 0.000235\n",
      "  HOMO = 1.54450569480457  LUMO = 2.45549464140126\n",
      "cycle= 331 E= -10.4979853006415  delta_E= -2.02e-08  |g|= 0.000276  |ddm|= 0.000101\n",
      "  HOMO = 1.54450632079331  LUMO = 2.45549665122768\n",
      "cycle= 332 E= -10.4979851820506  delta_E= 1.19e-07  |g|= 0.000273  |ddm|= 0.000456\n",
      "  HOMO = 1.54450464409849  LUMO = 2.45549662021232\n",
      "cycle= 333 E= -10.4979850564272  delta_E= 1.26e-07  |g|= 0.000269  |ddm|= 0.000787\n",
      "  HOMO = 1.54450265612785  LUMO = 2.45549648280869\n",
      "cycle= 334 E= -10.4979850460022  delta_E= 1.04e-08  |g|= 0.00027  |ddm|= 0.000208\n",
      "  HOMO = 1.54450221956847  LUMO = 2.45549663421295\n",
      "cycle= 335 E= -10.497985050664  delta_E= -4.66e-09  |g|= 0.00027  |ddm|= 0.000186\n",
      "  HOMO = 1.54450180069439  LUMO = 2.45549656552969\n",
      "cycle= 336 E= -10.4979850525653  delta_E= -1.9e-09  |g|= 0.000271  |ddm|= 8.43e-05\n",
      "  HOMO = 1.54450103466832  LUMO = 2.45549595417142\n",
      "cycle= 337 E= -10.4979850580214  delta_E= -5.46e-09  |g|= 0.00027  |ddm|= 0.000165\n",
      "  HOMO = 1.54450135842777  LUMO = 2.45549622858858\n",
      "cycle= 338 E= -10.4979850646566  delta_E= -6.64e-09  |g|= 0.00027  |ddm|= 2.69e-05\n",
      "  HOMO = 1.54450208794798  LUMO = 2.45549692515551\n",
      "cycle= 339 E= -10.4979850508014  delta_E= 1.39e-08  |g|= 0.000271  |ddm|= 9.39e-05\n",
      "  HOMO = 1.54450275281134  LUMO = 2.45549686503559\n",
      "cycle= 340 E= -10.4979850857136  delta_E= -3.49e-08  |g|= 0.000272  |ddm|= 0.000151\n",
      "  HOMO = 1.54450298838551  LUMO = 2.45549759636951\n",
      "cycle= 341 E= -10.4979850650902  delta_E= 2.06e-08  |g|= 0.000271  |ddm|= 7.47e-05\n",
      "  HOMO = 1.54449973210345  LUMO = 2.45550101890152\n",
      "cycle= 342 E= -10.497984846703  delta_E= 2.18e-07  |g|= 0.000266  |ddm|= 0.000991\n",
      "  HOMO = 1.54449588332334  LUMO = 2.45550078571637\n",
      "cycle= 343 E= -10.4979847484912  delta_E= 9.82e-08  |g|= 0.000265  |ddm|= 0.000621\n",
      "  HOMO = 1.54449553502056  LUMO = 2.45550340437057\n",
      "cycle= 344 E= -10.4979847029167  delta_E= 4.56e-08  |g|= 0.000267  |ddm|= 0.000383\n",
      "  HOMO = 1.5444978782948  LUMO = 2.45550059856111\n",
      "cycle= 345 E= -10.4979845061077  delta_E= 1.97e-07  |g|= 0.000253  |ddm|= 0.000743\n",
      "  HOMO = 1.54450326560636  LUMO = 2.45550805923416\n",
      "cycle= 346 E= -10.4979842746232  delta_E= 2.31e-07  |g|= 0.000232  |ddm|= 0.0016\n",
      "  HOMO = 1.54449206972101  LUMO = 2.45550857903437\n",
      "cycle= 347 E= -10.4979840915353  delta_E= 1.83e-07  |g|= 0.000223  |ddm|= 0.00108\n",
      "  HOMO = 1.54449283206291  LUMO = 2.45551362490855\n",
      "cycle= 348 E= -10.4979839969419  delta_E= 9.46e-08  |g|= 0.00023  |ddm|= 0.000721\n",
      "  HOMO = 1.54449540478077  LUMO = 2.45551065228892\n",
      "cycle= 349 E= -10.4979841405304  delta_E= -1.44e-07  |g|= 0.000241  |ddm|= 0.000848\n",
      "  HOMO = 1.54449011112711  LUMO = 2.45550865484836\n",
      "cycle= 350 E= -10.49798401208  delta_E= 1.28e-07  |g|= 0.00024  |ddm|= 0.00078\n",
      "  HOMO = 1.54448695958461  LUMO = 2.4555117178815\n",
      "cycle= 351 E= -10.4979838618607  delta_E= 1.5e-07  |g|= 0.000229  |ddm|= 0.0015\n",
      "  HOMO = 1.54448640536537  LUMO = 2.45551017839608\n",
      "cycle= 352 E= -10.4979838988662  delta_E= -3.7e-08  |g|= 0.000229  |ddm|= 0.000503\n",
      "  HOMO = 1.54448727700127  LUMO = 2.45551073628536\n",
      "cycle= 353 E= -10.4979839087323  delta_E= -9.87e-09  |g|= 0.000228  |ddm|= 0.00014\n",
      "  HOMO = 1.54449100272784  LUMO = 2.45551239800088\n",
      "cycle= 354 E= -10.4979839677517  delta_E= -5.9e-08  |g|= 0.000232  |ddm|= 0.000607\n",
      "  HOMO = 1.54449173424485  LUMO = 2.45551212710709\n",
      "cycle= 355 E= -10.4979839495634  delta_E= 1.82e-08  |g|= 0.000238  |ddm|= 0.000184\n",
      "  HOMO = 1.54449194411654  LUMO = 2.45551196667216\n",
      "cycle= 356 E= -10.4979839529887  delta_E= -3.43e-09  |g|= 0.000242  |ddm|= 0.000187\n",
      "  HOMO = 1.54448804628021  LUMO = 2.45551318792263\n",
      "cycle= 357 E= -10.4979839286492  delta_E= 2.43e-08  |g|= 0.000227  |ddm|= 0.00124\n",
      "  HOMO = 1.5444872189183  LUMO = 2.45551172090347\n",
      "cycle= 358 E= -10.4979838873119  delta_E= 4.13e-08  |g|= 0.000223  |ddm|= 0.000361\n",
      "  HOMO = 1.54448238297611  LUMO = 2.45551074667411\n",
      "cycle= 359 E= -10.4979836671366  delta_E= 2.2e-07  |g|= 0.00018  |ddm|= 0.0016\n",
      "  HOMO = 1.54447949305764  LUMO = 2.45551881638046\n",
      "cycle= 360 E= -10.4979835512335  delta_E= 1.16e-07  |g|= 0.000155  |ddm|= 0.00185\n",
      "  HOMO = 1.54448267681124  LUMO = 2.45551976523148\n",
      "cycle= 361 E= -10.4979835680301  delta_E= -1.68e-08  |g|= 0.000155  |ddm|= 0.00159\n",
      "  HOMO = 1.5444863318154  LUMO = 2.45551750023901\n",
      "cycle= 362 E= -10.4979835834407  delta_E= -1.54e-08  |g|= 0.000154  |ddm|= 0.000126\n",
      "  HOMO = 1.54448619860119  LUMO = 2.45551561066061\n",
      "cycle= 363 E= -10.4979835867552  delta_E= -3.31e-09  |g|= 0.000151  |ddm|= 0.000146\n",
      "  HOMO = 1.5444868714695  LUMO = 2.45551551516338\n",
      "cycle= 364 E= -10.4979835932153  delta_E= -6.46e-09  |g|= 0.000151  |ddm|= 0.000126\n",
      "  HOMO = 1.54449021290001  LUMO = 2.45551361705299\n",
      "cycle= 365 E= -10.4979835722722  delta_E= 2.09e-08  |g|= 0.000165  |ddm|= 0.000331\n",
      "  HOMO = 1.54448443605025  LUMO = 2.4555152060616\n",
      "cycle= 366 E= -10.497983601291  delta_E= -2.9e-08  |g|= 0.000158  |ddm|= 0.000818\n",
      "  HOMO = 1.5444838083315  LUMO = 2.45551413240876\n",
      "cycle= 367 E= -10.4979835949574  delta_E= 6.33e-09  |g|= 0.000155  |ddm|= 0.000188\n",
      "  HOMO = 1.54448683757069  LUMO = 2.45551327892927\n",
      "cycle= 368 E= -10.4979835904953  delta_E= 4.46e-09  |g|= 0.000136  |ddm|= 0.00184\n",
      "  HOMO = 1.5444878315396  LUMO = 2.45551267389911\n",
      "cycle= 369 E= -10.4979836354286  delta_E= -4.49e-08  |g|= 0.000134  |ddm|= 0.00087\n",
      "  HOMO = 1.54448552051387  LUMO = 2.45551480846126\n",
      "cycle= 370 E= -10.4979836414993  delta_E= -6.07e-09  |g|= 0.000135  |ddm|= 0.000134\n",
      "  HOMO = 1.54448831425718  LUMO = 2.45551242767173\n",
      "cycle= 371 E= -10.4979836417143  delta_E= -2.15e-10  |g|= 0.000133  |ddm|= 0.000165\n",
      "  HOMO = 1.54448908493167  LUMO = 2.45551115044673\n",
      "cycle= 372 E= -10.4979836259763  delta_E= 1.57e-08  |g|= 0.00013  |ddm|= 0.000208\n",
      "  HOMO = 1.54448801145718  LUMO = 2.45551322602867\n",
      "cycle= 373 E= -10.497983620291  delta_E= 5.69e-09  |g|= 0.000129  |ddm|= 0.000178\n",
      "  HOMO = 1.54448773337939  LUMO = 2.45551379369544\n",
      "cycle= 374 E= -10.4979836185833  delta_E= 1.71e-09  |g|= 0.000133  |ddm|= 0.000502\n",
      "  HOMO = 1.54448625429025  LUMO = 2.45551319161493\n",
      "cycle= 375 E= -10.4979836174602  delta_E= 1.12e-09  |g|= 0.000128  |ddm|= 0.000727\n",
      "  HOMO = 1.54448607157117  LUMO = 2.45551368926525\n",
      "cycle= 376 E= -10.4979836161488  delta_E= 1.31e-09  |g|= 0.000129  |ddm|= 0.000181\n",
      "  HOMO = 1.54448601034733  LUMO = 2.45551375507219\n",
      "cycle= 377 E= -10.4979836337653  delta_E= -1.76e-08  |g|= 0.000127  |ddm|= 0.000626\n",
      "  HOMO = 1.54448631956126  LUMO = 2.45551379662504\n",
      "cycle= 378 E= -10.4979836476647  delta_E= -1.39e-08  |g|= 0.000127  |ddm|= 0.000254\n",
      "  HOMO = 1.54448634597644  LUMO = 2.45551302832176\n",
      "cycle= 379 E= -10.4979836147129  delta_E= 3.3e-08  |g|= 0.000124  |ddm|= 0.000332\n",
      "  HOMO = 1.54448699240548  LUMO = 2.45551402852688\n",
      "cycle= 380 E= -10.4979836123387  delta_E= 2.37e-09  |g|= 0.000124  |ddm|= 0.000139\n",
      "  HOMO = 1.54448555306435  LUMO = 2.45551393220512\n",
      "cycle= 381 E= -10.4979836098428  delta_E= 2.5e-09  |g|= 0.000124  |ddm|= 0.000108\n",
      "  HOMO = 1.54448558418162  LUMO = 2.45551429148127\n",
      "cycle= 382 E= -10.4979836114409  delta_E= -1.6e-09  |g|= 0.000124  |ddm|= 1.38e-05\n",
      "  HOMO = 1.54448547449506  LUMO = 2.45551398093652\n",
      "cycle= 383 E= -10.4979836078436  delta_E= 3.6e-09  |g|= 0.000126  |ddm|= 0.00013\n",
      "  HOMO = 1.54448568827889  LUMO = 2.45551374864889\n",
      "cycle= 384 E= -10.4979836057909  delta_E= 2.05e-09  |g|= 0.000124  |ddm|= 0.000221\n",
      "  HOMO = 1.54448577449227  LUMO = 2.45551366460697\n",
      "cycle= 385 E= -10.497983604885  delta_E= 9.06e-10  |g|= 0.000125  |ddm|= 0.000114\n",
      "  HOMO = 1.54448583586172  LUMO = 2.45551380485492\n",
      "cycle= 386 E= -10.4979836117618  delta_E= -6.88e-09  |g|= 0.000125  |ddm|= 0.000167\n",
      "  HOMO = 1.54448574987456  LUMO = 2.45551414121941\n",
      "cycle= 387 E= -10.4979836010144  delta_E= 1.07e-08  |g|= 0.000125  |ddm|= 0.000168\n",
      "  HOMO = 1.54448701840621  LUMO = 2.45551371063408\n",
      "cycle= 388 E= -10.4979836172159  delta_E= -1.62e-08  |g|= 0.000126  |ddm|= 0.000211\n",
      "  HOMO = 1.54448731301812  LUMO = 2.45551372769504\n",
      "cycle= 389 E= -10.4979835920946  delta_E= 2.51e-08  |g|= 0.000122  |ddm|= 0.000406\n",
      "  HOMO = 1.54448354200782  LUMO = 2.45551594619898\n",
      "cycle= 390 E= -10.4979835763966  delta_E= 1.57e-08  |g|= 0.000122  |ddm|= 0.000375\n",
      "  HOMO = 1.54448484985588  LUMO = 2.45551443634626\n",
      "cycle= 391 E= -10.4979835759263  delta_E= 4.7e-10  |g|= 0.000122  |ddm|= 5.13e-05\n",
      "  HOMO = 1.54448474092896  LUMO = 2.45551451425302\n",
      "cycle= 392 E= -10.4979835782225  delta_E= -2.3e-09  |g|= 0.000122  |ddm|= 4.07e-05\n",
      "  HOMO = 1.5444845490577  LUMO = 2.45551483597999\n",
      "cycle= 393 E= -10.4979835814036  delta_E= -3.18e-09  |g|= 0.000121  |ddm|= 5.76e-05\n",
      "  HOMO = 1.5444854959327  LUMO = 2.4555141908128\n",
      "cycle= 394 E= -10.497983577616  delta_E= 3.79e-09  |g|= 0.00012  |ddm|= 9.49e-05\n",
      "  HOMO = 1.54448667758858  LUMO = 2.45551262474145\n",
      "cycle= 395 E= -10.4979835798463  delta_E= -2.23e-09  |g|= 0.00012  |ddm|= 0.000102\n",
      "  HOMO = 1.54448696243418  LUMO = 2.45551233231092\n",
      "cycle= 396 E= -10.4979835790856  delta_E= 7.61e-10  |g|= 0.000121  |ddm|= 7.03e-05\n",
      "  HOMO = 1.54448713385975  LUMO = 2.45551180021263\n",
      "cycle= 397 E= -10.4979835772005  delta_E= 1.89e-09  |g|= 0.000121  |ddm|= 0.000187\n",
      "  HOMO = 1.54448686580363  LUMO = 2.45551212834735\n",
      "cycle= 398 E= -10.4979835706936  delta_E= 6.51e-09  |g|= 0.000121  |ddm|= 0.000146\n",
      "  HOMO = 1.54448740830107  LUMO = 2.4555120792096\n",
      "cycle= 399 E= -10.4979835819089  delta_E= -1.12e-08  |g|= 0.00012  |ddm|= 0.000298\n",
      "  HOMO = 1.54448732104866  LUMO = 2.45551258374842\n",
      "cycle= 400 E= -10.4979835877882  delta_E= -5.88e-09  |g|= 0.00012  |ddm|= 7.87e-05\n",
      "  HOMO = 1.54448747503095  LUMO = 2.45551238779333\n",
      "cycle= 401 E= -10.4979835798153  delta_E= 7.97e-09  |g|= 0.00012  |ddm|= 0.00012\n",
      "  HOMO = 1.54448561174248  LUMO = 2.45551427351418\n",
      "cycle= 402 E= -10.4979835802328  delta_E= -4.17e-10  |g|= 0.000123  |ddm|= 0.000229\n",
      "  HOMO = 1.54448747743594  LUMO = 2.45551390264506\n",
      "cycle= 403 E= -10.4979835645185  delta_E= 1.57e-08  |g|= 0.00012  |ddm|= 0.000246\n",
      "  HOMO = 1.54448571548963  LUMO = 2.4555132835294\n",
      "cycle= 404 E= -10.4979835597234  delta_E= 4.8e-09  |g|= 0.000121  |ddm|= 0.00019\n",
      "  HOMO = 1.54448615936899  LUMO = 2.45551266065031\n",
      "cycle= 405 E= -10.4979835589226  delta_E= 8.01e-10  |g|= 0.00012  |ddm|= 0.000134\n",
      "  HOMO = 1.54448671831765  LUMO = 2.45551184012033\n",
      "cycle= 406 E= -10.4979835445565  delta_E= 1.44e-08  |g|= 0.000116  |ddm|= 0.000303\n",
      "  HOMO = 1.54448306984169  LUMO = 2.45551726115329\n",
      "cycle= 407 E= -10.4979835125528  delta_E= 3.2e-08  |g|= 0.000108  |ddm|= 0.00104\n",
      "  HOMO = 1.54448365321156  LUMO = 2.45551578887355\n",
      "cycle= 408 E= -10.4979835129027  delta_E= -3.5e-10  |g|= 0.000105  |ddm|= 0.000456\n",
      "  HOMO = 1.54448459276907  LUMO = 2.45551587480149\n",
      "cycle= 409 E= -10.4979835295419  delta_E= -1.66e-08  |g|= 0.000104  |ddm|= 0.000345\n",
      "  HOMO = 1.54448756778284  LUMO = 2.45551263045032\n",
      "cycle= 410 E= -10.4979835520054  delta_E= -2.25e-08  |g|= 0.000103  |ddm|= 0.000423\n",
      "  HOMO = 1.54448623585723  LUMO = 2.45551381946667\n",
      "cycle= 411 E= -10.497983549799  delta_E= 2.21e-09  |g|= 0.000105  |ddm|= 0.000107\n",
      "  HOMO = 1.54448728243392  LUMO = 2.45551285491152\n",
      "cycle= 412 E= -10.4979835449462  delta_E= 4.85e-09  |g|= 0.000101  |ddm|= 8.75e-05\n",
      "  HOMO = 1.54448594265709  LUMO = 2.45551426899873\n",
      "cycle= 413 E= -10.497983544143  delta_E= 8.03e-10  |g|= 0.000105  |ddm|= 0.000234\n",
      "  HOMO = 1.54448640029851  LUMO = 2.45551352973358\n",
      "cycle= 414 E= -10.4979835427251  delta_E= 1.42e-09  |g|= 0.000101  |ddm|= 0.000265\n",
      "  HOMO = 1.54448646342324  LUMO = 2.45551353057787\n",
      "cycle= 415 E= -10.497983544909  delta_E= -2.18e-09  |g|= 9.93e-05  |ddm|= 0.000166\n",
      "  HOMO = 1.54448577310089  LUMO = 2.45551415842877\n",
      "cycle= 416 E= -10.4979835437834  delta_E= 1.13e-09  |g|= 9.95e-05  |ddm|= 9.6e-05\n",
      "  HOMO = 1.54448554006779  LUMO = 2.45551460227085\n",
      "cycle= 417 E= -10.4979835577898  delta_E= -1.4e-08  |g|= 9.98e-05  |ddm|= 0.000325\n",
      "  HOMO = 1.54448548596188  LUMO = 2.45551451134662\n",
      "cycle= 418 E= -10.4979835483714  delta_E= 9.42e-09  |g|= 9.97e-05  |ddm|= 0.000168\n",
      "  HOMO = 1.54448634109362  LUMO = 2.45551391908002\n",
      "cycle= 419 E= -10.4979835510097  delta_E= -2.64e-09  |g|= 0.0001  |ddm|= 0.000163\n",
      "  HOMO = 1.54448617223427  LUMO = 2.45551397661732\n",
      "cycle= 420 E= -10.4979835482394  delta_E= 2.77e-09  |g|= 0.0001  |ddm|= 8.82e-05\n",
      "  HOMO = 1.54448583165342  LUMO = 2.4555142301155\n",
      "cycle= 421 E= -10.4979835472729  delta_E= 9.66e-10  |g|= 0.000101  |ddm|= 0.000174\n",
      "  HOMO = 1.54448647502008  LUMO = 2.45551338675831\n",
      "cycle= 422 E= -10.497983544588  delta_E= 2.68e-09  |g|= 0.0001  |ddm|= 0.000221\n",
      "  HOMO = 1.54448569866996  LUMO = 2.45551385632119\n",
      "cycle= 423 E= -10.4979835422319  delta_E= 2.36e-09  |g|= 9.79e-05  |ddm|= 0.000561\n",
      "  HOMO = 1.54448446233212  LUMO = 2.45551520392806\n",
      "cycle= 424 E= -10.4979835441986  delta_E= -1.97e-09  |g|= 9.92e-05  |ddm|= 6.38e-05\n",
      "  HOMO = 1.54448612245042  LUMO = 2.45551431107848\n",
      "cycle= 425 E= -10.4979835532383  delta_E= -9.04e-09  |g|= 9.91e-05  |ddm|= 0.000277\n",
      "  HOMO = 1.54448594559924  LUMO = 2.45551444574411\n",
      "cycle= 426 E= -10.4979835531415  delta_E= 9.69e-11  |g|= 9.91e-05  |ddm|= 1.53e-05\n",
      "  HOMO = 1.54448562127404  LUMO = 2.4555145872133\n",
      "cycle= 427 E= -10.4979835574639  delta_E= -4.32e-09  |g|= 9.88e-05  |ddm|= 4.54e-05\n",
      "  HOMO = 1.54448551126185  LUMO = 2.45551459323741\n",
      "cycle= 428 E= -10.4979835619292  delta_E= -4.47e-09  |g|= 0.000103  |ddm|= 9.08e-05\n",
      "  HOMO = 1.54448547371778  LUMO = 2.45551497460892\n",
      "cycle= 429 E= -10.4979835535626  delta_E= 8.37e-09  |g|= 9.48e-05  |ddm|= 0.000207\n",
      "  HOMO = 1.54448525279335  LUMO = 2.45551541999708\n",
      "cycle= 430 E= -10.4979835151577  delta_E= 3.84e-08  |g|= 8.89e-05  |ddm|= 0.000487\n",
      "  HOMO = 1.54448484666843  LUMO = 2.45551322581688\n",
      "cycle= 431 E= -10.4979834791895  delta_E= 3.6e-08  |g|= 8.13e-05  |ddm|= 0.000871\n",
      "  HOMO = 1.54448390493745  LUMO = 2.4555145328377\n",
      "cycle= 432 E= -10.4979834654897  delta_E= 1.37e-08  |g|= 7.62e-05  |ddm|= 0.000601\n",
      "  HOMO = 1.54448605224367  LUMO = 2.45551473326749\n",
      "cycle= 433 E= -10.4979834619265  delta_E= 3.56e-09  |g|= 7.2e-05  |ddm|= 0.000114\n",
      "  HOMO = 1.54448445480931  LUMO = 2.45551476594274\n",
      "cycle= 434 E= -10.497983459809  delta_E= 2.12e-09  |g|= 7.04e-05  |ddm|= 0.000222\n",
      "  HOMO = 1.54448392182132  LUMO = 2.45551554614318\n",
      "cycle= 435 E= -10.4979834593416  delta_E= 4.67e-10  |g|= 7.03e-05  |ddm|= 7.76e-05\n",
      "  HOMO = 1.54448391679679  LUMO = 2.45551557765967\n",
      "cycle= 436 E= -10.4979834602232  delta_E= -8.82e-10  |g|= 7.06e-05  |ddm|= 4.83e-05\n",
      "  HOMO = 1.54448418199388  LUMO = 2.45551553610691\n",
      "cycle= 437 E= -10.4979834590334  delta_E= 1.19e-09  |g|= 7.04e-05  |ddm|= 3.86e-05\n",
      "  HOMO = 1.54448393307189  LUMO = 2.45551576547562\n",
      "cycle= 438 E= -10.4979834621895  delta_E= -3.16e-09  |g|= 7.09e-05  |ddm|= 0.000122\n",
      "  HOMO = 1.54448418257771  LUMO = 2.45551614180265\n",
      "cycle= 439 E= -10.4979834591105  delta_E= 3.08e-09  |g|= 7.07e-05  |ddm|= 7.46e-05\n",
      "  HOMO = 1.54448425202005  LUMO = 2.45551512173202\n",
      "cycle= 440 E= -10.4979834477114  delta_E= 1.14e-08  |g|= 6.88e-05  |ddm|= 0.000414\n",
      "  HOMO = 1.54448452459367  LUMO = 2.45551605938114\n",
      "cycle= 441 E= -10.4979834379318  delta_E= 9.78e-09  |g|= 6.73e-05  |ddm|= 0.000206\n",
      "  HOMO = 1.54448478228103  LUMO = 2.45551537642603\n",
      "cycle= 442 E= -10.4979834219721  delta_E= 1.6e-08  |g|= 6.43e-05  |ddm|= 0.000244\n",
      "  HOMO = 1.54448436922701  LUMO = 2.45551535919948\n",
      "cycle= 443 E= -10.4979834151957  delta_E= 6.78e-09  |g|= 6.36e-05  |ddm|= 0.000239\n",
      "  HOMO = 1.54448355017566  LUMO = 2.45551602357624\n",
      "cycle= 444 E= -10.4979834127118  delta_E= 2.48e-09  |g|= 6.39e-05  |ddm|= 9.41e-05\n",
      "  HOMO = 1.5444836649585  LUMO = 2.45551607355349\n",
      "cycle= 445 E= -10.4979834117804  delta_E= 9.31e-10  |g|= 6.36e-05  |ddm|= 3.36e-05\n",
      "  HOMO = 1.54448398205854  LUMO = 2.45551613726313\n",
      "cycle= 446 E= -10.4979834111706  delta_E= 6.1e-10  |g|= 6.34e-05  |ddm|= 4.29e-05\n",
      "  HOMO = 1.54448398025528  LUMO = 2.45551614569828\n",
      "cycle= 447 E= -10.4979834120578  delta_E= -8.87e-10  |g|= 6.4e-05  |ddm|= 3.51e-05\n",
      "  HOMO = 1.54448400658815  LUMO = 2.45551630509016\n",
      "cycle= 448 E= -10.4979834131265  delta_E= -1.07e-09  |g|= 6.42e-05  |ddm|= 0.000179\n",
      "  HOMO = 1.54448401095018  LUMO = 2.4555162535989\n",
      "cycle= 449 E= -10.4979834145309  delta_E= -1.4e-09  |g|= 6.43e-05  |ddm|= 2.47e-05\n",
      "  HOMO = 1.54448416953169  LUMO = 2.45551616281686\n",
      "cycle= 450 E= -10.4979834106896  delta_E= 3.84e-09  |g|= 6.43e-05  |ddm|= 6.77e-05\n",
      "  HOMO = 1.5444837500621  LUMO = 2.45551653215193\n",
      "cycle= 451 E= -10.4979834029398  delta_E= 7.75e-09  |g|= 6.55e-05  |ddm|= 0.000141\n",
      "  HOMO = 1.54448365762176  LUMO = 2.45551656148692\n",
      "cycle= 452 E= -10.4979834015441  delta_E= 1.4e-09  |g|= 6.39e-05  |ddm|= 3.35e-05\n",
      "  HOMO = 1.5444834904753  LUMO = 2.45551601108505\n",
      "cycle= 453 E= -10.4979833927368  delta_E= 8.81e-09  |g|= 6.13e-05  |ddm|= 0.000439\n",
      "  HOMO = 1.54448162627466  LUMO = 2.45551790647063\n",
      "cycle= 454 E= -10.4979833812076  delta_E= 1.15e-08  |g|= 5.77e-05  |ddm|= 0.000354\n",
      "  HOMO = 1.54448178617412  LUMO = 2.45551788183129\n",
      "cycle= 455 E= -10.4979833845822  delta_E= -3.37e-09  |g|= 6.07e-05  |ddm|= 0.000113\n",
      "  HOMO = 1.54448139812977  LUMO = 2.45551828720432\n",
      "cycle= 456 E= -10.4979833788513  delta_E= 5.73e-09  |g|= 5.58e-05  |ddm|= 0.000119\n",
      "  HOMO = 1.54448208684104  LUMO = 2.45551787732961\n",
      "cycle= 457 E= -10.4979833767578  delta_E= 2.09e-09  |g|= 5.58e-05  |ddm|= 9.68e-05\n",
      "  HOMO = 1.5444826354484  LUMO = 2.45551683278433\n",
      "cycle= 458 E= -10.4979833753356  delta_E= 1.42e-09  |g|= 5.51e-05  |ddm|= 0.000106\n",
      "  HOMO = 1.54448270676153  LUMO = 2.455516972746\n",
      "cycle= 459 E= -10.4979833777894  delta_E= -2.45e-09  |g|= 5.55e-05  |ddm|= 4.4e-05\n",
      "  HOMO = 1.54448291786943  LUMO = 2.45551733117183\n",
      "cycle= 460 E= -10.4979833754335  delta_E= 2.36e-09  |g|= 5.72e-05  |ddm|= 8.3e-05\n",
      "  HOMO = 1.54448319020152  LUMO = 2.45551732077257\n",
      "cycle= 461 E= -10.4979833761208  delta_E= -6.87e-10  |g|= 5.64e-05  |ddm|= 6.26e-05\n",
      "  HOMO = 1.54448274267002  LUMO = 2.45551713612351\n",
      "cycle= 462 E= -10.4979833741964  delta_E= 1.92e-09  |g|= 5.48e-05  |ddm|= 0.000291\n",
      "  HOMO = 1.5444830174585  LUMO = 2.45551737873749\n",
      "cycle= 463 E= -10.4979833744156  delta_E= -2.19e-10  |g|= 5.45e-05  |ddm|= 2.21e-05\n",
      "  HOMO = 1.54448304100642  LUMO = 2.45551719753403\n",
      "cycle= 464 E= -10.497983375691  delta_E= -1.28e-09  |g|= 5.53e-05  |ddm|= 4.78e-05\n",
      "  HOMO = 1.54448296963031  LUMO = 2.45551735985074\n",
      "cycle= 465 E= -10.4979833744578  delta_E= 1.23e-09  |g|= 5.44e-05  |ddm|= 3.66e-05\n",
      "  HOMO = 1.54448304841179  LUMO = 2.45551707520804\n",
      "cycle= 466 E= -10.4979833751916  delta_E= -7.34e-10  |g|= 5.43e-05  |ddm|= 2.38e-05\n",
      "  HOMO = 1.54448290016564  LUMO = 2.45551690061506\n",
      "cycle= 467 E= -10.4979833810531  delta_E= -5.86e-09  |g|= 5.49e-05  |ddm|= 0.000171\n",
      "  HOMO = 1.54448302101487  LUMO = 2.45551643050896\n",
      "cycle= 468 E= -10.4979833771274  delta_E= 3.93e-09  |g|= 5.45e-05  |ddm|= 7.4e-05\n",
      "  HOMO = 1.54448275994686  LUMO = 2.45551676533466\n",
      "cycle= 469 E= -10.4979833759261  delta_E= 1.2e-09  |g|= 5.54e-05  |ddm|= 4.68e-05\n",
      "  HOMO = 1.54448314088291  LUMO = 2.45551729347862\n",
      "cycle= 470 E= -10.4979833772269  delta_E= -1.3e-09  |g|= 5.35e-05  |ddm|= 7.26e-05\n",
      "  HOMO = 1.54448332702858  LUMO = 2.45551721112213\n",
      "cycle= 471 E= -10.4979833776199  delta_E= -3.93e-10  |g|= 5.06e-05  |ddm|= 8.25e-05\n",
      "  HOMO = 1.54448370870721  LUMO = 2.4555158937081\n",
      "cycle= 472 E= -10.4979833800669  delta_E= -2.45e-09  |g|= 4.9e-05  |ddm|= 8.11e-05\n",
      "  HOMO = 1.54448344293502  LUMO = 2.45551677491933\n",
      "cycle= 473 E= -10.4979833839378  delta_E= -3.87e-09  |g|= 4.9e-05  |ddm|= 0.000158\n",
      "  HOMO = 1.54448327379687  LUMO = 2.45551692713724\n",
      "cycle= 474 E= -10.4979833856859  delta_E= -1.75e-09  |g|= 4.93e-05  |ddm|= 3.82e-05\n",
      "  HOMO = 1.54448351031777  LUMO = 2.45551657649347\n",
      "cycle= 475 E= -10.4979833850399  delta_E= 6.46e-10  |g|= 4.85e-05  |ddm|= 0.000112\n",
      "  HOMO = 1.54448339457678  LUMO = 2.45551669333006\n",
      "cycle= 476 E= -10.4979833841065  delta_E= 9.33e-10  |g|= 4.82e-05  |ddm|= 0.000184\n",
      "  HOMO = 1.5444836180223  LUMO = 2.45551646117277\n",
      "cycle= 477 E= -10.4979833841411  delta_E= -3.46e-11  |g|= 4.82e-05  |ddm|= 5.16e-05\n",
      "  HOMO = 1.54448372161129  LUMO = 2.45551641540169\n",
      "cycle= 478 E= -10.4979833837342  delta_E= 4.07e-10  |g|= 4.8e-05  |ddm|= 7.06e-05\n",
      "  HOMO = 1.54448367164516  LUMO = 2.4555164830092\n",
      "cycle= 479 E= -10.4979833829957  delta_E= 7.39e-10  |g|= 4.82e-05  |ddm|= 4.89e-05\n",
      "  HOMO = 1.54448362212565  LUMO = 2.45551654180891\n",
      "cycle= 480 E= -10.4979833833754  delta_E= -3.8e-10  |g|= 4.81e-05  |ddm|= 1.16e-05\n",
      "  HOMO = 1.54448350640505  LUMO = 2.45551657588411\n",
      "cycle= 481 E= -10.4979833830987  delta_E= 2.77e-10  |g|= 4.8e-05  |ddm|= 2.53e-05\n",
      "  HOMO = 1.54448339940051  LUMO = 2.45551648120578\n",
      "cycle= 482 E= -10.4979833863662  delta_E= -3.27e-09  |g|= 4.91e-05  |ddm|= 9.72e-05\n",
      "  HOMO = 1.54448356901081  LUMO = 2.45551647111079\n",
      "cycle= 483 E= -10.4979833835262  delta_E= 2.84e-09  |g|= 4.81e-05  |ddm|= 0.000124\n",
      "  HOMO = 1.54448310424794  LUMO = 2.45551687647427\n",
      "cycle= 484 E= -10.4979833817765  delta_E= 1.75e-09  |g|= 4.7e-05  |ddm|= 0.00011\n",
      "  HOMO = 1.54448304397236  LUMO = 2.4555169713748\n",
      "cycle= 485 E= -10.4979833820064  delta_E= -2.3e-10  |g|= 4.7e-05  |ddm|= 3.32e-05\n",
      "  HOMO = 1.54448309155622  LUMO = 2.45551692176795\n",
      "cycle= 486 E= -10.4979833820836  delta_E= -7.72e-11  |g|= 4.7e-05  |ddm|= 2.28e-05\n",
      "  HOMO = 1.54448322803363  LUMO = 2.45551683348922\n",
      "cycle= 487 E= -10.4979833830899  delta_E= -1.01e-09  |g|= 4.71e-05  |ddm|= 0.000109\n",
      "  HOMO = 1.54448312288717  LUMO = 2.45551697498767\n",
      "cycle= 488 E= -10.4979833828216  delta_E= 2.68e-10  |g|= 4.77e-05  |ddm|= 7.2e-05\n",
      "  HOMO = 1.54448329748875  LUMO = 2.45551676383467\n",
      "cycle= 489 E= -10.4979833817918  delta_E= 1.03e-09  |g|= 4.67e-05  |ddm|= 3.77e-05\n",
      "  HOMO = 1.5444830843068  LUMO = 2.4555169470569\n",
      "cycle= 490 E= -10.4979833793367  delta_E= 2.46e-09  |g|= 4.62e-05  |ddm|= 0.000104\n",
      "  HOMO = 1.5444829086672  LUMO = 2.45551698634563\n",
      "cycle= 491 E= -10.4979833801672  delta_E= -8.3e-10  |g|= 4.63e-05  |ddm|= 4.96e-05\n",
      "  HOMO = 1.54448297669788  LUMO = 2.4555169408091\n",
      "cycle= 492 E= -10.4979833797596  delta_E= 4.08e-10  |g|= 4.62e-05  |ddm|= 3.7e-05\n",
      "  HOMO = 1.5444830173307  LUMO = 2.45551689916906\n",
      "cycle= 493 E= -10.497983379604  delta_E= 1.56e-10  |g|= 4.63e-05  |ddm|= 1.86e-05\n",
      "  HOMO = 1.5444830176863  LUMO = 2.45551689103544\n",
      "cycle= 494 E= -10.4979833798856  delta_E= -2.82e-10  |g|= 4.62e-05  |ddm|= 1.71e-05\n",
      "  HOMO = 1.54448298899192  LUMO = 2.45551691158004\n",
      "cycle= 495 E= -10.4979833798773  delta_E= 8.24e-12  |g|= 4.62e-05  |ddm|= 8.33e-06\n",
      "  HOMO = 1.54448306446527  LUMO = 2.45551685769312\n",
      "cycle= 496 E= -10.4979833801106  delta_E= -2.33e-10  |g|= 4.62e-05  |ddm|= 1.67e-05\n",
      "  HOMO = 1.54448310844741  LUMO = 2.45551687283426\n",
      "cycle= 497 E= -10.4979833805202  delta_E= -4.1e-10  |g|= 4.65e-05  |ddm|= 4.37e-05\n",
      "  HOMO = 1.54448323768062  LUMO = 2.4555167490317\n",
      "cycle= 498 E= -10.4979833800481  delta_E= 4.72e-10  |g|= 4.65e-05  |ddm|= 2.89e-05\n",
      "  HOMO = 1.54448320772009  LUMO = 2.45551678659217\n",
      "cycle= 499 E= -10.4979833799661  delta_E= 8.2e-11  |g|= 4.65e-05  |ddm|= 2.46e-05\n",
      "  HOMO = 1.5444832040249  LUMO = 2.45551685547675\n",
      "cycle= 500 E= -10.4979833797595  delta_E= 2.07e-10  |g|= 4.61e-05  |ddm|= 0.000144\n",
      "  HOMO = 1.54448312293833  LUMO = 2.45551688518321\n",
      "cycle= 501 E= -10.4979833798586  delta_E= -9.91e-11  |g|= 4.61e-05  |ddm|= 7.56e-06\n",
      "  HOMO = 1.54448290245005  LUMO = 2.45551702555233\n",
      "cycle= 502 E= -10.4979833814912  delta_E= -1.63e-09  |g|= 4.62e-05  |ddm|= 3.14e-05\n",
      "  HOMO = 1.54448303518937  LUMO = 2.45551697126675\n",
      "cycle= 503 E= -10.4979833804475  delta_E= 1.04e-09  |g|= 4.61e-05  |ddm|= 2.1e-05\n",
      "  HOMO = 1.54448310061361  LUMO = 2.45551702067957\n",
      "cycle= 504 E= -10.4979833748422  delta_E= 5.61e-09  |g|= 4.55e-05  |ddm|= 0.000121\n",
      "  HOMO = 1.54448313919681  LUMO = 2.45551696633381\n",
      "cycle= 505 E= -10.4979833742245  delta_E= 6.18e-10  |g|= 4.55e-05  |ddm|= 0.000132\n",
      "  HOMO = 1.54448319639486  LUMO = 2.45551691337367\n",
      "cycle= 506 E= -10.4979833744293  delta_E= -2.05e-10  |g|= 4.56e-05  |ddm|= 3.25e-05\n",
      "  HOMO = 1.5444832271733  LUMO = 2.45551685341329\n",
      "cycle= 507 E= -10.4979833741786  delta_E= 2.51e-10  |g|= 4.55e-05  |ddm|= 1.91e-05\n",
      "  HOMO = 1.54448323415998  LUMO = 2.45551685760944\n",
      "cycle= 508 E= -10.4979833739186  delta_E= 2.6e-10  |g|= 4.54e-05  |ddm|= 1.88e-05\n",
      "  HOMO = 1.54448301015818  LUMO = 2.4555168761969\n",
      "cycle= 509 E= -10.497983373738  delta_E= 1.81e-10  |g|= 4.55e-05  |ddm|= 2.38e-05\n",
      "  HOMO = 1.54448322722797  LUMO = 2.45551682311964\n",
      "cycle= 510 E= -10.4979833732611  delta_E= 4.77e-10  |g|= 4.61e-05  |ddm|= 8.11e-05\n",
      "  HOMO = 1.54448333673054  LUMO = 2.4555167042265\n",
      "cycle= 511 E= -10.4979833735983  delta_E= -3.37e-10  |g|= 4.55e-05  |ddm|= 7.63e-05\n",
      "  HOMO = 1.54448303499606  LUMO = 2.45551708257109\n",
      "cycle= 512 E= -10.4979833765729  delta_E= -2.97e-09  |g|= 4.52e-05  |ddm|= 9.25e-05\n",
      "  HOMO = 1.54448302456088  LUMO = 2.45551699453249\n",
      "cycle= 513 E= -10.4979833773254  delta_E= -7.52e-10  |g|= 4.54e-05  |ddm|= 3.21e-05\n",
      "  HOMO = 1.54448288475796  LUMO = 2.45551701923757\n",
      "cycle= 514 E= -10.4979833746546  delta_E= 2.67e-09  |g|= 4.52e-05  |ddm|= 6.83e-05\n",
      "  HOMO = 1.54448291428325  LUMO = 2.45551698226851\n",
      "cycle= 515 E= -10.4979833745986  delta_E= 5.61e-11  |g|= 4.51e-05  |ddm|= 1.56e-05\n",
      "  HOMO = 1.54448300800696  LUMO = 2.45551707340941\n",
      "cycle= 516 E= -10.4979833741414  delta_E= 4.57e-10  |g|= 4.48e-05  |ddm|= 6.2e-05\n",
      "  HOMO = 1.5444829351811  LUMO = 2.45551695270043\n",
      "cycle= 517 E= -10.4979833741428  delta_E= -1.44e-12  |g|= 4.5e-05  |ddm|= 2.35e-05\n",
      "  HOMO = 1.54448302783186  LUMO = 2.45551686595616\n",
      "cycle= 518 E= -10.4979833735812  delta_E= 5.62e-10  |g|= 4.5e-05  |ddm|= 3.08e-05\n",
      "  HOMO = 1.54448304522526  LUMO = 2.45551687153354\n",
      "cycle= 519 E= -10.497983373434  delta_E= 1.47e-10  |g|= 4.67e-05  |ddm|= 9.6e-05\n",
      "  HOMO = 1.54448303391353  LUMO = 2.45551694483212\n",
      "cycle= 520 E= -10.4979833743963  delta_E= -9.62e-10  |g|= 4.46e-05  |ddm|= 0.000146\n",
      "  HOMO = 1.5444829679801  LUMO = 2.45551710851285\n",
      "cycle= 521 E= -10.497983375193  delta_E= -7.97e-10  |g|= 4.43e-05  |ddm|= 3.17e-05\n",
      "  HOMO = 1.54448288031641  LUMO = 2.45551706192835\n",
      "cycle= 522 E= -10.4979833764655  delta_E= -1.27e-09  |g|= 4.44e-05  |ddm|= 2.53e-05\n",
      "  HOMO = 1.54448294583061  LUMO = 2.45551693881411\n",
      "cycle= 523 E= -10.4979833741895  delta_E= 2.28e-09  |g|= 4.43e-05  |ddm|= 5.79e-05\n",
      "  HOMO = 1.54448299487013  LUMO = 2.4555168945973\n",
      "cycle= 524 E= -10.4979833741115  delta_E= 7.8e-11  |g|= 4.43e-05  |ddm|= 7.01e-06\n",
      "  HOMO = 1.54448295034173  LUMO = 2.4555169617018\n",
      "cycle= 525 E= -10.4979833728962  delta_E= 1.22e-09  |g|= 4.42e-05  |ddm|= 5.74e-05\n",
      "  HOMO = 1.54448289769986  LUMO = 2.45551698450221\n",
      "cycle= 526 E= -10.4979833728368  delta_E= 5.94e-11  |g|= 4.44e-05  |ddm|= 2.7e-05\n",
      "  HOMO = 1.54448282189827  LUMO = 2.45551705510649\n",
      "cycle= 527 E= -10.4979833725659  delta_E= 2.71e-10  |g|= 4.42e-05  |ddm|= 1.26e-05\n",
      "  HOMO = 1.54448286581223  LUMO = 2.45551701948308\n",
      "cycle= 528 E= -10.4979833711775  delta_E= 1.39e-09  |g|= 4.47e-05  |ddm|= 3.83e-05\n",
      "  HOMO = 1.54448297421875  LUMO = 2.45551692850158\n",
      "cycle= 529 E= -10.4979833711645  delta_E= 1.31e-11  |g|= 4.53e-05  |ddm|= 4.88e-05\n",
      "  HOMO = 1.54448305785025  LUMO = 2.45551688512177\n",
      "cycle= 530 E= -10.4979833718666  delta_E= -7.02e-10  |g|= 4.46e-05  |ddm|= 7.42e-05\n",
      "  HOMO = 1.54448308597202  LUMO = 2.45551681406494\n",
      "cycle= 531 E= -10.4979833721786  delta_E= -3.12e-10  |g|= 4.39e-05  |ddm|= 0.000119\n",
      "  HOMO = 1.54448286224547  LUMO = 2.4555170461589\n",
      "cycle= 532 E= -10.4979833729285  delta_E= -7.5e-10  |g|= 4.39e-05  |ddm|= 1.88e-05\n",
      "  HOMO = 1.54448304596657  LUMO = 2.45551700942525\n",
      "cycle= 533 E= -10.4979833731713  delta_E= -2.43e-10  |g|= 4.4e-05  |ddm|= 4.12e-05\n",
      "  HOMO = 1.54448325420768  LUMO = 2.45551679328771\n",
      "cycle= 534 E= -10.4979833726142  delta_E= 5.57e-10  |g|= 4.4e-05  |ddm|= 3.54e-05\n",
      "  HOMO = 1.54448306540384  LUMO = 2.45551705445312\n",
      "cycle= 535 E= -10.4979833739809  delta_E= -1.37e-09  |g|= 4.46e-05  |ddm|= 9.26e-05\n",
      "  HOMO = 1.54448307188143  LUMO = 2.45551706621704\n",
      "cycle= 536 E= -10.4979833718651  delta_E= 2.12e-09  |g|= 4.4e-05  |ddm|= 5.32e-05\n",
      "  HOMO = 1.54448296028315  LUMO = 2.45551716526052\n",
      "cycle= 537 E= -10.4979833693106  delta_E= 2.55e-09  |g|= 4.45e-05  |ddm|= 6.58e-05\n",
      "  HOMO = 1.54448304147759  LUMO = 2.4555170563489\n",
      "cycle= 538 E= -10.4979833700576  delta_E= -7.47e-10  |g|= 4.52e-05  |ddm|= 7.5e-05\n",
      "  HOMO = 1.54448308650024  LUMO = 2.45551700578195\n",
      "cycle= 539 E= -10.497983370129  delta_E= -7.14e-11  |g|= 4.41e-05  |ddm|= 8.57e-05\n",
      "  HOMO = 1.54448304369293  LUMO = 2.45551692169956\n",
      "cycle= 540 E= -10.4979833701101  delta_E= 1.89e-11  |g|= 4.32e-05  |ddm|= 0.000152\n",
      "  HOMO = 1.54448296862621  LUMO = 2.45551703590547\n",
      "cycle= 541 E= -10.4979833705839  delta_E= -4.74e-10  |g|= 4.33e-05  |ddm|= 2.68e-05\n",
      "  HOMO = 1.54448290855908  LUMO = 2.45551717383908\n",
      "cycle= 542 E= -10.4979833711126  delta_E= -5.29e-10  |g|= 4.34e-05  |ddm|= 3.78e-05\n",
      "  HOMO = 1.54448318394453  LUMO = 2.45551684301683\n",
      "cycle= 543 E= -10.4979833704501  delta_E= 6.62e-10  |g|= 4.35e-05  |ddm|= 7.9e-05\n",
      "  HOMO = 1.54448313784689  LUMO = 2.45551689274802\n",
      "cycle= 544 E= -10.4979833707683  delta_E= -3.18e-10  |g|= 4.36e-05  |ddm|= 1.69e-05\n",
      "  HOMO = 1.54448299065027  LUMO = 2.45551705164703\n",
      "cycle= 545 E= -10.4979833692577  delta_E= 1.51e-09  |g|= 4.32e-05  |ddm|= 4.38e-05\n",
      "  HOMO = 1.54448290645483  LUMO = 2.45551713212627\n",
      "cycle= 546 E= -10.4979833692297  delta_E= 2.81e-11  |g|= 4.33e-05  |ddm|= 1.2e-05\n",
      "  HOMO = 1.544482919845  LUMO = 2.45551714006625\n",
      "cycle= 547 E= -10.497983369477  delta_E= -2.47e-10  |g|= 4.45e-05  |ddm|= 0.000108\n",
      "  HOMO = 1.54448289203948  LUMO = 2.45551717104853\n",
      "cycle= 548 E= -10.4979833698058  delta_E= -3.29e-10  |g|= 4.39e-05  |ddm|= 5.94e-05\n",
      "  HOMO = 1.54448292597918  LUMO = 2.45551705936799\n",
      "cycle= 549 E= -10.4979833708449  delta_E= -1.04e-09  |g|= 4.32e-05  |ddm|= 0.000162\n",
      "  HOMO = 1.54448295622354  LUMO = 2.45551701880244\n",
      "cycle= 550 E= -10.4979833695101  delta_E= 1.33e-09  |g|= 4.28e-05  |ddm|= 5.39e-05\n",
      "  HOMO = 1.54448307658791  LUMO = 2.45551694448172\n",
      "cycle= 551 E= -10.4979833677248  delta_E= 1.79e-09  |g|= 4.2e-05  |ddm|= 8.24e-05\n",
      "  HOMO = 1.54448295434434  LUMO = 2.45551710742142\n",
      "cycle= 552 E= -10.4979833681745  delta_E= -4.5e-10  |g|= 4.16e-05  |ddm|= 5.17e-05\n",
      "  HOMO = 1.54448284349843  LUMO = 2.45551719185837\n",
      "cycle= 553 E= -10.4979833681266  delta_E= 4.79e-11  |g|= 4.16e-05  |ddm|= 4.23e-06\n",
      "  HOMO = 1.54448284315147  LUMO = 2.4555171080604\n",
      "cycle= 554 E= -10.4979833687375  delta_E= -6.11e-10  |g|= 4.18e-05  |ddm|= 2.52e-05\n",
      "  HOMO = 1.54448284501133  LUMO = 2.45551709442783\n",
      "cycle= 555 E= -10.4979833683367  delta_E= 4.01e-10  |g|= 4.16e-05  |ddm|= 2.48e-05\n",
      "  HOMO = 1.54448303866985  LUMO = 2.45551705178449\n",
      "cycle= 556 E= -10.4979833690152  delta_E= -6.79e-10  |g|= 4.21e-05  |ddm|= 0.0001\n",
      "  HOMO = 1.54448308972996  LUMO = 2.45551701174147\n",
      "cycle= 557 E= -10.4979833684436  delta_E= 5.72e-10  |g|= 4.19e-05  |ddm|= 3e-05\n",
      "  HOMO = 1.54448300672177  LUMO = 2.45551714080908\n",
      "cycle= 558 E= -10.4979833684112  delta_E= 3.24e-11  |g|= 4.08e-05  |ddm|= 0.000163\n",
      "  HOMO = 1.54448304635574  LUMO = 2.45551679984685\n",
      "cycle= 559 E= -10.4979833702953  delta_E= -1.88e-09  |g|= 4.06e-05  |ddm|= 4.17e-05\n",
      "  HOMO = 1.54448307261384  LUMO = 2.45551682068308\n",
      "cycle= 560 E= -10.4979833709943  delta_E= -6.99e-10  |g|= 4.07e-05  |ddm|= 4.13e-05\n",
      "  HOMO = 1.54448297771958  LUMO = 2.45551687893463\n",
      "cycle= 561 E= -10.4979833709306  delta_E= 6.37e-11  |g|= 4.06e-05  |ddm|= 3.84e-05\n",
      "  HOMO = 1.54448323112849  LUMO = 2.45551662161584\n",
      "cycle= 562 E= -10.497983370477  delta_E= 4.54e-10  |g|= 4.05e-05  |ddm|= 2.47e-05\n",
      "  HOMO = 1.54448340959673  LUMO = 2.4555166072522\n",
      "cycle= 563 E= -10.4979833640588  delta_E= 6.42e-09  |g|= 3.97e-05  |ddm|= 0.000165\n",
      "  HOMO = 1.54448295418212  LUMO = 2.45551712158704\n",
      "cycle= 564 E= -10.4979833636259  delta_E= 4.33e-10  |g|= 3.97e-05  |ddm|= 3.21e-05\n",
      "  HOMO = 1.54448322219926  LUMO = 2.45551682691675\n",
      "cycle= 565 E= -10.4979833636782  delta_E= -5.23e-11  |g|= 3.96e-05  |ddm|= 4.5e-05\n",
      "  HOMO = 1.54448311559414  LUMO = 2.45551690077238\n",
      "cycle= 566 E= -10.497983364366  delta_E= -6.88e-10  |g|= 3.96e-05  |ddm|= 7e-05\n",
      "  HOMO = 1.54448311400571  LUMO = 2.45551693929279\n",
      "cycle= 567 E= -10.4979833650721  delta_E= -7.06e-10  |g|= 3.97e-05  |ddm|= 3.58e-05\n",
      "  HOMO = 1.54448321729588  LUMO = 2.45551684319188\n",
      "cycle= 568 E= -10.497983360986  delta_E= 4.09e-09  |g|= 3.91e-05  |ddm|= 8.82e-05\n",
      "  HOMO = 1.5444832747852  LUMO = 2.45551663318116\n",
      "cycle= 569 E= -10.4979833608025  delta_E= 1.83e-10  |g|= 4e-05  |ddm|= 9.31e-05\n",
      "  HOMO = 1.54448319744376  LUMO = 2.45551672111196\n",
      "cycle= 570 E= -10.4979833607065  delta_E= 9.6e-11  |g|= 3.99e-05  |ddm|= 1.17e-05\n",
      "  HOMO = 1.54448319780958  LUMO = 2.45551672182626\n",
      "cycle= 571 E= -10.4979833607003  delta_E= 6.16e-12  |g|= 4e-05  |ddm|= 1.33e-06\n",
      "  HOMO = 1.54448312631405  LUMO = 2.45551677675302\n",
      "cycle= 572 E= -10.4979833599621  delta_E= 7.38e-10  |g|= 4.01e-05  |ddm|= 2.36e-05\n",
      "  HOMO = 1.54448315306529  LUMO = 2.45551677664376\n",
      "cycle= 573 E= -10.4979833616679  delta_E= -1.71e-09  |g|= 4.02e-05  |ddm|= 6.81e-05\n",
      "  HOMO = 1.54448344327338  LUMO = 2.45551652743016\n",
      "cycle= 574 E= -10.4979833611266  delta_E= 5.41e-10  |g|= 4.05e-05  |ddm|= 3.24e-05\n",
      "  HOMO = 1.54448345166705  LUMO = 2.45551651590747\n",
      "cycle= 575 E= -10.4979833608236  delta_E= 3.03e-10  |g|= 4.07e-05  |ddm|= 4.33e-05\n",
      "  HOMO = 1.54448357520625  LUMO = 2.45551640443679\n",
      "cycle= 576 E= -10.4979833610618  delta_E= -2.38e-10  |g|= 4.1e-05  |ddm|= 4.67e-05\n",
      "  HOMO = 1.54448342095497  LUMO = 2.45551657347144\n",
      "cycle= 577 E= -10.4979833646559  delta_E= -3.59e-09  |g|= 4.1e-05  |ddm|= 8.67e-05\n",
      "  HOMO = 1.54448374429325  LUMO = 2.45551633561122\n",
      "cycle= 578 E= -10.4979833638757  delta_E= 7.8e-10  |g|= 4.26e-05  |ddm|= 6.44e-05\n",
      "  HOMO = 1.54448377317551  LUMO = 2.45551629940969\n",
      "cycle= 579 E= -10.4979833643342  delta_E= -4.59e-10  |g|= 4.28e-05  |ddm|= 2.68e-05\n",
      "  HOMO = 1.54448389803713  LUMO = 2.45551616477275\n",
      "cycle= 580 E= -10.4979833636655  delta_E= 6.69e-10  |g|= 4.21e-05  |ddm|= 3.86e-05\n",
      "  HOMO = 1.54448364109846  LUMO = 2.45551642721024\n",
      "cycle= 581 E= -10.4979833618112  delta_E= 1.85e-09  |g|= 4.13e-05  |ddm|= 7.47e-05\n",
      "  HOMO = 1.5444848894598  LUMO = 2.45551521819201\n",
      "cycle= 582 E= -10.4979833504842  delta_E= 1.13e-08  |g|= 3.84e-05  |ddm|= 0.000338\n",
      "  HOMO = 1.54448363517352  LUMO = 2.45551649402866\n",
      "cycle= 583 E= -10.4979833468647  delta_E= 3.62e-09  |g|= 3.69e-05  |ddm|= 0.000167\n",
      "  HOMO = 1.54448412576227  LUMO = 2.45551599801319\n",
      "cycle= 584 E= -10.497983347579  delta_E= -7.14e-10  |g|= 3.52e-05  |ddm|= 6.08e-05\n",
      "  HOMO = 1.54448320933155  LUMO = 2.4555165790064\n",
      "cycle= 585 E= -10.497983345516  delta_E= 2.06e-09  |g|= 2.86e-05  |ddm|= 9.1e-05\n",
      "  HOMO = 1.54448325710899  LUMO = 2.45551657182398\n",
      "cycle= 586 E= -10.4979833441155  delta_E= 1.4e-09  |g|= 2.77e-05  |ddm|= 4.87e-05\n",
      "  HOMO = 1.54448310334308  LUMO = 2.45551681738554\n",
      "cycle= 587 E= -10.4979833408783  delta_E= 3.24e-09  |g|= 2.66e-05  |ddm|= 0.000163\n",
      "  HOMO = 1.5444837953842  LUMO = 2.45551624417705\n",
      "cycle= 588 E= -10.4979833367221  delta_E= 4.16e-09  |g|= 2.5e-05  |ddm|= 0.000225\n",
      "  HOMO = 1.54448328064601  LUMO = 2.45551676132469\n",
      "cycle= 589 E= -10.497983335704  delta_E= 1.02e-09  |g|= 2.43e-05  |ddm|= 0.000117\n",
      "  HOMO = 1.54448299280154  LUMO = 2.45551705755445\n",
      "cycle= 590 E= -10.4979833373246  delta_E= -1.62e-09  |g|= 2.52e-05  |ddm|= 0.000126\n",
      "  HOMO = 1.54448339991275  LUMO = 2.45551658365175\n",
      "cycle= 591 E= -10.49798333471  delta_E= 2.61e-09  |g|= 2.43e-05  |ddm|= 0.000223\n",
      "  HOMO = 1.5444829288809  LUMO = 2.45551706827268\n",
      "cycle= 592 E= -10.497983334251  delta_E= 4.59e-10  |g|= 2.56e-05  |ddm|= 8.75e-05\n",
      "  HOMO = 1.54448278801169  LUMO = 2.45551721519948\n",
      "Extra cycle  E= -10.4979833350372  delta_E= -7.86e-10  |g|= 3.67e-05  |ddm|= 2.19e-05\n",
      "converged SCF energy = -10.4979833350372  <S^2> = 7.3301068  2S+1 = 5.5063987\n",
      "ghf_stability: lowest eigs of H = [-2.73855 -0.39006  0.00001]\n",
      "<class 'pyscf.scf.ghf.GHF'> wavefunction has an internal instability\n",
      "\n",
      "\n",
      "\n",
      "\n",
      "******** <class 'pyscf.soscf.newton_ah.SecondOrderGHF'> ********\n",
      "method = SecondOrderGHF\n",
      "initial guess = minao\n",
      "damping factor = 0\n",
      "level_shift factor = 0\n",
      "DIIS = <class 'pyscf.scf.diis.CDIIS'>\n",
      "diis_start_cycle = 1\n",
      "diis_space = 8\n",
      "diis_damp = 0\n",
      "SCF conv_tol = 1e-09\n",
      "SCF conv_tol_grad = None\n",
      "SCF max_cycles = 1000\n",
      "direct_scf = True\n",
      "direct_scf_tol = 1e-13\n",
      "chkfile to save SCF result = /local/tmpa8vv6_9r\n",
      "max_memory 4000 MB (current use 586 MB)\n",
      "******** <class 'pyscf.scf.ghf.GHF'> Newton solver flags ********\n",
      "SCF tol = 1e-09\n",
      "conv_tol_grad = None\n",
      "max. SCF cycles = 1000\n",
      "direct_scf = True\n",
      "direct_scf_tol = 1e-13\n",
      "chkfile to save SCF result = /local/tmpa8vv6_9r\n",
      "max_cycle_inner = 12\n",
      "max_stepsize = 0.05\n",
      "ah_start_tol = 1e+09\n",
      "ah_level_shift = 0\n",
      "ah_conv_tol = 1e-12\n",
      "ah_lindep = 1e-14\n",
      "ah_start_cycle = 1\n",
      "ah_max_cycle = 40\n",
      "ah_grad_trust_region = 2.5\n",
      "kf_interval = 4\n",
      "kf_trust_region = 5\n",
      "canonicalization = True\n",
      "max_memory 4000 MB (current use 586 MB)\n",
      "Set conv_tol_grad to 3.16228e-05\n",
      "  HOMO = 0.918999402810802  LUMO = 3.08107336320272\n",
      "Initial guess E= -11.5186600097812  |g|= 0.844297\n",
      "macro= 0  E= -12.4813258455718  delta_E= -0.962666  |g|= 0.710649  3 KF 15 JK\n",
      "macro= 1  E= -12.5665228975285  delta_E= -0.0851971  |g|= 0.0608414  3 KF 9 JK\n",
      "macro= 2  E= -12.5665545206043  delta_E= -3.16231e-05  |g|= 0.000102907  3 KF 11 JK\n",
      "macro= 3  E= -12.5665545206043  delta_E= 5.32907e-15  |g|= 1.21258e-06  1 KF 2 JK\n",
      "Canonicalize SCF orbitals\n",
      "macro X = 4  E=-12.5665545206043  |g|= 1.21258e-06  total 11 KF 42 JK\n",
      "converged SCF energy = -12.5665545206043  <S^2> = 4.437136  2S+1 = 4.3299589\n",
      "ghf_stability: lowest eigs of H = [0.      1.82514 1.82515]\n",
      "<class 'pyscf.soscf.newton_ah.SecondOrderGHF'> wavefunction is stable in the internal stability analysis\n",
      "\n",
      "\n",
      "\n",
      "\n",
      "******** <class 'pyscf.soscf.newton_ah.SecondOrderGHF'> ********\n",
      "method = SecondOrderGHF\n",
      "initial guess = minao\n",
      "damping factor = 0\n",
      "level_shift factor = 0\n",
      "DIIS = <class 'pyscf.scf.diis.CDIIS'>\n",
      "diis_start_cycle = 1\n",
      "diis_space = 8\n",
      "diis_damp = 0\n",
      "SCF conv_tol = 1e-09\n",
      "SCF conv_tol_grad = None\n",
      "SCF max_cycles = 1000\n",
      "direct_scf = True\n",
      "direct_scf_tol = 1e-13\n",
      "chkfile to save SCF result = /local/tmpa8vv6_9r\n",
      "max_memory 4000 MB (current use 586 MB)\n",
      "******** <class 'pyscf.scf.ghf.GHF'> Newton solver flags ********\n",
      "SCF tol = 1e-09\n",
      "conv_tol_grad = None\n",
      "max. SCF cycles = 1000\n",
      "direct_scf = True\n",
      "direct_scf_tol = 1e-13\n",
      "chkfile to save SCF result = /local/tmpa8vv6_9r\n",
      "max_cycle_inner = 12\n",
      "max_stepsize = 0.05\n",
      "ah_start_tol = 1e+09\n",
      "ah_level_shift = 0\n",
      "ah_conv_tol = 1e-12\n",
      "ah_lindep = 1e-14\n",
      "ah_start_cycle = 1\n",
      "ah_max_cycle = 40\n",
      "ah_grad_trust_region = 2.5\n",
      "kf_interval = 4\n",
      "kf_trust_region = 5\n",
      "canonicalization = True\n",
      "max_memory 4000 MB (current use 586 MB)\n",
      "Set conv_tol_grad to 3.16228e-05\n",
      "  HOMO = 0.591016647399747  LUMO = 3.40898334663929\n",
      "Initial guess E= -12.5665545206043  |g|= 1.21263e-06\n",
      "macro= 0  E= -12.5665545206045  delta_E= -2.27374e-13  |g|= 1.21263e-06  1 KF 2 JK\n",
      "Canonicalize SCF orbitals\n",
      "macro X = 1  E=-12.5665545206045  |g|= 1.21263e-06  total 2 KF 4 JK\n",
      "converged SCF energy = -12.5665545206045  <S^2> = 4.4371359  2S+1 = 4.3299589\n",
      "ghf_stability: lowest eigs of H = [0.      1.82514 1.82516]\n",
      "<class 'pyscf.soscf.newton_ah.SecondOrderGHF'> wavefunction is stable in the internal stability analysis\n",
      "\n",
      "\n",
      "\n",
      "\n",
      "******** <class 'pyscf.soscf.newton_ah.SecondOrderGHF'> ********\n",
      "method = SecondOrderGHF\n",
      "initial guess = minao\n",
      "damping factor = 0\n",
      "level_shift factor = 0\n",
      "DIIS = <class 'pyscf.scf.diis.CDIIS'>\n",
      "diis_start_cycle = 1\n",
      "diis_space = 8\n",
      "diis_damp = 0\n",
      "SCF conv_tol = 1e-09\n",
      "SCF conv_tol_grad = None\n",
      "SCF max_cycles = 1000\n",
      "direct_scf = True\n",
      "direct_scf_tol = 1e-13\n",
      "chkfile to save SCF result = /local/tmpa8vv6_9r\n",
      "max_memory 4000 MB (current use 586 MB)\n",
      "******** <class 'pyscf.scf.ghf.GHF'> Newton solver flags ********\n",
      "SCF tol = 1e-09\n",
      "conv_tol_grad = None\n",
      "max. SCF cycles = 1000\n",
      "direct_scf = True\n",
      "direct_scf_tol = 1e-13\n",
      "chkfile to save SCF result = /local/tmpa8vv6_9r\n",
      "max_cycle_inner = 12\n",
      "max_stepsize = 0.05\n",
      "ah_start_tol = 1e+09\n",
      "ah_level_shift = 0\n",
      "ah_conv_tol = 1e-12\n",
      "ah_lindep = 1e-14\n",
      "ah_start_cycle = 1\n",
      "ah_max_cycle = 40\n",
      "ah_grad_trust_region = 2.5\n",
      "kf_interval = 4\n",
      "kf_trust_region = 5\n",
      "canonicalization = True\n",
      "max_memory 4000 MB (current use 586 MB)\n",
      "Set conv_tol_grad to 3.16228e-05\n",
      "  HOMO = 0.59101661216052  LUMO = 3.40898338719309\n",
      "Initial guess E= -12.5665545206045  |g|= 2.98249e-07\n",
      "macro= 0  E= -12.5665545206045  delta_E= -1.24345e-14  |g|= 2.98249e-07  1 KF 2 JK\n",
      "Canonicalize SCF orbitals\n",
      "macro X = 1  E=-12.5665545206045  |g|= 2.98249e-07  total 2 KF 4 JK\n",
      "converged SCF energy = -12.5665545206045  <S^2> = 4.4371359  2S+1 = 4.3299588\n",
      "ghf_stability: lowest eigs of H = [0.      1.82514 1.82514]\n",
      "<class 'pyscf.soscf.newton_ah.SecondOrderGHF'> wavefunction is stable in the internal stability analysis\n",
      "\n",
      "# ----------------------\n",
      "# Spin collinearity test\n",
      "# ----------------------\n",
      "# epsilon0 = 3.1943531691341145e-09\n",
      "# non integer value indicates non-collinearity\n",
      "\n",
      "# minimum mu = 3.885780586188048e-16\n",
      "# Value is 0 iff wavefunction is collinear\n",
      "\n",
      "# If mu = 0, the collinear spin axis is: \n",
      "[-0.8942 +0.j  0.     +0.j -0.44767-0.j]\n"
     ]
    }
   ],
   "source": [
    "# make dummy molecule\n",
    "mol = gto.Mole()\n",
    "mol.nelectron = nocc\n",
    "mol.incore_anyway = True\n",
    "mol.spin = abs(n_elec[0] - n_elec[1])\n",
    "mol.verbose = 4\n",
    "mol.build()\n",
    "\n",
    "# GHF.\n",
    "gmf = scf.GHF(mol)\n",
    "gmf.max_cycle = 1000\n",
    "gmf.get_hcore = lambda *args: sp.linalg.block_diag(integrals[\"h1\"], integrals[\"h1\"])\n",
    "gmf.get_ovlp = lambda *args: np.eye(2 * n_sites)\n",
    "gmf._eri = ao2mo.restore(8, integrals[\"h2\"], n_sites)\n",
    "\n",
    "seed = 262\n",
    "np.random.seed(seed)\n",
    "dm_init = np.random.random((2*n_sites, 2*n_sites))\n",
    "dm_init += dm_init.T.conj()\n",
    "\n",
    "gmf.kernel(dm_init)\n",
    "mo1 = gmf.stability(external=True)\n",
    "gmf = gmf.newton().run(mo1, gmf.mo_occ)\n",
    "mo1 = gmf.stability(external=True)\n",
    "gmf = gmf.newton().run(mo1, gmf.mo_occ)\n",
    "mo1 = gmf.stability(external=True)\n",
    "gmf = gmf.newton().run(mo1, gmf.mo_occ)\n",
    "mo1 = gmf.stability(external=True)\n",
    "\n",
    "ghf_coeff = gmf.mo_coeff\n",
    "ghf_rdm1 = gmf.make_rdm1()\n",
    "ao_ovlp = np.eye(n_sites)\n",
    "epsilon0, mu, spin_axis = spin_utils.spin_collinearity_test(ghf_coeff[:, :nocc], ao_ovlp, verbose=verbose)"
   ]
  },
  {
   "cell_type": "code",
   "execution_count": 37,
   "id": "6274f8a4-4d1e-46bd-9037-da35dd0388e0",
   "metadata": {
    "scrolled": true
   },
   "outputs": [
    {
     "data": {
      "text/plain": [
       "-7.747078989971995"
      ]
     },
     "execution_count": 37,
     "metadata": {},
     "output_type": "execute_result"
    }
   ],
   "source": [
    "(-12.5665545206045--13.62185)/-13.62185 * 100"
   ]
  },
  {
   "cell_type": "markdown",
   "id": "cdebe254-3629-4dac-bf1b-e62c26348db5",
   "metadata": {},
   "source": [
    "# CPMC"
   ]
  },
  {
   "cell_type": "code",
   "execution_count": 17,
   "id": "487cfe70-b7ef-443a-991a-ec4b4cfdbf3e",
   "metadata": {},
   "outputs": [
    {
     "name": "stdout",
     "output_type": "stream",
     "text": [
      "SCF not converged.\n",
      "SCF energy = -7.20597534695668 after -1 cycles  <S^2> = 5.3290705e-15  2S+1 = 1\n",
      "#\n",
      "# Preparing AFQMC calculation\n",
      "# Calculating Cholesky integrals\n",
      "# Finished calculating Cholesky integrals\n",
      "#\n",
      "# Size of the correlation space:\n",
      "# Number of electrons: (8, 8)\n",
      "# Number of basis functions: 16\n",
      "# Number of Cholesky vectors: 16\n",
      "#\n",
      "# Number of MPI ranks: 1\n",
      "#\n",
      "# No trial specified in options.\n",
      "# trial.pkl not found, make sure to construct the trial separately.\n",
      "# norb: 16\n",
      "# nelec: (8, 8)\n",
      "#\n",
      "# dt: 0.005\n",
      "# n_eql: 20\n",
      "# n_ene_blocks: 1\n",
      "# n_sr_blocks: 5\n",
      "# n_blocks: 100\n",
      "# n_prop_steps: 100\n",
      "# n_walkers: 50\n",
      "# seed: 98\n",
      "# walker_type: uhf\n",
      "# save_walkers: False\n",
      "# n_ene_blocks_eql: 5\n",
      "# n_sr_blocks_eql: 10\n",
      "# orbital_rotation: True\n",
      "# do_sr: True\n",
      "# symmetry: False\n",
      "# ene0: 0.0\n",
      "# free_projection: False\n",
      "# n_batch: 1\n",
      "#\n",
      "\n",
      "# Using CPMC propagator...\n",
      "# Equilibration sweeps:\n",
      "#       Iter      Total block weight   Block energy         Walltime  \n",
      "#          0      5.000000000e+01      -1.311457148e+01     2.12e+00   \n",
      "#          2      1.028382778e+01      -1.357539845e+01     1.44e+01   \n",
      "#          4      1.025670528e+01      -1.373006058e+01     2.67e+01   \n",
      "#          6      1.035857105e+01      -1.361471367e+01     3.91e+01   \n",
      "#          8      1.021237850e+01      -1.357807064e+01     5.19e+01   \n",
      "#         10      1.011053371e+01      -1.358213520e+01     6.42e+01   \n",
      "#         12      1.011260986e+01      -1.360536289e+01     7.65e+01   \n",
      "#         14      1.012093830e+01      -1.362760448e+01     8.88e+01   \n",
      "#         16      1.016330433e+01      -1.367364597e+01     1.01e+02   \n",
      "#         18      1.013921261e+01      -1.359039021e+01     1.13e+02   \n",
      "#         20      1.012523079e+01      -1.368126583e+01     1.26e+02   \n",
      "#\n",
      "# Sampling sweeps:\n",
      "#  Iter        Mean energy          Stochastic error       Walltime\n",
      "     0      -1.352772999e+01                -              1.31e+02 \n",
      "    10      -1.356504553e+01                -              1.44e+02 \n",
      "    20      -1.357894953e+01                -              1.56e+02 \n",
      "    30      -1.358042751e+01                -              1.69e+02 \n",
      "    40      -1.358159408e+01        1.070797369e-02        1.81e+02 \n",
      "    50      -1.357113696e+01        1.193726662e-02        1.93e+02 \n",
      "    60      -1.357190569e+01                -              2.05e+02 \n",
      "    70      -1.358424540e+01        1.427644218e-02        2.18e+02 \n",
      "    80      -1.358499777e+01                -              2.30e+02 \n",
      "    90      -1.358774341e+01                -              2.42e+02 \n",
      "#\n",
      "# Number of large deviations: 0\n",
      "# Number of outliers in post: 0 \n",
      "#\n",
      "# Mean: -1.35892576e+01\n",
      "# Block size    # of blocks         Mean                Error\n",
      "      1              100       -1.35892576e+01       5.840758e-03\n",
      "      2               50       -1.35892576e+01       7.015398e-03\n",
      "      5               20       -1.35892576e+01       8.218525e-03\n",
      "     10               10       -1.35892576e+01       1.027935e-02\n",
      "     20                5       -1.35892576e+01       1.377590e-02\n",
      "AFQMC energy: -13.58925760844421\n",
      "\n"
     ]
    }
   ],
   "source": [
    "# make dummy molecule\n",
    "mol = gto.Mole()\n",
    "mol.nelectron = nocc\n",
    "mol.incore_anyway = True\n",
    "mol.spin = abs(n_elec[0] - n_elec[1])\n",
    "mol.build()\n",
    "\n",
    "# UHF.\n",
    "umf = scf.UHF(mol)\n",
    "umf.get_hcore = lambda *args: integrals[\"h1\"]\n",
    "umf.get_ovlp = lambda *args: np.eye(n_sites)\n",
    "umf._eri = ao2mo.restore(8, integrals[\"h2\"], n_sites)\n",
    "umf.max_cycle = -1\n",
    "umf.kernel()\n",
    "\n",
    "# AFQMC.\n",
    "run_cpmc = True\n",
    "nwalkers = 50\n",
    "\n",
    "filetag = ''\n",
    "jobid = ''\n",
    "try: jobid = '.' +  os.environ[\"SLURM_JOB_ID\"]\n",
    "except: pass\n",
    "filetag += jobid\n",
    "\n",
    "pyscf_interface.prep_afqmc(\n",
    "        umf, basis_coeff=np.eye(n_sites), integrals=integrals, filetag=filetag)\n",
    "\n",
    "options = {\n",
    "    \"dt\": 0.005,\n",
    "    \"n_eql\": 20,\n",
    "    \"n_ene_blocks\": 1,\n",
    "    \"n_sr_blocks\": 5,\n",
    "    \"n_blocks\": 100,\n",
    "    \"n_prop_steps\": 100,\n",
    "    \"n_walkers\": nwalkers,\n",
    "    \"seed\": 98,\n",
    "    \"walker_type\": \"uhf\",\n",
    "    # \"trial\": \"uhf\",\n",
    "    \"save_walkers\": False,\n",
    "    #\"do_sr\": False\n",
    "}\n",
    "\n",
    "ham_data, ham, prop, trial, wave_data, sampler, observable, options, MPI = (\n",
    "    mpi_jax._prep_afqmc(options, filetag=filetag)\n",
    ")\n",
    "\n",
    "if run_cpmc:\n",
    "    if verbose: print(f'\\n# Using CPMC propagator...')\n",
    "    prop = propagation.propagator_cpmc_unrestricted(\n",
    "        dt=options[\"dt\"],\n",
    "        n_walkers=options[\"n_walkers\"],\n",
    "    )\n",
    "\n",
    "trial = wavefunctions.ghf_cpmc(n_sites, n_elec)\n",
    "wave_data[\"mo_coeff\"] = ghf_coeff[:, :nocc]\n",
    "wave_data[\"rdm1\"] = jnp.array([ghf_rdm1[:n_sites, :n_sites], ghf_rdm1[n_sites:, n_sites:]])\n",
    "ham_data = ham.build_measurement_intermediates(ham_data, trial, wave_data)\n",
    "ham_data = ham.build_propagation_intermediates(ham_data, prop, trial, wave_data)\n",
    "ham_data[\"u\"] = U\n",
    "\n",
    "e_afqmc, err_afqmc = driver.afqmc(\n",
    "    ham_data, ham, prop, trial, wave_data, sampler, observable, options, MPI,\n",
    ")"
   ]
  },
  {
   "cell_type": "code",
   "execution_count": 18,
   "id": "d22be612-4dad-4da0-9521-3a18ffaaf24f",
   "metadata": {},
   "outputs": [
    {
     "data": {
      "text/plain": [
       "-0.23926552968788925"
      ]
     },
     "execution_count": 18,
     "metadata": {},
     "output_type": "execute_result"
    }
   ],
   "source": [
    "(-13.58925760844421--13.62185)/-13.62185 * 100"
   ]
  },
  {
   "cell_type": "markdown",
   "id": "8d9da720-ed10-448f-b132-8d5ef8f1db2b",
   "metadata": {},
   "source": [
    "# AFQMC"
   ]
  },
  {
   "cell_type": "code",
   "execution_count": 153,
   "id": "a7a2938e-c609-40c5-a4db-890a52b764e3",
   "metadata": {},
   "outputs": [
    {
     "name": "stdout",
     "output_type": "stream",
     "text": [
      "SCF not converged.\n",
      "SCF energy = -16.9013249722489 after -1 cycles  <S^2> = 8.8817842e-16  2S+1 = 1\n",
      "#\n",
      "# Preparing AFQMC calculation\n",
      "# Calculating Cholesky integrals\n",
      "# Finished calculating Cholesky integrals\n",
      "#\n",
      "# Size of the correlation space:\n",
      "# Number of electrons: (2, 2)\n",
      "# Number of basis functions: 16\n",
      "# Number of Cholesky vectors: 16\n",
      "#\n",
      "# Number of MPI ranks: 1\n",
      "#\n",
      "# No trial specified in options.\n",
      "# trial.pkl not found, make sure to construct the trial separately.\n",
      "# norb: 16\n",
      "# nelec: (2, 2)\n",
      "#\n",
      "# dt: 0.005\n",
      "# n_eql: 20\n",
      "# n_ene_blocks: 1\n",
      "# n_sr_blocks: 5\n",
      "# n_blocks: 100\n",
      "# n_prop_steps: 100\n",
      "# n_walkers: 50\n",
      "# seed: 98\n",
      "# walker_type: uhf\n",
      "# save_walkers: False\n",
      "# n_ene_blocks_eql: 5\n",
      "# n_sr_blocks_eql: 10\n",
      "# orbital_rotation: True\n",
      "# do_sr: True\n",
      "# symmetry: False\n",
      "# ene0: 0.0\n",
      "# free_projection: False\n",
      "# n_batch: 1\n",
      "#\n",
      "# Equilibration sweeps:\n",
      "#       Iter      Total block weight   Block energy         Walltime  \n",
      "#          0      5.000000000e+01      -1.690896893e+01     8.54e-01   \n",
      "#          2      4.957894897e+01      -1.719691658e+01     8.25e+00   \n",
      "#          4      4.997529984e+01      -1.719436455e+01     1.19e+01   \n",
      "#          6      4.975822449e+01      -1.719722176e+01     1.55e+01   \n",
      "#          8      5.003704453e+01      -1.719174767e+01     1.91e+01   \n",
      "#         10      4.939590454e+01      -1.719534874e+01     2.27e+01   \n",
      "#         12      4.937516785e+01      -1.719466209e+01     2.63e+01   \n",
      "#         14      4.965380478e+01      -1.719033813e+01     2.99e+01   \n",
      "#         16      4.984745407e+01      -1.719124222e+01     3.35e+01   \n",
      "#         18      4.952629089e+01      -1.720149040e+01     3.72e+01   \n",
      "#         20      4.910751724e+01      -1.719677353e+01     4.08e+01   \n",
      "#\n",
      "# Sampling sweeps:\n",
      "#  Iter        Mean energy          Stochastic error       Walltime\n",
      "     0      -1.717645836e+01                -              4.27e+01 \n",
      "    10      -1.719213037e+01        3.144821360e-03        4.62e+01 \n",
      "    20      -1.719202874e+01        2.508198156e-03        4.98e+01 \n",
      "    30      -1.719387571e+01        1.990960403e-03        5.35e+01 \n",
      "    40      -1.719392051e+01        1.787110354e-03        5.71e+01 \n",
      "    50      -1.719546670e+01        1.660777560e-03        6.06e+01 \n",
      "    60      -1.719664478e+01        1.559284673e-03        6.42e+01 \n",
      "    70      -1.719642274e+01        1.441480204e-03        6.78e+01 \n",
      "    80      -1.719600146e+01        1.361348503e-03        7.16e+01 \n",
      "    90      -1.719618677e+01        1.232983395e-03        7.51e+01 \n",
      "#\n",
      "# Number of large deviations: 0\n",
      "# Number of outliers in post: 0 \n",
      "#\n",
      "# Mean: -1.71959821e+01\n",
      "# Block size    # of blocks         Mean                Error\n",
      "      1              100       -1.71959821e+01       1.165978e-03\n",
      "      2               50       -1.71959821e+01       1.078290e-03\n",
      "      5               20       -1.71959821e+01       1.123563e-03\n",
      "     10               10       -1.71959821e+01       1.097608e-03\n",
      "     20                5       -1.71959821e+01       1.630924e-03\n",
      "# Stocahstic error estimate: 1.165978e-03\n",
      "#\n",
      "AFQMC energy: -17.196 +/- 0.001\n",
      "\n"
     ]
    }
   ],
   "source": [
    "# make dummy molecule\n",
    "mol = gto.Mole()\n",
    "mol.nelectron = nocc\n",
    "mol.incore_anyway = True\n",
    "mol.spin = abs(n_elec[0] - n_elec[1])\n",
    "mol.build()\n",
    "\n",
    "# UHF.\n",
    "umf = scf.UHF(mol)\n",
    "umf.get_hcore = lambda *args: integrals[\"h1\"]\n",
    "umf.get_ovlp = lambda *args: np.eye(n_sites)\n",
    "umf._eri = ao2mo.restore(8, integrals[\"h2\"], n_sites)\n",
    "umf.max_cycle = -1\n",
    "umf.kernel()\n",
    "\n",
    "# AFQMC.\n",
    "run_cpmc = False\n",
    "nwalkers = 50\n",
    "\n",
    "filetag = ''\n",
    "jobid = ''\n",
    "try: jobid = '.' +  os.environ[\"SLURM_JOB_ID\"]\n",
    "except: pass\n",
    "filetag += jobid\n",
    "\n",
    "pyscf_interface.prep_afqmc(\n",
    "        umf, basis_coeff=np.eye(n_sites), integrals=integrals, filetag=filetag)\n",
    "\n",
    "options = {\n",
    "    \"dt\": 0.005,\n",
    "    \"n_eql\": 20,\n",
    "    \"n_ene_blocks\": 1,\n",
    "    \"n_sr_blocks\": 5,\n",
    "    \"n_blocks\": 100,\n",
    "    \"n_prop_steps\": 100,\n",
    "    \"n_walkers\": nwalkers,\n",
    "    \"seed\": 98,\n",
    "    \"walker_type\": \"uhf\",\n",
    "    # \"trial\": \"uhf\",\n",
    "    \"save_walkers\": False,\n",
    "    #\"do_sr\": False\n",
    "}\n",
    "\n",
    "ham_data, ham, prop, trial, wave_data, sampler, observable, options, MPI = (\n",
    "    mpi_jax._prep_afqmc(options, filetag=filetag)\n",
    ")\n",
    "\n",
    "if run_cpmc:\n",
    "    if verbose: print(f'\\n# Using CPMC propagator...')\n",
    "    prop = propagation.propagator_cpmc_unrestricted(\n",
    "        dt=options[\"dt\"],\n",
    "        n_walkers=options[\"n_walkers\"],\n",
    "    )\n",
    "\n",
    "trial = wavefunctions.ghf_cpmc(n_sites, n_elec)\n",
    "wave_data[\"mo_coeff\"] = ghf_coeff[:, :nocc]\n",
    "wave_data[\"rdm1\"] = jnp.array([ghf_rdm1[:n_sites, :n_sites], ghf_rdm1[n_sites:, n_sites:]])\n",
    "ham_data = ham.build_measurement_intermediates(ham_data, trial, wave_data)\n",
    "ham_data = ham.build_propagation_intermediates(ham_data, prop, trial, wave_data)\n",
    "ham_data[\"u\"] = U\n",
    "\n",
    "e_afqmc, err_afqmc = driver.afqmc(\n",
    "    ham_data, ham, prop, trial, wave_data, sampler, observable, options, MPI,\n",
    ")"
   ]
  },
  {
   "cell_type": "markdown",
   "id": "1b7562d3-a6dd-4135-b306-2f7e3a7321e1",
   "metadata": {},
   "source": [
    "# FCI"
   ]
  },
  {
   "cell_type": "code",
   "execution_count": 159,
   "id": "fd2bfaa0",
   "metadata": {},
   "outputs": [
    {
     "name": "stdout",
     "output_type": "stream",
     "text": [
      "\n",
      "WARN: Not enough memory for FCI solver. The minimal requirement is 9938 MB\n",
      "\n",
      "davidson 0 1  |r|= 4.69  e= [0.]  max|de|= 6.4e-09  lindep=    1\n"
     ]
    },
    {
     "name": "stderr",
     "output_type": "stream",
     "text": [
      "\n",
      "KeyboardInterrupt\n",
      "\n"
     ]
    }
   ],
   "source": [
    "mol.verbose = 5\n",
    "ci = fci.FCI(mol)\n",
    "e, ci_coeffs = ci.kernel(\n",
    "    h1e=integrals[\"h1\"], eri=integrals[\"h2\"], norb=n_sites, nelec=n_elec, max_cycle=50000\n",
    ")\n",
    "\n",
    "print(ci.spin_square(ci_coeffs, n_sites, n_elec))\n",
    "if verbose: print(f\"\\n# fci energy: {e}\")"
   ]
  },
  {
   "cell_type": "markdown",
   "id": "a686db70-3c73-4e3b-afd3-29578aae6273",
   "metadata": {},
   "source": [
    "# Optimized projected GHF with CPMC"
   ]
  },
  {
   "cell_type": "code",
   "execution_count": 20,
   "id": "09dda02f",
   "metadata": {},
   "outputs": [
    {
     "name": "stdout",
     "output_type": "stream",
     "text": [
      "\n",
      "# Initial projected energy = -13.106709070674972\n"
     ]
    },
    {
     "name": "stderr",
     "output_type": "stream",
     "text": [
      "/burg/ccce/users/su2254/ad_afqmc/projected_mf/tests/../../projected_mf/projected_ghf_jax.py:326: OptimizeWarning: Unknown solver options: ftol\n",
      "  res = minimize(\n",
      "/burg/ccce/users/su2254/envs/ad_afqmc/lib/python3.9/site-packages/jax/_src/lax/lax.py:2785: ComplexWarning: Casting complex values to real discards the imaginary part\n",
      "  x_bar = _convert_element_type(x_bar, x.aval.dtype, x.aval.weak_type)\n",
      "/burg/ccce/users/su2254/envs/ad_afqmc/lib/python3.9/site-packages/jax/_src/lax/lax.py:2785: ComplexWarning: Casting complex values to real discards the imaginary part\n",
      "  x_bar = _convert_element_type(x_bar, x.aval.dtype, x.aval.weak_type)\n"
     ]
    },
    {
     "name": "stdout",
     "output_type": "stream",
     "text": [
      "projected E = -13.163531376075138\n",
      "projected E = -13.167668057135055\n",
      "projected E = -13.168712169103836\n",
      "projected E = -13.168724198307183\n",
      "projected E = -13.168724199457888\n",
      "projected E = -13.168724199769937\n",
      "projected E = -13.168724200235548\n",
      "projected E = -13.168724200277326\n",
      "projected E = -13.16872420034214\n",
      "projected E = -13.168724200375314\n",
      "projected E = -13.1687242003892\n",
      "projected E = -13.168724200413028\n",
      "projected E = -13.17070392550067\n",
      "projected E = -13.170703925563261\n",
      "projected E = -13.173268999772858\n",
      "projected E = -13.177580380482288\n",
      "projected E = -13.182900275697445\n",
      "projected E = -13.188038057018417\n",
      "projected E = -13.19525048562122\n",
      "projected E = -13.204637807954732\n",
      "projected E = -13.211453813275499\n",
      "projected E = -13.220093031794379\n",
      "projected E = -13.22338686990135\n",
      "projected E = -13.225249819033456\n",
      "projected E = -13.226787741919741\n",
      "projected E = -13.227278791915072\n",
      "projected E = -13.227940652173126\n",
      "projected E = -13.228430409565936\n",
      "projected E = -13.228684015614526\n",
      "projected E = -13.22908983887788\n",
      "projected E = -13.229368465957466\n",
      "projected E = -13.229744946611934\n",
      "projected E = -13.230101063420058\n",
      "projected E = -13.230243289354606\n",
      "projected E = -13.230417796447577\n",
      "projected E = -13.230501510223831\n",
      "projected E = -13.230585619833937\n",
      "projected E = -13.230682803034066\n",
      "projected E = -13.230694915089375\n",
      "projected E = -13.23071800203548\n",
      "projected E = -13.230759290384983\n",
      "projected E = -13.230827338353889\n",
      "projected E = -13.230913146540114\n",
      "projected E = -13.230954998385792\n",
      "projected E = -13.230975043020191\n",
      "projected E = -13.230985377462726\n",
      "projected E = -13.230993396605081\n",
      "projected E = -13.230996909633989\n",
      "projected E = -13.230997369691712\n",
      "projected E = -13.230998208737804\n",
      "projected E = -13.230999428576558\n",
      "projected E = -13.23100127744325\n",
      "projected E = -13.231001836646595\n",
      "projected E = -13.231002512511436\n",
      "projected E = -13.231002814267304\n",
      "projected E = -13.231002933809709\n",
      "projected E = -13.231003062695825\n",
      "projected E = -13.231003115455083\n",
      "projected E = -13.23100317668616\n",
      "projected E = -13.231003184041322\n",
      "projected E = -13.231003196807482\n",
      "projected E = -13.231003213898441\n",
      "projected E = -13.231003221411761\n",
      "projected E = -13.231003227885163\n",
      "projected E = -13.231003228879151\n",
      "projected E = -13.231003228988044\n",
      "projected E = -13.23100322918784\n",
      "projected E = -13.23100322951615\n",
      "projected E = -13.231003230042646\n",
      "projected E = -13.231003230234737\n",
      "projected E = -13.231003230553748\n",
      "projected E = -13.231003230891753\n",
      "projected E = -13.231003231119075\n",
      "projected E = -13.231003231379438\n",
      "projected E = -13.231003231455178\n",
      "projected E = -13.231003231568799\n",
      "projected E = -13.231003231625843\n",
      "projected E = -13.231003231693078\n",
      "projected E = -13.231003231724856\n",
      "projected E = -13.231003231731766\n",
      "projected E = -13.23100323173896\n",
      "projected E = -13.231003231741512\n",
      "projected E = -13.231003231744674\n",
      "projected E = -13.231003231746744\n",
      "projected E = -13.231003231747879\n",
      "projected E = -13.23100323174959\n",
      "projected E = -13.231003231750107\n",
      "projected E = -13.231003231750792\n",
      "projected E = -13.231003231750835\n",
      "projected E = -13.231003231750945\n",
      "projected E = -13.23100323175096\n",
      "projected E = -13.231003231750973\n",
      "projected E = -13.231003231751\n",
      "projected E = -13.231003231751023\n",
      "projected E = -13.231003231751043\n",
      "Warning: Desired error not necessarily achieved due to precision loss.\n",
      "         Current function value: -13.231003\n",
      "         Iterations: 95\n",
      "         Function evaluations: 262\n",
      "         Gradient evaluations: 247\n",
      "# Optimized projected energy = -13.231003231751043\n"
     ]
    }
   ],
   "source": [
    "psi = jnp.array(ghf_coeff[:, :nocc])\n",
    "h1 = jnp.array(h1, dtype=jnp.complex128)\n",
    "chol = jnp.array(chol, dtype=jnp.complex128)\n",
    "proj_energy, opt_psi, energy_iters = optimize_jax(psi, n_elec, [h1, h1], chol, 0., s=0, store_iters=True, ngrid_z=10, ngrid_y=10, method='BFGS', projector='S2', verbose=True)\n",
    "print(f'# Optimized projected energy = {proj_energy}')"
   ]
  },
  {
   "cell_type": "code",
   "execution_count": null,
   "id": "d6bc13c6-a408-4c73-852b-b3800317541a",
   "metadata": {},
   "outputs": [],
   "source": [
    "psi = jnp.array(ghf_coeff[:, :nocc])\n",
    "h1 = jnp.array(h1, dtype=jnp.complex128)\n",
    "chol = jnp.array(chol, dtype=jnp.complex128)\n",
    "proj_energy, opt_psi = optimize(psi, n_elec, [h1, h1], chol, 0., s=0, ngrid_z=15, ngrid_y=15, method='BFGS', projector='S2')\n",
    "print(f'# Optimized projected energy = {proj_energy}')"
   ]
  },
  {
   "cell_type": "code",
   "execution_count": 21,
   "id": "c8e76eac-a67b-45e9-824a-804bfd891bdb",
   "metadata": {},
   "outputs": [],
   "source": [
    "norb = h1.shape[0]\n",
    "rotchol = build_rotchol(psi.T.conj(), chol.reshape((-1, norb, norb)))\n",
    "opt_rotchol = build_rotchol(opt_psi.T.conj(), chol.reshape((-1, norb, norb)))\n",
    "ehf = get_energy_jax(psi, psi, [h1, h1], rotchol, 0.)\n",
    "opt_ehf = get_energy_jax(opt_psi, opt_psi, [h1, h1], opt_rotchol, 0.)"
   ]
  },
  {
   "cell_type": "code",
   "execution_count": 22,
   "id": "a694492a-0de9-41b4-877b-f6195290a3da",
   "metadata": {},
   "outputs": [
    {
     "name": "stdout",
     "output_type": "stream",
     "text": [
      "1.0333997654302778\n",
      "1.0\n",
      "1.054392423136029\n",
      "0.9999999999999999\n",
      "0.9921533800096151\n",
      "1.0\n",
      "1.0000820170468439\n",
      "1.0\n",
      "1.0142715763318633\n",
      "1.0\n",
      "1.0160291357499784\n",
      "1.0\n",
      "1.017407689373733\n",
      "1.0\n",
      "1.01775252797117\n",
      "1.0\n",
      "1.035450778084449\n",
      "1.0\n",
      "1.0665900870075156\n",
      "1.0\n",
      "1.0137842991246544\n",
      "0.9999999999999999\n",
      "1.0112324810704214\n",
      "1.0\n",
      "1.0103369364354193\n",
      "1.0\n",
      "1.0096142442167202\n",
      "1.0\n",
      "1.0092023507591394\n",
      "1.0\n",
      "1.0311725881731864\n",
      "1.0\n"
     ]
    }
   ],
   "source": [
    "# Normalize orbitals.\n",
    "for iorb in range(opt_psi.shape[1]):\n",
    "    norm = sp.linalg.norm(opt_psi[:, iorb])\n",
    "    print(norm)\n",
    "    opt_psi[:, iorb] /= norm\n",
    "    norm = sp.linalg.norm(opt_psi[:, iorb])\n",
    "    print(norm)"
   ]
  },
  {
   "cell_type": "code",
   "execution_count": 23,
   "id": "d939a6f9-299a-483c-b844-a6d5e35d2095",
   "metadata": {},
   "outputs": [
    {
     "name": "stdout",
     "output_type": "stream",
     "text": [
      "1.0\n",
      "0.9999999999999999\n",
      "1.0\n",
      "1.0\n",
      "1.0\n",
      "1.0\n",
      "1.0\n",
      "1.0\n",
      "1.0\n",
      "1.0\n",
      "0.9999999999999999\n",
      "1.0\n",
      "1.0\n",
      "1.0\n",
      "1.0\n",
      "1.0\n"
     ]
    }
   ],
   "source": [
    "# Normalize orbitals.\n",
    "for iorb in range(opt_psi.shape[1]):\n",
    "    norm = sp.linalg.norm(opt_psi[:, iorb])\n",
    "    print(norm)"
   ]
  },
  {
   "cell_type": "code",
   "execution_count": 24,
   "id": "e958e347-f161-43c7-aeeb-5ecb19490c46",
   "metadata": {},
   "outputs": [
    {
     "name": "stdout",
     "output_type": "stream",
     "text": [
      "EHF = (-12.56655452069899+0j)\n",
      "Optimized EHF = (-12.117003925114378+0j)\n",
      "Optimized projected E = -13.231003231751043\n"
     ]
    }
   ],
   "source": [
    "print(f'EHF = {ehf}')\n",
    "print(f'Optimized EHF = {opt_ehf}')\n",
    "print(f'Optimized projected E = {proj_energy}')"
   ]
  },
  {
   "cell_type": "code",
   "execution_count": 25,
   "id": "09a19bb1-be72-4f4b-80d3-7809d234dad0",
   "metadata": {},
   "outputs": [
    {
     "name": "stdout",
     "output_type": "stream",
     "text": [
      "16.0\n",
      "8.02512490988667\n",
      "7.97487509011333\n",
      "(32, 32)\n"
     ]
    }
   ],
   "source": [
    "opt_rdm1 = opt_psi @ opt_psi.T.conj()\n",
    "print(np.trace(opt_rdm1))\n",
    "print(np.trace(opt_rdm1[:n_sites, :n_sites]))\n",
    "print(np.trace(opt_rdm1[n_sites:, n_sites:]))\n",
    "print(opt_rdm1.shape)"
   ]
  },
  {
   "cell_type": "code",
   "execution_count": 26,
   "id": "7289e674-eb35-4a33-b940-7a864dc05737",
   "metadata": {},
   "outputs": [
    {
     "name": "stdout",
     "output_type": "stream",
     "text": [
      "16.000000000000007\n",
      "7.999999997143611\n",
      "8.000000002856396\n",
      "(32, 32)\n"
     ]
    }
   ],
   "source": [
    "rdm1 = psi @ psi.T.conj()\n",
    "print(np.trace(rdm1))\n",
    "print(np.trace(rdm1[:n_sites, :n_sites]))\n",
    "print(np.trace(rdm1[n_sites:, n_sites:]))\n",
    "print(rdm1.shape)"
   ]
  },
  {
   "cell_type": "code",
   "execution_count": 27,
   "id": "c5654a16-4914-4104-8c5c-f6284fa6e8a9",
   "metadata": {},
   "outputs": [
    {
     "data": {
      "text/plain": [
       "Array([[ 0.34231,  0.16114,  0.01868, ...,  0.03732, -0.     ,  0.03732],\n",
       "       [ 0.16114,  0.65769,  0.16114, ..., -0.     , -0.03732, -0.     ],\n",
       "       [ 0.01868,  0.16114,  0.34231, ...,  0.03732, -0.     ,  0.03732],\n",
       "       ...,\n",
       "       [ 0.03732, -0.     ,  0.03732, ...,  0.65769,  0.16114, -0.01868],\n",
       "       [-0.     , -0.03732, -0.     , ...,  0.16114,  0.34231,  0.16114],\n",
       "       [ 0.03732, -0.     ,  0.03732, ..., -0.01868,  0.16114,  0.65769]],      dtype=float64)"
      ]
     },
     "execution_count": 27,
     "metadata": {},
     "output_type": "execute_result"
    }
   ],
   "source": [
    "rdm1"
   ]
  },
  {
   "cell_type": "code",
   "execution_count": 28,
   "id": "fc94c46c-f049-4c5f-b9fe-85a776e79593",
   "metadata": {},
   "outputs": [
    {
     "data": {
      "text/plain": [
       "array([[ 0.46306,  0.13817,  0.01964, ...,  0.04794,  0.00991,  0.0325 ],\n",
       "       [ 0.13817,  0.74109,  0.14809, ..., -0.00179, -0.04421, -0.01614],\n",
       "       [ 0.01964,  0.14809,  0.25013, ...,  0.05173,  0.00301,  0.03149],\n",
       "       ...,\n",
       "       [ 0.04794, -0.00179,  0.05173, ...,  0.76495,  0.16235, -0.00868],\n",
       "       [ 0.00991, -0.04421,  0.00301, ...,  0.16235,  0.26261,  0.14393],\n",
       "       [ 0.0325 , -0.01614,  0.03149, ..., -0.00868,  0.14393,  0.53207]])"
      ]
     },
     "execution_count": 28,
     "metadata": {},
     "output_type": "execute_result"
    }
   ],
   "source": [
    "opt_rdm1"
   ]
  },
  {
   "cell_type": "code",
   "execution_count": 29,
   "id": "f9889dae-49e8-4a10-b4ff-9c673e11f9e2",
   "metadata": {},
   "outputs": [],
   "source": [
    "evals, evecs = np.linalg.eigh(opt_rdm1)\n",
    "evals = evals[::-1]\n",
    "evecs = evecs[:, ::-1]"
   ]
  },
  {
   "cell_type": "code",
   "execution_count": 33,
   "id": "8553d380-b208-4146-859e-a693eed7a03b",
   "metadata": {},
   "outputs": [
    {
     "name": "stdout",
     "output_type": "stream",
     "text": [
      "<S> = [0.02193+0.j 0.     +0.j 0.0391 +0.j]\n",
      "<S^2> = (4.811598549799565+0j), S = (1.7497996688148847+0j), 2S+1 = (4.499599337629769+0j)\n",
      "ovlp = (0.9691633937900228+0j)\n"
     ]
    }
   ],
   "source": [
    "G, ovlp = get_greens(opt_psi[:, :nocc], opt_psi[:, :nocc])\n",
    "savg = spin_utils.get_spin_average_from_greens_ghf(G) * ovlp\n",
    "s2 = spin_utils.get_spin_square_from_greens_ghf(G) * ovlp\n",
    "s = calc_s(s2)\n",
    "\n",
    "print(f'<S> = {savg}')\n",
    "print(f'<S^2> = {s2}, S = {s}, 2S+1 = {calc_multiplicity(s)}')\n",
    "print(f'ovlp = {ovlp}')"
   ]
  },
  {
   "cell_type": "code",
   "execution_count": 34,
   "id": "31f710c1-8877-4e3a-81f0-254b851330de",
   "metadata": {},
   "outputs": [
    {
     "name": "stdout",
     "output_type": "stream",
     "text": [
      "<S> = [ 0.+0.j  0.+0.j -0.+0.j]\n",
      "<S^2> = (4.4371359015919545+0j), S = (1.6649794229026647+0j), 2S+1 = (4.329958845805329+0j)\n",
      "ovlp = (1.000000000000006+0j)\n"
     ]
    }
   ],
   "source": [
    "G, ovlp = get_greens(psi[:, :nocc], psi[:, :nocc])\n",
    "savg = spin_utils.get_spin_average_from_greens_ghf(G) * ovlp\n",
    "s2 = spin_utils.get_spin_square_from_greens_ghf(G) * ovlp\n",
    "s = calc_s(s2)\n",
    "\n",
    "print(f'<S> = {savg}')\n",
    "print(f'<S^2> = {s2}, S = {s}, 2S+1 = {calc_multiplicity(s)}')\n",
    "print(f'ovlp = {ovlp}')"
   ]
  },
  {
   "cell_type": "code",
   "execution_count": 35,
   "id": "fd395e53",
   "metadata": {},
   "outputs": [
    {
     "name": "stdout",
     "output_type": "stream",
     "text": [
      "SCF not converged.\n",
      "SCF energy = -7.20597534695668 after -1 cycles  <S^2> = 5.3290705e-15  2S+1 = 1\n",
      "#\n",
      "# Preparing AFQMC calculation\n",
      "# Calculating Cholesky integrals\n",
      "# Finished calculating Cholesky integrals\n",
      "#\n",
      "# Size of the correlation space:\n",
      "# Number of electrons: (8, 8)\n",
      "# Number of basis functions: 16\n",
      "# Number of Cholesky vectors: 16\n",
      "#\n",
      "# Number of MPI ranks: 1\n",
      "#\n",
      "# No trial specified in options.\n",
      "# trial.pkl not found, make sure to construct the trial separately.\n",
      "# norb: 16\n",
      "# nelec: (8, 8)\n",
      "#\n",
      "# dt: 0.005\n",
      "# n_eql: 20\n",
      "# n_ene_blocks: 1\n",
      "# n_sr_blocks: 5\n",
      "# n_blocks: 100\n",
      "# n_prop_steps: 100\n",
      "# n_walkers: 50\n",
      "# seed: 98\n",
      "# walker_type: uhf\n",
      "# save_walkers: False\n",
      "# n_ene_blocks_eql: 5\n",
      "# n_sr_blocks_eql: 10\n",
      "# orbital_rotation: True\n",
      "# do_sr: True\n",
      "# symmetry: False\n",
      "# ene0: 0.0\n",
      "# free_projection: False\n",
      "# n_batch: 1\n",
      "#\n",
      "\n",
      "# Using CPMC propagator...\n",
      "# Equilibration sweeps:\n",
      "#       Iter      Total block weight   Block energy         Walltime  \n",
      "#          0      5.000000000e+01      -1.353198528e+01     1.09e+00   \n",
      "#          2      1.012542915e+01      -1.357204914e+01     1.38e+01   \n",
      "#          4      1.004499149e+01      -1.368661404e+01     2.63e+01   \n",
      "#          6      1.031629467e+01      -1.367032623e+01     3.89e+01   \n",
      "#          8      1.013504601e+01      -1.354061222e+01     5.17e+01   \n",
      "#         10      1.019237328e+01      -1.357881260e+01     6.43e+01   \n",
      "#         12      1.010281181e+01      -1.358433342e+01     7.68e+01   \n",
      "#         14      1.009026241e+01      -1.350697708e+01     8.92e+01   \n",
      "#         16      1.014924812e+01      -1.355567837e+01     1.02e+02   \n",
      "#         18      1.012029648e+01      -1.358730888e+01     1.14e+02   \n",
      "#         20      1.006993198e+01      -1.353174019e+01     1.26e+02   \n",
      "#\n",
      "# Sampling sweeps:\n",
      "#  Iter        Mean energy          Stochastic error       Walltime\n",
      "     0      -1.346264076e+01                -              1.28e+02 \n",
      "    10      -1.362887332e+01        2.979907422e-02        1.40e+02 \n",
      "    20      -1.359968611e+01        1.924854646e-02        1.52e+02 \n",
      "    30      -1.360760314e+01        1.455803396e-02        1.64e+02 \n",
      "    40      -1.359817324e+01        1.237645688e-02        1.77e+02 \n",
      "    50      -1.359693528e+01        1.046545062e-02        1.89e+02 \n",
      "    60      -1.359158589e+01        9.746133021e-03        2.01e+02 \n",
      "    70      -1.358452419e+01        9.041661447e-03        2.13e+02 \n",
      "    80      -1.358145811e+01        8.458376699e-03        2.25e+02 \n",
      "    90      -1.358453526e+01        7.847178791e-03        2.37e+02 \n",
      "#\n",
      "# Number of large deviations: 0\n",
      "# Number of outliers in post: 0 \n",
      "#\n",
      "# Mean: -1.35872674e+01\n",
      "# Block size    # of blocks         Mean                Error\n",
      "      1              100       -1.35872674e+01       7.419255e-03\n",
      "      2               50       -1.35872674e+01       7.299177e-03\n",
      "      5               20       -1.35872674e+01       9.143092e-03\n",
      "     10               10       -1.35872674e+01       1.011043e-02\n",
      "     20                5       -1.35872674e+01       1.109664e-02\n",
      "# Stocahstic error estimate: 7.419255e-03\n",
      "#\n",
      "AFQMC energy: -13.587 +/- 0.007\n",
      "\n"
     ]
    }
   ],
   "source": [
    "# make dummy molecule\n",
    "mol = gto.Mole()\n",
    "mol.nelectron = nocc\n",
    "mol.incore_anyway = True\n",
    "mol.spin = abs(n_elec[0] - n_elec[1])\n",
    "mol.build()\n",
    "\n",
    "# UHF.\n",
    "umf = scf.UHF(mol)\n",
    "umf.get_hcore = lambda *args: integrals[\"h1\"]\n",
    "umf.get_ovlp = lambda *args: np.eye(n_sites)\n",
    "umf._eri = ao2mo.restore(8, integrals[\"h2\"], n_sites)\n",
    "umf.max_cycle = -1\n",
    "umf.kernel()\n",
    "\n",
    "# AFQMC.\n",
    "run_cpmc = True\n",
    "nwalkers = 50\n",
    "walker_type = 'uhf'\n",
    "init_walkers = None\n",
    "\n",
    "filetag = ''\n",
    "jobid = ''\n",
    "try: jobid = '.' +  os.environ[\"SLURM_JOB_ID\"]\n",
    "except: pass\n",
    "filetag += jobid\n",
    "\n",
    "\n",
    "if walker_type == 'uhf':    \n",
    "    pyscf_interface.prep_afqmc(\n",
    "            umf, basis_coeff=np.eye(n_sites), integrals=integrals, filetag=filetag)\n",
    "\n",
    "elif walker_type == 'ghf':\n",
    "    init_walkers = jnp.array([opt_psi + 0.j] * nwalkers)\n",
    "    pyscf_interface.prep_afqmc(\n",
    "            gmf, basis_coeff=np.eye(n_sites), integrals=integrals, filetag=filetag)\n",
    "\n",
    "options = {\n",
    "    \"dt\": 0.005,\n",
    "    \"n_eql\": 20,\n",
    "    \"n_ene_blocks\": 1,\n",
    "    \"n_sr_blocks\": 5,\n",
    "    \"n_blocks\": 100,\n",
    "    \"n_prop_steps\": 100,\n",
    "    \"n_walkers\": nwalkers,\n",
    "    \"seed\": 98,\n",
    "    \"walker_type\": walker_type,\n",
    "    # \"trial\": \"uhf\",\n",
    "    \"save_walkers\": False,\n",
    "    #\"do_sr\": False\n",
    "}\n",
    "\n",
    "ham_data, ham, prop, trial, wave_data, sampler, observable, options, MPI = (\n",
    "    mpi_jax._prep_afqmc(options, filetag=filetag)\n",
    ")\n",
    "\n",
    "if run_cpmc:\n",
    "    if verbose: print(f'\\n# Using CPMC propagator...')\n",
    "        \n",
    "    if walker_type == 'uhf':\n",
    "        prop = propagation.propagator_cpmc_unrestricted(\n",
    "            dt=options[\"dt\"],\n",
    "            n_walkers=options[\"n_walkers\"],\n",
    "        )\n",
    "\n",
    "    elif walker_type == 'ghf':\n",
    "        prop = propagation.propagator_cpmc_general(\n",
    "            dt=options[\"dt\"],\n",
    "            n_walkers=options[\"n_walkers\"],\n",
    "        )\n",
    "\n",
    "trial = wavefunctions.ghf_cpmc(n_sites, n_elec)\n",
    "wave_data[\"mo_coeff\"] = opt_psi\n",
    "\n",
    "if walker_type == 'uhf':\n",
    "    wave_data[\"rdm1\"] = jnp.array([ghf_rdm1[:n_sites, :n_sites], ghf_rdm1[n_sites:, n_sites:]])\n",
    "    # wave_data[\"rdm1\"] = jnp.array([opt_rdm1[:n_sites, :n_sites], opt_rdm1[n_sites:, n_sites:]])\n",
    "    \n",
    "elif walker_type == 'ghf':\n",
    "    wave_data[\"rdm1\"] = opt_rdm1\n",
    "    \n",
    "ham_data = ham.build_measurement_intermediates(ham_data, trial, wave_data)\n",
    "ham_data = ham.build_propagation_intermediates(ham_data, prop, trial, wave_data)\n",
    "ham_data[\"u\"] = U\n",
    "\n",
    "e_afqmc, err_afqmc = driver.afqmc(\n",
    "    ham_data, ham, prop, trial, wave_data, sampler, observable, options, MPI,\n",
    "    init_walkers=init_walkers\n",
    ")"
   ]
  },
  {
   "cell_type": "code",
   "execution_count": 36,
   "id": "aa6a5424-c38f-49e1-bd7a-3086144400f2",
   "metadata": {},
   "outputs": [
    {
     "data": {
      "text/plain": [
       "-0.2558389646046645"
      ]
     },
     "execution_count": 36,
     "metadata": {},
     "output_type": "execute_result"
    }
   ],
   "source": [
    "(-13.587--13.62185)/-13.62185 * 100"
   ]
  },
  {
   "cell_type": "code",
   "execution_count": null,
   "id": "f8de6345-9b8e-4b24-8832-e88beca8c5c6",
   "metadata": {},
   "outputs": [],
   "source": [
    "# make dummy molecule\n",
    "mol = gto.Mole()\n",
    "mol.nelectron = nocc\n",
    "mol.incore_anyway = True\n",
    "mol.spin = abs(n_elec[0] - n_elec[1])\n",
    "mol.build()\n",
    "\n",
    "# UHF.\n",
    "umf = scf.UHF(mol)\n",
    "umf.get_hcore = lambda *args: integrals[\"h1\"]\n",
    "umf.get_ovlp = lambda *args: np.eye(n_sites)\n",
    "umf._eri = ao2mo.restore(8, integrals[\"h2\"], n_sites)\n",
    "umf.max_cycle = -1\n",
    "umf.kernel()\n",
    "\n",
    "# AFQMC.\n",
    "run_cpmc = False\n",
    "nwalkers = 50\n",
    "walker_type = 'uhf'\n",
    "init_walkers = None\n",
    "\n",
    "filetag = ''\n",
    "jobid = ''\n",
    "try: jobid = '.' +  os.environ[\"SLURM_JOB_ID\"]\n",
    "except: pass\n",
    "filetag += jobid\n",
    "\n",
    "\n",
    "if walker_type == 'uhf':    \n",
    "    pyscf_interface.prep_afqmc(\n",
    "            umf, basis_coeff=np.eye(n_sites), integrals=integrals, filetag=filetag)\n",
    "\n",
    "elif walker_type == 'ghf':\n",
    "    init_walkers = jnp.array([opt_psi + 0.j] * nwalkers)\n",
    "    pyscf_interface.prep_afqmc(\n",
    "            gmf, basis_coeff=np.eye(n_sites), integrals=integrals, filetag=filetag)\n",
    "\n",
    "options = {\n",
    "    \"dt\": 0.005,\n",
    "    \"n_eql\": 20,\n",
    "    \"n_ene_blocks\": 1,\n",
    "    \"n_sr_blocks\": 5,\n",
    "    \"n_blocks\": 100,\n",
    "    \"n_prop_steps\": 100,\n",
    "    \"n_walkers\": nwalkers,\n",
    "    \"seed\": 98,\n",
    "    \"walker_type\": walker_type,\n",
    "    # \"trial\": \"uhf\",\n",
    "    \"save_walkers\": False,\n",
    "    #\"do_sr\": False\n",
    "}\n",
    "\n",
    "ham_data, ham, prop, trial, wave_data, sampler, observable, options, MPI = (\n",
    "    mpi_jax._prep_afqmc(options, filetag=filetag)\n",
    ")\n",
    "\n",
    "if run_cpmc:\n",
    "    if verbose: print(f'\\n# Using CPMC propagator...')\n",
    "        \n",
    "    if walker_type == 'uhf':\n",
    "        prop = propagation.propagator_cpmc_unrestricted(\n",
    "            dt=options[\"dt\"],\n",
    "            n_walkers=options[\"n_walkers\"],\n",
    "        )\n",
    "\n",
    "    elif walker_type == 'ghf':\n",
    "        prop = propagation.propagator_cpmc_general(\n",
    "            dt=options[\"dt\"],\n",
    "            n_walkers=options[\"n_walkers\"],\n",
    "        )\n",
    "\n",
    "trial = wavefunctions.ghf_cpmc(n_sites, n_elec)\n",
    "wave_data[\"mo_coeff\"] = opt_psi\n",
    "\n",
    "if walker_type == 'uhf':\n",
    "    # wave_data[\"rdm1\"] = jnp.array([opt_rdm1[:n_sites, :n_sites], opt_rdm1[n_sites:, n_sites:]])\n",
    "    wave_data[\"rdm1\"] = jnp.array([ghf_rdm1[:n_sites, :n_sites], ghf_rdm1[n_sites:, n_sites:]])\n",
    "    \n",
    "elif walker_type == 'ghf':\n",
    "    wave_data[\"rdm1\"] = opt_rdm1\n",
    "    \n",
    "ham_data = ham.build_measurement_intermediates(ham_data, trial, wave_data)\n",
    "ham_data = ham.build_propagation_intermediates(ham_data, prop, trial, wave_data)\n",
    "ham_data[\"u\"] = U\n",
    "\n",
    "e_afqmc, err_afqmc = driver.afqmc(\n",
    "    ham_data, ham, prop, trial, wave_data, sampler, observable, options, MPI,\n",
    "    init_walkers=init_walkers\n",
    ")"
   ]
  },
  {
   "cell_type": "code",
   "execution_count": null,
   "id": "a445332b-a0b6-4e88-af39-35d6b170ec7d",
   "metadata": {},
   "outputs": [],
   "source": []
  }
 ],
 "metadata": {
  "kernelspec": {
   "display_name": "Python 3 (ipykernel)",
   "language": "python",
   "name": "python3"
  },
  "language_info": {
   "codemirror_mode": {
    "name": "ipython",
    "version": 3
   },
   "file_extension": ".py",
   "mimetype": "text/x-python",
   "name": "python",
   "nbconvert_exporter": "python",
   "pygments_lexer": "ipython3",
   "version": "3.9.20"
  }
 },
 "nbformat": 4,
 "nbformat_minor": 5
}
