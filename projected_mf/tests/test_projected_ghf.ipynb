{
 "cells": [
  {
   "cell_type": "code",
   "execution_count": 1,
   "id": "0d7136c7",
   "metadata": {},
   "outputs": [],
   "source": [
    "%load_ext autoreload\n",
    "%autoreload 2"
   ]
  },
  {
   "cell_type": "code",
   "execution_count": 2,
   "id": "a5a46238",
   "metadata": {},
   "outputs": [
    {
     "name": "stdout",
     "output_type": "stream",
     "text": [
      "# Hostname: g234\n",
      "# System Type: Linux\n",
      "# Machine Type: x86_64\n",
      "# Processor: x86_64\n"
     ]
    }
   ],
   "source": [
    "import sys\n",
    "import numpy as np\n",
    "import scipy as sp\n",
    "import os\n",
    "import matplotlib.pyplot as plt\n",
    "\n",
    "module_path = \"../../ad_afqmc\"\n",
    "module_path = \"../../projected_mf\"\n",
    "\n",
    "if module_path not in sys.path:\n",
    "    sys.path.append(module_path)\n",
    "\n",
    "from ad_afqmc import (\n",
    "    driver,\n",
    "    pyscf_interface,\n",
    "    mpi_jax,\n",
    "    linalg_utils,\n",
    "    spin_utils,\n",
    "    lattices,\n",
    "    propagation,\n",
    "    wavefunctions,\n",
    "    hamiltonian,\n",
    "    hf_guess\n",
    ")\n",
    "\n",
    "from projected_ghf import (\n",
    "    get_wigner_d, \n",
    "    apply_Sz_projector,\n",
    "    apply_Sz_projector_jax,\n",
    "    get_real_wavefunction,\n",
    "    get_energy,\n",
    "    get_energy_jax,\n",
    "    get_projected_energy,\n",
    "    get_projected_energy_jax,\n",
    "    gradient_descent,\n",
    "    optimize\n",
    ")\n",
    "\n",
    "from pyscf import fci, gto, scf, mp, ao2mo\n",
    "import jax.numpy as jnp\n",
    "\n",
    "np.set_printoptions(precision=5, suppress=True)"
   ]
  },
  {
   "cell_type": "markdown",
   "id": "a3569739",
   "metadata": {},
   "source": [
    "# Test `get_wigner_d`"
   ]
  },
  {
   "cell_type": "code",
   "execution_count": 3,
   "id": "077c32aa",
   "metadata": {},
   "outputs": [],
   "source": [
    "def test_get_wigner_d():\n",
    "    beta = np.random.random() * np.pi\n",
    "    \n",
    "    s, m, k = 0, 0, 0\n",
    "    ref = 1.\n",
    "    np.testing.assert_allclose(ref, get_wigner_d(s, m, k, beta))\n",
    "    \n",
    "    s, m, k = 0.5, 0.5, 0.5\n",
    "    ref = np.cos(beta/2.)\n",
    "    np.testing.assert_allclose(ref, get_wigner_d(s, m, k, beta))\n",
    "    \n",
    "    s, m, k = 0.5, 0.5, -0.5\n",
    "    ref = -np.sin(beta/2.)\n",
    "    np.testing.assert_allclose(ref, get_wigner_d(s, m, k, beta))\n",
    "    \n",
    "    s, m, k = 1, 1, 1\n",
    "    ref = (1. + np.cos(beta)) / 2.\n",
    "    np.testing.assert_allclose(ref, get_wigner_d(s, m, k, beta))\n",
    "    \n",
    "    s, m, k = 1, 1, 0\n",
    "    ref = -np.sin(beta) / np.sqrt(2.)\n",
    "    np.testing.assert_allclose(ref, get_wigner_d(s, m, k, beta))\n",
    "    \n",
    "    s, m, k = 1, 1, -1\n",
    "    ref = (1. - np.cos(beta)) / 2.\n",
    "    np.testing.assert_allclose(ref, get_wigner_d(s, m, k, beta))\n",
    "    \n",
    "    s, m, k = 1.5, 1.5, 1.5\n",
    "    ref = (1. + np.cos(beta)) * np.cos(beta/2.) / 2.\n",
    "    np.testing.assert_allclose(ref, get_wigner_d(s, m, k, beta))\n",
    "    \n",
    "    s, m, k = 2, 1.5, 1.5\n",
    "    ref = (1. + np.cos(beta))**2 / 4.\n",
    "    np.testing.assert_allclose(ref, get_wigner_d(s, m, k, beta))"
   ]
  },
  {
   "cell_type": "code",
   "execution_count": 4,
   "id": "d80faa32",
   "metadata": {},
   "outputs": [],
   "source": [
    "test_get_wigner_d()"
   ]
  },
  {
   "cell_type": "markdown",
   "id": "83dc0d22",
   "metadata": {},
   "source": [
    "# Test `apply_Sz_projector`"
   ]
  },
  {
   "cell_type": "markdown",
   "id": "791849ef",
   "metadata": {},
   "source": [
    "# Test with $|+\\rangle = \\frac{1}{\\sqrt{2}}(|\\uparrow\\rangle + |\\downarrow\\rangle)$"
   ]
  },
  {
   "cell_type": "code",
   "execution_count": 3,
   "id": "33a3474d",
   "metadata": {},
   "outputs": [],
   "source": [
    "def get_greens(bra, ket, verbose=False):\n",
    "    norb = bra.shape[0] // 2\n",
    "    omat = bra.T.conj() @ ket\n",
    "    ovlp = np.linalg.det(omat)\n",
    "    greens = np.zeros((2*norb, 2*norb))\n",
    "    \n",
    "    if np.absolute(ovlp) < 1e-15:\n",
    "        if verbose: print(f'ovlp = {ovlp}')\n",
    "        return greens, ovlp\n",
    "    \n",
    "    greens = ket @ np.linalg.inv(omat) @ bra.T.conj()\n",
    "    return greens.T, ovlp"
   ]
  },
  {
   "cell_type": "code",
   "execution_count": 4,
   "id": "78eca658",
   "metadata": {},
   "outputs": [],
   "source": [
    "norb = 3\n",
    "nocc = 1\n",
    "psi = np.array([[1., 0., 0.], \n",
    "                [0., 1., 0.], \n",
    "                [0., 0., 1.], \n",
    "                [1., 0., 0.], \n",
    "                [0., 1., 0.], \n",
    "                [0., 0., 1.]]) / np.sqrt(2.)"
   ]
  },
  {
   "cell_type": "code",
   "execution_count": 5,
   "id": "857ffc56",
   "metadata": {},
   "outputs": [
    {
     "name": "stdout",
     "output_type": "stream",
     "text": [
      "<S> = [0.5 0.  0. ]\n",
      "ovlp = 0.9999999999999998\n"
     ]
    },
    {
     "name": "stderr",
     "output_type": "stream",
     "text": [
      "WARNING: All log messages before absl::InitializeLog() is called are written to STDERR\n",
      "I0000 00:00:1736537621.637797  405499 tfrt_cpu_pjrt_client.cc:349] TfrtCpuClient created.\n"
     ]
    }
   ],
   "source": [
    "# Initial spin average and overlap.\n",
    "G, ovlp = get_greens(psi[:, :nocc], psi[:, :nocc])\n",
    "savg = spin_utils.get_spin_average_from_greens_ghf(G) * ovlp\n",
    "\n",
    "print(f'<S> = {savg}')\n",
    "print(f'ovlp = {ovlp}')"
   ]
  },
  {
   "cell_type": "markdown",
   "id": "cec61bef",
   "metadata": {},
   "source": [
    "## Project to $s_z = 1/2$"
   ]
  },
  {
   "cell_type": "code",
   "execution_count": 24,
   "id": "45b56bfe",
   "metadata": {},
   "outputs": [],
   "source": [
    "kets, coeffs = apply_Sz_projector_jax(psi[:, :nocc], 0.5, 500) # Should just give |u>.\n",
    "kets = np.array(kets)\n",
    "coeffs = np.array(coeffs)"
   ]
  },
  {
   "cell_type": "code",
   "execution_count": 25,
   "id": "36543bdf",
   "metadata": {},
   "outputs": [],
   "source": [
    "# Projected spin average and overlap.\n",
    "savg_tot = np.zeros(3, dtype=np.complex128)\n",
    "ovlp_tot = 0.\n",
    "\n",
    "for ibra, bra in enumerate(kets):\n",
    "    for iket, ket in enumerate(kets):\n",
    "        G, ovlp = get_greens(bra, ket)\n",
    "        savg = spin_utils.get_spin_average_from_greens_ghf(G) * ovlp\n",
    "        savg_tot += savg * coeffs[ibra].conj() * coeffs[iket]\n",
    "        ovlp_tot += ovlp * coeffs[ibra].conj() * coeffs[iket]"
   ]
  },
  {
   "cell_type": "code",
   "execution_count": 26,
   "id": "11ec0605",
   "metadata": {},
   "outputs": [
    {
     "name": "stdout",
     "output_type": "stream",
     "text": [
      "<S> * ovlp = [-0.   -0.j -0.   +0.j  0.249-0.j]\n",
      "ovlp = (0.5000000000000908+1.5119935155183287e-18j)\n",
      "\n",
      "<S> = [-0.   -0.j -0.   +0.j  0.498-0.j]\n"
     ]
    }
   ],
   "source": [
    "print(f'<S> * ovlp = {savg_tot}')\n",
    "print(f'ovlp = {ovlp_tot}')\n",
    "print(f'\\n<S> = {savg_tot / ovlp_tot}')"
   ]
  },
  {
   "cell_type": "markdown",
   "id": "bd40263c",
   "metadata": {},
   "source": [
    "## Project to $s_z = -1/2$"
   ]
  },
  {
   "cell_type": "code",
   "execution_count": 27,
   "id": "8aac511d",
   "metadata": {},
   "outputs": [],
   "source": [
    "kets, coeffs = apply_Sz_projector_jax(psi[:, :nocc], -0.5, 500) # Should just give |d>.\n",
    "kets = np.array(kets)\n",
    "coeffs = np.array(coeffs)"
   ]
  },
  {
   "cell_type": "code",
   "execution_count": 28,
   "id": "8a17d2e4",
   "metadata": {},
   "outputs": [],
   "source": [
    "# Projected spin average and overlap.\n",
    "savg_tot = np.zeros(3, dtype=np.complex128)\n",
    "ovlp_tot = 0.\n",
    "\n",
    "for ibra, bra in enumerate(kets):\n",
    "    for iket, ket in enumerate(kets):\n",
    "        G, ovlp = get_greens(bra, ket)\n",
    "        savg = spin_utils.get_spin_average_from_greens_ghf(G) * ovlp\n",
    "        savg_tot += savg * coeffs[ibra].conj() * coeffs[iket]\n",
    "        ovlp_tot += ovlp * coeffs[ibra].conj() * coeffs[iket]"
   ]
  },
  {
   "cell_type": "code",
   "execution_count": 29,
   "id": "28317f6f",
   "metadata": {},
   "outputs": [
    {
     "name": "stdout",
     "output_type": "stream",
     "text": [
      "<S> * ovlp = [-0.   +0.j -0.   -0.j -0.249-0.j]\n",
      "ovlp = (0.5000000000000908-1.5119935155183287e-18j)\n",
      "\n",
      "<S> = [-0.   +0.j -0.   -0.j -0.498-0.j]\n"
     ]
    }
   ],
   "source": [
    "print(f'<S> * ovlp = {savg_tot}')\n",
    "print(f'ovlp = {ovlp_tot}')\n",
    "print(f'\\n<S> = {savg_tot / ovlp_tot}')"
   ]
  },
  {
   "cell_type": "markdown",
   "id": "94e25154",
   "metadata": {},
   "source": [
    "## Project to $s_z = 0$\n",
    "\n",
    "We apply the projector \n",
    "\\begin{align}\n",
    "    \\hat{P}_0 |+\\rangle &= \\frac{1}{\\sqrt{2}} \\frac{1}{2\\pi} \\int_0^{2\\pi} e^{i\\phi\\hat{S}_z} d\\phi \\left( |\\uparrow\\rangle + |\\downarrow\\rangle \\right) \\\\\n",
    "    &= \\frac{1}{\\sqrt{2}} \\cdot \\frac{1}{2\\pi} \\left\\{ \\int_0^{2\\pi} e^{i\\phi\\hat{S}_z} |\\uparrow\\rangle d\\phi + \\int_0^{2\\pi} e^{i\\phi\\hat{S}_z} d\\phi |\\downarrow\\rangle d\\phi \\right\\} \\\\\n",
    "    &= \\frac{1}{\\sqrt{2}} \\cdot \\frac{1}{2\\pi} \\left\\{ \\int_0^{2\\pi} e^{i\\phi/2} |\\uparrow\\rangle d\\phi + \\int_0^{2\\pi} e^{-i\\phi/2} d\\phi |\\downarrow\\rangle d\\phi \\right\\} \\\\\n",
    "    &= \\frac{1}{\\sqrt{2}} \\cdot \\frac{1}{2\\pi} \\left\\{ \\left[\\frac{2}{i} e^{i\\phi/2}\\right]_0^{2\\pi} |\\uparrow\\rangle + \\left[-\\frac{2}{i} e^{-i\\phi/2}\\right]_0^{2\\pi} |\\downarrow\\rangle  \\right\\} \\\\\n",
    "    &= \\frac{1}{\\sqrt{2}} \\cdot \\frac{1}{2\\pi} \\left\\{ \\frac{2}{i} \\left(e^{i\\phi} - 1\\right) |\\uparrow\\rangle + -\\frac{2}{i} \\left(e^{-i\\phi} - 1\\right) |\\downarrow\\rangle  \\right\\} \\\\\n",
    "    &= \\frac{1}{\\sqrt{2}} \\cdot \\frac{1}{2\\pi} \\left\\{ -\\frac{4}{i} |\\uparrow\\rangle + \\frac{4}{i} |\\downarrow\\rangle  \\right\\} \\\\\n",
    "    &= \\frac{1}{\\sqrt{2}} \\cdot \\frac{2i}{\\pi} \\left\\{ |\\uparrow\\rangle - |\\downarrow\\rangle  \\right\\} \\\\\n",
    "    &= \\frac{2i}{\\pi} |-\\rangle,\n",
    "\\end{align}\n",
    "\n",
    "which gives\n",
    "\\begin{align}\n",
    "    \\langle \\hat{S}_x \\rangle &= \\left(\\frac{2i}{\\pi}\\right)^2 \\langle - | \\hat{S}_x | - \\rangle = \\left(\\frac{2i}{\\pi}\\right)^2 \\cdot \\frac{1}{2} = -\\frac{2}{\\pi^2}.\n",
    "\\end{align}"
   ]
  },
  {
   "cell_type": "code",
   "execution_count": 30,
   "id": "d75b38f9",
   "metadata": {},
   "outputs": [],
   "source": [
    "kets, coeffs = apply_Sz_projector_jax(psi[:, :nocc], 0., 1000)\n",
    "kets = np.array(kets)\n",
    "coeffs = np.array(coeffs)"
   ]
  },
  {
   "cell_type": "code",
   "execution_count": 31,
   "id": "f394eb7b",
   "metadata": {},
   "outputs": [],
   "source": [
    "# Projected spin average and overlap.\n",
    "savg_tot = np.zeros(3, dtype=np.complex128)\n",
    "ovlp_tot = 0.\n",
    "\n",
    "for ibra, bra in enumerate(kets):\n",
    "    for iket, ket in enumerate(kets):\n",
    "        G, ovlp = get_greens(bra, ket)\n",
    "        savg = spin_utils.get_spin_average_from_greens_ghf(G) * ovlp\n",
    "        savg_tot += savg * coeffs[ibra].conj() * coeffs[iket]\n",
    "        ovlp_tot += ovlp * coeffs[ibra].conj() * coeffs[iket]"
   ]
  },
  {
   "cell_type": "code",
   "execution_count": 32,
   "id": "d2e5b329",
   "metadata": {},
   "outputs": [
    {
     "name": "stdout",
     "output_type": "stream",
     "text": [
      "<S> * ovlp = [-0.20232+0.j -0.00064+0.j  0.     -0.j]\n",
      "ovlp = (0.4052850679027681+0j)\n",
      "\n",
      "<S> = [-0.49921+0.j -0.00157+0.j  0.     -0.j]\n"
     ]
    }
   ],
   "source": [
    "print(f'<S> * ovlp = {savg_tot}')\n",
    "print(f'ovlp = {ovlp_tot}')\n",
    "print(f'\\n<S> = {savg_tot / ovlp_tot}')"
   ]
  },
  {
   "cell_type": "code",
   "execution_count": 33,
   "id": "607ea50b",
   "metadata": {},
   "outputs": [
    {
     "name": "stdout",
     "output_type": "stream",
     "text": [
      "-0.20264236728467555\n"
     ]
    }
   ],
   "source": [
    "print(-2. / np.pi**2)"
   ]
  },
  {
   "cell_type": "markdown",
   "id": "f782afc4",
   "metadata": {},
   "source": [
    "# Test with $|++\\rangle = \\frac{1}{2}(|\\uparrow\\uparrow\\rangle + |\\uparrow\\downarrow\\rangle + |\\downarrow\\uparrow\\rangle + |\\downarrow\\downarrow\\rangle)$"
   ]
  },
  {
   "cell_type": "code",
   "execution_count": 34,
   "id": "7dcd9329",
   "metadata": {},
   "outputs": [],
   "source": [
    "norb = 3\n",
    "nocc = 2\n",
    "psi = np.array([[1., 0., 0.], \n",
    "                [0., 1., 0.], \n",
    "                [0., 0., 1.], \n",
    "                [1., 0., 0.], \n",
    "                [0., 1., 0.], \n",
    "                [0., 0., 1.]]) / np.sqrt(2.)"
   ]
  },
  {
   "cell_type": "code",
   "execution_count": 35,
   "id": "486351c3",
   "metadata": {},
   "outputs": [
    {
     "name": "stdout",
     "output_type": "stream",
     "text": [
      "<S> = [1. 0. 0.]\n",
      "ovlp = 0.9999999999999996\n"
     ]
    }
   ],
   "source": [
    "# Initial spin average and overlap.\n",
    "G, ovlp = get_greens(psi[:, :nocc], psi[:, :nocc])\n",
    "savg = spin_utils.get_spin_average_from_greens_ghf(G) * ovlp\n",
    "\n",
    "print(f'<S> = {savg}')\n",
    "print(f'ovlp = {ovlp}')"
   ]
  },
  {
   "cell_type": "markdown",
   "id": "f89af149",
   "metadata": {},
   "source": [
    "## Project to $s_z = 1$"
   ]
  },
  {
   "cell_type": "code",
   "execution_count": 36,
   "id": "4e50a1b7",
   "metadata": {},
   "outputs": [],
   "source": [
    "kets, coeffs = apply_Sz_projector_jax(psi[:, :nocc], 1., 10) # Should just give |uu>.\n",
    "kets = np.array(kets)\n",
    "coeffs = np.array(coeffs)"
   ]
  },
  {
   "cell_type": "code",
   "execution_count": 37,
   "id": "738a1a88",
   "metadata": {},
   "outputs": [],
   "source": [
    "# Projected spin average and overlap.\n",
    "savg_tot = np.zeros(3, dtype=np.complex128)\n",
    "ovlp_tot = 0.\n",
    "\n",
    "for ibra, bra in enumerate(kets):\n",
    "    for iket, ket in enumerate(kets):\n",
    "        G, ovlp = get_greens(bra, ket)\n",
    "        savg = spin_utils.get_spin_average_from_greens_ghf(G) * ovlp\n",
    "        savg_tot += savg * coeffs[ibra].conj() * coeffs[iket]\n",
    "        ovlp_tot += ovlp * coeffs[ibra].conj() * coeffs[iket]"
   ]
  },
  {
   "cell_type": "code",
   "execution_count": 38,
   "id": "0e4d1606",
   "metadata": {},
   "outputs": [
    {
     "name": "stdout",
     "output_type": "stream",
     "text": [
      "<S> * ovlp = [-0.  -0.j -0.  -0.j  0.25+0.j]\n",
      "ovlp = (0.2499999999999999+2.6020852139652106e-18j)\n",
      "\n",
      "<S> = [-0.-0.j -0.-0.j  1.-0.j]\n"
     ]
    }
   ],
   "source": [
    "print(f'<S> * ovlp = {savg_tot}')\n",
    "print(f'ovlp = {ovlp_tot}')\n",
    "print(f'\\n<S> = {savg_tot / ovlp_tot}')"
   ]
  },
  {
   "cell_type": "markdown",
   "id": "8d332602",
   "metadata": {},
   "source": [
    "## Project to $s_z = -1$"
   ]
  },
  {
   "cell_type": "code",
   "execution_count": 39,
   "id": "22548765",
   "metadata": {},
   "outputs": [],
   "source": [
    "kets, coeffs = apply_Sz_projector_jax(psi[:, :nocc], -1., 10) # Should just give |dd>.\n",
    "kets = np.array(kets)\n",
    "coeffs = np.array(coeffs)"
   ]
  },
  {
   "cell_type": "code",
   "execution_count": 40,
   "id": "047d90b7",
   "metadata": {},
   "outputs": [],
   "source": [
    "# Projected spin average and overlap.\n",
    "savg_tot = np.zeros(3, dtype=np.complex128)\n",
    "ovlp_tot = 0.\n",
    "\n",
    "for ibra, bra in enumerate(kets):\n",
    "    for iket, ket in enumerate(kets):\n",
    "        G, ovlp = get_greens(bra, ket)\n",
    "        savg = spin_utils.get_spin_average_from_greens_ghf(G) * ovlp\n",
    "        savg_tot += savg * coeffs[ibra].conj() * coeffs[iket]\n",
    "        ovlp_tot += ovlp * coeffs[ibra].conj() * coeffs[iket]"
   ]
  },
  {
   "cell_type": "code",
   "execution_count": 41,
   "id": "9c900d66",
   "metadata": {},
   "outputs": [
    {
     "name": "stdout",
     "output_type": "stream",
     "text": [
      "<S> * ovlp = [-0.  +0.j -0.  +0.j -0.25+0.j]\n",
      "ovlp = (0.2499999999999999-2.6020852139652106e-18j)\n",
      "\n",
      "<S> = [-0.+0.j -0.+0.j -1.-0.j]\n"
     ]
    }
   ],
   "source": [
    "print(f'<S> * ovlp = {savg_tot}')\n",
    "print(f'ovlp = {ovlp_tot}')\n",
    "print(f'\\n<S> = {savg_tot / ovlp_tot}')"
   ]
  },
  {
   "cell_type": "markdown",
   "id": "9e65dc88",
   "metadata": {},
   "source": [
    "## Project to $s_z = 0$"
   ]
  },
  {
   "cell_type": "code",
   "execution_count": 42,
   "id": "9631444b",
   "metadata": {},
   "outputs": [],
   "source": [
    "kets, coeffs = apply_Sz_projector_jax(psi[:, :nocc], 0., 10) # Should give |ud> + |du>.\n",
    "kets = np.array(kets)\n",
    "coeffs = np.array(coeffs)"
   ]
  },
  {
   "cell_type": "code",
   "execution_count": 43,
   "id": "4ffcf796",
   "metadata": {},
   "outputs": [],
   "source": [
    "# Projected spin average and overlap.\n",
    "savg_tot = np.zeros(3, dtype=np.complex128)\n",
    "ovlp_tot = 0.\n",
    "\n",
    "for ibra, bra in enumerate(kets):\n",
    "    for iket, ket in enumerate(kets):\n",
    "        G, ovlp = get_greens(bra, ket)\n",
    "        savg = spin_utils.get_spin_average_from_greens_ghf(G) * ovlp\n",
    "        savg_tot += savg * coeffs[ibra].conj() * coeffs[iket]\n",
    "        ovlp_tot += ovlp * coeffs[ibra].conj() * coeffs[iket]"
   ]
  },
  {
   "cell_type": "code",
   "execution_count": 44,
   "id": "740570b0",
   "metadata": {},
   "outputs": [
    {
     "name": "stdout",
     "output_type": "stream",
     "text": [
      "<S> * ovlp = [-0.+0.j -0.+0.j  0.-0.j]\n",
      "ovlp = (0.5+0j)\n",
      "\n",
      "<S> = [-0.+0.j -0.+0.j  0.-0.j]\n"
     ]
    }
   ],
   "source": [
    "print(f'<S> * ovlp = {savg_tot}')\n",
    "print(f'ovlp = {ovlp_tot}')\n",
    "print(f'\\n<S> = {savg_tot / ovlp_tot}')"
   ]
  },
  {
   "cell_type": "markdown",
   "id": "e2873905",
   "metadata": {},
   "source": [
    "# Test with $|+++\\rangle$"
   ]
  },
  {
   "cell_type": "code",
   "execution_count": 45,
   "id": "f26e0bab",
   "metadata": {},
   "outputs": [],
   "source": [
    "norb = 3\n",
    "nocc = 3\n",
    "psi = np.array([[1., 0., 0.], \n",
    "                [0., 1., 0.], \n",
    "                [0., 0., 1.], \n",
    "                [1., 0., 0.], \n",
    "                [0., 1., 0.], \n",
    "                [0., 0., 1.]]) / np.sqrt(2.)"
   ]
  },
  {
   "cell_type": "code",
   "execution_count": 46,
   "id": "0e32b226",
   "metadata": {},
   "outputs": [
    {
     "name": "stdout",
     "output_type": "stream",
     "text": [
      "<S> = [1.5 0.  0. ]\n",
      "ovlp = 0.9999999999999993\n"
     ]
    }
   ],
   "source": [
    "# Initial spin average and overlap.\n",
    "G, ovlp = get_greens(psi[:, :nocc], psi[:, :nocc])\n",
    "savg = spin_utils.get_spin_average_from_greens_ghf(G) * ovlp\n",
    "\n",
    "print(f'<S> = {savg}')\n",
    "print(f'ovlp = {ovlp}')"
   ]
  },
  {
   "cell_type": "markdown",
   "id": "ad601b26",
   "metadata": {},
   "source": [
    "## Project to $s_z = 1.5$"
   ]
  },
  {
   "cell_type": "code",
   "execution_count": 47,
   "id": "2992245d",
   "metadata": {},
   "outputs": [],
   "source": [
    "kets, coeffs = apply_Sz_projector_jax(psi[:, :nocc], 1.5, 10) # Should just give |uuu>.\n",
    "kets = np.array(kets)\n",
    "coeffs = np.array(coeffs)"
   ]
  },
  {
   "cell_type": "code",
   "execution_count": 48,
   "id": "b69c839d",
   "metadata": {},
   "outputs": [],
   "source": [
    "# Projected spin average and overlap.\n",
    "savg_tot = np.zeros(3, dtype=np.complex128)\n",
    "ovlp_tot = 0.\n",
    "\n",
    "for ibra, bra in enumerate(kets):\n",
    "    for iket, ket in enumerate(kets):\n",
    "        G, ovlp = get_greens(bra, ket)\n",
    "        savg = spin_utils.get_spin_average_from_greens_ghf(G) * ovlp\n",
    "        savg_tot += savg * coeffs[ibra].conj() * coeffs[iket]\n",
    "        ovlp_tot += ovlp * coeffs[ibra].conj() * coeffs[iket]"
   ]
  },
  {
   "cell_type": "code",
   "execution_count": 49,
   "id": "4d75343f",
   "metadata": {},
   "outputs": [
    {
     "name": "stdout",
     "output_type": "stream",
     "text": [
      "<S> * ovlp = [-0.    +0.j -0.    -0.j  0.1875+0.j]\n",
      "ovlp = (0.12499999999999996-8.673617379884035e-19j)\n",
      "\n",
      "<S> = [-0. +0.j -0. -0.j  1.5+0.j]\n"
     ]
    }
   ],
   "source": [
    "print(f'<S> * ovlp = {savg_tot}')\n",
    "print(f'ovlp = {ovlp_tot}')\n",
    "print(f'\\n<S> = {savg_tot / ovlp_tot}')"
   ]
  },
  {
   "cell_type": "markdown",
   "id": "4478c2e9",
   "metadata": {},
   "source": [
    "## Project to $s_z = 0.5$"
   ]
  },
  {
   "cell_type": "code",
   "execution_count": 50,
   "id": "25184c3a",
   "metadata": {},
   "outputs": [],
   "source": [
    "kets, coeffs = apply_Sz_projector_jax(psi[:, :nocc], 0.5, 10) # Should give |uud> + |udu> + |duu>.\n",
    "kets = np.array(kets)\n",
    "coeffs = np.array(coeffs)"
   ]
  },
  {
   "cell_type": "code",
   "execution_count": 51,
   "id": "8cec253d",
   "metadata": {},
   "outputs": [],
   "source": [
    "# Projected spin average and overlap.\n",
    "savg_tot = np.zeros(3, dtype=np.complex128)\n",
    "ovlp_tot = 0.\n",
    "\n",
    "for ibra, bra in enumerate(kets):\n",
    "    for iket, ket in enumerate(kets):\n",
    "        G, ovlp = get_greens(bra, ket)\n",
    "        savg = spin_utils.get_spin_average_from_greens_ghf(G) * ovlp\n",
    "        savg_tot += savg * coeffs[ibra].conj() * coeffs[iket]\n",
    "        ovlp_tot += ovlp * coeffs[ibra].conj() * coeffs[iket]"
   ]
  },
  {
   "cell_type": "code",
   "execution_count": 52,
   "id": "c24d4d31",
   "metadata": {},
   "outputs": [
    {
     "name": "stdout",
     "output_type": "stream",
     "text": [
      "<S> * ovlp = [-0.    -0.j -0.    -0.j  0.1875-0.j]\n",
      "ovlp = (0.3749999999999997-1.734723475976807e-18j)\n",
      "\n",
      "<S> = [-0. -0.j -0. -0.j  0.5-0.j]\n"
     ]
    }
   ],
   "source": [
    "print(f'<S> * ovlp = {savg_tot}')\n",
    "print(f'ovlp = {ovlp_tot}')\n",
    "print(f'\\n<S> = {savg_tot / ovlp_tot}')"
   ]
  },
  {
   "cell_type": "markdown",
   "id": "d9e0f2e1",
   "metadata": {},
   "source": [
    "## Project to $s_z = -0.5$"
   ]
  },
  {
   "cell_type": "code",
   "execution_count": 53,
   "id": "8aada5f9",
   "metadata": {},
   "outputs": [],
   "source": [
    "kets, coeffs = apply_Sz_projector_jax(psi[:, :nocc], -0.5, 10) # Should give |ddu> + |dud> + |udd>.\n",
    "kets = np.array(kets)\n",
    "coeffs = np.array(coeffs)"
   ]
  },
  {
   "cell_type": "code",
   "execution_count": 54,
   "id": "4755c402",
   "metadata": {},
   "outputs": [],
   "source": [
    "# Projected spin average and overlap.\n",
    "savg_tot = np.zeros(3, dtype=np.complex128)\n",
    "ovlp_tot = 0.\n",
    "\n",
    "for ibra, bra in enumerate(kets):\n",
    "    for iket, ket in enumerate(kets):\n",
    "        G, ovlp = get_greens(bra, ket)\n",
    "        savg = spin_utils.get_spin_average_from_greens_ghf(G) * ovlp\n",
    "        savg_tot += savg * coeffs[ibra].conj() * coeffs[iket]\n",
    "        ovlp_tot += ovlp * coeffs[ibra].conj() * coeffs[iket]"
   ]
  },
  {
   "cell_type": "code",
   "execution_count": 55,
   "id": "d9029956",
   "metadata": {},
   "outputs": [
    {
     "name": "stdout",
     "output_type": "stream",
     "text": [
      "<S> * ovlp = [-0.    +0.j -0.    +0.j -0.1875-0.j]\n",
      "ovlp = (0.3749999999999997+1.734723475976807e-18j)\n",
      "\n",
      "<S> = [-0. +0.j -0. +0.j -0.5-0.j]\n"
     ]
    }
   ],
   "source": [
    "print(f'<S> * ovlp = {savg_tot}')\n",
    "print(f'ovlp = {ovlp_tot}')\n",
    "print(f'\\n<S> = {savg_tot / ovlp_tot}')"
   ]
  },
  {
   "cell_type": "markdown",
   "id": "a0a4ebba",
   "metadata": {},
   "source": [
    "## Project to $s_z = -1.5$"
   ]
  },
  {
   "cell_type": "code",
   "execution_count": 56,
   "id": "f4e9782c",
   "metadata": {},
   "outputs": [],
   "source": [
    "kets, coeffs = apply_Sz_projector_jax(psi[:, :nocc], -1.5, 10) # Should just give |ddd>.\n",
    "kets = np.array(kets)\n",
    "coeffs = np.array(coeffs)"
   ]
  },
  {
   "cell_type": "code",
   "execution_count": 57,
   "id": "99aa725f",
   "metadata": {},
   "outputs": [],
   "source": [
    "# Projected spin average and overlap.\n",
    "savg_tot = np.zeros(3, dtype=np.complex128)\n",
    "ovlp_tot = 0.\n",
    "\n",
    "for ibra, bra in enumerate(kets):\n",
    "    for iket, ket in enumerate(kets):\n",
    "        G, ovlp = get_greens(bra, ket)\n",
    "        savg = spin_utils.get_spin_average_from_greens_ghf(G) * ovlp\n",
    "        savg_tot += savg * coeffs[ibra].conj() * coeffs[iket]\n",
    "        ovlp_tot += ovlp * coeffs[ibra].conj() * coeffs[iket]"
   ]
  },
  {
   "cell_type": "code",
   "execution_count": 58,
   "id": "3fcb9e4b",
   "metadata": {},
   "outputs": [
    {
     "name": "stdout",
     "output_type": "stream",
     "text": [
      "<S> * ovlp = [-0.    -0.j -0.    +0.j -0.1875+0.j]\n",
      "ovlp = (0.12499999999999996+8.673617379884035e-19j)\n",
      "\n",
      "<S> = [-0. -0.j -0. +0.j -1.5+0.j]\n"
     ]
    }
   ],
   "source": [
    "print(f'<S> * ovlp = {savg_tot}')\n",
    "print(f'ovlp = {ovlp_tot}')\n",
    "print(f'\\n<S> = {savg_tot / ovlp_tot}')"
   ]
  },
  {
   "cell_type": "markdown",
   "id": "ada99afb",
   "metadata": {},
   "source": [
    "# Test `get_real_wavefunction`"
   ]
  },
  {
   "cell_type": "code",
   "execution_count": 43,
   "id": "5f56109a",
   "metadata": {},
   "outputs": [],
   "source": [
    "ngrid = 5\n",
    "norb = 3\n",
    "nocc = 3\n",
    "kets = np.random.random((ngrid, 2*norb, nocc)) + 1.j * np.random.random((ngrid, 2*norb, nocc))\n",
    "coeffs = np.random.random(ngrid) + 1.j * np.random.random(ngrid)\n",
    "\n",
    "for ig in range(ngrid):\n",
    "    for icol in range(nocc):\n",
    "        kets[ig, :, icol] /= sp.linalg.norm(kets[ig, :, icol])"
   ]
  },
  {
   "cell_type": "code",
   "execution_count": 44,
   "id": "e12b56a3",
   "metadata": {},
   "outputs": [
    {
     "name": "stdout",
     "output_type": "stream",
     "text": [
      "\n",
      "sum_kets = \n",
      "[[-0.24156+1.11192j -0.76672+1.28439j -0.41995+1.20624j]\n",
      " [-0.41842+1.45514j -0.25815+1.32491j -0.91681+1.4229j ]\n",
      " [-0.3939 +1.20771j -0.07863+1.10225j -0.27349+1.06581j]\n",
      " [-0.66283+0.91757j -0.30296+1.00648j -0.29685+1.03099j]\n",
      " [-0.70909+1.21201j -0.52768+1.02683j -0.25307+1.54514j]\n",
      " [-0.65027+1.13509j -0.49659+1.23317j -0.12859+0.71625j]]\n",
      "\n",
      "sum_real_kets = \n",
      "[[-0.34161+0.j -1.08431+0.j -0.59389+0.j]\n",
      " [-0.59174-0.j -0.36508+0.j -1.29656+0.j]\n",
      " [-0.55706-0.j -0.1112 -0.j -0.38678-0.j]\n",
      " [-0.93738+0.j -0.42845-0.j -0.41982-0.j]\n",
      " [-1.00281+0.j -0.74626+0.j -0.35789-0.j]\n",
      " [-0.91962+0.j -0.70228-0.j -0.18185-0.j]]\n"
     ]
    }
   ],
   "source": [
    "real_kets, real_coeffs = get_real_wavefunction(kets, coeffs)\n",
    "sum_kets = np.sum(kets * coeffs[:, None, None], axis=0)\n",
    "sum_real_kets = np.sum(real_kets * real_coeffs[:, None, None], axis=0)\n",
    "\n",
    "print(f'\\nsum_kets = \\n{sum_kets}')\n",
    "print(f'\\nsum_real_kets = \\n{sum_real_kets}')\n",
    "\n",
    "np.testing.assert_allclose(np.amax(np.absolute(sum_real_kets.imag)), 0., atol=1e-15)"
   ]
  },
  {
   "cell_type": "markdown",
   "id": "73fc3b2c",
   "metadata": {},
   "source": [
    "# Test `get_energy`"
   ]
  },
  {
   "cell_type": "code",
   "execution_count": 59,
   "id": "7488ccdc",
   "metadata": {},
   "outputs": [
    {
     "name": "stdout",
     "output_type": "stream",
     "text": [
      "\n",
      "# Filling factor = 0.5\n"
     ]
    }
   ],
   "source": [
    "U = 4\n",
    "nx = 2\n",
    "ny = 2\n",
    "nup = 2\n",
    "ndown = 2\n",
    "open_x = False\n",
    "verbose = 3\n",
    "\n",
    "# -----------------------------------------------------------------------------\n",
    "# Settings.\n",
    "lattice = lattices.triangular_grid(nx, ny, open_x=open_x)\n",
    "n_sites = lattice.n_sites\n",
    "n_elec = (nup, ndown)\n",
    "nocc = sum(n_elec)\n",
    "filling = nocc / (2*n_sites)\n",
    "if verbose: print(f'\\n# Filling factor = {filling}')"
   ]
  },
  {
   "cell_type": "code",
   "execution_count": 60,
   "id": "a8c17698",
   "metadata": {},
   "outputs": [],
   "source": [
    "integrals = {}\n",
    "integrals[\"h0\"] = 0.0\n",
    "\n",
    "h1 = -1.0 * lattice.create_adjacency_matrix()\n",
    "integrals[\"h1\"] = h1\n",
    "\n",
    "h2 = np.zeros((n_sites, n_sites, n_sites, n_sites))\n",
    "for i in range(n_sites):\n",
    "    h2[i, i, i, i] = U\n",
    "integrals[\"h2\"] = ao2mo.restore(8, h2, n_sites)"
   ]
  },
  {
   "cell_type": "code",
   "execution_count": 61,
   "id": "390b49d9",
   "metadata": {},
   "outputs": [
    {
     "name": "stdout",
     "output_type": "stream",
     "text": [
      "max_absdiff = 5.000000413701855e-11\n"
     ]
    }
   ],
   "source": [
    "# Get Choleskies.\n",
    "chol_cut = 1e-10\n",
    "eri = ao2mo.restore(4, integrals[\"h2\"], n_sites)\n",
    "chol0 = pyscf_interface.modified_cholesky(eri, max_error=chol_cut)\n",
    "nchol = chol0.shape[0]\n",
    "chol = np.zeros((nchol, n_sites, n_sites))\n",
    "\n",
    "for i in range(nchol):\n",
    "    for m in range(n_sites):\n",
    "        for n in range(m + 1):\n",
    "            triind = m * (m + 1) // 2 + n\n",
    "            chol[i, m, n] = chol0[i, triind]\n",
    "            chol[i, n, m] = chol0[i, triind]\n",
    "\n",
    "chol = chol.reshape(nchol, n_sites**2)\n",
    "_eri = (chol.T @ chol).reshape((n_sites,) * 4)\n",
    "max_absdiff = np.amax(np.absolute(h2 - _eri))\n",
    "print(f'max_absdiff = {max_absdiff}')"
   ]
  },
  {
   "cell_type": "code",
   "execution_count": 62,
   "id": "0bb94540",
   "metadata": {},
   "outputs": [
    {
     "name": "stdout",
     "output_type": "stream",
     "text": [
      "converged SCF energy = -1.58788806326219  <S^2> = 2.3595938  2S+1 = 3.2308474\n",
      "<class 'pyscf.scf.ghf.GHF'> wavefunction has an internal instability\n"
     ]
    },
    {
     "name": "stderr",
     "output_type": "stream",
     "text": [
      "Overwritten attributes  get_ovlp get_hcore  of <class 'pyscf.scf.ghf.GHF'>\n",
      "Overwritten attributes  get_ovlp get_hcore  of <class 'pyscf.soscf.newton_ah.SecondOrderGHF'>\n"
     ]
    },
    {
     "name": "stdout",
     "output_type": "stream",
     "text": [
      "converged SCF energy = -1.76329782852721  <S^2> = 1.5301269  2S+1 = 2.6684279\n",
      "<class 'pyscf.soscf.newton_ah.SecondOrderGHF'> wavefunction is stable in the internal stability analysis\n",
      "converged SCF energy = -1.76329782855061  <S^2> = 1.530127  2S+1 = 2.668428\n",
      "<class 'pyscf.soscf.newton_ah.SecondOrderGHF'> wavefunction is stable in the internal stability analysis\n",
      "converged SCF energy = -1.76329782855372  <S^2> = 1.530127  2S+1 = 2.668428\n",
      "<class 'pyscf.soscf.newton_ah.SecondOrderGHF'> wavefunction is stable in the internal stability analysis\n",
      "\n",
      "# ----------------------\n",
      "# Spin collinearity test\n",
      "# ----------------------\n",
      "# epsilon0 = 5.600759033189529e-07\n",
      "# non integer value indicates non-collinearity\n",
      "\n",
      "# minimum mu = 0.2882556229567591\n",
      "# Value is 0 iff wavefunction is collinear\n",
      "\n",
      "# If mu = 0, the collinear spin axis is: \n",
      "[-0.31794-0.j -0.     +0.j -0.94811+0.j]\n"
     ]
    }
   ],
   "source": [
    "# make dummy molecule\n",
    "mol = gto.Mole()\n",
    "mol.nelectron = nocc\n",
    "mol.incore_anyway = True\n",
    "mol.spin = abs(n_elec[0] - n_elec[1])\n",
    "mol.verbose = 3\n",
    "mol.build()\n",
    "\n",
    "# GHF.\n",
    "gmf = scf.GHF(mol)\n",
    "gmf.get_hcore = lambda *args: sp.linalg.block_diag(integrals[\"h1\"], integrals[\"h1\"])\n",
    "gmf.get_ovlp = lambda *args: np.eye(2 * n_sites)\n",
    "gmf._eri = ao2mo.restore(8, integrals[\"h2\"], n_sites)\n",
    "\n",
    "seed = 262\n",
    "np.random.seed(seed)\n",
    "dm_init = np.random.random((2*n_sites, 2*n_sites))\n",
    "dm_init += dm_init.T.conj()\n",
    "\n",
    "gmf.kernel(dm_init)\n",
    "mo1 = gmf.stability(external=True)\n",
    "gmf = gmf.newton().run(mo1, gmf.mo_occ)\n",
    "mo1 = gmf.stability(external=True)\n",
    "gmf = gmf.newton().run(mo1, gmf.mo_occ)\n",
    "mo1 = gmf.stability(external=True)\n",
    "gmf = gmf.newton().run(mo1, gmf.mo_occ)\n",
    "mo1 = gmf.stability(external=True)\n",
    "\n",
    "ghf_coeff = gmf.mo_coeff\n",
    "ghf_rdm1 = gmf.make_rdm1()\n",
    "ao_ovlp = np.eye(n_sites)\n",
    "epsilon0, mu, spin_axis = spin_utils.spin_collinearity_test(ghf_coeff[:, :nocc], ao_ovlp, verbose=verbose)"
   ]
  },
  {
   "cell_type": "code",
   "execution_count": 63,
   "id": "bb281cac",
   "metadata": {},
   "outputs": [],
   "source": [
    "psi = ghf_coeff[:, :nocc]\n",
    "psiTconj = psi.T.conj()\n",
    "rotchol = np.zeros((2, nchol, nocc, n_sites), dtype=np.complex128)\n",
    "\n",
    "for i in range(nchol):\n",
    "    rotchol[0, i] = psiTconj[:, :n_sites] @ chol[i].reshape((n_sites, n_sites))\n",
    "    rotchol[1, i] = psiTconj[:, n_sites:] @ chol[i].reshape((n_sites, n_sites))\n",
    "\n",
    "energy = get_energy(psi, psi, [h1, h1], rotchol, 0.)\n",
    "energy = get_energy_jax(psi, psi, [h1, h1], rotchol, 0.)\n",
    "np.testing.assert_allclose(energy, gmf.e_tot)"
   ]
  },
  {
   "cell_type": "code",
   "execution_count": 64,
   "id": "5b446427",
   "metadata": {},
   "outputs": [],
   "source": [
    "def get_energy_with_eri(bra, ket, h1, eri, enuc):\n",
    "    norb = h1.shape[0]\n",
    "    nocc = bra.shape[1]\n",
    "    G, ovlp = get_greens(bra, ket)\n",
    "    Gaa = G[:norb, :norb]\n",
    "    Gab = G[:norb, norb:]\n",
    "    Gba = G[norb:, :norb]\n",
    "    Gbb = G[norb:, norb:]\n",
    "    Gcharge = Gaa + Gbb\n",
    "    energy = enuc\n",
    "    energy += np.trace(h1 @ Gcharge)\n",
    "    energy += 0.5 * np.einsum('ijkl,lk,ji->', eri, Gcharge, Gcharge) # Ej\n",
    "    energy -= 0.5 * np.einsum('ijkl,jk,li->', eri, Gaa, Gaa) # Ek\n",
    "    energy -= 0.5 * np.einsum('ijkl,jk,li->', eri, Gbb, Gbb)\n",
    "    energy -= 0.5 * np.einsum('ijkl,jk,li->', eri, Gab, Gba)\n",
    "    energy -= 0.5 * np.einsum('ijkl,jk,li->', eri, Gba, Gab)\n",
    "    return energy"
   ]
  },
  {
   "cell_type": "code",
   "execution_count": 65,
   "id": "fb984b95",
   "metadata": {},
   "outputs": [
    {
     "data": {
      "text/plain": [
       "(10, 8, 4)"
      ]
     },
     "execution_count": 65,
     "metadata": {},
     "output_type": "execute_result"
    }
   ],
   "source": [
    "m = 0.5 * (nup - ndown)\n",
    "kets, coeffs = apply_Sz_projector_jax(psi, m, 10)\n",
    "kets = np.array(kets)\n",
    "coeffs = np.array(coeffs)\n",
    "kets.shape"
   ]
  },
  {
   "cell_type": "code",
   "execution_count": 66,
   "id": "9458f4f1",
   "metadata": {},
   "outputs": [],
   "source": [
    "for bra in kets:\n",
    "    for ket in kets:\n",
    "        energy_test = get_energy(bra, ket, [h1, h1], rotchol, 0.)\n",
    "        energy_ref = get_energy_with_eri(bra, ket, h1, h2, 0.)\n",
    "        np.testing.assert_allclose(energy_test, energy_ref, atol=1e-15)"
   ]
  },
  {
   "cell_type": "markdown",
   "id": "5f4cb623",
   "metadata": {},
   "source": [
    "# Test `get_projected_energy`"
   ]
  },
  {
   "cell_type": "markdown",
   "id": "31e6bd6c",
   "metadata": {},
   "source": [
    "## Test 1: UHF state with $s_z = 0$"
   ]
  },
  {
   "cell_type": "code",
   "execution_count": 67,
   "id": "be5f3c02",
   "metadata": {},
   "outputs": [
    {
     "name": "stdout",
     "output_type": "stream",
     "text": [
      "\n",
      "# Filling factor = 0.5\n"
     ]
    }
   ],
   "source": [
    "U = 4\n",
    "nx = 2\n",
    "ny = 2\n",
    "nup = 2\n",
    "ndown = 2\n",
    "open_x = False\n",
    "verbose = 3\n",
    "\n",
    "# -----------------------------------------------------------------------------\n",
    "# Settings.\n",
    "lattice = lattices.triangular_grid(nx, ny, open_x=open_x)\n",
    "n_sites = lattice.n_sites\n",
    "n_elec = (nup, ndown)\n",
    "nocc = sum(n_elec)\n",
    "filling = nocc / (2*n_sites)\n",
    "if verbose: print(f'\\n# Filling factor = {filling}')"
   ]
  },
  {
   "cell_type": "code",
   "execution_count": 68,
   "id": "e08df6bf",
   "metadata": {},
   "outputs": [],
   "source": [
    "integrals = {}\n",
    "integrals[\"h0\"] = 0.0\n",
    "\n",
    "h1 = -1.0 * lattice.create_adjacency_matrix()\n",
    "integrals[\"h1\"] = h1\n",
    "\n",
    "h2 = np.zeros((n_sites, n_sites, n_sites, n_sites))\n",
    "for i in range(n_sites):\n",
    "    h2[i, i, i, i] = U\n",
    "integrals[\"h2\"] = ao2mo.restore(8, h2, n_sites)"
   ]
  },
  {
   "cell_type": "code",
   "execution_count": 69,
   "id": "cb2584b4",
   "metadata": {},
   "outputs": [
    {
     "name": "stdout",
     "output_type": "stream",
     "text": [
      "max_absdiff = 5.000000413701855e-11\n"
     ]
    }
   ],
   "source": [
    "# Get Choleskies.\n",
    "chol_cut = 1e-10\n",
    "eri = ao2mo.restore(4, integrals[\"h2\"], n_sites)\n",
    "chol0 = pyscf_interface.modified_cholesky(eri, max_error=chol_cut)\n",
    "nchol = chol0.shape[0]\n",
    "chol = np.zeros((nchol, n_sites, n_sites))\n",
    "\n",
    "for i in range(nchol):\n",
    "    for m in range(n_sites):\n",
    "        for n in range(m + 1):\n",
    "            triind = m * (m + 1) // 2 + n\n",
    "            chol[i, m, n] = chol0[i, triind]\n",
    "            chol[i, n, m] = chol0[i, triind]\n",
    "\n",
    "chol = chol.reshape(nchol, n_sites**2)\n",
    "_eri = (chol.T @ chol).reshape((n_sites,) * 4)\n",
    "max_absdiff = np.amax(np.absolute(h2 - _eri))\n",
    "print(f'max_absdiff = {max_absdiff}')"
   ]
  },
  {
   "cell_type": "code",
   "execution_count": 70,
   "id": "33eadd36",
   "metadata": {},
   "outputs": [
    {
     "name": "stdout",
     "output_type": "stream",
     "text": [
      "converged SCF energy = -1.76329782855449  <S^2> = 1.399794  2S+1 = 2.5688861\n",
      "<class 'pyscf.scf.uhf.UHF'> wavefunction is stable in the internal stability analysis\n",
      "<class 'pyscf.scf.uhf.UHF'> wavefunction is stable in the real -> complex stability analysis\n",
      "<class 'pyscf.scf.uhf.UHF'> wavefunction is stable in the UHF/UKS -> GHF/GKS stability analysis\n",
      "converged SCF energy = -1.76329782855458  <S^2> = 1.3997941  2S+1 = 2.5688862\n",
      "<class 'pyscf.soscf.newton_ah.SecondOrderUHF'> wavefunction is stable in the internal stability analysis\n",
      "\n",
      "WARN: Not enough eigenvectors (len(x0)=1, nroots=3)\n",
      "\n",
      "<class 'pyscf.soscf.newton_ah.SecondOrderUHF'> wavefunction is stable in the real -> complex stability analysis\n",
      "<class 'pyscf.soscf.newton_ah.SecondOrderUHF'> wavefunction is stable in the UHF/UKS -> GHF/GKS stability analysis\n",
      "converged SCF energy = -1.76329782855459  <S^2> = 1.3997941  2S+1 = 2.5688862\n",
      "<class 'pyscf.soscf.newton_ah.SecondOrderUHF'> wavefunction is stable in the internal stability analysis\n",
      "\n",
      "WARN: Not enough eigenvectors (len(x0)=1, nroots=3)\n",
      "\n",
      "<class 'pyscf.soscf.newton_ah.SecondOrderUHF'> wavefunction is stable in the real -> complex stability analysis\n",
      "<class 'pyscf.soscf.newton_ah.SecondOrderUHF'> wavefunction is stable in the UHF/UKS -> GHF/GKS stability analysis\n",
      "converged SCF energy = -1.76329782855459  <S^2> = 1.3997941  2S+1 = 2.5688862\n",
      "<class 'pyscf.soscf.newton_ah.SecondOrderUHF'> wavefunction is stable in the internal stability analysis\n",
      "\n",
      "WARN: Not enough eigenvectors (len(x0)=1, nroots=3)\n",
      "\n",
      "<class 'pyscf.soscf.newton_ah.SecondOrderUHF'> wavefunction is stable in the real -> complex stability analysis\n",
      "<class 'pyscf.soscf.newton_ah.SecondOrderUHF'> wavefunction is stable in the UHF/UKS -> GHF/GKS stability analysis\n",
      "\n",
      "# ----------------------\n",
      "# Spin collinearity test\n",
      "# ----------------------\n",
      "# epsilon0 = 5.551115123125783e-17\n",
      "# non integer value indicates non-collinearity\n",
      "\n",
      "# minimum mu = 0.0\n",
      "# Value is 0 iff wavefunction is collinear\n",
      "\n",
      "# If mu = 0, the collinear spin axis is: \n",
      "[0.+0.j 0.+0.j 1.+0.j]\n"
     ]
    },
    {
     "name": "stderr",
     "output_type": "stream",
     "text": [
      "Overwritten attributes  get_ovlp get_hcore  of <class 'pyscf.scf.uhf.UHF'>\n",
      "Overwritten attributes  get_ovlp get_hcore  of <class 'pyscf.soscf.newton_ah.SecondOrderUHF'>\n"
     ]
    }
   ],
   "source": [
    "# make dummy molecule\n",
    "mol = gto.Mole()\n",
    "mol.nelectron = nocc\n",
    "mol.incore_anyway = True\n",
    "mol.spin = abs(n_elec[0] - n_elec[1])\n",
    "mol.verbose = 3\n",
    "mol.build()\n",
    "\n",
    "# UHF.\n",
    "umf = scf.UHF(mol)\n",
    "umf.get_hcore = lambda *args: integrals[\"h1\"]\n",
    "umf.get_ovlp = lambda *args: np.eye(n_sites)\n",
    "umf._eri = ao2mo.restore(8, integrals[\"h2\"], n_sites)\n",
    "\n",
    "seed = 262\n",
    "np.random.seed(seed)\n",
    "dm_init = np.random.random((2, n_sites, n_sites))\n",
    "dm_init += dm_init.transpose(0, 2, 1).conj()\n",
    "\n",
    "umf.kernel(dm_init)\n",
    "mo1 = umf.stability(external=True)\n",
    "umf = umf.newton().run(mo1[0], umf.mo_occ)\n",
    "mo1 = umf.stability(external=True)\n",
    "umf = umf.newton().run(mo1[0], umf.mo_occ)\n",
    "mo1 = umf.stability(external=True)\n",
    "umf = umf.newton().run(mo1[0], umf.mo_occ)\n",
    "mo1 = umf.stability(external=True)\n",
    "\n",
    "uhf_coeff = umf.mo_coeff\n",
    "uhf_rdm1 = umf.make_rdm1()\n",
    "\n",
    "psi = np.zeros((2*n_sites, nocc))\n",
    "psi[:n_sites, :nup] = uhf_coeff[0, :, umf.mo_occ[0] > 0].T\n",
    "psi[n_sites:, nup:] = uhf_coeff[1, :, umf.mo_occ[1] > 0].T\n",
    "\n",
    "ao_ovlp = np.eye(n_sites)\n",
    "epsilon0, mu, spin_axis = spin_utils.spin_collinearity_test(psi, ao_ovlp, verbose=verbose)"
   ]
  },
  {
   "cell_type": "code",
   "execution_count": 73,
   "id": "44847398",
   "metadata": {},
   "outputs": [],
   "source": [
    "m = 0.5 * (nup - ndown)\n",
    "kets, coeffs = apply_Sz_projector_jax(psi, m, 10)\n",
    "kets = np.array(kets)\n",
    "coeffs = np.array(coeffs)"
   ]
  },
  {
   "cell_type": "code",
   "execution_count": 74,
   "id": "6691e9d0",
   "metadata": {},
   "outputs": [],
   "source": [
    "# Projected spin average and overlap.\n",
    "savg_tot = np.zeros(3, dtype=np.complex128)\n",
    "ovlp_tot = 0.\n",
    "\n",
    "for ibra, bra in enumerate(kets):\n",
    "    for iket, ket in enumerate(kets):\n",
    "        G, ovlp = get_greens(bra, ket)\n",
    "        savg = spin_utils.get_spin_average_from_greens_ghf(G) * ovlp\n",
    "        savg_tot += savg * coeffs[ibra].conj() * coeffs[iket]\n",
    "        ovlp_tot += ovlp * coeffs[ibra].conj() * coeffs[iket]"
   ]
  },
  {
   "cell_type": "code",
   "execution_count": 75,
   "id": "ea979ab6",
   "metadata": {},
   "outputs": [
    {
     "name": "stdout",
     "output_type": "stream",
     "text": [
      "<S> * ovlp = [0.+0.j 0.+0.j 0.-0.j]\n",
      "ovlp = (1.0000000000000007+3.851859888774472e-34j)\n",
      "\n",
      "<S> = [0.+0.j 0.+0.j 0.-0.j]\n"
     ]
    }
   ],
   "source": [
    "print(f'<S> * ovlp = {savg_tot}')\n",
    "print(f'ovlp = {ovlp_tot}')\n",
    "print(f'\\n<S> = {savg_tot / ovlp_tot}')"
   ]
  },
  {
   "cell_type": "code",
   "execution_count": 77,
   "id": "6e6c3909",
   "metadata": {},
   "outputs": [],
   "source": [
    "e_proj = get_projected_energy(psi, m, [h1, h1], chol, 0., 10)\n",
    "e_proj = get_projected_energy_jax(psi, m, [h1, h1], chol, 0., 10)\n",
    "np.testing.assert_allclose(e_proj, umf.e_tot)"
   ]
  },
  {
   "cell_type": "markdown",
   "id": "4c002c7e",
   "metadata": {},
   "source": [
    "## Test 1: UHF state with $s_z = 1.5$"
   ]
  },
  {
   "cell_type": "code",
   "execution_count": 78,
   "id": "a62a98a8",
   "metadata": {},
   "outputs": [
    {
     "name": "stdout",
     "output_type": "stream",
     "text": [
      "\n",
      "# Filling factor = 0.625\n"
     ]
    }
   ],
   "source": [
    "U = 4\n",
    "nx = 2\n",
    "ny = 2\n",
    "nup = 4\n",
    "ndown = 1\n",
    "open_x = False\n",
    "verbose = 3\n",
    "\n",
    "# -----------------------------------------------------------------------------\n",
    "# Settings.\n",
    "lattice = lattices.triangular_grid(nx, ny, open_x=open_x)\n",
    "n_sites = lattice.n_sites\n",
    "n_elec = (nup, ndown)\n",
    "nocc = sum(n_elec)\n",
    "filling = nocc / (2*n_sites)\n",
    "if verbose: print(f'\\n# Filling factor = {filling}')"
   ]
  },
  {
   "cell_type": "code",
   "execution_count": 79,
   "id": "6767c2ba",
   "metadata": {},
   "outputs": [],
   "source": [
    "integrals = {}\n",
    "integrals[\"h0\"] = 0.0\n",
    "\n",
    "h1 = -1.0 * lattice.create_adjacency_matrix()\n",
    "integrals[\"h1\"] = h1\n",
    "\n",
    "h2 = np.zeros((n_sites, n_sites, n_sites, n_sites))\n",
    "for i in range(n_sites):\n",
    "    h2[i, i, i, i] = U\n",
    "integrals[\"h2\"] = ao2mo.restore(8, h2, n_sites)"
   ]
  },
  {
   "cell_type": "code",
   "execution_count": 80,
   "id": "e900c9d2",
   "metadata": {},
   "outputs": [
    {
     "name": "stdout",
     "output_type": "stream",
     "text": [
      "max_absdiff = 5.000000413701855e-11\n"
     ]
    }
   ],
   "source": [
    "# Get Choleskies.\n",
    "chol_cut = 1e-10\n",
    "eri = ao2mo.restore(4, integrals[\"h2\"], n_sites)\n",
    "chol0 = pyscf_interface.modified_cholesky(eri, max_error=chol_cut)\n",
    "nchol = chol0.shape[0]\n",
    "chol = np.zeros((nchol, n_sites, n_sites))\n",
    "\n",
    "for i in range(nchol):\n",
    "    for m in range(n_sites):\n",
    "        for n in range(m + 1):\n",
    "            triind = m * (m + 1) // 2 + n\n",
    "            chol[i, m, n] = chol0[i, triind]\n",
    "            chol[i, n, m] = chol0[i, triind]\n",
    "\n",
    "chol = chol.reshape(nchol, n_sites**2)\n",
    "_eri = (chol.T @ chol).reshape((n_sites,) * 4)\n",
    "max_absdiff = np.amax(np.absolute(h2 - _eri))\n",
    "print(f'max_absdiff = {max_absdiff}')"
   ]
  },
  {
   "cell_type": "code",
   "execution_count": 81,
   "id": "a913c6a7",
   "metadata": {},
   "outputs": [
    {
     "name": "stdout",
     "output_type": "stream",
     "text": [
      "converged SCF energy = 0.999999999999997  <S^2> = 3.75  2S+1 = 4\n",
      "\n",
      "WARN: Not enough eigenvectors (len(x0)=1, nroots=3)\n",
      "\n",
      "<class 'pyscf.scf.uhf.UHF'> wavefunction is stable in the internal stability analysis\n",
      "\n",
      "WARN: Not enough eigenvectors (len(x0)=1, nroots=3)\n",
      "\n",
      "<class 'pyscf.scf.uhf.UHF'> wavefunction is stable in the real -> complex stability analysis\n",
      "<class 'pyscf.scf.uhf.UHF'> wavefunction is stable in the UHF/UKS -> GHF/GKS stability analysis\n",
      "converged SCF energy = 0.999999999999997  <S^2> = 3.75  2S+1 = 4\n",
      "\n",
      "WARN: Not enough eigenvectors (len(x0)=1, nroots=3)\n",
      "\n",
      "<class 'pyscf.soscf.newton_ah.SecondOrderUHF'> wavefunction is stable in the internal stability analysis\n",
      "\n",
      "WARN: Not enough eigenvectors (len(x0)=1, nroots=3)\n",
      "\n",
      "<class 'pyscf.soscf.newton_ah.SecondOrderUHF'> wavefunction is stable in the real -> complex stability analysis\n",
      "<class 'pyscf.soscf.newton_ah.SecondOrderUHF'> wavefunction is stable in the UHF/UKS -> GHF/GKS stability analysis\n",
      "converged SCF energy = 0.999999999999996  <S^2> = 3.75  2S+1 = 4\n",
      "\n",
      "WARN: Not enough eigenvectors (len(x0)=1, nroots=3)\n",
      "\n",
      "<class 'pyscf.soscf.newton_ah.SecondOrderUHF'> wavefunction is stable in the internal stability analysis\n",
      "\n",
      "WARN: Not enough eigenvectors (len(x0)=1, nroots=3)\n",
      "\n",
      "<class 'pyscf.soscf.newton_ah.SecondOrderUHF'> wavefunction is stable in the real -> complex stability analysis\n",
      "<class 'pyscf.soscf.newton_ah.SecondOrderUHF'> wavefunction is stable in the UHF/UKS -> GHF/GKS stability analysis\n",
      "converged SCF energy = 0.999999999999995  <S^2> = 3.75  2S+1 = 4\n",
      "\n",
      "WARN: Not enough eigenvectors (len(x0)=1, nroots=3)\n",
      "\n",
      "<class 'pyscf.soscf.newton_ah.SecondOrderUHF'> wavefunction is stable in the internal stability analysis\n",
      "\n",
      "WARN: Not enough eigenvectors (len(x0)=1, nroots=3)\n",
      "\n",
      "<class 'pyscf.soscf.newton_ah.SecondOrderUHF'> wavefunction is stable in the real -> complex stability analysis\n",
      "<class 'pyscf.soscf.newton_ah.SecondOrderUHF'> wavefunction is stable in the UHF/UKS -> GHF/GKS stability analysis\n",
      "\n",
      "# ----------------------\n",
      "# Spin collinearity test\n",
      "# ----------------------\n",
      "# epsilon0 = 1.4999999999999984\n",
      "# non half-integer value indicates non-collinearity\n",
      "\n",
      "# minimum mu = 1.9984014443252818e-15\n",
      "# Value is 0 iff wavefunction is collinear\n",
      "\n",
      "# If mu = 0, the collinear spin axis is: \n",
      "[0.+0.j 0.+0.j 1.+0.j]\n"
     ]
    }
   ],
   "source": [
    "# make dummy molecule\n",
    "mol = gto.Mole()\n",
    "mol.nelectron = nocc\n",
    "mol.incore_anyway = True\n",
    "mol.spin = abs(n_elec[0] - n_elec[1])\n",
    "mol.verbose = 3\n",
    "mol.build()\n",
    "\n",
    "# UHF.\n",
    "umf = scf.UHF(mol)\n",
    "umf.get_hcore = lambda *args: integrals[\"h1\"]\n",
    "umf.get_ovlp = lambda *args: np.eye(n_sites)\n",
    "umf._eri = ao2mo.restore(8, integrals[\"h2\"], n_sites)\n",
    "\n",
    "seed = 262\n",
    "np.random.seed(seed)\n",
    "dm_init = np.random.random((2, n_sites, n_sites))\n",
    "dm_init += dm_init.transpose(0, 2, 1).conj()\n",
    "\n",
    "umf.kernel(dm_init)\n",
    "mo1 = umf.stability(external=True)\n",
    "umf = umf.newton().run(mo1[0], umf.mo_occ)\n",
    "mo1 = umf.stability(external=True)\n",
    "umf = umf.newton().run(mo1[0], umf.mo_occ)\n",
    "mo1 = umf.stability(external=True)\n",
    "umf = umf.newton().run(mo1[0], umf.mo_occ)\n",
    "mo1 = umf.stability(external=True)\n",
    "\n",
    "uhf_coeff = umf.mo_coeff\n",
    "uhf_rdm1 = umf.make_rdm1()\n",
    "\n",
    "psi = np.zeros((2*n_sites, nocc))\n",
    "psi[:n_sites, :nup] = uhf_coeff[0, :, umf.mo_occ[0] > 0].T\n",
    "psi[n_sites:, nup:] = uhf_coeff[1, :, umf.mo_occ[1] > 0].T\n",
    "\n",
    "ao_ovlp = np.eye(n_sites)\n",
    "epsilon0, mu, spin_axis = spin_utils.spin_collinearity_test(psi, ao_ovlp, verbose=verbose)"
   ]
  },
  {
   "cell_type": "code",
   "execution_count": 82,
   "id": "1339cbd8",
   "metadata": {},
   "outputs": [],
   "source": [
    "m = 0.5 * (nup - ndown)\n",
    "kets, coeffs = apply_Sz_projector_jax(psi, m, 10)\n",
    "kets = np.array(kets)\n",
    "coeffs = np.array(coeffs)"
   ]
  },
  {
   "cell_type": "code",
   "execution_count": 83,
   "id": "d7d069f5",
   "metadata": {},
   "outputs": [],
   "source": [
    "# Projected spin average and overlap.\n",
    "savg_tot = np.zeros(3, dtype=np.complex128)\n",
    "ovlp_tot = 0.\n",
    "\n",
    "for ibra, bra in enumerate(kets):\n",
    "    for iket, ket in enumerate(kets):\n",
    "        G, ovlp = get_greens(bra, ket)\n",
    "        savg = spin_utils.get_spin_average_from_greens_ghf(G) * ovlp\n",
    "        savg_tot += savg * coeffs[ibra].conj() * coeffs[iket]\n",
    "        ovlp_tot += ovlp * coeffs[ibra].conj() * coeffs[iket]"
   ]
  },
  {
   "cell_type": "code",
   "execution_count": 84,
   "id": "05c504a3",
   "metadata": {},
   "outputs": [
    {
     "name": "stdout",
     "output_type": "stream",
     "text": [
      "<S> * ovlp = [0. +0.j 0. +0.j 1.5+0.j]\n",
      "ovlp = (0.9999999999999982-3.25862638659177e-18j)\n",
      "\n",
      "<S> = [0. +0.j 0. +0.j 1.5+0.j]\n"
     ]
    }
   ],
   "source": [
    "print(f'<S> * ovlp = {savg_tot}')\n",
    "print(f'ovlp = {ovlp_tot}')\n",
    "print(f'\\n<S> = {savg_tot / ovlp_tot}')"
   ]
  },
  {
   "cell_type": "code",
   "execution_count": 86,
   "id": "77b37ec1",
   "metadata": {},
   "outputs": [],
   "source": [
    "e_proj = get_projected_energy(psi, m, [h1, h1], chol, 0., 10)\n",
    "e_proj = get_projected_energy_jax(psi, m, [h1, h1], chol, 0., 10)\n",
    "np.testing.assert_allclose(e_proj, umf.e_tot)"
   ]
  },
  {
   "cell_type": "markdown",
   "id": "1276caca",
   "metadata": {},
   "source": [
    "# Test 3: Check with FCI"
   ]
  },
  {
   "cell_type": "code",
   "execution_count": 471,
   "id": "c1f06508",
   "metadata": {},
   "outputs": [
    {
     "name": "stdout",
     "output_type": "stream",
     "text": [
      "\n",
      "# Filling factor = 0.5\n"
     ]
    }
   ],
   "source": [
    "U = 4\n",
    "nx = 2\n",
    "ny = 2\n",
    "nup = 2\n",
    "ndown = 2\n",
    "open_x = False\n",
    "verbose = 3\n",
    "\n",
    "# -----------------------------------------------------------------------------\n",
    "# Settings.\n",
    "lattice = lattices.triangular_grid(nx, ny, open_x=open_x)\n",
    "n_sites = lattice.n_sites\n",
    "n_elec = (nup, ndown)\n",
    "nocc = sum(n_elec)\n",
    "filling = nocc / (2*n_sites)\n",
    "if verbose: print(f'\\n# Filling factor = {filling}')"
   ]
  },
  {
   "cell_type": "code",
   "execution_count": 472,
   "id": "dfce3fc4",
   "metadata": {},
   "outputs": [],
   "source": [
    "integrals = {}\n",
    "integrals[\"h0\"] = 0.0\n",
    "\n",
    "h1 = -1.0 * lattice.create_adjacency_matrix()\n",
    "integrals[\"h1\"] = h1\n",
    "\n",
    "h2 = np.zeros((n_sites, n_sites, n_sites, n_sites))\n",
    "for i in range(n_sites):\n",
    "    h2[i, i, i, i] = U\n",
    "integrals[\"h2\"] = ao2mo.restore(8, h2, n_sites)"
   ]
  },
  {
   "cell_type": "code",
   "execution_count": 473,
   "id": "7e431aec",
   "metadata": {},
   "outputs": [
    {
     "name": "stdout",
     "output_type": "stream",
     "text": [
      "max_absdiff = 5.000000413701855e-11\n"
     ]
    }
   ],
   "source": [
    "# Get Choleskies.\n",
    "chol_cut = 1e-10\n",
    "eri = ao2mo.restore(4, integrals[\"h2\"], n_sites)\n",
    "chol0 = pyscf_interface.modified_cholesky(eri, max_error=chol_cut)\n",
    "nchol = chol0.shape[0]\n",
    "chol = np.zeros((nchol, n_sites, n_sites))\n",
    "\n",
    "for i in range(nchol):\n",
    "    for m in range(n_sites):\n",
    "        for n in range(m + 1):\n",
    "            triind = m * (m + 1) // 2 + n\n",
    "            chol[i, m, n] = chol0[i, triind]\n",
    "            chol[i, n, m] = chol0[i, triind]\n",
    "\n",
    "chol = chol.reshape(nchol, n_sites**2)\n",
    "_eri = (chol.T @ chol).reshape((n_sites,) * 4)\n",
    "max_absdiff = np.amax(np.absolute(h2 - _eri))\n",
    "print(f'max_absdiff = {max_absdiff}')"
   ]
  },
  {
   "cell_type": "code",
   "execution_count": 474,
   "id": "3a27b41f",
   "metadata": {},
   "outputs": [
    {
     "name": "stdout",
     "output_type": "stream",
     "text": [
      "converged SCF energy = -1.76329782855449  <S^2> = 1.399794  2S+1 = 2.5688861\n",
      "<class 'pyscf.scf.uhf.UHF'> wavefunction is stable in the internal stability analysis\n",
      "<class 'pyscf.scf.uhf.UHF'> wavefunction is stable in the real -> complex stability analysis\n",
      "<class 'pyscf.scf.uhf.UHF'> wavefunction is stable in the UHF/UKS -> GHF/GKS stability analysis\n",
      "converged SCF energy = -1.76329782855458  <S^2> = 1.3997941  2S+1 = 2.5688862\n",
      "<class 'pyscf.soscf.newton_ah.SecondOrderUHF'> wavefunction is stable in the internal stability analysis\n",
      "\n",
      "WARN: Not enough eigenvectors (len(x0)=1, nroots=3)\n",
      "\n",
      "<class 'pyscf.soscf.newton_ah.SecondOrderUHF'> wavefunction is stable in the real -> complex stability analysis\n",
      "<class 'pyscf.soscf.newton_ah.SecondOrderUHF'> wavefunction is stable in the UHF/UKS -> GHF/GKS stability analysis\n",
      "converged SCF energy = -1.76329782855459  <S^2> = 1.3997941  2S+1 = 2.5688862\n",
      "<class 'pyscf.soscf.newton_ah.SecondOrderUHF'> wavefunction is stable in the internal stability analysis\n",
      "\n",
      "WARN: Not enough eigenvectors (len(x0)=1, nroots=3)\n",
      "\n",
      "<class 'pyscf.soscf.newton_ah.SecondOrderUHF'> wavefunction is stable in the real -> complex stability analysis\n",
      "<class 'pyscf.soscf.newton_ah.SecondOrderUHF'> wavefunction is stable in the UHF/UKS -> GHF/GKS stability analysis\n",
      "converged SCF energy = -1.76329782855459  <S^2> = 1.3997941  2S+1 = 2.5688862\n",
      "<class 'pyscf.soscf.newton_ah.SecondOrderUHF'> wavefunction is stable in the internal stability analysis\n",
      "\n",
      "WARN: Not enough eigenvectors (len(x0)=1, nroots=3)\n",
      "\n",
      "<class 'pyscf.soscf.newton_ah.SecondOrderUHF'> wavefunction is stable in the real -> complex stability analysis\n",
      "<class 'pyscf.soscf.newton_ah.SecondOrderUHF'> wavefunction is stable in the UHF/UKS -> GHF/GKS stability analysis\n",
      "\n",
      "# ----------------------\n",
      "# Spin collinearity test\n",
      "# ----------------------\n",
      "# epsilon0 = 5.551115123125783e-17\n",
      "# non integer value indicates non-collinearity\n",
      "\n",
      "# minimum mu = 0.0\n",
      "# Value is 0 iff wavefunction is collinear\n",
      "\n",
      "# If mu = 0, the collinear spin axis is: \n",
      "[0.+0.j 0.+0.j 1.+0.j]\n"
     ]
    }
   ],
   "source": [
    "# make dummy molecule\n",
    "mol = gto.Mole()\n",
    "mol.nelectron = nocc\n",
    "mol.incore_anyway = True\n",
    "mol.spin = abs(n_elec[0] - n_elec[1])\n",
    "mol.verbose = 3\n",
    "mol.build()\n",
    "\n",
    "# UHF.\n",
    "umf = scf.UHF(mol)\n",
    "umf.get_hcore = lambda *args: integrals[\"h1\"]\n",
    "umf.get_ovlp = lambda *args: np.eye(n_sites)\n",
    "umf._eri = ao2mo.restore(8, integrals[\"h2\"], n_sites)\n",
    "\n",
    "seed = 262\n",
    "np.random.seed(seed)\n",
    "dm_init = np.random.random((2, n_sites, n_sites))\n",
    "dm_init += dm_init.transpose(0, 2, 1).conj()\n",
    "\n",
    "umf.kernel(dm_init)\n",
    "mo1 = umf.stability(external=True)\n",
    "umf = umf.newton().run(mo1[0], umf.mo_occ)\n",
    "mo1 = umf.stability(external=True)\n",
    "umf = umf.newton().run(mo1[0], umf.mo_occ)\n",
    "mo1 = umf.stability(external=True)\n",
    "umf = umf.newton().run(mo1[0], umf.mo_occ)\n",
    "mo1 = umf.stability(external=True)\n",
    "\n",
    "uhf_coeff = umf.mo_coeff\n",
    "uhf_rdm1 = umf.make_rdm1()\n",
    "\n",
    "psi = np.zeros((2*n_sites, nocc))\n",
    "psi[:n_sites, :nup] = uhf_coeff[0, :, umf.mo_occ[0] > 0].T\n",
    "psi[n_sites:, nup:] = uhf_coeff[1, :, umf.mo_occ[1] > 0].T\n",
    "\n",
    "ao_ovlp = np.eye(n_sites)\n",
    "epsilon0, mu, spin_axis = spin_utils.spin_collinearity_test(psi, ao_ovlp, verbose=verbose)"
   ]
  },
  {
   "cell_type": "code",
   "execution_count": 475,
   "id": "84d1a801",
   "metadata": {},
   "outputs": [
    {
     "name": "stdout",
     "output_type": "stream",
     "text": [
      "[OIndexList([0, 1], dtype=int32), OIndexList([0, 2], dtype=int32), OIndexList([1, 2], dtype=int32), OIndexList([0, 3], dtype=int32), OIndexList([1, 3], dtype=int32), OIndexList([2, 3], dtype=int32)]\n",
      "[OIndexList([0, 1], dtype=int32), OIndexList([0, 2], dtype=int32), OIndexList([1, 2], dtype=int32), OIndexList([0, 3], dtype=int32), OIndexList([1, 3], dtype=int32), OIndexList([2, 3], dtype=int32)]\n"
     ]
    }
   ],
   "source": [
    "from pyscf.fci import cistring\n",
    "\n",
    "alpha_strs = list(cistring.gen_occslst(range(n_sites), nup))\n",
    "beta_strs = list(cistring.gen_occslst(range(n_sites), ndown))\n",
    "\n",
    "print(alpha_strs)\n",
    "print(beta_strs)"
   ]
  },
  {
   "cell_type": "code",
   "execution_count": 476,
   "id": "aaa0cdf2",
   "metadata": {},
   "outputs": [
    {
     "data": {
      "text/plain": [
       "[(OIndexList([0, 1], dtype=int32), OIndexList([0, 1], dtype=int32)),\n",
       " (OIndexList([0, 1], dtype=int32), OIndexList([0, 2], dtype=int32)),\n",
       " (OIndexList([0, 1], dtype=int32), OIndexList([1, 2], dtype=int32)),\n",
       " (OIndexList([0, 1], dtype=int32), OIndexList([0, 3], dtype=int32)),\n",
       " (OIndexList([0, 1], dtype=int32), OIndexList([1, 3], dtype=int32)),\n",
       " (OIndexList([0, 1], dtype=int32), OIndexList([2, 3], dtype=int32)),\n",
       " (OIndexList([0, 2], dtype=int32), OIndexList([0, 1], dtype=int32)),\n",
       " (OIndexList([0, 2], dtype=int32), OIndexList([0, 2], dtype=int32)),\n",
       " (OIndexList([0, 2], dtype=int32), OIndexList([1, 2], dtype=int32)),\n",
       " (OIndexList([0, 2], dtype=int32), OIndexList([0, 3], dtype=int32)),\n",
       " (OIndexList([0, 2], dtype=int32), OIndexList([1, 3], dtype=int32)),\n",
       " (OIndexList([0, 2], dtype=int32), OIndexList([2, 3], dtype=int32)),\n",
       " (OIndexList([1, 2], dtype=int32), OIndexList([0, 1], dtype=int32)),\n",
       " (OIndexList([1, 2], dtype=int32), OIndexList([0, 2], dtype=int32)),\n",
       " (OIndexList([1, 2], dtype=int32), OIndexList([1, 2], dtype=int32)),\n",
       " (OIndexList([1, 2], dtype=int32), OIndexList([0, 3], dtype=int32)),\n",
       " (OIndexList([1, 2], dtype=int32), OIndexList([1, 3], dtype=int32)),\n",
       " (OIndexList([1, 2], dtype=int32), OIndexList([2, 3], dtype=int32)),\n",
       " (OIndexList([0, 3], dtype=int32), OIndexList([0, 1], dtype=int32)),\n",
       " (OIndexList([0, 3], dtype=int32), OIndexList([0, 2], dtype=int32)),\n",
       " (OIndexList([0, 3], dtype=int32), OIndexList([1, 2], dtype=int32)),\n",
       " (OIndexList([0, 3], dtype=int32), OIndexList([0, 3], dtype=int32)),\n",
       " (OIndexList([0, 3], dtype=int32), OIndexList([1, 3], dtype=int32)),\n",
       " (OIndexList([0, 3], dtype=int32), OIndexList([2, 3], dtype=int32)),\n",
       " (OIndexList([1, 3], dtype=int32), OIndexList([0, 1], dtype=int32)),\n",
       " (OIndexList([1, 3], dtype=int32), OIndexList([0, 2], dtype=int32)),\n",
       " (OIndexList([1, 3], dtype=int32), OIndexList([1, 2], dtype=int32)),\n",
       " (OIndexList([1, 3], dtype=int32), OIndexList([0, 3], dtype=int32)),\n",
       " (OIndexList([1, 3], dtype=int32), OIndexList([1, 3], dtype=int32)),\n",
       " (OIndexList([1, 3], dtype=int32), OIndexList([2, 3], dtype=int32)),\n",
       " (OIndexList([2, 3], dtype=int32), OIndexList([0, 1], dtype=int32)),\n",
       " (OIndexList([2, 3], dtype=int32), OIndexList([0, 2], dtype=int32)),\n",
       " (OIndexList([2, 3], dtype=int32), OIndexList([1, 2], dtype=int32)),\n",
       " (OIndexList([2, 3], dtype=int32), OIndexList([0, 3], dtype=int32)),\n",
       " (OIndexList([2, 3], dtype=int32), OIndexList([1, 3], dtype=int32)),\n",
       " (OIndexList([2, 3], dtype=int32), OIndexList([2, 3], dtype=int32))]"
      ]
     },
     "execution_count": 476,
     "metadata": {},
     "output_type": "execute_result"
    }
   ],
   "source": [
    "slater_dets = [(a_str, b_str) for a_str in alpha_strs for b_str in beta_strs]\n",
    "slater_dets"
   ]
  },
  {
   "cell_type": "code",
   "execution_count": 477,
   "id": "f65a4903",
   "metadata": {},
   "outputs": [
    {
     "data": {
      "text/plain": [
       "array([[[-0.30319, -0.     , -0.63881,  0.70711],\n",
       "        [-0.30319, -0.     , -0.63881, -0.70711],\n",
       "        [-0.63881, -0.70711,  0.30319,  0.     ],\n",
       "        [-0.63881,  0.70711,  0.30319,  0.     ]],\n",
       "\n",
       "       [[-0.63881,  0.70711,  0.30319, -0.     ],\n",
       "        [-0.63881, -0.70711,  0.30319, -0.     ],\n",
       "        [-0.30319, -0.     , -0.63881, -0.70711],\n",
       "        [-0.30319, -0.     , -0.63881,  0.70711]]])"
      ]
     },
     "execution_count": 477,
     "metadata": {},
     "output_type": "execute_result"
    }
   ],
   "source": [
    "umf.mo_coeff"
   ]
  },
  {
   "cell_type": "code",
   "execution_count": 478,
   "id": "c211838b",
   "metadata": {},
   "outputs": [
    {
     "data": {
      "text/plain": [
       "array([[-1.58155,  1.36771,  3.58155,  4.63229],\n",
       "       [-1.58155,  1.36771,  3.58155,  4.63229]])"
      ]
     },
     "execution_count": 478,
     "metadata": {},
     "output_type": "execute_result"
    }
   ],
   "source": [
    "umf.mo_energy"
   ]
  },
  {
   "cell_type": "code",
   "execution_count": 480,
   "id": "cc6809bc",
   "metadata": {},
   "outputs": [
    {
     "name": "stdout",
     "output_type": "stream",
     "text": [
      "davidson 0 1  |r|= 2.84  e= [0.2]  max|de|=  0.2  lindep=    1\n",
      "davidson 1 2  |r|= 1.51  e= [-0.45819]  max|de|= -0.658  lindep= 0.705\n",
      "davidson 2 3  |r|= 1.06  e= [-1.7044]  max|de|= -1.25  lindep= 0.999\n",
      "davidson 3 4  |r|= 0.351  e= [-1.87417]  max|de|= -0.17  lindep= 0.989\n",
      "davidson 4 5  |r|= 0.477  e= [-1.92717]  max|de|= -0.053  lindep= 0.985\n",
      "davidson 5 6  |r|= 0.0478  e= [-2.10249]  max|de|= -0.175  lindep= 0.883\n",
      "davidson 6 7  |r|= 2.28e-05  e= [-2.10275]  max|de|= -0.000254  lindep=    1\n",
      "root 0 converged  |r|= 7.28e-06  e= -2.102748483446554  max|de|= -5.8e-11\n",
      "converged 7 8  |r|= 7.28e-06  e= [-2.10275]  max|de|= -5.8e-11\n",
      "-2.102748483446554\n"
     ]
    }
   ],
   "source": [
    "mol.verbose = 5\n",
    "ci = fci.FCI(mol)\n",
    "ci = fci.addons.fix_spin_(ci, ss=0)\n",
    "e, ci_coeffs = ci.kernel(\n",
    "    h1e=integrals[\"h1\"], eri=integrals[\"h2\"], norb=n_sites, nelec=n_elec, max_cycle=500\n",
    ")\n",
    "print(e)"
   ]
  },
  {
   "cell_type": "code",
   "execution_count": 481,
   "id": "71fbb387",
   "metadata": {},
   "outputs": [
    {
     "data": {
      "text/plain": [
       "FCIvector([[-0.05109, -0.     ,  0.12905, -0.12905,  0.     , -0.24548],\n",
       "           [-0.     ,  0.05109,  0.12905,  0.12904,  0.24548, -0.     ],\n",
       "           [ 0.12905,  0.12905,  0.     ,  0.49096,  0.12904,  0.12904],\n",
       "           [-0.12905,  0.12904,  0.49096,  0.     ,  0.12905, -0.12904],\n",
       "           [ 0.     ,  0.24548,  0.12904,  0.12905,  0.05109,  0.     ],\n",
       "           [-0.24548, -0.     ,  0.12904, -0.12904,  0.     , -0.05109]])"
      ]
     },
     "execution_count": 481,
     "metadata": {},
     "output_type": "execute_result"
    }
   ],
   "source": [
    "ci_coeffs"
   ]
  },
  {
   "cell_type": "code",
   "execution_count": 482,
   "id": "8df73df7",
   "metadata": {},
   "outputs": [
    {
     "data": {
      "text/plain": [
       "36"
      ]
     },
     "execution_count": 482,
     "metadata": {},
     "output_type": "execute_result"
    }
   ],
   "source": [
    "len(slater_dets)"
   ]
  },
  {
   "cell_type": "code",
   "execution_count": 432,
   "id": "87ff88c2",
   "metadata": {},
   "outputs": [
    {
     "data": {
      "text/plain": [
       "0.9999999999999947"
      ]
     },
     "execution_count": 432,
     "metadata": {},
     "output_type": "execute_result"
    }
   ],
   "source": [
    "umf.e_tot"
   ]
  },
  {
   "cell_type": "code",
   "execution_count": 421,
   "id": "9228c7d1",
   "metadata": {},
   "outputs": [
    {
     "data": {
      "text/plain": [
       "(0.9999999999625035-1.3877787807294141e-17j)"
      ]
     },
     "execution_count": 421,
     "metadata": {},
     "output_type": "execute_result"
    }
   ],
   "source": [
    "e_proj"
   ]
  },
  {
   "cell_type": "code",
   "execution_count": 464,
   "id": "0486e042",
   "metadata": {},
   "outputs": [
    {
     "data": {
      "text/plain": [
       "OIndexList([[0],\n",
       "            [1],\n",
       "            [2],\n",
       "            [3]], dtype=int32)"
      ]
     },
     "execution_count": 464,
     "metadata": {},
     "output_type": "execute_result"
    }
   ],
   "source": [
    "occslst = fci.cistring.gen_occslst(range(n_sites), ndown)\n",
    "occslst"
   ]
  },
  {
   "cell_type": "code",
   "execution_count": 452,
   "id": "22d0f8ad",
   "metadata": {},
   "outputs": [
    {
     "data": {
      "text/plain": [
       "OIndexList([[0, 1],\n",
       "            [0, 2],\n",
       "            [1, 2],\n",
       "            [0, 3],\n",
       "            [1, 3],\n",
       "            [2, 3]], dtype=int32)"
      ]
     },
     "execution_count": 452,
     "metadata": {},
     "output_type": "execute_result"
    }
   ],
   "source": [
    "occslst"
   ]
  },
  {
   "cell_type": "markdown",
   "id": "e6852d1a",
   "metadata": {},
   "source": [
    "## Using a 2-site Ising model as example"
   ]
  },
  {
   "cell_type": "code",
   "execution_count": 267,
   "id": "d7abb2bb",
   "metadata": {},
   "outputs": [],
   "source": [
    "norb = 2\n",
    "nocc = 2\n",
    "psi = 1./np.sqrt(2.) * np.array([[1., 0.],  # (site 1, up)\n",
    "                                 [0., 1.],  # (site 2, up) \n",
    "                                 [1., 0.],  # (site 1, down)\n",
    "                                 [0., 1.]]) # (site 2, down)"
   ]
  },
  {
   "cell_type": "code",
   "execution_count": 269,
   "id": "a77f92fb",
   "metadata": {},
   "outputs": [],
   "source": [
    "h1 = np.zeros((2*norb, 2*norb))\n",
    "eri = np.zeros((2*norb, 2*norb, 2*norb, 2*norb))\n",
    "\n",
    "for i in range(2*norb):\n",
    "    spin_i = i // 2\n",
    "    site_i = i % 2\n",
    "    \n",
    "    for j in range(2*norb):\n",
    "        spin_j = j // 2\n",
    "        site_j = j % 2\n",
    "        \n",
    "        if spin_i == spin_j: eri[i, i, j, j] = 1.\n",
    "        if spin_i != spin_j: eri[i, i, j, j] = -1.\n",
    "\n",
    "H = np.array([[0., 1., 0., -1.],\n",
    "              [1., 0., -1., 0.],\n",
    "              [0., -1., 0., 1.],\n",
    "              [-1., 0., 1., 0.]])"
   ]
  },
  {
   "cell_type": "code",
   "execution_count": 264,
   "id": "b29ab3d8",
   "metadata": {},
   "outputs": [
    {
     "data": {
      "text/plain": [
       "(-22.25000000001807-1.848290669299883e-15j)"
      ]
     },
     "execution_count": 264,
     "metadata": {},
     "output_type": "execute_result"
    }
   ],
   "source": [
    "get_projected_energy(psi, 0., [h1, h1], chol, 0., 10)"
   ]
  },
  {
   "cell_type": "markdown",
   "id": "5145d039",
   "metadata": {},
   "source": [
    "# Test `gradient_descent`"
   ]
  },
  {
   "cell_type": "code",
   "execution_count": 89,
   "id": "99d9a126",
   "metadata": {},
   "outputs": [
    {
     "name": "stdout",
     "output_type": "stream",
     "text": [
      "\n",
      "# Filling factor = 0.1875\n"
     ]
    }
   ],
   "source": [
    "U = 4\n",
    "nx = 4\n",
    "ny = 4\n",
    "nup = 3\n",
    "ndown = 3\n",
    "open_x = False\n",
    "verbose = 3\n",
    "\n",
    "# -----------------------------------------------------------------------------\n",
    "# Settings.\n",
    "lattice = lattices.triangular_grid(nx, ny, open_x=open_x)\n",
    "n_sites = lattice.n_sites\n",
    "n_elec = (nup, ndown)\n",
    "nocc = sum(n_elec)\n",
    "filling = nocc / (2*n_sites)\n",
    "if verbose: print(f'\\n# Filling factor = {filling}')"
   ]
  },
  {
   "cell_type": "code",
   "execution_count": 90,
   "id": "c6476163",
   "metadata": {},
   "outputs": [],
   "source": [
    "integrals = {}\n",
    "integrals[\"h0\"] = 0.0\n",
    "\n",
    "h1 = -1.0 * lattice.create_adjacency_matrix()\n",
    "integrals[\"h1\"] = h1\n",
    "\n",
    "h2 = np.zeros((n_sites, n_sites, n_sites, n_sites))\n",
    "for i in range(n_sites):\n",
    "    h2[i, i, i, i] = U\n",
    "integrals[\"h2\"] = ao2mo.restore(8, h2, n_sites)"
   ]
  },
  {
   "cell_type": "code",
   "execution_count": 91,
   "id": "92f1e500",
   "metadata": {},
   "outputs": [
    {
     "name": "stdout",
     "output_type": "stream",
     "text": [
      "max_absdiff = 5.000000413701855e-11\n"
     ]
    }
   ],
   "source": [
    "# Get Choleskies.\n",
    "chol_cut = 1e-10\n",
    "eri = ao2mo.restore(4, integrals[\"h2\"], n_sites)\n",
    "chol0 = pyscf_interface.modified_cholesky(eri, max_error=chol_cut)\n",
    "nchol = chol0.shape[0]\n",
    "chol = np.zeros((nchol, n_sites, n_sites))\n",
    "\n",
    "for i in range(nchol):\n",
    "    for m in range(n_sites):\n",
    "        for n in range(m + 1):\n",
    "            triind = m * (m + 1) // 2 + n\n",
    "            chol[i, m, n] = chol0[i, triind]\n",
    "            chol[i, n, m] = chol0[i, triind]\n",
    "\n",
    "chol = chol.reshape(nchol, n_sites**2)\n",
    "_eri = (chol.T @ chol).reshape((n_sites,) * 4)\n",
    "max_absdiff = np.amax(np.absolute(h2 - _eri))\n",
    "print(f'max_absdiff = {max_absdiff}')"
   ]
  },
  {
   "cell_type": "code",
   "execution_count": 92,
   "id": "5501698a",
   "metadata": {},
   "outputs": [
    {
     "name": "stdout",
     "output_type": "stream",
     "text": [
      "SCF not converged.\n",
      "SCF energy = -18.7895418519718 after 50 cycles  <S^2> = 6.0095831  2S+1 = 5.0038318\n",
      "<class 'pyscf.scf.ghf.GHF'> wavefunction has an internal instability\n",
      "converged SCF energy = -18.7899070209922  <S^2> = 6.0102938  2S+1 = 5.0041158\n",
      "<class 'pyscf.soscf.newton_ah.SecondOrderGHF'> wavefunction is stable in the internal stability analysis\n",
      "converged SCF energy = -18.7899070210115  <S^2> = 6.0102937  2S+1 = 5.0041158\n",
      "<class 'pyscf.soscf.newton_ah.SecondOrderGHF'> wavefunction is stable in the internal stability analysis\n",
      "converged SCF energy = -18.7899070210146  <S^2> = 6.0102936  2S+1 = 5.0041157\n",
      "<class 'pyscf.soscf.newton_ah.SecondOrderGHF'> wavefunction is stable in the internal stability analysis\n",
      "\n",
      "# ----------------------\n",
      "# Spin collinearity test\n",
      "# ----------------------\n",
      "# epsilon0 = 1.9999999999996207\n",
      "# non integer value indicates non-collinearity\n",
      "\n",
      "# minimum mu = 3.816669202905132e-13\n",
      "# Value is 0 iff wavefunction is collinear\n",
      "\n",
      "# If mu = 0, the collinear spin axis is: \n",
      "[-0.99017-0.j  0.     -0.j  0.13987+0.j]\n"
     ]
    }
   ],
   "source": [
    "# make dummy molecule\n",
    "mol = gto.Mole()\n",
    "mol.nelectron = nocc\n",
    "mol.incore_anyway = True\n",
    "mol.spin = abs(n_elec[0] - n_elec[1])\n",
    "mol.verbose = 3\n",
    "mol.build()\n",
    "\n",
    "# GHF.\n",
    "gmf = scf.GHF(mol)\n",
    "gmf.get_hcore = lambda *args: sp.linalg.block_diag(integrals[\"h1\"], integrals[\"h1\"])\n",
    "gmf.get_ovlp = lambda *args: np.eye(2 * n_sites)\n",
    "gmf._eri = ao2mo.restore(8, integrals[\"h2\"], n_sites)\n",
    "\n",
    "seed = 262\n",
    "np.random.seed(seed)\n",
    "dm_init = np.random.random((2*n_sites, 2*n_sites))\n",
    "dm_init += dm_init.T.conj()\n",
    "\n",
    "gmf.kernel(dm_init)\n",
    "mo1 = gmf.stability(external=True)\n",
    "gmf = gmf.newton().run(mo1, gmf.mo_occ)\n",
    "mo1 = gmf.stability(external=True)\n",
    "gmf = gmf.newton().run(mo1, gmf.mo_occ)\n",
    "mo1 = gmf.stability(external=True)\n",
    "gmf = gmf.newton().run(mo1, gmf.mo_occ)\n",
    "mo1 = gmf.stability(external=True)\n",
    "\n",
    "ghf_coeff = gmf.mo_coeff\n",
    "ghf_rdm1 = gmf.make_rdm1()\n",
    "ao_ovlp = np.eye(n_sites)\n",
    "epsilon0, mu, spin_axis = spin_utils.spin_collinearity_test(ghf_coeff[:, :nocc], ao_ovlp, verbose=verbose)"
   ]
  },
  {
   "cell_type": "code",
   "execution_count": 93,
   "id": "09dda02f",
   "metadata": {},
   "outputs": [
    {
     "name": "stdout",
     "output_type": "stream",
     "text": [
      "\n",
      "# Initial projected energy = -18.79490228194406\n"
     ]
    },
    {
     "name": "stderr",
     "output_type": "stream",
     "text": [
      "/burg/ccce/users/su2254/envs/ad_afqmc/lib/python3.9/site-packages/jax/_src/lax/lax.py:2637: ComplexWarning: Casting complex values to real discards the imaginary part\n",
      "  x_bar = _convert_element_type(x_bar, x.aval.dtype, x.aval.weak_type)\n"
     ]
    },
    {
     "name": "stdout",
     "output_type": "stream",
     "text": [
      "RUNNING THE L-BFGS-B CODE\n",
      "\n",
      "           * * *\n",
      "\n",
      "Machine precision = 2.220D-16\n",
      " N =          192     M =         1000\n",
      "\n",
      "At X0         0 variables are exactly at the bounds\n",
      "\n",
      "At iterate    0    f= -1.87949D+01    |proj g|=  8.25832D-02\n"
     ]
    },
    {
     "name": "stderr",
     "output_type": "stream",
     "text": [
      " This problem is unconstrained.\n"
     ]
    },
    {
     "name": "stdout",
     "output_type": "stream",
     "text": [
      "\n",
      "At iterate    1    f= -1.87970D+01    |proj g|=  3.82999D-02\n",
      "\n",
      "At iterate    2    f= -1.87976D+01    |proj g|=  1.46080D-02\n",
      "\n",
      "At iterate    3    f= -1.87978D+01    |proj g|=  5.05029D-03\n",
      "\n",
      "At iterate    4    f= -1.87978D+01    |proj g|=  4.33730D-03\n",
      "\n",
      "At iterate    5    f= -1.87978D+01    |proj g|=  4.09332D-03\n",
      "\n",
      "At iterate    6    f= -1.87979D+01    |proj g|=  6.49331D-03\n",
      "\n",
      "At iterate    7    f= -1.87980D+01    |proj g|=  1.07497D-02\n",
      "\n",
      "At iterate    8    f= -1.87981D+01    |proj g|=  1.27608D-02\n",
      "\n",
      "At iterate    9    f= -1.87982D+01    |proj g|=  7.20917D-03\n",
      "\n",
      "At iterate   10    f= -1.87982D+01    |proj g|=  2.99731D-03\n",
      "\n",
      "At iterate   11    f= -1.87982D+01    |proj g|=  1.20996D-03\n",
      "\n",
      "At iterate   12    f= -1.87982D+01    |proj g|=  1.13413D-03\n",
      "\n",
      "At iterate   13    f= -1.87982D+01    |proj g|=  1.62230D-03\n",
      "\n",
      "At iterate   14    f= -1.87982D+01    |proj g|=  9.99091D-04\n",
      "\n",
      "At iterate   15    f= -1.87982D+01    |proj g|=  7.03677D-04\n",
      "\n",
      "At iterate   16    f= -1.87982D+01    |proj g|=  6.74850D-04\n",
      "\n",
      "At iterate   17    f= -1.87982D+01    |proj g|=  9.44795D-04\n",
      "\n",
      "At iterate   18    f= -1.87982D+01    |proj g|=  2.19285D-03\n",
      "\n",
      "At iterate   19    f= -1.87982D+01    |proj g|=  1.16617D-03\n",
      "\n",
      "At iterate   20    f= -1.87982D+01    |proj g|=  9.35358D-04\n",
      "\n",
      "At iterate   21    f= -1.87982D+01    |proj g|=  8.34740D-04\n",
      "\n",
      "At iterate   22    f= -1.87982D+01    |proj g|=  1.60514D-03\n",
      "\n",
      "At iterate   23    f= -1.87982D+01    |proj g|=  8.60573D-04\n",
      "\n",
      "At iterate   24    f= -1.87982D+01    |proj g|=  2.09347D-04\n",
      "\n",
      "At iterate   25    f= -1.87982D+01    |proj g|=  2.12986D-04\n",
      "\n",
      "At iterate   26    f= -1.87982D+01    |proj g|=  3.16267D-04\n",
      "\n",
      "At iterate   27    f= -1.87982D+01    |proj g|=  3.67428D-04\n",
      "\n",
      "At iterate   28    f= -1.87982D+01    |proj g|=  1.58082D-04\n",
      "\n",
      "At iterate   29    f= -1.87982D+01    |proj g|=  1.41063D-04\n",
      "\n",
      "At iterate   30    f= -1.87982D+01    |proj g|=  3.22443D-04\n",
      "\n",
      "At iterate   31    f= -1.87982D+01    |proj g|=  4.30014D-04\n",
      "\n",
      "At iterate   32    f= -1.87982D+01    |proj g|=  3.54579D-04\n",
      "\n",
      "At iterate   33    f= -1.87982D+01    |proj g|=  3.54779D-04\n",
      "\n",
      "At iterate   34    f= -1.87982D+01    |proj g|=  1.11083D-04\n",
      "\n",
      "At iterate   35    f= -1.87982D+01    |proj g|=  1.03601D-04\n",
      "\n",
      "At iterate   36    f= -1.87982D+01    |proj g|=  8.76308D-05\n",
      "\n",
      "At iterate   37    f= -1.87982D+01    |proj g|=  8.92517D-05\n",
      "\n",
      "At iterate   38    f= -1.87982D+01    |proj g|=  5.24689D-05\n",
      "\n",
      "At iterate   39    f= -1.87982D+01    |proj g|=  5.95794D-05\n",
      "\n",
      "At iterate   40    f= -1.87982D+01    |proj g|=  1.02207D-04\n",
      "\n",
      "At iterate   41    f= -1.87982D+01    |proj g|=  1.01645D-04\n",
      "\n",
      "At iterate   42    f= -1.87982D+01    |proj g|=  1.44238D-04\n",
      "\n",
      "At iterate   43    f= -1.87982D+01    |proj g|=  2.22410D-04\n",
      "\n",
      "At iterate   44    f= -1.87982D+01    |proj g|=  1.75148D-04\n",
      "\n",
      "At iterate   45    f= -1.87982D+01    |proj g|=  1.87908D-04\n",
      "\n",
      "At iterate   46    f= -1.87982D+01    |proj g|=  2.69495D-04\n",
      "\n",
      "At iterate   47    f= -1.87982D+01    |proj g|=  8.54452D-05\n",
      "\n",
      "At iterate   48    f= -1.87982D+01    |proj g|=  5.01087D-05\n",
      "\n",
      "At iterate   49    f= -1.87982D+01    |proj g|=  5.85880D-05\n",
      "\n",
      "At iterate   50    f= -1.87982D+01    |proj g|=  6.96882D-05\n",
      "\n",
      "At iterate   51    f= -1.87982D+01    |proj g|=  1.16116D-05\n"
     ]
    },
    {
     "data": {
      "text/plain": [
       "(-18.798225884638814,\n",
       " array([[ 0.16663,  0.18376,  0.21762,  0.1988 , -0.14757,  0.00356],\n",
       "        [ 0.16282,  0.19137, -0.09728,  0.05325, -0.22921,  0.20447],\n",
       "        [ 0.16599,  0.17046, -0.00006, -0.25497, -0.00001,  0.31102],\n",
       "        [ 0.16822,  0.16946,  0.31821, -0.10911,  0.08396,  0.10751],\n",
       "        [ 0.16801,  0.17804, -0.0986 ,  0.19978, -0.29368,  0.00359],\n",
       "        [ 0.16822,  0.16946, -0.31826, -0.10893, -0.08397,  0.10752],\n",
       "        [ 0.16773,  0.16481, -0.00011, -0.36233,  0.00003, -0.10515],\n",
       "        [ 0.16719,  0.17486,  0.21841, -0.0519 , -0.21025, -0.20817],\n",
       "        [ 0.16663,  0.18376, -0.2175 ,  0.19891,  0.14754,  0.00365],\n",
       "        [ 0.16719,  0.17486, -0.21846, -0.05172,  0.21029, -0.20813],\n",
       "        [ 0.1612 ,  0.19264, -0.00006, -0.13909,  0.00004, -0.31556],\n",
       "        [ 0.15592,  0.22038, -0.00022,  0.10641, -0.05974, -0.10431],\n",
       "        [ 0.16801,  0.17804,  0.09871,  0.19978,  0.29365,  0.00361],\n",
       "        [ 0.15592,  0.22037,  0.00027,  0.10647,  0.05975, -0.10437],\n",
       "        [ 0.15054,  0.23435, -0.00001, -0.03399, -0.     ,  0.0905 ],\n",
       "        [ 0.16282,  0.19137,  0.09733,  0.05319,  0.22917,  0.20454],\n",
       "        [ 0.19182, -0.15446,  0.25021,  0.22907, -0.16967,  0.00425],\n",
       "        [ 0.18744, -0.16738, -0.11184,  0.06177, -0.26353,  0.23525],\n",
       "        [ 0.19107, -0.14778, -0.00007, -0.29266, -0.00001,  0.35775],\n",
       "        [ 0.19362, -0.14297,  0.36586, -0.12497,  0.09652,  0.12375],\n",
       "        [ 0.19339, -0.14744, -0.11336,  0.23018, -0.33764,  0.00428],\n",
       "        [ 0.19362, -0.14297, -0.36591, -0.12477, -0.09654,  0.12377],\n",
       "        [ 0.19306, -0.14157, -0.00013, -0.41611,  0.00004, -0.12075],\n",
       "        [ 0.19245, -0.1478 ,  0.25112, -0.05918, -0.24173, -0.23918],\n",
       "        [ 0.19181, -0.15447, -0.25007,  0.2292 ,  0.16963,  0.00435],\n",
       "        [ 0.19245, -0.14779, -0.25118, -0.05898,  0.24178, -0.23914],\n",
       "        [ 0.18559, -0.17138, -0.00007, -0.15935,  0.00005, -0.36262],\n",
       "        [ 0.17956, -0.20131, -0.00026,  0.12299, -0.06868, -0.11973],\n",
       "        [ 0.19339, -0.14744,  0.11349,  0.23018,  0.33761,  0.0043 ],\n",
       "        [ 0.17956, -0.20129,  0.00031,  0.12306,  0.06869, -0.1198 ],\n",
       "        [ 0.17339, -0.22192, -0.00001, -0.03839, -0.     ,  0.10427],\n",
       "        [ 0.18744, -0.16738,  0.1119 ,  0.06169,  0.26348,  0.23533]]))"
      ]
     },
     "execution_count": 93,
     "metadata": {},
     "output_type": "execute_result"
    },
    {
     "name": "stdout",
     "output_type": "stream",
     "text": [
      "\n",
      "           * * *\n",
      "\n",
      "Tit   = total number of iterations\n",
      "Tnf   = total number of function evaluations\n",
      "Tnint = total number of segments explored during Cauchy searches\n",
      "Skip  = number of BFGS updates skipped\n",
      "Nact  = number of active bounds at final generalized Cauchy point\n",
      "Projg = norm of the final projected gradient\n",
      "F     = final function value\n",
      "\n",
      "           * * *\n",
      "\n",
      "   N    Tit     Tnf  Tnint  Skip  Nact     Projg        F\n",
      "  192     51     58      1     0     0   1.161D-05  -1.880D+01\n",
      "  F =  -18.798225884638814     \n",
      "\n",
      "CONVERGENCE: REL_REDUCTION_OF_F_<=_FACTR*EPSMCH             \n"
     ]
    }
   ],
   "source": [
    "psi = jnp.array(ghf_coeff[:, :nocc])\n",
    "h1 = jnp.array(h1)\n",
    "chol = jnp.array(chol)\n",
    "optimize(psi, n_elec, [h1, h1], chol, 0.)"
   ]
  },
  {
   "cell_type": "code",
   "execution_count": 94,
   "id": "952cf0c8",
   "metadata": {},
   "outputs": [
    {
     "data": {
      "text/plain": [
       "Array([[ 0.16427,  0.18645,  0.20911,  0.18858, -0.1469 ,  0.00096],\n",
       "       [ 0.16328,  0.19093, -0.10569,  0.06057, -0.22925,  0.20674],\n",
       "       [ 0.16541,  0.17099, -0.00006, -0.25015, -0.00001,  0.31171],\n",
       "       [ 0.16623,  0.1697 ,  0.31836, -0.12116,  0.08389,  0.10338],\n",
       "       [ 0.1646 ,  0.18019, -0.09372,  0.1894 , -0.29313,  0.00098],\n",
       "       [ 0.16623,  0.1697 , -0.31841, -0.12099, -0.08389,  0.1034 ],\n",
       "       [ 0.16681,  0.16403, -0.00011, -0.37065,  0.00003, -0.10821],\n",
       "       [ 0.16516,  0.17521,  0.22322, -0.05761, -0.2104 , -0.20954],\n",
       "       [ 0.16427,  0.18646, -0.20899,  0.1887 ,  0.14687,  0.00103],\n",
       "       [ 0.16516,  0.17521, -0.22328, -0.05743,  0.21045, -0.2095 ],\n",
       "       [ 0.16256,  0.19502, -0.00006, -0.12163,  0.00003, -0.3102 ],\n",
       "       [ 0.16088,  0.21886,  0.01236,  0.12063, -0.06064, -0.10062],\n",
       "       [ 0.1646 ,  0.18019,  0.09384,  0.1894 ,  0.29311,  0.00101],\n",
       "       [ 0.16088,  0.21885, -0.01231,  0.12069,  0.06065, -0.10065],\n",
       "       [ 0.15935,  0.23152, -0.     , -0.00435, -0.00001,  0.10013],\n",
       "       [ 0.16328,  0.19093,  0.10574,  0.06051,  0.2292 ,  0.2068 ],\n",
       "       [ 0.18911, -0.16197,  0.24072,  0.21709, -0.16911,  0.0011 ],\n",
       "       [ 0.18797, -0.16585, -0.12166,  0.06973, -0.2639 ,  0.23799],\n",
       "       [ 0.19042, -0.14853, -0.00007, -0.28796, -0.00001,  0.35884],\n",
       "       [ 0.19136, -0.14741,  0.36649, -0.13948,  0.09657,  0.11901],\n",
       "       [ 0.18949, -0.15653, -0.10789,  0.21803, -0.33745,  0.00113],\n",
       "       [ 0.19136, -0.14741, -0.36655, -0.13928, -0.09658,  0.11903],\n",
       "       [ 0.19203, -0.14249, -0.00013, -0.42668,  0.00004, -0.12457],\n",
       "       [ 0.19013, -0.1522 ,  0.25697, -0.06631, -0.24221, -0.24122],\n",
       "       [ 0.18911, -0.16197, -0.24059,  0.21722,  0.16908,  0.00119],\n",
       "       [ 0.19013, -0.1522 , -0.25703, -0.06612,  0.24226, -0.24117],\n",
       "       [ 0.18714, -0.16941, -0.00006, -0.14002,  0.00004, -0.3571 ],\n",
       "       [ 0.1852 , -0.19012,  0.01423,  0.13887, -0.06981, -0.11583],\n",
       "       [ 0.18949, -0.15652,  0.10803,  0.21803,  0.33742,  0.00116],\n",
       "       [ 0.1852 , -0.19011, -0.01417,  0.13894,  0.06982, -0.11587],\n",
       "       [ 0.18344, -0.20111, -0.     , -0.00501, -0.00001,  0.11526],\n",
       "       [ 0.18797, -0.16585,  0.12173,  0.06966,  0.26385,  0.23806]],      dtype=float64)"
      ]
     },
     "execution_count": 94,
     "metadata": {},
     "output_type": "execute_result"
    }
   ],
   "source": [
    "psi"
   ]
  },
  {
   "cell_type": "code",
   "execution_count": 95,
   "id": "fd2bfaa0",
   "metadata": {},
   "outputs": [
    {
     "name": "stdout",
     "output_type": "stream",
     "text": [
      "(9.082898716169007e-10, 1.0000000018165798)\n",
      "\n",
      "# fci energy: -18.83241352594775\n"
     ]
    }
   ],
   "source": [
    "ci = fci.FCI(mol)\n",
    "ci = fci.addons.fix_spin_(ci, ss=0)\n",
    "e, ci_coeffs = ci.kernel(\n",
    "    h1e=integrals[\"h1\"], eri=integrals[\"h2\"], norb=n_sites, nelec=n_elec, max_cycle=500\n",
    ")\n",
    "\n",
    "print(ci.spin_square(ci_coeffs, n_sites, n_elec))\n",
    "if verbose: print(f\"\\n# fci energy: {e}\")"
   ]
  },
  {
   "cell_type": "code",
   "execution_count": null,
   "id": "fd395e53",
   "metadata": {},
   "outputs": [],
   "source": []
  }
 ],
 "metadata": {
  "kernelspec": {
   "display_name": "Python [conda env:su2254-ad_afqmc] *",
   "language": "python",
   "name": "conda-env-su2254-ad_afqmc-py"
  },
  "language_info": {
   "codemirror_mode": {
    "name": "ipython",
    "version": 3
   },
   "file_extension": ".py",
   "mimetype": "text/x-python",
   "name": "python",
   "nbconvert_exporter": "python",
   "pygments_lexer": "ipython3",
   "version": "3.9.20"
  }
 },
 "nbformat": 4,
 "nbformat_minor": 5
}
